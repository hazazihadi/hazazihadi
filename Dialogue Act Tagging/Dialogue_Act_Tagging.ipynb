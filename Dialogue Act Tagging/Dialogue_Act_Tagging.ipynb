{
 "cells": [
  {
   "cell_type": "code",
   "execution_count": 382,
   "metadata": {
    "id": "jmTpKt_uefe5",
    "outputId": "860d0f6a-ed72-4486-9fed-2307105ba67c"
   },
   "outputs": [],
   "source": [
    "import pandas as pd\n",
    "import glob\n",
    "from keras.preprocessing.sequence import pad_sequences\n",
    "from sklearn.model_selection import train_test_split\n",
    "import numpy as np\n",
    "import keras\n",
    "\n",
    "import sklearn.metrics\n",
    "import tensorflow as tf\n",
    "import matplotlib.pyplot as plt\n",
    "from tqdm import tqdm_notebook as tqdm\n",
    "from sklearn.metrics import confusion_matrix"
   ]
  },
  {
   "cell_type": "code",
   "execution_count": 383,
   "metadata": {
    "id": "6E8axaw1hAbM"
   },
   "outputs": [],
   "source": [
    "f = glob.glob(\"swda/sw*/sw*.csv\")\n",
    "frames = []\n",
    "for i in range(0, len(f)):\n",
    "    frames.append(pd.read_csv(f[i]))\n",
    "\n",
    "result = pd.concat(frames, ignore_index=True)\n"
   ]
  },
  {
   "cell_type": "code",
   "execution_count": 384,
   "metadata": {
    "colab": {
     "base_uri": "https://localhost:8080/",
     "height": 34
    },
    "id": "b7hKGF7EhM4s",
    "outputId": "bbcb107d-00cd-4837-975f-8d86fb0d28ae"
   },
   "outputs": [
    {
     "name": "stdout",
     "output_type": "stream",
     "text": [
      "Number of converations in the dataset: 223606\n"
     ]
    }
   ],
   "source": [
    "print(\"Number of converations in the dataset:\",len(result))\n"
   ]
  },
  {
   "cell_type": "code",
   "execution_count": 385,
   "metadata": {},
   "outputs": [],
   "source": [
    "# Number of converations in the dataset: 223606"
   ]
  },
  {
   "cell_type": "markdown",
   "metadata": {
    "id": "0ttyB2lQhc7B"
   },
   "source": [
    "The dataset has many different features, we are only using act_tag and text for this training.\n"
   ]
  },
  {
   "cell_type": "code",
   "execution_count": 386,
   "metadata": {
    "id": "-jUifIdshhD0"
   },
   "outputs": [],
   "source": [
    "reduced_df = result[['act_tag','text']]\n"
   ]
  },
  {
   "cell_type": "markdown",
   "metadata": {
    "id": "-iPmZvysqg2i"
   },
   "source": [
    "Reduce down the number of tags to 43 - converting the combined tags to their generic classes:"
   ]
  },
  {
   "cell_type": "code",
   "execution_count": 387,
   "metadata": {
    "id": "MQuHm0jPt_lz"
   },
   "outputs": [],
   "source": [
    "# Imported from \"https://github.com/cgpotts/swda\"\n",
    "# Convert the combination tags to the generic 43 tags\n",
    "\n",
    "import re\n",
    "def damsl_act_tag(input):\n",
    "        \"\"\"\n",
    "        Seeks to duplicate the tag simplification described at the\n",
    "        Coders' Manual: http://www.stanford.edu/~jurafsky/ws97/manual.august1.html\n",
    "        \"\"\"\n",
    "        d_tags = []\n",
    "        tags = re.split(r\"\\s*[,;]\\s*\", input)\n",
    "        for tag in tags:\n",
    "            if tag in ('qy^d', 'qw^d', 'b^m'): pass\n",
    "            elif tag == 'nn^e': tag = 'ng'\n",
    "            elif tag == 'ny^e': tag = 'na'\n",
    "            else: \n",
    "                tag = re.sub(r'(.)\\^.*', r'\\1', tag)\n",
    "                tag = re.sub(r'[\\(\\)@*]', '', tag)            \n",
    "                if tag in ('qr', 'qy'):                         tag = 'qy'\n",
    "                elif tag in ('fe', 'ba'):                       tag = 'ba'\n",
    "                elif tag in ('oo', 'co', 'cc'):                 tag = 'oo_co_cc'\n",
    "                elif tag in ('fx', 'sv'):                       tag = 'sv'\n",
    "                elif tag in ('aap', 'am'):                      tag = 'aap_am'\n",
    "                elif tag in ('arp', 'nd'):                      tag = 'arp_nd'\n",
    "                elif tag in ('fo', 'o', 'fw', '\"', 'by', 'bc'): tag = 'fo_o_fw_\"_by_bc'            \n",
    "            d_tags.append(tag)\n",
    "        # Dan J says (p.c.) that it makes sense to take the first;\n",
    "        # there are only a handful of examples with 2 tags here.\n",
    "        return d_tags[0]"
   ]
  },
  {
   "cell_type": "code",
   "execution_count": 388,
   "metadata": {
    "colab": {
     "base_uri": "https://localhost:8080/",
     "height": 118
    },
    "id": "S8N_PUCAblq3",
    "outputId": "eb927335-7bdc-48d5-8850-4be54efdf3dd"
   },
   "outputs": [
    {
     "name": "stderr",
     "output_type": "stream",
     "text": [
      "<ipython-input-388-3a505b615f58>:1: SettingWithCopyWarning: \n",
      "A value is trying to be set on a copy of a slice from a DataFrame.\n",
      "Try using .loc[row_indexer,col_indexer] = value instead\n",
      "\n",
      "See the caveats in the documentation: https://pandas.pydata.org/pandas-docs/stable/user_guide/indexing.html#returning-a-view-versus-a-copy\n",
      "  reduced_df[\"act_tag\"] = reduced_df[\"act_tag\"].apply(lambda x: damsl_act_tag(x))\n"
     ]
    }
   ],
   "source": [
    "reduced_df[\"act_tag\"] = reduced_df[\"act_tag\"].apply(lambda x: damsl_act_tag(x))"
   ]
  },
  {
   "cell_type": "markdown",
   "metadata": {
    "id": "0UNy0vvhhqpD"
   },
   "source": [
    "There are 43 tags in this dataset. Some of the tags are Yes-No-Question('qy'), Statement-non-opinion('sd') and Statement-opinion('sv'). Tags information can be found here http://compprag.christopherpotts.net/swda.html#tags. \n"
   ]
  },
  {
   "cell_type": "markdown",
   "metadata": {
    "id": "9biiyP8UiGDe"
   },
   "source": [
    "To get unique tags:"
   ]
  },
  {
   "cell_type": "code",
   "execution_count": 389,
   "metadata": {
    "id": "BrhW8gyLfQQK"
   },
   "outputs": [],
   "source": [
    "unique_tags = set()\n",
    "for tag in reduced_df['act_tag']:\n",
    "    unique_tags.add(tag)"
   ]
  },
  {
   "cell_type": "code",
   "execution_count": 390,
   "metadata": {},
   "outputs": [
    {
     "data": {
      "text/plain": [
       "{'%',\n",
       " '+',\n",
       " '^2',\n",
       " '^g',\n",
       " '^h',\n",
       " '^q',\n",
       " 'aa',\n",
       " 'aap_am',\n",
       " 'ad',\n",
       " 'ar',\n",
       " 'arp_nd',\n",
       " 'b',\n",
       " 'b^m',\n",
       " 'ba',\n",
       " 'bd',\n",
       " 'bf',\n",
       " 'bh',\n",
       " 'bk',\n",
       " 'br',\n",
       " 'fa',\n",
       " 'fc',\n",
       " 'fo_o_fw_\"_by_bc',\n",
       " 'fp',\n",
       " 'ft',\n",
       " 'h',\n",
       " 'na',\n",
       " 'ng',\n",
       " 'nn',\n",
       " 'no',\n",
       " 'ny',\n",
       " 'oo_co_cc',\n",
       " 'qh',\n",
       " 'qo',\n",
       " 'qrr',\n",
       " 'qw',\n",
       " 'qw^d',\n",
       " 'qy',\n",
       " 'qy^d',\n",
       " 'sd',\n",
       " 'sv',\n",
       " 't1',\n",
       " 't3',\n",
       " 'x'}"
      ]
     },
     "execution_count": 390,
     "metadata": {},
     "output_type": "execute_result"
    }
   ],
   "source": [
    "unique_tags"
   ]
  },
  {
   "cell_type": "code",
   "execution_count": 391,
   "metadata": {
    "id": "LMOX5KwgiPmu"
   },
   "outputs": [],
   "source": [
    "one_hot_encoding_dic = pd.get_dummies(list(unique_tags))\n"
   ]
  },
  {
   "cell_type": "code",
   "execution_count": 392,
   "metadata": {},
   "outputs": [],
   "source": [
    "#one_hot_encoding_dic[\"br\"]"
   ]
  },
  {
   "cell_type": "code",
   "execution_count": 393,
   "metadata": {
    "id": "ZPHPCxE3iPby"
   },
   "outputs": [],
   "source": [
    "tags_encoding = []\n",
    "for i in range(0, len(reduced_df)):\n",
    "    tags_encoding.append(one_hot_encoding_dic[reduced_df['act_tag'].iloc[i]])"
   ]
  },
  {
   "cell_type": "markdown",
   "metadata": {
    "id": "LVI8QyVzjqWh"
   },
   "source": [
    "The tags are one hot encoded."
   ]
  },
  {
   "cell_type": "markdown",
   "metadata": {
    "id": "SQJTiffPjUtu"
   },
   "source": [
    "To create utterance representations as sequences of words:"
   ]
  },
  {
   "cell_type": "code",
   "execution_count": 394,
   "metadata": {
    "id": "PmkyD1TfjWGO"
   },
   "outputs": [],
   "source": [
    "utterances = []\n",
    "for i in range(0, len(reduced_df)):\n",
    "    utterances.append(reduced_df['text'].iloc[i].split(\" \"))\n"
   ]
  },
  {
   "cell_type": "code",
   "execution_count": 395,
   "metadata": {
    "id": "MlD6L6e3jV-7"
   },
   "outputs": [],
   "source": [
    "wordvectors = {}\n",
    "index = 1\n",
    "for u in utterances:\n",
    "    for w in u:\n",
    "        if w not in wordvectors:\n",
    "            wordvectors[w] = index\n",
    "            index += 1"
   ]
  },
  {
   "cell_type": "code",
   "execution_count": 396,
   "metadata": {
    "id": "e7_cjDHrjV1c"
   },
   "outputs": [],
   "source": [
    "# Max length of 137\n",
    "MAX_LENGTH = len(max(utterances, key=len))"
   ]
  },
  {
   "cell_type": "code",
   "execution_count": 397,
   "metadata": {},
   "outputs": [
    {
     "data": {
      "text/plain": [
       "137"
      ]
     },
     "execution_count": 397,
     "metadata": {},
     "output_type": "execute_result"
    }
   ],
   "source": [
    "MAX_LENGTH"
   ]
  },
  {
   "cell_type": "code",
   "execution_count": 398,
   "metadata": {
    "id": "LX6DidEvjVWs"
   },
   "outputs": [],
   "source": [
    "utterance_embeddings = []\n",
    "for u in utterances:\n",
    "    utterance_emb = []\n",
    "    for w in u:\n",
    "        utterance_emb.append(wordvectors[w])\n",
    "    utterance_embeddings.append(utterance_emb)\n"
   ]
  },
  {
   "cell_type": "markdown",
   "metadata": {
    "id": "Nr4iEyNTjmlu"
   },
   "source": [
    "Then we split the dataset into test and train."
   ]
  },
  {
   "cell_type": "code",
   "execution_count": 399,
   "metadata": {
    "id": "GiNZ-iI_jnOF"
   },
   "outputs": [],
   "source": [
    "from sklearn.model_selection import train_test_split\n",
    "import numpy as np\n",
    "X_train, X_test, y_train, y_test = train_test_split(utterance_embeddings, np.array(tags_encoding))\n"
   ]
  },
  {
   "cell_type": "markdown",
   "metadata": {
    "id": "_RqMeWe_jron"
   },
   "source": [
    "And pad the utterances with zero to make all utterances of equal length.\n"
   ]
  },
  {
   "cell_type": "code",
   "execution_count": 400,
   "metadata": {
    "id": "yqD7DvzRGRY7"
   },
   "outputs": [],
   "source": [
    "MAX_LENGTH = 137"
   ]
  },
  {
   "cell_type": "code",
   "execution_count": 401,
   "metadata": {
    "id": "Ai9cwv82jufe"
   },
   "outputs": [],
   "source": [
    "from keras.preprocessing.sequence import pad_sequences\n",
    " \n",
    "train_utterances_X = pad_sequences(X_train, maxlen=MAX_LENGTH, padding='post')\n",
    "test_utterances_X = pad_sequences(X_test, maxlen=MAX_LENGTH, padding='post')"
   ]
  },
  {
   "cell_type": "code",
   "execution_count": null,
   "metadata": {},
   "outputs": [],
   "source": []
  },
  {
   "cell_type": "markdown",
   "metadata": {
    "id": "Z-AO0mle-fLO"
   },
   "source": [
    "Split Train into Train and Validation - about 10% into validation - In order to validate the model as it is training"
   ]
  },
  {
   "cell_type": "code",
   "execution_count": 402,
   "metadata": {
    "id": "517zYSQLXkbn"
   },
   "outputs": [],
   "source": [
    "train_input = train_utterances_X[:140000]\n",
    "val_input = train_utterances_X[140000:]\n",
    "\n",
    "train_labels = y_train[:140000]\n",
    "val_labels = y_train[140000:]\n"
   ]
  },
  {
   "cell_type": "markdown",
   "metadata": {
    "id": "kHJbZDtk7N-3"
   },
   "source": [
    "# Model 1 - BILSTM\n",
    "\n",
    "The first approach we'll try is to treat DA tagging as a standard multi-class text classification task, in the way you've done before with sentiment analysis and other tasks. Each utterance will be treated independently as a text to be classified with its DA tag label. This model has an architecture of:\n",
    "\n",
    "- Embedding  \n",
    "- BLSTM  \n",
    "- Fully Connected Layer\n",
    "- Softmax Activation"
   ]
  },
  {
   "cell_type": "code",
   "execution_count": 403,
   "metadata": {
    "id": "M97Sw5iv-lEU"
   },
   "outputs": [],
   "source": [
    "VOCAB_SIZE = len(wordvectors) # 43,731\n",
    "MAX_LENGTH = len(max(utterances, key=len)) #137\n",
    "EMBED_SIZE = 100 # arbitary\n",
    "HIDDEN_SIZE = len(unique_tags) #43"
   ]
  },
  {
   "cell_type": "code",
   "execution_count": 404,
   "metadata": {
    "colab": {
     "base_uri": "https://localhost:8080/",
     "height": 373
    },
    "id": "LCaX-ptaj8G2",
    "outputId": "df9036a6-c0d9-45e1-8ff0-2c1a283d16f8"
   },
   "outputs": [
    {
     "name": "stdout",
     "output_type": "stream",
     "text": [
      "Model: \"model_21\"\n",
      "_________________________________________________________________\n",
      "Layer (type)                 Output Shape              Param #   \n",
      "=================================================================\n",
      "input_60 (InputLayer)        [(None, 137)]             0         \n",
      "_________________________________________________________________\n",
      "embedding_64 (Embedding)     (None, 137, 100)          4373200   \n",
      "_________________________________________________________________\n",
      "bidirectional_42 (Bidirectio (None, 137, 86)           49536     \n",
      "_________________________________________________________________\n",
      "bidirectional_43 (Bidirectio (None, 86)                44720     \n",
      "_________________________________________________________________\n",
      "dense_43 (Dense)             (None, 43)                3741      \n",
      "_________________________________________________________________\n",
      "activation_8 (Activation)    (None, 43)                0         \n",
      "=================================================================\n",
      "Total params: 4,471,197\n",
      "Trainable params: 4,471,197\n",
      "Non-trainable params: 0\n",
      "_________________________________________________________________\n"
     ]
    }
   ],
   "source": [
    "from keras.models import Sequential, Model\n",
    "from keras.layers import LSTM\n",
    "from keras.layers import Dense\n",
    "from keras.layers import Input,Dropout, InputLayer, Bidirectional, TimeDistributed, Activation, Embedding\n",
    "from keras.optimizers import Adam\n",
    "\n",
    "#Building the network\n",
    "\n",
    "# Include 2 BLSTM layers, in order to capture both the forward and backward hidden states\n",
    "\n",
    "# Embedding layer\n",
    "# Bidirectional 1\n",
    "# Bidirectional 2\n",
    "# Dense layer\n",
    "# Activation\n",
    "\n",
    "Input = Input(shape=(MAX_LENGTH,),dtype='int32')\n",
    "Embedding = Embedding(VOCAB_SIZE+1, EMBED_SIZE, input_length=MAX_LENGTH, mask_zero=True)(Input)\n",
    "Bidirectional_1 = Bidirectional(LSTM(HIDDEN_SIZE,return_sequences = True))(Embedding)\n",
    "Bidirectional_2 = Bidirectional(LSTM(HIDDEN_SIZE,return_sequences = False))(Bidirectional_1)\n",
    "Dense = Dense(HIDDEN_SIZE)(Bidirectional_2)\n",
    "Activation = Activation(\"softmax\")(Dense)\n",
    "model = Model(inputs=[Input], outputs=[Activation])\n",
    "\n",
    "model.compile(loss='categorical_crossentropy',optimizer='adam',metrics=['accuracy'])\n",
    "\n",
    "model.summary()\n"
   ]
  },
  {
   "cell_type": "code",
   "execution_count": 405,
   "metadata": {},
   "outputs": [],
   "source": [
    "# WARNING:tensorflow:From /Users/mortro/anaconda3/lib/python3.7/site-packages/tensorflow/python/ops/resource_variable_ops.py:435: colocate_with (from tensorflow.python.framework.ops) is deprecated and will be removed in a future version.\n",
    "# Instructions for updating:\n",
    "# Colocations handled automatically by placer.\n",
    "# Model: \"sequential_1\"\n",
    "# _________________________________________________________________\n",
    "# Layer (type)                 Output Shape              Param #   \n",
    "# =================================================================\n",
    "# embedding_1 (Embedding)      (None, 137, 100)          4371500   \n",
    "# _________________________________________________________________\n",
    "# bidirectional_1 (Bidirection (None, 137, 86)           49536     \n",
    "# _________________________________________________________________\n",
    "# bidirectional_2 (Bidirection (None, 86)                44720     \n",
    "# _________________________________________________________________\n",
    "# dense_1 (Dense)              (None, 43)                3741      \n",
    "# _________________________________________________________________\n",
    "# activation_1 (Activation)    (None, 43)                0         \n",
    "# =================================================================\n",
    "# Total params: 4,469,497\n",
    "# Trainable params: 4,469,497\n",
    "# Non-trainable params: 0"
   ]
  },
  {
   "cell_type": "code",
   "execution_count": 406,
   "metadata": {},
   "outputs": [
    {
     "name": "stdout",
     "output_type": "stream",
     "text": [
      "140000\n",
      "27704\n",
      "140000\n",
      "27704\n"
     ]
    }
   ],
   "source": [
    "train_input = train_utterances_X[:140000]\n",
    "val_input = train_utterances_X[140000:]\n",
    "\n",
    "train_labels = y_train[:140000]\n",
    "val_labels = y_train[140000:]\n",
    "print(len(train_input))\n",
    "print(len(val_input))\n",
    "print(len(train_labels))\n",
    "print(len(val_labels))"
   ]
  },
  {
   "cell_type": "code",
   "execution_count": 407,
   "metadata": {
    "colab": {
     "base_uri": "https://localhost:8080/",
     "height": 205
    },
    "id": "OeiLkgD3Arpl",
    "outputId": "dbf7ed58-571c-4ab2-b624-bcd98ed6eedf"
   },
   "outputs": [
    {
     "name": "stdout",
     "output_type": "stream",
     "text": [
      "Epoch 1/3\n",
      "274/274 [==============================] - 1252s 5s/step - loss: 2.2923 - accuracy: 0.4454 - val_loss: 1.1967 - val_accuracy: 0.6562\n",
      "Epoch 2/3\n",
      "274/274 [==============================] - 1533s 6s/step - loss: 1.1186 - accuracy: 0.6795 - val_loss: 1.0300 - val_accuracy: 0.6952\n",
      "Epoch 3/3\n",
      "274/274 [==============================] - 1556s 6s/step - loss: 0.9411 - accuracy: 0.7265 - val_loss: 0.9895 - val_accuracy: 0.7029\n"
     ]
    }
   ],
   "source": [
    "# Train the model - using validation \n",
    "\n",
    "Training = model.fit(train_input,\n",
    "                    train_labels,\n",
    "                    epochs=3,\n",
    "                    batch_size=512,\n",
    "                    validation_data=(val_input, val_labels),\n",
    "                    verbose=1)"
   ]
  },
  {
   "cell_type": "code",
   "execution_count": 408,
   "metadata": {},
   "outputs": [],
   "source": [
    "# WARNING:tensorflow:From /Users/mortro/anaconda3/lib/python3.7/site-packages/tensorflow/python/ops/math_ops.py:3066: to_int32 (from tensorflow.python.ops.math_ops) is deprecated and will be removed in a future version.\n",
    "# Instructions for updating:\n",
    "# Use tf.cast instead.\n",
    "# Train on 140000 samples, validate on 27704 samples\n",
    "# Epoch 1/3"
   ]
  },
  {
   "cell_type": "code",
   "execution_count": 409,
   "metadata": {
    "id": "2LkONUKQkSrL"
   },
   "outputs": [
    {
     "name": "stdout",
     "output_type": "stream",
     "text": [
      "560/560 [==============================] - 85s 152ms/step - loss: 1.0053 - accuracy: 0.7009\n"
     ]
    }
   ],
   "source": [
    "score = model.evaluate(test_utterances_X, y_test, batch_size=100)"
   ]
  },
  {
   "cell_type": "code",
   "execution_count": 410,
   "metadata": {
    "id": "Ab0ZL1dqkTY4"
   },
   "outputs": [
    {
     "name": "stdout",
     "output_type": "stream",
     "text": [
      "Overall Accuracy: 70.09051442146301\n"
     ]
    }
   ],
   "source": [
    "print(\"Overall Accuracy:\", score[1]*100)\n"
   ]
  },
  {
   "cell_type": "markdown",
   "metadata": {
    "id": "LhMViQVSPY1J"
   },
   "source": [
    "## Evaluation\n",
    "\n",
    "\n",
    "The overall accuracy is 67%, an effective accuracy for this task."
   ]
  },
  {
   "cell_type": "markdown",
   "metadata": {
    "id": "XHwoVCEwjEz7"
   },
   "source": [
    "In addition to overall accuracy, you need to look at the accuracy of some minority classes. Signal-non-understanding ('br') is a good indicator of \"other-repair\" or cases in which the other conversational participant attempts to repair the speaker's error. Summarize/reformulate ('bf') has been used in dialogue summarization. Report the accuracy for these classes and some frequent errors you notice the system makes in predicting them. What do you think the reasons are？"
   ]
  },
  {
   "cell_type": "markdown",
   "metadata": {
    "id": "H7owA1f27se8"
   },
   "source": [
    "## Minority Classes"
   ]
  },
  {
   "cell_type": "code",
   "execution_count": 411,
   "metadata": {
    "id": "UZ8BwgDxNcIr"
   },
   "outputs": [
    {
     "data": {
      "text/plain": [
       "array([23, 39, 23, ..., 39, 26, 23], dtype=int64)"
      ]
     },
     "execution_count": 411,
     "metadata": {},
     "output_type": "execute_result"
    }
   ],
   "source": [
    "# Generate predictions for the test data\n",
    "predicted = model.predict(test_utterances_X,batch_size=100)\n",
    "pred_y_classes = predicted.argmax(axis=-1)\n",
    "pred_y_classes"
   ]
  },
  {
   "cell_type": "code",
   "execution_count": 412,
   "metadata": {},
   "outputs": [
    {
     "data": {
      "text/plain": [
       "array([10,  8, 23, ..., 26, 26, 23], dtype=int64)"
      ]
     },
     "execution_count": 412,
     "metadata": {},
     "output_type": "execute_result"
    }
   ],
   "source": [
    "y_test_classes = np.argmax(y_test, axis=1)\n",
    "y_test_classes"
   ]
  },
  {
   "cell_type": "code",
   "execution_count": 413,
   "metadata": {},
   "outputs": [],
   "source": [
    "cm = confusion_matrix(y_test_classes, pred_y_classes)"
   ]
  },
  {
   "cell_type": "code",
   "execution_count": 414,
   "metadata": {
    "scrolled": false
   },
   "outputs": [],
   "source": [
    "import matplotlib.pyplot as plt\n",
    "def plot_confusion_matrix(df_confusion, title='Confusion matrix', cmap=plt.cm.gray_r):\n",
    "\n",
    "    ax = plt.matshow(df_confusion, cmap=cmap) # imshow\n",
    "    #plt.title(\"Dialogue Act Confussion Matrix\")\n",
    "    plt.colorbar()\n",
    "    #tick_marks = np.arange(len(df_confusion.columns))\n",
    "    #plt.xticks(tick_marks, df_confusion.columns, rotation=45)\n",
    "    #plt.yticks(tick_marks, df_confusion.index)\n",
    "    #plt.tight_layout()\n",
    "    plt.ylabel(\"Groung Truth\")\n",
    "    plt.xlabel(\"Predicted\")\n",
    "\n",
    "\n"
   ]
  },
  {
   "cell_type": "code",
   "execution_count": 415,
   "metadata": {},
   "outputs": [
    {
     "data": {
      "image/png": "[encoded data removed]",
      "text/plain": [
       "<Figure size 288x288 with 2 Axes>"
      ]
     },
     "metadata": {
      "needs_background": "light"
     },
     "output_type": "display_data"
    }
   ],
   "source": [
    "mat = plot_confusion_matrix(cm)\n",
    "mat"
   ]
  },
  {
   "cell_type": "code",
   "execution_count": 416,
   "metadata": {
    "id": "muWtF2t0W0zd"
   },
   "outputs": [
    {
     "name": "stdout",
     "output_type": "stream",
     "text": [
      "br accuracy: 0.0\n",
      "br accuracy: 0.0\n"
     ]
    }
   ],
   "source": [
    "# Calculate Accuracies for \"br\" = 18 and \"bf\"= 15\n",
    "from sklearn.metrics import confusion_matrix \n",
    "\n",
    "mat = confusion_matrix(y_test_classes, pred_y_classes) \n",
    "classes_accuracy = mat.diagonal()/mat.sum(axis=1)   #Calculates the accuracy of each individual classes\n",
    "\n",
    "\n",
    "bf_acc = classes_accuracy[15]   #bf class at index 15\n",
    "print(\"br accuracy:\", bf_acc)\n",
    "\n",
    "br_acc = classes_accuracy[18]   #br class at index 18\n",
    "print(\"br accuracy:\", br_acc)"
   ]
  },
  {
   "cell_type": "markdown",
   "metadata": {
    "id": "HdnpWLggZ-6z"
   },
   "source": [
    "\n",
    "Due to the reduced lack of training data for the minority classes, these minority classifiers will not be very confident in classification, as they have not been fully optimised. The frequent classifiers will be more optimised and will generate more confident scores for all examples, effectively crowding out the less confident minority classifiers. \n",
    "\n",
    "\n"
   ]
  },
  {
   "cell_type": "markdown",
   "metadata": {
    "id": "BZ16sE5F7x9e"
   },
   "source": [
    "# Model 2 - Balanced Network"
   ]
  },
  {
   "cell_type": "markdown",
   "metadata": {
    "id": "hKHbOs4WkFaP"
   },
   "source": [
    "\n",
    "One thing we can do to try to improve performance is therefore to balance the data more sensibly. As the dataset is highly imbalanced, we can simply weight the loss function in training, to weight up the minority classes proportionally to their underrepresentation. "
   ]
  },
  {
   "cell_type": "code",
   "execution_count": 188,
   "metadata": {
    "id": "6L4kNdf6kGEa"
   },
   "outputs": [
    {
     "name": "stderr",
     "output_type": "stream",
     "text": [
      "C:\\Users\\FiercePC\\anaconda3a\\lib\\site-packages\\sklearn\\utils\\validation.py:67: FutureWarning: Pass classes=[ 0  1  2  3  4  5  6  7  8  9 10 11 12 13 14 15 16 17 18 19 20 21 22 23\n",
      " 24 25 26 27 28 29 30 31 32 33 34 35 36 37 38 39 40 41 42], y=[11 27 18 ...  8 39 39] as keyword args. From version 0.25 passing these as positional arguments will result in an error\n",
      "  warnings.warn(\"Pass {} as keyword args. From version 0.25 \"\n"
     ]
    }
   ],
   "source": [
    "import numpy as np\n",
    "from sklearn.utils.class_weight import compute_class_weight\n",
    "\n",
    "y_integers = np.argmax(tags_encoding, axis=1)\n",
    "class_weights = compute_class_weight('balanced', np.unique(y_integers), y_integers)\n",
    "d_class_weights = dict(enumerate(class_weights))"
   ]
  },
  {
   "cell_type": "code",
   "execution_count": 191,
   "metadata": {},
   "outputs": [
    {
     "data": {
      "text/plain": [
       "{0: 50.48679160081282,\n",
       " 1: 50.00134168157424,\n",
       " 2: 24.762569213732004,\n",
       " 3: 44.44563705028821,\n",
       " 4: 5.273975187508845,\n",
       " 5: 17.16217668278456,\n",
       " 6: 7.123478814909206,\n",
       " 7: 15.072868217054264,\n",
       " 8: 0.06896462388610163,\n",
       " 9: 18.182306066026996,\n",
       " 10: 2.011659394539157,\n",
       " 11: 4.2554333346020625,\n",
       " 12: 25.121447028423773,\n",
       " 13: 3.7736861646471125,\n",
       " 14: 1.0924662888411178,\n",
       " 15: 6.915079168728353,\n",
       " 16: 6.1106222501571335,\n",
       " 17: 47.273995771670194,\n",
       " 18: 4.272916626855975,\n",
       " 19: 49.52513842746401,\n",
       " 20: 4.23809253046758,\n",
       " 21: 7.914976461010229,\n",
       " 22: 8.996781202220971,\n",
       " 23: 0.13548733839357288,\n",
       " 24: 3.972604686694974,\n",
       " 25: 55.91547886971743,\n",
       " 26: 0.27821622892749026,\n",
       " 27: 2.613135444665186,\n",
       " 28: 1.7105722154222767,\n",
       " 29: 1.0840399280558102,\n",
       " 30: 0.33159925614613706,\n",
       " 31: 9.33597762097616,\n",
       " 32: 17.391771019677996,\n",
       " 33: 4.91971573782755,\n",
       " 34: 65.00174418604651,\n",
       " 35: 65.82455107447748,\n",
       " 36: 0.4660876162842808,\n",
       " 37: 1.4138497919749105,\n",
       " 38: 66.66845557543232,\n",
       " 39: 0.19603194989571837,\n",
       " 40: 5.411175374488783,\n",
       " 41: 7.547372329294225,\n",
       " 42: 23.11173126614987}"
      ]
     },
     "execution_count": 191,
     "metadata": {},
     "output_type": "execute_result"
    }
   ],
   "source": [
    "d_class_weights"
   ]
  },
  {
   "cell_type": "markdown",
   "metadata": {
    "id": "zF1UM-ZMZoa1"
   },
   "source": [
    "## Define & Train the model"
   ]
  },
  {
   "cell_type": "code",
   "execution_count": 301,
   "metadata": {
    "id": "xIRgRAzOPSAZ"
   },
   "outputs": [
    {
     "name": "stdout",
     "output_type": "stream",
     "text": [
      "Model: \"model_12\"\n",
      "_________________________________________________________________\n",
      "Layer (type)                 Output Shape              Param #   \n",
      "=================================================================\n",
      "input_54 (InputLayer)        [(None, 137)]             0         \n",
      "_________________________________________________________________\n",
      "embedding_49 (Embedding)     (None, 137, 100)          4373200   \n",
      "_________________________________________________________________\n",
      "bidirectional_17 (Bidirectio (None, 137, 86)           49536     \n",
      "_________________________________________________________________\n",
      "bidirectional_18 (Bidirectio (None, 86)                44720     \n",
      "_________________________________________________________________\n",
      "dense_22 (Dense)             (None, 43)                3741      \n",
      "_________________________________________________________________\n",
      "activation_6 (Activation)    (None, 43)                0         \n",
      "=================================================================\n",
      "Total params: 4,471,197\n",
      "Trainable params: 4,471,197\n",
      "Non-trainable params: 0\n",
      "_________________________________________________________________\n"
     ]
    }
   ],
   "source": [
    "# Re-built the model for the balanced training\n",
    "\n",
    "from keras.models import Sequential, Model\n",
    "from keras.layers import LSTM\n",
    "from keras.layers import Dense\n",
    "from keras.layers import Input,Dropout, InputLayer, Bidirectional, TimeDistributed, Activation, Embedding\n",
    "from keras.optimizers import Adam\n",
    "\n",
    "\n",
    "Input = Input(shape=(MAX_LENGTH,),dtype='int32')\n",
    "Embedding = Embedding(VOCAB_SIZE+1, EMBED_SIZE, input_length=MAX_LENGTH, mask_zero=True)(Input)\n",
    "Bidirectional_1 = Bidirectional(LSTM(HIDDEN_SIZE,return_sequences = True))(Embedding)\n",
    "Bidirectional_2 = Bidirectional(LSTM(HIDDEN_SIZE,return_sequences = False))(Bidirectional_1)\n",
    "Dense = Dense(HIDDEN_SIZE)(Bidirectional_2)\n",
    "Activation = Activation(\"softmax\")(Dense)\n",
    "model2 = Model(inputs=[Input], outputs=[Activation])\n",
    "\n",
    "model2.compile(loss='categorical_crossentropy',optimizer='adam',metrics=['accuracy'])\n",
    "\n",
    "model2.summary()\n"
   ]
  },
  {
   "cell_type": "code",
   "execution_count": 193,
   "metadata": {
    "id": "xB2McUREkL4B"
   },
   "outputs": [
    {
     "name": "stdout",
     "output_type": "stream",
     "text": [
      "Epoch 1/3\n",
      "274/274 [==============================] - 788s 3s/step - loss: 3.4769 - accuracy: 0.1829 - val_loss: 2.2969 - val_accuracy: 0.3370\n",
      "Epoch 2/3\n",
      "274/274 [==============================] - 963s 4s/step - loss: 2.2051 - accuracy: 0.3671 - val_loss: 2.0520 - val_accuracy: 0.3942\n",
      "Epoch 3/3\n",
      "274/274 [==============================] - 1036s 4s/step - loss: 1.6970 - accuracy: 0.4330 - val_loss: 2.0157 - val_accuracy: 0.4125\n"
     ]
    }
   ],
   "source": [
    "# Train the balanced network -  takes  time to achieve good accuracy\n",
    "Training = model2.fit(train_input,\n",
    "                    train_labels,\n",
    "                    epochs=3,\n",
    "                    batch_size=512,\n",
    "                    validation_data=(val_input, val_labels),\n",
    "                    verbose=1,class_weight=d_class_weights)"
   ]
  },
  {
   "cell_type": "markdown",
   "metadata": {
    "id": "DJPjlMclZtw2"
   },
   "source": [
    "## Test the model"
   ]
  },
  {
   "cell_type": "code",
   "execution_count": 194,
   "metadata": {
    "id": "8UMAMGpJRINC"
   },
   "outputs": [
    {
     "name": "stdout",
     "output_type": "stream",
     "text": [
      "560/560 [==============================] - 67s 120ms/step - loss: 2.0077 - accuracy: 0.4171\n"
     ]
    }
   ],
   "source": [
    "# Overall Accuracy\n",
    "score = model2.evaluate(test_utterances_X, y_test, batch_size=100)"
   ]
  },
  {
   "cell_type": "code",
   "execution_count": 195,
   "metadata": {
    "id": "0xzLIkTarjei"
   },
   "outputs": [
    {
     "name": "stdout",
     "output_type": "stream",
     "text": [
      "Overall Accuracy: 41.710492968559265\n"
     ]
    }
   ],
   "source": [
    "print(\"Overall Accuracy:\", score[1]*100)"
   ]
  },
  {
   "cell_type": "code",
   "execution_count": 196,
   "metadata": {
    "id": "qkULcz2igEW3"
   },
   "outputs": [],
   "source": [
    "# Generate predictions for the test data\n",
    "label_pred = model2.predict(test_utterances_X, batch_size=100)"
   ]
  },
  {
   "cell_type": "markdown",
   "metadata": {
    "id": "hq7i7giWZ4_l"
   },
   "source": [
    "## Balanced network evaluation"
   ]
  },
  {
   "cell_type": "markdown",
   "metadata": {
    "id": "fM7VWweco0Et"
   },
   "source": [
    "Report the overall accuracy and the accuracy of  'br' and 'bf'  classes. Suggest other ways to handle imbalanced classes."
   ]
  },
  {
   "cell_type": "code",
   "execution_count": 205,
   "metadata": {
    "id": "4jNfWmSNgRvT"
   },
   "outputs": [
    {
     "name": "stdout",
     "output_type": "stream",
     "text": [
      "br accuracy: 28.723404255319153\n",
      "br accuracy: 3.4013605442176873\n"
     ]
    },
    {
     "data": {
      "image/png": "[encoded data removed]",
      "text/plain": [
       "<Figure size 288x288 with 2 Axes>"
      ]
     },
     "metadata": {
      "needs_background": "light"
     },
     "output_type": "display_data"
    }
   ],
   "source": [
    "# Build the confusion matrix off these predictions\n",
    "\n",
    "matrix_balanced = sklearn.metrics.confusion_matrix(y_test.argmax(axis=1), label_pred.argmax(axis=1))\n",
    "\n",
    "mat = plot_confusion_matrix(matrix_balanced)\n",
    "mat\n",
    "\n",
    "# Calculate Accuracies for \"br\" and \"bf\"\n",
    "\n",
    "mat = confusion_matrix(y_test.argmax(axis=1), label_pred.argmax(axis=1)) \n",
    "classes_accuracy = mat.diagonal()/mat.sum(axis=1)   #Calculates the accuracy of each individual classes\n",
    "\n",
    "\n",
    "bf_acc = classes_accuracy[15]   #bf class at index 15\n",
    "print(\"bf accuracy:\", bf_acc*100)\n",
    "\n",
    "br_acc = classes_accuracy[18]   #br class at index 18\n",
    "print(\"br accuracy:\", br_acc*100)"
   ]
  },
  {
   "cell_type": "markdown",
   "metadata": {
    "id": "WfrGWuZ6nk4y"
   },
   "source": [
    "# Using Context for Dialog Act Classification\n",
    "\n",
    "The second approach we will try is a hierarchical approach to DA tagging. We expect there is valuable sequential information among the DA tags. So in this section we apply a BiLSTM on top of the utterance CNN representation. The CNN model learns textual information in each utterance for DA classification, acting like the text classifier from Model 1 above. Then we use a bidirectional-LSTM (BLSTM) above that to learn how to use the context before and after the current utterance to improve the output."
   ]
  },
  {
   "cell_type": "markdown",
   "metadata": {
    "id": "7qyPpNaK-2mb"
   },
   "source": [
    "## Define the model\n",
    "\n",
    "This model has an architecture of:\n",
    "\n",
    "- Word Embedding\n",
    "- CNN\n",
    "- Bidirectional LSTM\n",
    "- Fully-Connected output\n",
    "\n"
   ]
  },
  {
   "cell_type": "markdown",
   "metadata": {
    "id": "DuJLqgjWqcIf"
   },
   "source": [
    "## CNN\n",
    "\n",
    "\n",
    "This is a classical CNN layer used to convolve over embedings tensor and gether useful information from it. The data is represented by hierarchy of features, which can be modelled using a CNN. We transform/reshape conv output to 2d matrix. Then we pass it to the max pooling layer that applies the max pool operation on windows of different sizes. "
   ]
  },
  {
   "cell_type": "code",
   "execution_count": 422,
   "metadata": {
    "id": "XA5INtFl-fM0"
   },
   "outputs": [
    {
     "name": "stdout",
     "output_type": "stream",
     "text": [
      "(None, 1, 43)\n",
      "(None, 1, 43)\n"
     ]
    }
   ],
   "source": [
    "from keras.models import Sequential, Model\n",
    "from keras.layers import LSTM\n",
    "from keras.layers import Dense,Flatten\n",
    "from keras.layers import Dense, Reshape,BatchNormalization,MaxPool2D\n",
    "from keras.layers import Input,Dropout, InputLayer, Bidirectional, TimeDistributed, Activation, Embedding,Conv2D\n",
    "from keras.optimizers import Adam\n",
    "\n",
    "filter_sizes = [3,4,5]\n",
    "num_filters = 64\n",
    "drop = 0.2\n",
    "VOCAB_SIZE = len(wordvectors) # 43,731\n",
    "MAX_LENGTH = len(max(utterances, key=len)) #137\n",
    "EMBED_SIZE = 100 # arbitary\n",
    "HIDDEN_SIZE = len(unique_tags) \n",
    "\n",
    "# CNN model\n",
    "Input_1 = Input(shape=(MAX_LENGTH,),dtype='int32')\n",
    "embedding = Embedding(input_dim=VOCAB_SIZE+1, output_dim=EMBED_SIZE, input_length=MAX_LENGTH)(Input_1)\n",
    "reshape = Reshape((MAX_LENGTH, EMBED_SIZE, 1))(embedding)\n",
    "\n",
    "# 3 convolutions\n",
    "conv_0 = Conv2D(num_filters, kernel_size=(filter_sizes[0], EMBED_SIZE), strides=1, padding='valid', kernel_initializer='normal', activation='relu')(reshape)\n",
    "bn_0 = BatchNormalization()(conv_0)\n",
    "\n",
    "conv_1 = Conv2D(num_filters, kernel_size=(filter_sizes[1], EMBED_SIZE), strides=1, padding='valid', kernel_initializer='normal', activation='relu')(reshape)\n",
    "bn_1 = BatchNormalization()(conv_1)\n",
    "\n",
    "conv_2 = Conv2D(num_filters, kernel_size=(filter_sizes[2], EMBED_SIZE), strides=1, padding='valid', kernel_initializer='normal', activation='relu')(reshape)\n",
    "bn_2 = BatchNormalization()(conv_2)\n",
    "\n",
    "# maxpool for 3 layers\n",
    "maxpool_0 = MaxPool2D(pool_size=(MAX_LENGTH - filter_sizes[0] + 1, 1), padding='valid')(bn_0)\n",
    "maxpool_1 = MaxPool2D(pool_size=(MAX_LENGTH - filter_sizes[1] + 1, 1), padding='valid')(bn_1)\n",
    "maxpool_2 = MaxPool2D(pool_size=(MAX_LENGTH - filter_sizes[2] + 1, 1), padding='valid')(bn_2)\n",
    "\n",
    "\n",
    "# concatenate tensors\n",
    "concat_tensors = Concatenate()([maxpool_0,maxpool_1,maxpool_2])\n",
    "#time_distributed = TimeDistributed(concat_tensors)\n",
    "\n",
    "# flatten concatenated tensors\n",
    "\n",
    "flattened_tensor=TimeDistributed(Flatten())(concat_tensors)\n",
    "#flattened_tensor = Flatten()(concat_tensors)\n",
    "\n",
    "# dense layer (dense_1)\n",
    "dense_1 = Dense(HIDDEN_SIZE)(flattened_tensor)\n",
    "print(Dense_1.shape)\n",
    "\n",
    "\n",
    "# dropout_1\n",
    "dropout_1 = Dropout(drop)(dense_1)\n",
    "print(dropout_1.shape)\n"
   ]
  },
  {
   "cell_type": "markdown",
   "metadata": {
    "id": "0nq9RWqNaU4C"
   },
   "source": [
    "If you want CNN layers to interact with the LSTM layer, they need to be distributed across time."
   ]
  },
  {
   "cell_type": "markdown",
   "metadata": {
    "id": "wDuERMw7-rAV"
   },
   "source": [
    "## BLSTM\n",
    "\n",
    "This is used to create LSTM layers. The data we’re working with has temporal properties which we want to model as well — hence the use of a LSTM. You should create a BiLSTM. Try the output of cnn as the input for blstm."
   ]
  },
  {
   "cell_type": "code",
   "execution_count": 423,
   "metadata": {
    "id": "pFGp2EWI-fM7"
   },
   "outputs": [],
   "source": [
    "# BLSTM model\n",
    "from keras.models import Sequential, Model\n",
    "from keras.layers import LSTM\n",
    "from keras.layers import Dense\n",
    "from keras.layers import Input,Dropout, InputLayer, Bidirectional, TimeDistributed, Activation, Embedding\n",
    "from keras.optimizers import Adam\n",
    "\n",
    "\n",
    "#dropout_1 = Flatten()(dropout_1)\n",
    "#Input_2 = Input(shape=(MAX_LENGTH,),dtype='int32')\n",
    "#Embedding = Embedding(VOCAB_SIZE+1, EMBED_SIZE, input_length=MAX_LENGTH, mask_zero=True)(dropout_1)\n",
    "# Bidirectional 1\n",
    "Bidirectional_1 = Bidirectional(LSTM(HIDDEN_SIZE,return_sequences = True))(dropout_1)\n",
    "# Bidirectional 2\n",
    "Bidirectional_2 = Bidirectional(LSTM(HIDDEN_SIZE,return_sequences = False))(Bidirectional_1)\n",
    "# Dense layer (dense_2)\n",
    "dense_2 = Dense(HIDDEN_SIZE)(Bidirectional_2)\n",
    "# dropout_2\n",
    "dropout_2 = Dropout(drop)(dense_2)\n"
   ]
  },
  {
   "cell_type": "markdown",
   "metadata": {
    "id": "7wluAkx6AQUb"
   },
   "source": [
    "Concatenate 2 last layers and create the output layer. You need to concatenate the outputs of CNN and LSTM (dropout_1 and dropout_2)"
   ]
  },
  {
   "cell_type": "code",
   "execution_count": 424,
   "metadata": {
    "id": "kzrhgkX2-fNE"
   },
   "outputs": [
    {
     "name": "stdout",
     "output_type": "stream",
     "text": [
      "(None, 43)\n"
     ]
    }
   ],
   "source": [
    "# concatenate 2 final layers\n",
    "dropout_1flat = Flatten()(dropout_1)\n",
    "\n",
    "final_concat_output = Concatenate()([dropout_1flat,dropout_2])\n",
    "model_output = Dense(HIDDEN_SIZE)(final_concat_output)\n",
    "Activation = Activation(\"softmax\")(model_output)\n",
    "print(model_output.shape)"
   ]
  },
  {
   "cell_type": "code",
   "execution_count": 430,
   "metadata": {},
   "outputs": [
    {
     "name": "stdout",
     "output_type": "stream",
     "text": [
      "Model: \"model_24\"\n",
      "__________________________________________________________________________________________________\n",
      "Layer (type)                    Output Shape         Param #     Connected to                     \n",
      "==================================================================================================\n",
      "input_61 (InputLayer)           [(None, 137)]        0                                            \n",
      "__________________________________________________________________________________________________\n",
      "embedding_65 (Embedding)        (None, 137, 100)     4373200     input_61[0][0]                   \n",
      "__________________________________________________________________________________________________\n",
      "reshape_45 (Reshape)            (None, 137, 100, 1)  0           embedding_65[0][0]               \n",
      "__________________________________________________________________________________________________\n",
      "conv2d_118 (Conv2D)             (None, 135, 1, 64)   19264       reshape_45[0][0]                 \n",
      "__________________________________________________________________________________________________\n",
      "conv2d_119 (Conv2D)             (None, 134, 1, 64)   25664       reshape_45[0][0]                 \n",
      "__________________________________________________________________________________________________\n",
      "conv2d_120 (Conv2D)             (None, 133, 1, 64)   32064       reshape_45[0][0]                 \n",
      "__________________________________________________________________________________________________\n",
      "batch_normalization_117 (BatchN (None, 135, 1, 64)   256         conv2d_118[0][0]                 \n",
      "__________________________________________________________________________________________________\n",
      "batch_normalization_118 (BatchN (None, 134, 1, 64)   256         conv2d_119[0][0]                 \n",
      "__________________________________________________________________________________________________\n",
      "batch_normalization_119 (BatchN (None, 133, 1, 64)   256         conv2d_120[0][0]                 \n",
      "__________________________________________________________________________________________________\n",
      "max_pooling2d_114 (MaxPooling2D (None, 1, 1, 64)     0           batch_normalization_117[0][0]    \n",
      "__________________________________________________________________________________________________\n",
      "max_pooling2d_115 (MaxPooling2D (None, 1, 1, 64)     0           batch_normalization_118[0][0]    \n",
      "__________________________________________________________________________________________________\n",
      "max_pooling2d_116 (MaxPooling2D (None, 1, 1, 64)     0           batch_normalization_119[0][0]    \n",
      "__________________________________________________________________________________________________\n",
      "concatenate_67 (Concatenate)    (None, 1, 1, 192)    0           max_pooling2d_114[0][0]          \n",
      "                                                                 max_pooling2d_115[0][0]          \n",
      "                                                                 max_pooling2d_116[0][0]          \n",
      "__________________________________________________________________________________________________\n",
      "time_distributed_22 (TimeDistri (None, 1, 192)       0           concatenate_67[0][0]             \n",
      "__________________________________________________________________________________________________\n",
      "dense_48 (Dense)                (None, 1, 43)        8299        time_distributed_22[0][0]        \n",
      "__________________________________________________________________________________________________\n",
      "dropout_33 (Dropout)            (None, 1, 43)        0           dense_48[0][0]                   \n",
      "__________________________________________________________________________________________________\n",
      "bidirectional_48 (Bidirectional (None, 1, 86)        29928       dropout_33[0][0]                 \n",
      "__________________________________________________________________________________________________\n",
      "bidirectional_49 (Bidirectional (None, 86)           44720       bidirectional_48[0][0]           \n",
      "__________________________________________________________________________________________________\n",
      "dense_49 (Dense)                (None, 43)           3741        bidirectional_49[0][0]           \n",
      "__________________________________________________________________________________________________\n",
      "flatten_74 (Flatten)            (None, 43)           0           dropout_33[0][0]                 \n",
      "__________________________________________________________________________________________________\n",
      "dropout_34 (Dropout)            (None, 43)           0           dense_49[0][0]                   \n",
      "__________________________________________________________________________________________________\n",
      "concatenate_68 (Concatenate)    (None, 86)           0           flatten_74[0][0]                 \n",
      "                                                                 dropout_34[0][0]                 \n",
      "__________________________________________________________________________________________________\n",
      "dense_50 (Dense)                (None, 43)           3741        concatenate_68[0][0]             \n",
      "__________________________________________________________________________________________________\n",
      "activation_10 (Activation)      (None, 43)           0           dense_50[0][0]                   \n",
      "==================================================================================================\n",
      "Total params: 4,541,389\n",
      "Trainable params: 4,541,005\n",
      "Non-trainable params: 384\n",
      "__________________________________________________________________________________________________\n"
     ]
    }
   ],
   "source": [
    "# output\n",
    "model3 = Model(inputs=[Input_1], outputs=[Activation])\n",
    "model3.compile(loss='binary_crossentropy', optimizer='adam', metrics = ['accuracy'])\n",
    "model3.summary()"
   ]
  },
  {
   "cell_type": "code",
   "execution_count": 426,
   "metadata": {
    "id": "3Jneg-GD-fNJ"
   },
   "outputs": [
    {
     "name": "stdout",
     "output_type": "stream",
     "text": [
      "Epoch 1/3\n",
      "274/274 [==============================] - 158s 555ms/step - loss: 0.1411 - accuracy: 0.4169 - val_loss: 0.1324 - val_accuracy: 0.6473\n",
      "Epoch 2/3\n",
      "274/274 [==============================] - 140s 512ms/step - loss: 0.0359 - accuracy: 0.7200 - val_loss: 0.0412 - val_accuracy: 0.6931\n",
      "Epoch 3/3\n",
      "274/274 [==============================] - 141s 514ms/step - loss: 0.0278 - accuracy: 0.7838 - val_loss: 0.0363 - val_accuracy: 0.7016\n"
     ]
    }
   ],
   "source": [
    "# Train the model - using validation \n",
    "\n",
    "Training = model3.fit(train_input,\n",
    "                    train_labels,\n",
    "                    epochs=3,\n",
    "                    batch_size=512,\n",
    "                    validation_data=(val_input, val_labels),\n",
    "                    verbose=1)"
   ]
  },
  {
   "cell_type": "code",
   "execution_count": 427,
   "metadata": {
    "id": "MSMRSX1u-fNO"
   },
   "outputs": [
    {
     "name": "stdout",
     "output_type": "stream",
     "text": [
      "560/560 [==============================] - 10s 18ms/step - loss: 0.0367 - accuracy: 0.7035\n"
     ]
    }
   ],
   "source": [
    "score = model3.evaluate(test_utterances_X, y_test, batch_size=100)"
   ]
  },
  {
   "cell_type": "code",
   "execution_count": 428,
   "metadata": {
    "id": "3qFMsXNS-fNS"
   },
   "outputs": [
    {
     "name": "stdout",
     "output_type": "stream",
     "text": [
      "Overall Accuracy: 70.35168409347534\n"
     ]
    }
   ],
   "source": [
    "print(\"Overall Accuracy:\", score[1]*100)\n",
    "\n",
    "#Predicted labels\n",
    "label_pred = model3.predict(test_utterances_X, batch_size=100)"
   ]
  },
  {
   "cell_type": "code",
   "execution_count": 429,
   "metadata": {},
   "outputs": [
    {
     "name": "stdout",
     "output_type": "stream",
     "text": [
      "bf accuracy: 16.577540106951872\n",
      "br accuracy: 2.3529411764705883\n"
     ]
    },
    {
     "data": {
      "image/png": "[encoded data removed]",
      "text/plain": [
       "<Figure size 288x288 with 2 Axes>"
      ]
     },
     "metadata": {
      "needs_background": "light"
     },
     "output_type": "display_data"
    }
   ],
   "source": [
    "matrix_balanced = sklearn.metrics.confusion_matrix(y_test.argmax(axis=1), label_pred.argmax(axis=1))\n",
    "\n",
    "mat = plot_confusion_matrix(matrix_balanced)\n",
    "mat\n",
    "\n",
    "# Calculate Accuracies for \"br\" and \"bf\"\n",
    "\n",
    "mat = confusion_matrix(y_test.argmax(axis=1), label_pred.argmax(axis=1)) \n",
    "classes_accuracy = mat.diagonal()/mat.sum(axis=1)   #Calculates the accuracy of each individual classes\n",
    "\n",
    "\n",
    "bf_acc = classes_accuracy[15]   #bf class at index 15\n",
    "print(\"bf accuracy:\", bf_acc*100)\n",
    "\n",
    "br_acc = classes_accuracy[18]   #br class at index 18\n",
    "print(\"br accuracy:\", br_acc*100)"
   ]
  }
 ],
 "metadata": {
  "accelerator": "GPU",
  "colab": {
   "collapsed_sections": [],
   "name": "Lab_10_Dialogue_Act_Tagging.ipynb",
   "provenance": []
  },
  "kernelspec": {
   "display_name": "Python 3",
   "language": "python",
   "name": "python3"
  },
  "language_info": {
   "codemirror_mode": {
    "name": "ipython",
    "version": 3
   },
   "file_extension": ".py",
   "mimetype": "text/x-python",
   "name": "python",
   "nbconvert_exporter": "python",
   "pygments_lexer": "ipython3",
   "version": "3.8.5"
  }
 },
 "nbformat": 4,
 "nbformat_minor": 1
}
