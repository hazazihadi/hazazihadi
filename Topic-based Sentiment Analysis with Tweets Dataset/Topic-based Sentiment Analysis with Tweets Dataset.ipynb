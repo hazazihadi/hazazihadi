{
 "cells": [
  {
   "cell_type": "markdown",
   "metadata": {
    "id": "hExKCzh6doIW"
   },
   "source": [
    "# Topic-based Sentiment Analysis with a Real Dataset\n",
    "\n",
    "\n",
    "---\n",
    "\n",
    "\n",
    "\n",
    "\n",
    "\n",
    "\n",
    "\n",
    "\n",
    "\n",
    "\n",
    "\n",
    "\n",
    "\n"
   ]
  },
  {
   "cell_type": "markdown",
   "metadata": {
    "id": "HixoFOoCIJ7V"
   },
   "source": [
    "\n",
    "Semeval 2017 task4(subtask B) provides a tweet text dataset with topics.\n",
    "Given a tweet and a topic, we need to classify the sentiment conveyed towards that topic on a  two-point scale:   POSITIVE vs. NEGATIVE.\n",
    "Although it is still a binary classification task, this classifier needs to analyze the text and its topic. \n",
    "\n",
    "We are going to use Keras Sequential API. The Sequential API allows you to make models layer-by-layer. "
   ]
  },
  {
   "cell_type": "code",
   "execution_count": 1,
   "metadata": {
    "id": "m8fpBfhBpupy"
   },
   "outputs": [],
   "source": [
    "import keras\n",
    "import numpy as np\n",
    "from keras.layers import Lambda, GlobalAveragePooling1D, Dense, Embedding\n",
    "from keras import backend as K\n",
    "from keras.models import Sequential\n",
    "import matplotlib.pyplot as plt\n",
    "import re\n",
    "from nltk.tokenize import RegexpTokenizer\n",
    "from nltk.corpus import stopwords\n",
    "from keras.preprocessing.text import Tokenizer \n",
    "\n",
    "from keras.layers import LSTM, RNN, Dropout, Input, LeakyReLU, Bidirectional,Conv1D, GlobalMaxPooling1D\n",
    "from keras.layers.core import Dense\n",
    "from keras.models import Model\n",
    "from keras.utils import plot_model\n"
   ]
  },
  {
   "cell_type": "markdown",
   "metadata": {
    "id": "cqvPQvgvPv1W"
   },
   "source": [
    "### Downloading and preprocessing data"
   ]
  },
  {
   "cell_type": "markdown",
   "metadata": {
    "id": "EundMtGPpCdf"
   },
   "source": [
    "The data is not balanced: the numbers of positive and negative instances are not equal, in either training or test set.\n"
   ]
  },
  {
   "cell_type": "code",
   "execution_count": 2,
   "metadata": {
    "colab": {
     "base_uri": "https://localhost:8080/"
    },
    "id": "NyuSzkafqNca",
    "outputId": "394cd0ac-c6c0-41d9-82db-42eecac2c9a6"
   },
   "outputs": [
    {
     "name": "stdout",
     "output_type": "stream",
     "text": [
      "Training entries: 17639\n",
      "Development entries: 1325\n",
      "Testing entries: 6185\n"
     ]
    }
   ],
   "source": [
    "import requests\n",
    "def downloadfile(url):\n",
    "  rq = requests.get(url)\n",
    "  open(url.split('/')[-1], 'wb').write(rq.content)\n",
    "\n",
    "downloadfile('https://raw.githubusercontent.com/cbaziotis/datastories-semeval2017-task4/master/dataset/Subtask_BD/downloaded/twitter-2016devtest-BD.tsv')\n",
    "downloadfile('https://raw.githubusercontent.com/cbaziotis/datastories-semeval2017-task4/master/dataset/Subtask_BD/downloaded/twitter-2016dev-BD.tsv')\n",
    "downloadfile('https://raw.githubusercontent.com/cbaziotis/datastories-semeval2017-task4/master/dataset/Subtask_BD/downloaded/twitter-2016test-BD.tsv')\n",
    "downloadfile('https://raw.githubusercontent.com/cbaziotis/datastories-semeval2017-task4/master/dataset/Subtask_BD/downloaded/twitter-2016train-BD.tsv')\n",
    "downloadfile('https://raw.githubusercontent.com/cbaziotis/datastories-semeval2017-task4/master/dataset/Subtask_BD/downloaded/twitter-2015test-BD.tsv')\n",
    "downloadfile('https://raw.githubusercontent.com/cbaziotis/datastories-semeval2017-task4/master/dataset/Subtask_BD/downloaded/twitter-2015train-BD.tsv')\n",
    "\n",
    "downloadfile('https://raw.githubusercontent.com/cbaziotis/datastories-semeval2017-task4/master/dataset/Subtask_BD/gold/SemEval2017-task4-test.subtask-BD.english.txt')\n",
    "\n",
    "with open('twitter-2016dev-BD.tsv', 'r',encoding=\"utf-8\") as f:\n",
    "  dev_original = [l.strip().split('\\t') for l in f.readlines()]\n",
    "with open('SemEval2017-task4-test.subtask-BD.english.txt', 'r',encoding=\"utf-8\") as f:\n",
    "  test_original = [l.strip().split('\\t') for l in f.readlines()]\n",
    "train_original = []\n",
    "with open('twitter-2016train-BD.tsv', 'r',encoding=\"utf-8\") as f:\n",
    "  train_original = [l.strip().split('\\t') for l in f.readlines()]\n",
    "with open('twitter-2016test-BD.tsv', 'r',encoding=\"utf-8\") as f:\n",
    "  train_original.extend([l.strip().split('\\t') for l in f.readlines()])\n",
    "with open('twitter-2016devtest-BD.tsv', 'r',encoding=\"utf-8\") as f:\n",
    "  train_original.extend([l.strip().split('\\t') for l in f.readlines()])\n",
    "with open('twitter-2015test-BD.tsv', 'r',encoding=\"utf-8\") as f:\n",
    "  train_original.extend([l.strip().split('\\t') for l in f.readlines() if l.strip().split('\\t')[2] in ['negative','positive']])\n",
    "with open('twitter-2015train-BD.tsv', 'r',encoding=\"utf-8\") as f:\n",
    "  train_original.extend([l.strip().split('\\t') for l in f.readlines() if l.strip().split('\\t')[2] in ['negative','positive']])\n",
    "\n",
    "print(\"Training entries: {}\".format(len(train_original)))\n",
    "print(\"Development entries: {}\".format(len(dev_original)))\n",
    "print(\"Testing entries: {}\".format(len(test_original)))"
   ]
  },
  {
   "cell_type": "markdown",
   "metadata": {
    "id": "6U4iCV9-rmay"
   },
   "source": [
    "We now can start playing around with the data, let’s first see some examples:"
   ]
  },
  {
   "cell_type": "code",
   "execution_count": 3,
   "metadata": {
    "colab": {
     "base_uri": "https://localhost:8080/"
    },
    "id": "h-gjWRAuqg5s",
    "outputId": "2978507b-b9bd-485a-9cef-33bae1486632"
   },
   "outputs": [
    {
     "name": "stdout",
     "output_type": "stream",
     "text": [
      "ID \t TOPIC \t LABLE \t TWEET_TEXT\n",
      "['628949369883000832', '@microsoft', 'negative', \"dear @Microsoft the newOoffice for Mac is great and all, but no Lync update? C'mon.\"]\n",
      "['628976607420645377', '@microsoft', 'negative', \"@Microsoft how about you make a system that doesn't eat my friggin discs. This is the 2nd time this has happened and I am so sick of it!\"]\n",
      "['629023169169518592', '@microsoft', 'negative', \"I may be ignorant on this issue but... should we celebrate @Microsoft's parental leave changes? Doesn't the gender divide suggest... (1/2)\"]\n",
      "['629179223232479232', '@microsoft', 'negative', 'Thanks to @microsoft, I just may be switching over to @apple.']\n",
      "['629226490152914944', '@microsoft', 'positive', 'Microsoft, I may not prefer your gaming branch of business. But, you do make a damn fine operating system. #Windows10 @Microsoft']\n"
     ]
    }
   ],
   "source": [
    "print(\"ID \\t TOPIC \\t LABLE \\t TWEET_TEXT\")\n",
    "print(train_original[0])\n",
    "print(train_original[1])\n",
    "print(train_original[2])\n",
    "print(train_original[3])\n",
    "print(train_original[4])"
   ]
  },
  {
   "cell_type": "markdown",
   "metadata": {
    "id": "MTRZrpcyr-4x"
   },
   "source": [
    "Build a vocabulary based on the training dataset. "
   ]
  },
  {
   "cell_type": "code",
   "execution_count": 4,
   "metadata": {
    "colab": {
     "base_uri": "https://localhost:8080/"
    },
    "id": "79Ev72Kgq4XL",
    "outputId": "a14cc86b-4216-407e-d382-d9744ffdc84e"
   },
   "outputs": [
    {
     "name": "stdout",
     "output_type": "stream",
     "text": [
      "32571\n",
      "32575\n"
     ]
    }
   ],
   "source": [
    "#Create dictionary\n",
    "voc = []\n",
    "from keras.preprocessing.text import text_to_word_sequence\n",
    "for example in train_original:\n",
    "  topic_tokens = text_to_word_sequence(example[1])\n",
    "  text_tokens = text_to_word_sequence(example[3])\n",
    "  voc.extend(topic_tokens)\n",
    "  voc.extend(text_tokens)\n",
    "voc = set(voc)\n",
    "print(len(voc))\n",
    "\n",
    "word_index = dict()\n",
    "word_index[\"<PAD>\"] = 0\n",
    "word_index[\"<START>\"] = 1\n",
    "word_index[\"<UNK>\"] = 2  \n",
    "word_index[\"<EOS>\"] = 3\n",
    "for w in voc:\n",
    "  word_index[w] = len(word_index)\n",
    "print(len(word_index))"
   ]
  },
  {
   "cell_type": "code",
   "execution_count": 5,
   "metadata": {},
   "outputs": [
    {
     "data": {
      "text/plain": [
       "2"
      ]
     },
     "execution_count": 5,
     "metadata": {},
     "output_type": "execute_result"
    }
   ],
   "source": [
    "word_index[\"<UNK>\"]"
   ]
  },
  {
   "cell_type": "code",
   "execution_count": 6,
   "metadata": {},
   "outputs": [],
   "source": [
    "def preprocess_text(corpus):\n",
    "    '''\n",
    "    Write code for preprocessing corpus here\n",
    "    '''\n",
    "    processedCorpus = []\n",
    "    for line in corpus:\n",
    "\n",
    "        Text = re.sub(r\"(\\w)([.,;:!?'\\\"”\\)])\", r\"\\1 \\2\", line) # Separating words and special charaters from words that comes after the word\n",
    "        Text = re.sub(r\"([.,;:!?'\\\"“\\(])(\\w)\", r\"\\1 \\2\", Text) # Separating words and special charaters from words that comes before the word\n",
    "        Text = re.sub(r\"(//d)(\\w)\", r\"\\1 \\2\", Text) # Removing digits\n",
    "        tokenizer = RegexpTokenizer(r'\\w+')         # Initialize tokenizer\n",
    "        tokens = tokenizer.tokenize(Text)           # Tokenize the words\n",
    "        tokens = [t.lower() for t in tokens]        # Lowercased the tokens\n",
    "        #stop = set(stopwords.words('english'))      # Stop contains all the stopwords in the english vocab\n",
    "        #tokens = [t for t in tokens if t not in stop] # Removes all stopwords\n",
    "        processedCorpus.append(tokens)          # Append tokens to local list\n",
    "\n",
    "    #print(len(processedCorpus))\n",
    "    return processedCorpus   \n",
    "\n",
    "def wordindex(corpus):              #function converting word to index \n",
    "    index = []\n",
    "    for word in corpus:\n",
    "        inner = []\n",
    "        for w in word:\n",
    "            try:\n",
    "                inner.append(word_index[w])  # Finds the index to the word and appends it to inner list\n",
    "            except KeyError:\n",
    "                inner.append(word_index[\"<UNK>\"])            \n",
    "        index.append(inner)     # Once every token in the list is transformed, its appended to sents_as_ids list\n",
    "    return index\n",
    "    "
   ]
  },
  {
   "cell_type": "markdown",
   "metadata": {
    "id": "Tvuu4KhStqei"
   },
   "source": [
    "According to the word_index and the tokenizer function (text_to_word_sequence), we can convert the tweet text and topic words to word tokens and integers separately:\n"
   ]
  },
  {
   "cell_type": "code",
   "execution_count": 8,
   "metadata": {
    "colab": {
     "base_uri": "https://localhost:8080/"
    },
    "id": "gMCH1OoDrSNR",
    "outputId": "225c3ba5-a821-4a95-d2e5-841ee2ae6444"
   },
   "outputs": [
    {
     "name": "stdout",
     "output_type": "stream",
     "text": [
      "x_dev_tweet[0]:\n",
      "['jay', 'z', 'joins', 'instagram', 'with', 'nostalgic', 'tribute', 'to', 'michael', 'jackson', 'jay', 'z', 'apparently', 'joined', 'instagram', 'on', 'saturday', 'and', 'http', 't', 'co', 'qj9i4ecvxy']\n",
      "x_dev_topic[0]:\n",
      "['michael', 'jackson']\n",
      "x_dev_tweet_int[0]:\n",
      "[12934, 23500, 10914, 27456, 17625, 30206, 28205, 1218, 8883, 25335, 12934, 23500, 23634, 10509, 27456, 23803, 30779, 2998, 6291, 19340, 7903, 2]\n",
      "x_dev_topic_int[0]:\n",
      "[8883, 25335]\n"
     ]
    }
   ],
   "source": [
    "# Please write your code to generate the following data\n",
    "\n",
    "##### your code goes here:\n",
    "\n",
    "x_dev_tweetb4tokenize = []\n",
    "x_dev_topicb4tokenize = []\n",
    "x_test_tweetb4tokenize = []\n",
    "x_test_topicb4tokenize = []\n",
    "x_train_tweetb4tokenize = []\n",
    "x_train_topicb4tokenize = []\n",
    "\n",
    "for w in dev_original:                          #Extracts the tweet and topics from dev set\n",
    "    x_dev_tweetb4tokenize.append(w[3])\n",
    "    x_dev_topicb4tokenize.append(w[1])\n",
    "\n",
    "for w in test_original:                         #Extracts the tweet and topics from test set\n",
    "    x_test_tweetb4tokenize.append(w[3])\n",
    "    x_test_topicb4tokenize.append(w[1])\n",
    "\n",
    "for w in train_original:                        #Extracts the tweet and topics from train set\n",
    "    x_train_tweetb4tokenize.append(w[3])\n",
    "    x_train_topicb4tokenize.append(w[1])\n",
    "\n",
    "    \n",
    "x_dev_tweet = preprocess_text(x_dev_tweetb4tokenize)     # preprocess the list and tokenize\n",
    "x_dev_topic = preprocess_text(x_dev_topicb4tokenize)\n",
    "x_dev_tweet_int = wordindex(x_dev_tweet)                 # convert the tweets into its index representation\n",
    "x_dev_topic_int = wordindex(x_dev_topic)                 # convert the topics into its index representation\n",
    " \n",
    "x_test_tweet = preprocess_text(x_test_tweetb4tokenize)   # preprocess the list and tokenize\n",
    "x_test_topic = preprocess_text(x_test_topicb4tokenize)   # preprocess the list and tokenize\n",
    "x_test_tweet_int = wordindex(x_test_tweet)               # convert the tweets into its index representation\n",
    "x_test_topic_int = wordindex(x_test_topic)               # convert the topics into its index representation\n",
    "\n",
    "x_train_tweet = preprocess_text(x_train_tweetb4tokenize)   # preprocess the list and tokenize\n",
    "x_train_topic = preprocess_text(x_train_topicb4tokenize)   # preprocess the list and tokenize\n",
    "x_train_tweet_int = wordindex(x_train_tweet)               # convert the tweets into its index representation\n",
    "x_train_topic_int = wordindex(x_train_topic)               # convert the topics into its index representation\n",
    "\n",
    "\n",
    "\n",
    "# If use the previous word_index, you can get a print result like:\n",
    "assert len(x_train_topic) == len(train_original)\n",
    "assert len(x_train_topic) == len(x_train_topic_int)\n",
    "assert len(x_test_topic) == len(test_original)\n",
    "assert len(x_test_topic) == len(x_test_topic_int)\n",
    "print(\"x_dev_tweet[0]:\")\n",
    "print(x_dev_tweet[0])\n",
    "print(\"x_dev_topic[0]:\")\n",
    "print(x_dev_topic[0])\n",
    "print(\"x_dev_tweet_int[0]:\")\n",
    "print(x_dev_tweet_int[0])\n",
    "print(\"x_dev_topic_int[0]:\")\n",
    "print(x_dev_topic_int[0])"
   ]
  },
  {
   "cell_type": "code",
   "execution_count": 9,
   "metadata": {},
   "outputs": [],
   "source": [
    "# x_dev_tweet[0]:\n",
    "# ['jay', 'z', 'joins', 'instagram', 'with', 'nostalgic', 'tribute', 'to', 'michael', 'jackson', 'jay', 'z', 'apparently', 'joined', 'instagram', 'on', 'saturday', 'and', 'http', 't', 'co', 'qj9i4ecvxy']\n",
    "# x_dev_topic[0]:\n",
    "# ['michael', 'jackson']\n",
    "# x_dev_tweet_int[0]:\n",
    "# [13089, 2308, 13715, 18119, 6500, 22489, 20887, 6811, 15614, 10701, 13089, 2308, 27813, 31851, 18119, 21494, 21376, 27720, 15232, 29316, 17386, 2]\n",
    "# x_dev_topic_int[0]:\n",
    "# [15614, 10701]"
   ]
  },
  {
   "cell_type": "markdown",
   "metadata": {
    "id": "5IreFXgruZot"
   },
   "source": [
    "We use 1 to represent \"positive\" and 0 for \"negative\" and generate the \"y\" data similar to previous labs."
   ]
  },
  {
   "cell_type": "code",
   "execution_count": 10,
   "metadata": {
    "colab": {
     "base_uri": "https://localhost:8080/"
    },
    "id": "abIb7Fe5u3GQ",
    "outputId": "632d0a8b-9364-44b2-99ef-f9760c6f264e"
   },
   "outputs": [
    {
     "name": "stdout",
     "output_type": "stream",
     "text": [
      "0\n",
      "0\n",
      "0\n",
      "0\n",
      "1\n"
     ]
    }
   ],
   "source": [
    "def label2int(dataset):\n",
    "  y = []\n",
    "  for example in dataset:\n",
    "    if example[2].lower() == \"negative\":\n",
    "      y.append(0)\n",
    "    else:\n",
    "      y.append(1)\n",
    "  return y\n",
    "  \n",
    "y_train = label2int(train_original)\n",
    "y_dev = label2int(dev_original)\n",
    "y_test = label2int(test_original)\n",
    "\n",
    "y_train = np.array(y_train)\n",
    "y_dev = np.array(y_dev)\n",
    "y_test = np.array(y_test)\n",
    "\n",
    "print(y_train[0])\n",
    "print(y_train[1])\n",
    "print(y_train[2])\n",
    "print(y_train[3])\n",
    "print(y_train[4])"
   ]
  },
  {
   "cell_type": "code",
   "execution_count": 121,
   "metadata": {
    "colab": {
     "base_uri": "https://localhost:8080/"
    },
    "id": "nKOiVVXQu-_I",
    "outputId": "aa798e71-20fd-4b9a-eb67-7bbf944b43aa"
   },
   "outputs": [
    {
     "name": "stdout",
     "output_type": "stream",
     "text": [
      "Before paded:\n",
      "['microsoft', '<START>', 'dear', 'microsoft', 'the', 'newooffice', 'for', 'mac', 'is', 'great', 'and', 'all', 'but', 'no', 'lync', 'update', 'c', 'mon']\n",
      "[26784, 1, 20356, 26784, 6786, 17780, 27401, 4257, 21176, 27164, 2998, 16146, 3417, 26121, 3842, 22660, 11483, 14098]\n",
      "After paded:\n",
      "[26784     1 20356 26784  6786 17780 27401  4257 21176 27164  2998 16146\n",
      "  3417 26121  3842 22660 11483 14098     0     0     0     0     0     0\n",
      "     0     0     0     0     0     0     0     0     0     0     0     0\n",
      "     0     0     0     0     0     0     0     0     0     0     0     0\n",
      "     0     0     0     0     0     0     0     0     0     0     0     0\n",
      "     0     0     0     0     0     0     0     0     0     0     0     0\n",
      "     0     0     0     0     0     0     0     0     0     0     0     0\n",
      "     0     0     0     0     0     0     0     0     0     0     0     0\n",
      "     0     0     0     0     0     0     0     0     0     0     0     0\n",
      "     0     0     0     0     0     0     0     0     0     0     0     0\n",
      "     0     0     0     0     0     0     0     0]\n"
     ]
    }
   ],
   "source": [
    "# Please write your code to combine the x_*_tweet and x_*_topic into the following varibles\n",
    "start = [\"<START>\"]\n",
    "\n",
    "# Tips: \n",
    "# 1) We can use the special token <START> to concatenate the tweets and topics.\n",
    "# 2) After combine them, do not foget to pad the sequences.\n",
    "\n",
    "\n",
    "##### your code goes here:\n",
    "x_train = []\n",
    "x_dev = []\n",
    "x_test = []\n",
    "\n",
    "for w in range (len(x_dev_tweet)):                           # Combining the tweets and the topics in the dev set\n",
    "    combined = x_dev_topic[w] + start + x_dev_tweet[w]       # Adds <START> in between\n",
    "    x_dev.append(combined)\n",
    "\n",
    "for w in range (len(x_train_tweet)):                         # Combining the tweets and the topics in the train set\n",
    "    combined = x_train_topic[w] + start + x_train_tweet[w]   # Adds <START> in between\n",
    "    x_train.append(combined)\n",
    "    \n",
    "for w in range (len(x_test_tweet)):                          # Combining the tweets and the topics in the test set\n",
    "    combined = x_test_topic[w] + start + x_test_tweet[w]     # Adds <START> in between\n",
    "    x_test.append(combined)\n",
    "    \n",
    "x_train_int = wordindex(x_train)                             # convert the combined train lists into its index representation\n",
    "x_dev_int = wordindex(x_dev)                                 # convert the combined dev lists into its index representation\n",
    "x_test_int = wordindex(x_test)                               # convert the combined test lists into its index representation\n",
    "\n",
    "x_train_pad = np.array(keras.preprocessing.sequence.pad_sequences(x_train_int,         # pads the data, length = 128\n",
    "                                                        value=word_index[\"<PAD>\"],\n",
    "                                                        padding='post',\n",
    "                                                        maxlen=128))\n",
    "x_dev_pad = np.array(keras.preprocessing.sequence.pad_sequences(x_dev_int,             # pads the data, length = 128\n",
    "                                                        value=word_index[\"<PAD>\"],\n",
    "                                                        padding='post',\n",
    "                                                        maxlen=128))\n",
    "\n",
    "x_test_pad = np.array(keras.preprocessing.sequence.pad_sequences(x_test_int,           # pads the data, length = 128\n",
    "                                                        value=word_index[\"<PAD>\"],\n",
    "                                                        padding='post',\n",
    "                                                        maxlen=128))\n",
    "\n",
    "# Don't forget the to use np.array function to wrap the ouput of pad_sequences function, such as: x_train_pad = np.array(x_train_pad)\n",
    "# Only pad the *_int varibles\n",
    "print(\"Before paded:\")\n",
    "print(x_train[0])\n",
    "print(x_train_int[0])\n",
    "print(\"After paded:\")\n",
    "print(x_train_pad[0])"
   ]
  },
  {
   "cell_type": "markdown",
   "metadata": {
    "id": "a7OwOQw4h8RX"
   },
   "source": [
    "#Model 1: Previous models without pre-trained word embeddings"
   ]
  },
  {
   "cell_type": "markdown",
   "metadata": {
    "id": "3CuAHDGQ3Mmp"
   },
   "source": [
    "## Model 1-1: Neural bag of words without pre-trained word embeddings"
   ]
  },
  {
   "cell_type": "markdown",
   "metadata": {
    "id": "l-QzOMO_P4jc"
   },
   "source": [
    "Now we use the model2 in lab4 to deal with the SEMEVAL2017 task4 subtask B. We have preprocess the data to fit in this model in previous steps."
   ]
  },
  {
   "cell_type": "code",
   "execution_count": 13,
   "metadata": {
    "id": "Yi04MLIvJOGZ"
   },
   "outputs": [],
   "source": [
    "class GlobalAveragePooling1DMasked(GlobalAveragePooling1D):\n",
    "    def call(self, x, mask=None):\n",
    "        if mask != None:\n",
    "            return K.sum(x, axis=1) / K.sum(mask, axis=1)\n",
    "        else:\n",
    "            return super().call(x)\n"
   ]
  },
  {
   "cell_type": "code",
   "execution_count": 14,
   "metadata": {
    "colab": {
     "base_uri": "https://localhost:8080/"
    },
    "id": "MFrCsL-NBFVL",
    "outputId": "5d7826ac-97fc-4330-c5fc-ddb4c36a4635"
   },
   "outputs": [
    {
     "name": "stdout",
     "output_type": "stream",
     "text": [
      "Model: \"model\"\n",
      "_________________________________________________________________\n",
      "Layer (type)                 Output Shape              Param #   \n",
      "=================================================================\n",
      "input_1 (InputLayer)         [(None, 128)]             0         \n",
      "_________________________________________________________________\n",
      "embedding (Embedding)        (None, 128, 100)          3257500   \n",
      "_________________________________________________________________\n",
      "global_average_pooling1d (Gl (None, 100)               0         \n",
      "_________________________________________________________________\n",
      "dense (Dense)                (None, 16)                1616      \n",
      "_________________________________________________________________\n",
      "dense_1 (Dense)              (None, 1)                 17        \n",
      "=================================================================\n",
      "Total params: 3,259,133\n",
      "Trainable params: 3,259,133\n",
      "Non-trainable params: 0\n",
      "_________________________________________________________________\n"
     ]
    }
   ],
   "source": [
    "# your code goes here\n",
    "\n",
    "from keras.layers import Input, Embedding, Dense, LSTM\n",
    "from keras.layers import Input, Lambda, GlobalAveragePooling1D, Dense, Embedding\n",
    "from keras.models import Model\n",
    "from keras.models import Sequential\n",
    "\n",
    "VOCAB_SIZE = 32575\n",
    "MAX_SEQUENCE_LENGTH = 128\n",
    "EMBED_SIZE = 100\n",
    "\n",
    "Input = Input((128,), dtype='int32')\n",
    "Embedding = Embedding(VOCAB_SIZE, EMBED_SIZE, input_length=MAX_SEQUENCE_LENGTH, mask_zero=True)(Input)\n",
    "global_average_pooling1d = GlobalAveragePooling1D()(Embedding)\n",
    "Hidden_1 = Dense(16,activation='sigmoid')(global_average_pooling1d)\n",
    "Output = Dense(1, activation='sigmoid')(Hidden_1)\n",
    "model = Model(inputs=[Input], outputs=[Output])  \n",
    "\n",
    "model.compile(loss='binary_crossentropy', optimizer='adam', metrics = ['accuracy'])\n",
    "model.summary()\n"
   ]
  },
  {
   "cell_type": "code",
   "execution_count": 15,
   "metadata": {},
   "outputs": [
    {
     "name": "stdout",
     "output_type": "stream",
     "text": [
      "Epoch 1/30\n",
      "35/35 [==============================] - 3s 74ms/step - loss: 0.5701 - accuracy: 0.7847 - val_loss: 0.5681 - val_accuracy: 0.7442\n",
      "Epoch 2/30\n",
      "35/35 [==============================] - 2s 47ms/step - loss: 0.5085 - accuracy: 0.7929 - val_loss: 0.5597 - val_accuracy: 0.7442\n",
      "Epoch 3/30\n",
      "35/35 [==============================] - 2s 48ms/step - loss: 0.4716 - accuracy: 0.7952 - val_loss: 0.5433 - val_accuracy: 0.7442\n",
      "Epoch 4/30\n",
      "35/35 [==============================] - 2s 48ms/step - loss: 0.4397 - accuracy: 0.7936 - val_loss: 0.5123 - val_accuracy: 0.7442\n",
      "Epoch 5/30\n",
      "35/35 [==============================] - 2s 47ms/step - loss: 0.3988 - accuracy: 0.7933 - val_loss: 0.4826 - val_accuracy: 0.7509\n",
      "Epoch 6/30\n",
      "35/35 [==============================] - 2s 49ms/step - loss: 0.3493 - accuracy: 0.8353 - val_loss: 0.4614 - val_accuracy: 0.7653\n",
      "Epoch 7/30\n",
      "35/35 [==============================] - 2s 48ms/step - loss: 0.3133 - accuracy: 0.8702 - val_loss: 0.4487 - val_accuracy: 0.7698\n",
      "Epoch 8/30\n",
      "35/35 [==============================] - 2s 48ms/step - loss: 0.2922 - accuracy: 0.8849 - val_loss: 0.4417 - val_accuracy: 0.7713\n",
      "Epoch 9/30\n",
      "35/35 [==============================] - 2s 48ms/step - loss: 0.2618 - accuracy: 0.9018 - val_loss: 0.4368 - val_accuracy: 0.7751\n",
      "Epoch 10/30\n",
      "35/35 [==============================] - 2s 48ms/step - loss: 0.2422 - accuracy: 0.9087 - val_loss: 0.4359 - val_accuracy: 0.7796\n",
      "Epoch 11/30\n",
      "35/35 [==============================] - 2s 48ms/step - loss: 0.2261 - accuracy: 0.9180 - val_loss: 0.4392 - val_accuracy: 0.7743\n",
      "Epoch 12/30\n",
      "35/35 [==============================] - 2s 47ms/step - loss: 0.2057 - accuracy: 0.9277 - val_loss: 0.4425 - val_accuracy: 0.7758\n",
      "Epoch 13/30\n",
      "35/35 [==============================] - 2s 48ms/step - loss: 0.1869 - accuracy: 0.9369 - val_loss: 0.4518 - val_accuracy: 0.7781\n",
      "Epoch 14/30\n",
      "35/35 [==============================] - 2s 47ms/step - loss: 0.1742 - accuracy: 0.9447 - val_loss: 0.4590 - val_accuracy: 0.7758\n",
      "Epoch 15/30\n",
      "35/35 [==============================] - 2s 47ms/step - loss: 0.1615 - accuracy: 0.9520 - val_loss: 0.4709 - val_accuracy: 0.7736\n",
      "Epoch 16/30\n",
      "35/35 [==============================] - 2s 49ms/step - loss: 0.1455 - accuracy: 0.9576 - val_loss: 0.4831 - val_accuracy: 0.7698\n",
      "Epoch 17/30\n",
      "35/35 [==============================] - 2s 47ms/step - loss: 0.1347 - accuracy: 0.9602 - val_loss: 0.4970 - val_accuracy: 0.7728\n",
      "Epoch 18/30\n",
      "35/35 [==============================] - 2s 48ms/step - loss: 0.1228 - accuracy: 0.9677 - val_loss: 0.5107 - val_accuracy: 0.7675\n",
      "Epoch 19/30\n",
      "35/35 [==============================] - 2s 50ms/step - loss: 0.1126 - accuracy: 0.9735 - val_loss: 0.5344 - val_accuracy: 0.7698\n",
      "Epoch 20/30\n",
      "35/35 [==============================] - 2s 48ms/step - loss: 0.1047 - accuracy: 0.9742 - val_loss: 0.5471 - val_accuracy: 0.7638\n",
      "Epoch 21/30\n",
      "35/35 [==============================] - 2s 48ms/step - loss: 0.0941 - accuracy: 0.9784 - val_loss: 0.5608 - val_accuracy: 0.7615\n",
      "Epoch 22/30\n",
      "35/35 [==============================] - 2s 50ms/step - loss: 0.0886 - accuracy: 0.9796 - val_loss: 0.5831 - val_accuracy: 0.7630\n",
      "Epoch 23/30\n",
      "35/35 [==============================] - 2s 49ms/step - loss: 0.0815 - accuracy: 0.9822 - val_loss: 0.5955 - val_accuracy: 0.7600\n",
      "Epoch 24/30\n",
      "35/35 [==============================] - 2s 49ms/step - loss: 0.0740 - accuracy: 0.9855 - val_loss: 0.6119 - val_accuracy: 0.7570\n",
      "Epoch 25/30\n",
      "35/35 [==============================] - 2s 52ms/step - loss: 0.0680 - accuracy: 0.9866 - val_loss: 0.6286 - val_accuracy: 0.7547\n",
      "Epoch 26/30\n",
      "35/35 [==============================] - 2s 50ms/step - loss: 0.0651 - accuracy: 0.9876 - val_loss: 0.6478 - val_accuracy: 0.7540\n",
      "Epoch 27/30\n",
      "35/35 [==============================] - 2s 48ms/step - loss: 0.0568 - accuracy: 0.9903 - val_loss: 0.6549 - val_accuracy: 0.7517\n",
      "Epoch 28/30\n",
      "35/35 [==============================] - 2s 48ms/step - loss: 0.0536 - accuracy: 0.9907 - val_loss: 0.6709 - val_accuracy: 0.7509\n",
      "Epoch 29/30\n",
      "35/35 [==============================] - 2s 49ms/step - loss: 0.0506 - accuracy: 0.9920 - val_loss: 0.6864 - val_accuracy: 0.7502\n",
      "Epoch 30/30\n",
      "35/35 [==============================] - 2s 49ms/step - loss: 0.0492 - accuracy: 0.9921 - val_loss: 0.7045 - val_accuracy: 0.7532\n"
     ]
    }
   ],
   "source": [
    "#Train the model\n",
    "history = model.fit(x_train_pad,\n",
    "                    y_train,\n",
    "                    epochs=30,\n",
    "                    batch_size=512,\n",
    "                    validation_data=(x_dev_pad, y_dev),\n",
    "                    verbose=1)"
   ]
  },
  {
   "cell_type": "code",
   "execution_count": 16,
   "metadata": {},
   "outputs": [
    {
     "name": "stdout",
     "output_type": "stream",
     "text": [
      "194/194 [==============================] - 0s 1ms/step - loss: 0.9089 - accuracy: 0.7032\n",
      "[0.9089480638504028, 0.7031527757644653]\n"
     ]
    }
   ],
   "source": [
    "results = model.evaluate(x_test_pad, y_test)\n",
    "print(results)"
   ]
  },
  {
   "cell_type": "code",
   "execution_count": 17,
   "metadata": {},
   "outputs": [
    {
     "data": {
      "image/png": "[encoded data removed]",
      "text/plain": [
       "<Figure size 720x360 with 2 Axes>"
      ]
     },
     "metadata": {
      "needs_background": "light"
     },
     "output_type": "display_data"
    }
   ],
   "source": [
    "from plot_keras_history import plot_history\n",
    "import matplotlib.pyplot as plt\n",
    "\n",
    "plot_history(history.history, path=\"standard.png\")\n",
    "plt.show()"
   ]
  },
  {
   "cell_type": "markdown",
   "metadata": {
    "id": "7FBpTc_rXGvQ"
   },
   "source": [
    "The accuracy of the lab4 model2 in this task is around 78%. "
   ]
  },
  {
   "cell_type": "markdown",
   "metadata": {
    "id": "iafDTygK28fv"
   },
   "source": [
    "##  Model 1-2: CNN or LSTM without pre-trained word embeddings"
   ]
  },
  {
   "cell_type": "markdown",
   "metadata": {
    "id": "N2TnuiKb2-vE"
   },
   "source": [
    "Please try one more model (CNN or LSTM) without pre-trained word embeddings in here:"
   ]
  },
  {
   "cell_type": "code",
   "execution_count": 18,
   "metadata": {
    "id": "oXjbq6WcJosQ"
   },
   "outputs": [
    {
     "name": "stdout",
     "output_type": "stream",
     "text": [
      "Model: \"model_1\"\n",
      "_________________________________________________________________\n",
      "Layer (type)                 Output Shape              Param #   \n",
      "=================================================================\n",
      "input_2 (InputLayer)         [(None, 128)]             0         \n",
      "_________________________________________________________________\n",
      "embedding_1 (Embedding)      (None, 128, 100)          3257500   \n",
      "_________________________________________________________________\n",
      "conv1d (Conv1D)              (None, 124, 128)          64128     \n",
      "_________________________________________________________________\n",
      "global_average_pooling1d_1 ( (None, 128)               0         \n",
      "_________________________________________________________________\n",
      "dense_2 (Dense)              (None, 10)                1290      \n",
      "_________________________________________________________________\n",
      "dense_3 (Dense)              (None, 1)                 11        \n",
      "=================================================================\n",
      "Total params: 3,322,929\n",
      "Trainable params: 3,322,929\n",
      "Non-trainable params: 0\n",
      "_________________________________________________________________\n"
     ]
    }
   ],
   "source": [
    "# Try CNN or LSTM without pre-trained word embeddings in here:\n",
    "\n",
    "from keras.layers import Input, Embedding, Dense, LSTM\n",
    "from keras.layers import Input, Lambda, GlobalAveragePooling1D, Dense, Embedding, MaxPooling1D\n",
    "from keras.models import Model\n",
    "from keras.models import Sequential\n",
    "\n",
    "# your code goes here\n",
    "VOCAB_SIZE = 32575\n",
    "MAX_SEQUENCE_LENGTH = 128\n",
    "EMBED_SIZE = 100\n",
    "\n",
    "\n",
    "Input = Input((128,), dtype='int32')\n",
    "Embedding = Embedding(VOCAB_SIZE, EMBED_SIZE, input_length=MAX_SEQUENCE_LENGTH, mask_zero=True)(Input)\n",
    "conv1d = Conv1D(filters = 128,kernel_size= 5, activation='relu')(Embedding)\n",
    "global_max_pooling1d = GlobalAveragePooling1D()(conv1d)\n",
    "Hidden = Dense(10, activation='relu')(global_max_pooling1d)\n",
    "Output = Dense(1, activation='sigmoid')(Hidden)\n",
    "model1 = Model(inputs=[Input], outputs=[Output])\n",
    "model1.compile(loss='binary_crossentropy', optimizer='adam', metrics = ['accuracy'])\n",
    "\n",
    "model1.summary()\n"
   ]
  },
  {
   "cell_type": "code",
   "execution_count": 19,
   "metadata": {
    "scrolled": true
   },
   "outputs": [
    {
     "name": "stdout",
     "output_type": "stream",
     "text": [
      "Epoch 1/30\n",
      "35/35 [==============================] - 5s 141ms/step - loss: 0.6136 - accuracy: 0.7660 - val_loss: 0.5685 - val_accuracy: 0.7442\n",
      "Epoch 2/30\n",
      "35/35 [==============================] - 5s 135ms/step - loss: 0.4993 - accuracy: 0.7937 - val_loss: 0.5466 - val_accuracy: 0.7442\n",
      "Epoch 3/30\n",
      "35/35 [==============================] - 5s 135ms/step - loss: 0.4458 - accuracy: 0.7935 - val_loss: 0.4595 - val_accuracy: 0.7442\n",
      "Epoch 4/30\n",
      "35/35 [==============================] - 5s 132ms/step - loss: 0.3362 - accuracy: 0.7897 - val_loss: 0.4372 - val_accuracy: 0.7442\n",
      "Epoch 5/30\n",
      "35/35 [==============================] - 5s 132ms/step - loss: 0.2858 - accuracy: 0.8651 - val_loss: 0.4632 - val_accuracy: 0.7743\n",
      "Epoch 6/30\n",
      "35/35 [==============================] - 5s 132ms/step - loss: 0.2507 - accuracy: 0.9201 - val_loss: 0.4762 - val_accuracy: 0.7819\n",
      "Epoch 7/30\n",
      "35/35 [==============================] - 5s 135ms/step - loss: 0.2195 - accuracy: 0.9379 - val_loss: 0.4814 - val_accuracy: 0.7819\n",
      "Epoch 8/30\n",
      "35/35 [==============================] - 5s 133ms/step - loss: 0.2018 - accuracy: 0.9530 - val_loss: 0.5630 - val_accuracy: 0.7758\n",
      "Epoch 9/30\n",
      "35/35 [==============================] - 5s 134ms/step - loss: 0.1811 - accuracy: 0.9603 - val_loss: 0.5904 - val_accuracy: 0.7743\n",
      "Epoch 10/30\n",
      "35/35 [==============================] - 5s 135ms/step - loss: 0.1711 - accuracy: 0.9659 - val_loss: 0.6497 - val_accuracy: 0.7781\n",
      "Epoch 11/30\n",
      "35/35 [==============================] - 5s 132ms/step - loss: 0.1642 - accuracy: 0.9714 - val_loss: 0.6509 - val_accuracy: 0.7675\n",
      "Epoch 12/30\n",
      "35/35 [==============================] - 5s 134ms/step - loss: 0.1515 - accuracy: 0.9748 - val_loss: 0.7497 - val_accuracy: 0.7683\n",
      "Epoch 13/30\n",
      "35/35 [==============================] - 5s 133ms/step - loss: 0.1466 - accuracy: 0.9776 - val_loss: 0.9487 - val_accuracy: 0.7721\n",
      "Epoch 14/30\n",
      "35/35 [==============================] - 5s 136ms/step - loss: 0.1418 - accuracy: 0.9759 - val_loss: 0.9475 - val_accuracy: 0.7743\n",
      "Epoch 15/30\n",
      "35/35 [==============================] - 5s 140ms/step - loss: 0.1288 - accuracy: 0.9831 - val_loss: 0.7809 - val_accuracy: 0.7668\n",
      "Epoch 16/30\n",
      "35/35 [==============================] - 5s 139ms/step - loss: 0.1272 - accuracy: 0.9842 - val_loss: 0.8910 - val_accuracy: 0.7736\n",
      "Epoch 17/30\n",
      "35/35 [==============================] - 5s 135ms/step - loss: 0.1219 - accuracy: 0.9847 - val_loss: 0.9811 - val_accuracy: 0.7743\n",
      "Epoch 18/30\n",
      "35/35 [==============================] - 5s 132ms/step - loss: 0.1191 - accuracy: 0.9851 - val_loss: 0.9405 - val_accuracy: 0.7751\n",
      "Epoch 19/30\n",
      "35/35 [==============================] - 5s 131ms/step - loss: 0.1158 - accuracy: 0.9872 - val_loss: 1.0457 - val_accuracy: 0.7728\n",
      "Epoch 20/30\n",
      "35/35 [==============================] - 5s 133ms/step - loss: 0.1140 - accuracy: 0.9866 - val_loss: 1.0630 - val_accuracy: 0.7721\n",
      "Epoch 21/30\n",
      "35/35 [==============================] - 5s 131ms/step - loss: 0.1098 - accuracy: 0.9872 - val_loss: 1.0491 - val_accuracy: 0.7751\n",
      "Epoch 22/30\n",
      "35/35 [==============================] - 5s 131ms/step - loss: 0.1059 - accuracy: 0.9890 - val_loss: 1.0862 - val_accuracy: 0.7691\n",
      "Epoch 23/30\n",
      "35/35 [==============================] - 5s 131ms/step - loss: 0.1037 - accuracy: 0.9867 - val_loss: 1.1506 - val_accuracy: 0.7743\n",
      "Epoch 24/30\n",
      "35/35 [==============================] - 5s 133ms/step - loss: 0.1031 - accuracy: 0.9889 - val_loss: 1.1952 - val_accuracy: 0.7706\n",
      "Epoch 25/30\n",
      "35/35 [==============================] - 5s 131ms/step - loss: 0.1011 - accuracy: 0.9883 - val_loss: 1.2044 - val_accuracy: 0.7706\n",
      "Epoch 26/30\n",
      "35/35 [==============================] - 5s 131ms/step - loss: 0.0972 - accuracy: 0.9891 - val_loss: 1.2471 - val_accuracy: 0.7691\n",
      "Epoch 27/30\n",
      "35/35 [==============================] - 5s 133ms/step - loss: 0.0971 - accuracy: 0.9882 - val_loss: 1.2805 - val_accuracy: 0.7653\n",
      "Epoch 28/30\n",
      "35/35 [==============================] - 5s 130ms/step - loss: 0.0922 - accuracy: 0.9887 - val_loss: 1.2069 - val_accuracy: 0.7698\n",
      "Epoch 29/30\n",
      "35/35 [==============================] - 5s 131ms/step - loss: 0.0906 - accuracy: 0.9881 - val_loss: 1.2607 - val_accuracy: 0.7691\n",
      "Epoch 30/30\n",
      "35/35 [==============================] - 5s 131ms/step - loss: 0.0921 - accuracy: 0.9882 - val_loss: 1.2766 - val_accuracy: 0.7691\n"
     ]
    }
   ],
   "source": [
    "history = model1.fit(x_train_pad,\n",
    "                    y_train,\n",
    "                    epochs=30,\n",
    "                    batch_size=512,\n",
    "                    validation_data=(x_dev_pad, y_dev),\n",
    "                    verbose=1)"
   ]
  },
  {
   "cell_type": "code",
   "execution_count": 61,
   "metadata": {},
   "outputs": [
    {
     "name": "stdout",
     "output_type": "stream",
     "text": [
      "194/194 [==============================] - 1s 3ms/step - loss: 2.1384 - accuracy: 0.6438\n",
      "[2.1384477615356445, 0.6438156962394714]\n"
     ]
    }
   ],
   "source": [
    "results = model1.evaluate(x_test_pad, y_test)\n",
    "print(results)"
   ]
  },
  {
   "cell_type": "code",
   "execution_count": 62,
   "metadata": {},
   "outputs": [
    {
     "data": {
      "image/png": "[encoded data removed]",
      "text/plain": [
       "<Figure size 720x360 with 2 Axes>"
      ]
     },
     "metadata": {
      "needs_background": "light"
     },
     "output_type": "display_data"
    }
   ],
   "source": [
    "from plot_keras_history import plot_history\n",
    "import matplotlib.pyplot as plt\n",
    "\n",
    "plot_history(history.history, path=\"standard.png\")\n",
    "plt.show()"
   ]
  },
  {
   "cell_type": "markdown",
   "metadata": {
    "id": "--020hfG6rN2"
   },
   "source": [
    "# Model 2: Using pre-trained word embeddings"
   ]
  },
  {
   "cell_type": "markdown",
   "metadata": {
    "id": "7GdY2-64YG1B"
   },
   "source": [
    "### Preparing pre-trained word embeddings (GLOVE)"
   ]
  },
  {
   "cell_type": "markdown",
   "metadata": {
    "id": "J4gBeOyi4gkM"
   },
   "source": [
    "The Embedding layer can be used to load a pre-trained word embedding model. We are going to use GloVe embeddings, which you can read about it here (https://nlp.stanford.edu/projects/glove/). GloVe stands for \"Global Vectors for Word Representation\". It's a somewhat popular embedding technique based on factorizing a matrix of word co-occurence statistics. You can download GloVe and we can seed the Keras Embedding layer with weights from the pre-trained embedding for the words in your dataset.\n",
    "First, we need to read GloVe and map words to GloVe:\n"
   ]
  },
  {
   "cell_type": "code",
   "execution_count": 82,
   "metadata": {
    "id": "f_PypdqG9Iis"
   },
   "outputs": [],
   "source": [
    "def readGloveFile(gloveFile):\n",
    "    with open(gloveFile, 'r', encoding=\"utf8\") as f:\n",
    "        wordToGlove = {}  \n",
    "        wordToIndex = {}  \n",
    "        indexToWord = {}  \n",
    "\n",
    "        for line in f:\n",
    "            record = line.strip().split()\n",
    "            token = record[0] \n",
    "            wordToGlove[token] = np.array(record[1:], dtype=np.float64) \n",
    "            \n",
    "        tokens = sorted(wordToGlove.keys())\n",
    "        for idx, tok in enumerate(tokens):\n",
    "            kerasIdx = idx + 1  \n",
    "            wordToIndex[tok] = kerasIdx \n",
    "            indexToWord[kerasIdx] = tok \n",
    "\n",
    "    return wordToIndex, indexToWord, wordToGlove"
   ]
  },
  {
   "cell_type": "markdown",
   "metadata": {
    "id": "ZcIZ3dq59bCh"
   },
   "source": [
    "Now, we create our pre-trained Embedding layer:"
   ]
  },
  {
   "cell_type": "code",
   "execution_count": 83,
   "metadata": {
    "id": "gembn7VM3ex8"
   },
   "outputs": [],
   "source": [
    "from keras.initializers import Constant\n",
    "\n",
    "def createPretrainedEmbeddingLayer(wordToGlove, wordToIndex, isTrainable):\n",
    "    vocabLen = len(wordToIndex) + 1  \n",
    "    embDim = next(iter(wordToGlove.values())).shape[0]  \n",
    "   \n",
    "    embeddingMatrix = np.zeros((vocabLen, embDim))  \n",
    "    for word, index in wordToIndex.items():\n",
    "        embeddingMatrix[index, :] = wordToGlove[word] \n",
    "\n",
    "    embeddingLayer = Embedding(vocabLen, embDim, embeddings_initializer=Constant(embeddingMatrix), trainable=isTrainable, name='GloVe_Embeddings')\n",
    "    return embeddingLayer"
   ]
  },
  {
   "cell_type": "code",
   "execution_count": 84,
   "metadata": {
    "colab": {
     "base_uri": "https://localhost:8080/"
    },
    "id": "8OC1wuctdFvA",
    "outputId": "cfb9115d-ac46-497b-de27-e7832cdfb0f1"
   },
   "outputs": [
    {
     "name": "stderr",
     "output_type": "stream",
     "text": [
      "'wget' is not recognized as an internal or external command,\n",
      "operable program or batch file.\n",
      "'unzip' is not recognized as an internal or external command,\n",
      "operable program or batch file.\n"
     ]
    }
   ],
   "source": [
    "!wget http://nlp.stanford.edu/data/glove.6B.zip\n",
    "!unzip '/content/glove.6B.zip'"
   ]
  },
  {
   "cell_type": "markdown",
   "metadata": {
    "id": "HGxciLK4-xOr"
   },
   "source": [
    "We freeze the weights. To create the model: "
   ]
  },
  {
   "cell_type": "code",
   "execution_count": 85,
   "metadata": {
    "colab": {
     "base_uri": "https://localhost:8080/"
    },
    "id": "PZCPUM0W_Drc",
    "outputId": "36827d1b-2a70-42f7-afc7-aef579e4d8bc"
   },
   "outputs": [
    {
     "name": "stdout",
     "output_type": "stream",
     "text": [
      "Size of Embedding:  300\n"
     ]
    }
   ],
   "source": [
    "# wordToIndex,indexToWord,wordToGlove=readGloveFile('/content/glove.6B.50d.txt')\n",
    "# wordToIndex,indexToWord,wordToGlove=readGloveFile('/content/glove.6B.100d.txt')\n",
    "wordToIndex,indexToWord,wordToGlove=readGloveFile('glove.6B.300d.txt')\n",
    "\n",
    "# vocabLen = len(wordToIndex) + 1 \n",
    "\n",
    "EMBED_SIZE = next(iter(wordToGlove.values())).shape[0]\n",
    "print('Size of Embedding: ',EMBED_SIZE)\n",
    "\n"
   ]
  },
  {
   "cell_type": "code",
   "execution_count": 33,
   "metadata": {},
   "outputs": [],
   "source": [
    "from keras.layers import Embedding\n",
    "embeddingLayer=createPretrainedEmbeddingLayer(wordToGlove,wordToIndex,isTrainable=False)"
   ]
  },
  {
   "cell_type": "markdown",
   "metadata": {
    "id": "4RyeDPimMW7c"
   },
   "source": [
    "### Convert the data to GLOVE word index"
   ]
  },
  {
   "cell_type": "markdown",
   "metadata": {
    "id": "O_X6nC57NGXv"
   },
   "source": [
    "The index in our vocabulary is different from that in GLOVE. For example, the word \"you\" corresponds to 394475 in GLOVE, while it corresponds to another index in our vocabulary. Thus we can not directly use the index data in the last section. We convert them from text tokens to GLOVE word index."
   ]
  },
  {
   "cell_type": "code",
   "execution_count": 48,
   "metadata": {
    "colab": {
     "base_uri": "https://localhost:8080/"
    },
    "id": "ODUoIts1NM6b",
    "outputId": "45b3dec9-1095-4563-e6d7-53239f31c358"
   },
   "outputs": [
    {
     "name": "stdout",
     "output_type": "stream",
     "text": [
      "394475\n",
      "you\n",
      "11963\n"
     ]
    }
   ],
   "source": [
    "print(wordToIndex[\"you\"])\n",
    "print(indexToWord[394475])\n",
    "print(word_index[\"you\"])\n",
    "\n",
    "wordToIndex[\"<PAD>\"] = 0\n",
    "wordToIndex[\"<START>\"] = 1\n",
    "wordToIndex[\"<UNK>\"] = 2  \n",
    "wordToIndex[\"<EOS>\"] = 3"
   ]
  },
  {
   "cell_type": "code",
   "execution_count": 49,
   "metadata": {},
   "outputs": [],
   "source": [
    "def wordindexGlove(corpus):  # Function to convert words to its index representation based of GLOVE\n",
    "    index = []\n",
    "    for word in corpus:\n",
    "        inner = []\n",
    "        for w in word:\n",
    "            try:\n",
    "                inner.append(wordToIndex[w])  # Finds the index to the word and appends it to inner list\n",
    "            except KeyError:\n",
    "                inner.append(wordToIndex[\"<UNK>\"])            \n",
    "        index.append(inner)     # Once every token in the list is transformed, its appended to sents_as_ids list\n",
    "    return index"
   ]
  },
  {
   "cell_type": "code",
   "execution_count": 50,
   "metadata": {
    "colab": {
     "base_uri": "https://localhost:8080/"
    },
    "id": "p037PLDyNXhV",
    "outputId": "040b2ca3-67ce-42cc-a625-536178d2ee82"
   },
   "outputs": [
    {
     "name": "stdout",
     "output_type": "stream",
     "text": [
      "x_dev_tweet_glove[0]:\n",
      "[196237, 395262, 198486, 190716, 388711, 264529, 365027, 360915, 242891, 194733, 196237, 395262, 57698, 198478, 190716, 269798, 319134, 54718, 182915, 350784, 103530, 2]\n",
      "x_dev_topic_glove[0]:\n",
      "[242891, 194733]\n"
     ]
    }
   ],
   "source": [
    "# Please write your code to generate the following data\n",
    "\n",
    "\n",
    "##### your code goes here:\n",
    "\n",
    "#dev\n",
    "x_dev_tweet = preprocess_text(x_dev_tweetb4tokenize)        # preprocess the list and tokenize\n",
    "x_dev_topic = preprocess_text(x_dev_topicb4tokenize)        # preprocess the list and tokenize\n",
    "x_dev_tweet_glove = wordindexGlove(x_dev_tweet)             # convert the tweets into its index representation\n",
    "x_dev_topic_glove = wordindexGlove(x_dev_topic)             # convert the topics into its index representation\n",
    "\n",
    "#test\n",
    "x_test_tweet = preprocess_text(x_test_tweetb4tokenize)      # preprocess the list and tokenize\n",
    "x_test_topic = preprocess_text(x_test_topicb4tokenize)      # preprocess the list and tokenize\n",
    "x_test_tweet_glove = wordindexGlove(x_test_tweet)           # convert the tweets into its index representation\n",
    "x_test_topic_glove = wordindexGlove(x_test_topic)           # convert the topics into its index representation\n",
    "\n",
    "#train\n",
    "x_train_tweet = preprocess_text(x_train_tweetb4tokenize)    # preprocess the list and tokenize\n",
    "x_train_topic = preprocess_text(x_train_topicb4tokenize)    # preprocess the list and tokenize\n",
    "x_train_tweet_glove = wordindexGlove(x_train_tweet)         # convert the tweets into its index representation\n",
    "x_train_topic_glove = wordindexGlove(x_train_topic)         # convert the topics into its index representation\n",
    "\n",
    "\n",
    "\n",
    "# You should get a print result like:\n",
    "assert len(x_train_tweet_glove) == len(train_original)\n",
    "assert len(x_train_topic_glove) == len(x_train_topic_int)\n",
    "assert len(x_test_tweet_glove) == len(test_original)\n",
    "assert len(x_test_topic_glove) == len(x_test_topic_int)\n",
    "print(\"x_dev_tweet_glove[0]:\")\n",
    "print(x_dev_tweet_glove[0])\n",
    "print(\"x_dev_topic_glove[0]:\")\n",
    "print(x_dev_topic_glove[0])"
   ]
  },
  {
   "cell_type": "markdown",
   "metadata": {
    "id": "Z--QOlb1vXtN"
   },
   "source": [
    "As before, we concatenate the tweets and topics for fitting in the previous model. Let us do it again for GLOVE version variables."
   ]
  },
  {
   "cell_type": "code",
   "execution_count": 60,
   "metadata": {
    "colab": {
     "base_uri": "https://localhost:8080/"
    },
    "id": "1-D_szbDQ5X5",
    "outputId": "7a9b0c47-703f-4af3-d0f7-5a6bf20b700e"
   },
   "outputs": [
    {
     "name": "stdout",
     "output_type": "stream",
     "text": [
      "Before paded:\n",
      "[243317, 1, 118309, 243317, 357266, 2, 151349, 229153, 192973, 166369, 54718, 51582, 87775, 262350, 228306, 373375, 88542, 248286]\n",
      "After paded:\n",
      "[243317      1 118309 243317 357266      2 151349 229153 192973 166369\n",
      "  54718  51582  87775 262350 228306 373375  88542 248286      0      0\n",
      "      0      0      0      0      0      0      0      0      0      0\n",
      "      0      0      0      0      0      0      0      0      0      0\n",
      "      0      0      0      0      0      0      0      0      0      0\n",
      "      0      0      0      0      0      0      0      0      0      0\n",
      "      0      0      0      0      0      0      0      0      0      0\n",
      "      0      0      0      0      0      0      0      0      0      0\n",
      "      0      0      0      0      0      0      0      0      0      0\n",
      "      0      0      0      0      0      0      0      0      0      0\n",
      "      0      0      0      0      0      0      0      0      0      0\n",
      "      0      0      0      0      0      0      0      0      0      0\n",
      "      0      0      0      0      0      0      0      0]\n"
     ]
    }
   ],
   "source": [
    "# Please write your code to combine the x_*_tweet_glove and x_*_topic_glove into the following varibles\n",
    "start = [\"<START>\"]\n",
    "\n",
    "# Tips: \n",
    "# 1) There is no <START> token in GLOVE. Here we can use integer 1 to concatenate.\n",
    "# 2) After combine them, do not foget to pad the sequences.\n",
    "\n",
    "\n",
    "##### your code goes here:\n",
    "x_train_glove_combined = []\n",
    "x_dev_glove_combined = []\n",
    "x_test_glove_combined = []\n",
    "\n",
    "for w in range (len(x_dev_tweet_glove)):                      # Combining the tweets and the topics in the dev set\n",
    "    combined = x_dev_topic[w] + start + x_dev_tweet[w]        # Adds <START> in between\n",
    "    x_dev_glove_combined.append(combined)\n",
    "\n",
    "for w in range (len(x_train_tweet_glove)):                    # Combining the tweets and the topics in the train set\n",
    "    combined = x_train_topic[w] + start + x_train_tweet[w]    # Adds <START> in between\n",
    "    x_train_glove_combined.append(combined)\n",
    "    \n",
    "for w in range (len(x_test_tweet_glove)):                     # Combining the tweets and the topics in the test set\n",
    "    combined = x_test_topic[w] + start + x_test_tweet[w]      # Adds <START> in between\n",
    "    x_test_glove_combined.append(combined)\n",
    "    \n",
    "x_train_glove = wordindexGlove(x_train_glove)                 # convert the combined train lists into its index representation\n",
    "x_dev_glove = wordindexGlove(x_dev_glove)                     # convert the combined dev lists into its index representation\n",
    "x_test_glove = wordindexGlove(x_test_glove)                   # convert the combined test lists into its index representation\n",
    "\n",
    "\n",
    "x_train_pad_glove = np.array(keras.preprocessing.sequence.pad_sequences(x_train_glove,       # pads the data, length = 128\n",
    "                                                        value=wordToIndex[\"<PAD>\"],\n",
    "                                                        padding='post',\n",
    "                                                        maxlen=128))\n",
    "x_dev_pad_glove = np.array(keras.preprocessing.sequence.pad_sequences(x_dev_glove,           # pads the data, length = 128\n",
    "                                                        value=wordToIndex[\"<PAD>\"],\n",
    "                                                        padding='post',\n",
    "                                                        maxlen=128))\n",
    "\n",
    "x_test_pad_glove = np.array(keras.preprocessing.sequence.pad_sequences(x_test_glove,         # pads the data, length = 128\n",
    "                                                        value=wordToIndex[\"<PAD>\"],\n",
    "                                                        padding='post',\n",
    "                                                        maxlen=128))\n",
    "\n",
    "# Don't forget the to use np.array function to wrap the ouput of pad_sequences function, such as: x_train_pad = np.array(x_train_pad)\n",
    "# Only pad the *_int varibles\n",
    "print(\"Before paded:\")\n",
    "print(x_train_glove[0])\n",
    "print(\"After paded:\")\n",
    "print(x_train_pad_glove[0])"
   ]
  },
  {
   "cell_type": "markdown",
   "metadata": {
    "id": "vdZ4nl08vp9A"
   },
   "source": [
    "## Model 2-1: Neural bag of words using pre-trained word embeddings"
   ]
  },
  {
   "cell_type": "markdown",
   "metadata": {
    "id": "2gyCwXFj_R5w"
   },
   "source": [
    "We use model3-1 in lab4 to deal with this task."
   ]
  },
  {
   "cell_type": "code",
   "execution_count": 63,
   "metadata": {
    "colab": {
     "base_uri": "https://localhost:8080/"
    },
    "id": "VICS9rY8C7KH",
    "outputId": "5df110b9-bab0-4ccd-fd91-064522f8af17"
   },
   "outputs": [
    {
     "name": "stdout",
     "output_type": "stream",
     "text": [
      "Model: \"model_2\"\n",
      "_________________________________________________________________\n",
      "Layer (type)                 Output Shape              Param #   \n",
      "=================================================================\n",
      "input_3 (InputLayer)         [(None, 128)]             0         \n",
      "_________________________________________________________________\n",
      "GloVe_Embeddings (Embedding) (None, 128, 300)          120000300 \n",
      "_________________________________________________________________\n",
      "global_average_pooling1d_2 ( (None, 300)               0         \n",
      "_________________________________________________________________\n",
      "dense_4 (Dense)              (None, 16)                4816      \n",
      "_________________________________________________________________\n",
      "dense_5 (Dense)              (None, 1)                 17        \n",
      "=================================================================\n",
      "Total params: 120,005,133\n",
      "Trainable params: 4,833\n",
      "Non-trainable params: 120,000,300\n",
      "_________________________________________________________________\n"
     ]
    }
   ],
   "source": [
    "# your code goes here\n",
    "# Tips: Do not misuse the training data\n",
    "\n",
    "from keras.layers import Input, Embedding, Dense, LSTM\n",
    "from keras.layers import Input, Lambda, GlobalAveragePooling1D, Dense, Embedding\n",
    "from keras.models import Model\n",
    "from keras.models import Sequential\n",
    "\n",
    "Input = Input((128,), dtype='int32')\n",
    "Embedding = embeddingLayer(Input)\n",
    "global_average_pooling1d = GlobalAveragePooling1D()(Embedding)\n",
    "Hidden_1 = Dense(16,activation='sigmoid')(global_average_pooling1d)\n",
    "Output = Dense(1, activation='sigmoid')(Hidden_1)\n",
    "model3 = Model(inputs=[Input], outputs=[Output])  \n",
    "\n",
    "model3.compile(loss='binary_crossentropy', optimizer='adam', metrics = ['accuracy'])\n",
    "model3.summary()\n"
   ]
  },
  {
   "cell_type": "code",
   "execution_count": 64,
   "metadata": {},
   "outputs": [
    {
     "name": "stdout",
     "output_type": "stream",
     "text": [
      "Epoch 1/30\n",
      "35/35 [==============================] - 1s 27ms/step - loss: 0.6180 - accuracy: 0.7877 - val_loss: 0.5842 - val_accuracy: 0.7442\n",
      "Epoch 2/30\n",
      "35/35 [==============================] - 1s 22ms/step - loss: 0.5401 - accuracy: 0.7887 - val_loss: 0.5691 - val_accuracy: 0.7442\n",
      "Epoch 3/30\n",
      "35/35 [==============================] - 1s 22ms/step - loss: 0.5164 - accuracy: 0.7888 - val_loss: 0.5693 - val_accuracy: 0.7442\n",
      "Epoch 4/30\n",
      "35/35 [==============================] - 1s 22ms/step - loss: 0.5034 - accuracy: 0.7945 - val_loss: 0.5690 - val_accuracy: 0.7442\n",
      "Epoch 5/30\n",
      "35/35 [==============================] - 1s 23ms/step - loss: 0.5059 - accuracy: 0.7897 - val_loss: 0.5666 - val_accuracy: 0.7442\n",
      "Epoch 6/30\n",
      "35/35 [==============================] - 1s 23ms/step - loss: 0.5003 - accuracy: 0.7914 - val_loss: 0.5635 - val_accuracy: 0.7442\n",
      "Epoch 7/30\n",
      "35/35 [==============================] - 1s 22ms/step - loss: 0.4964 - accuracy: 0.7922 - val_loss: 0.5599 - val_accuracy: 0.7442\n",
      "Epoch 8/30\n",
      "35/35 [==============================] - 1s 23ms/step - loss: 0.4931 - accuracy: 0.7922 - val_loss: 0.5566 - val_accuracy: 0.7442\n",
      "Epoch 9/30\n",
      "35/35 [==============================] - 1s 23ms/step - loss: 0.4937 - accuracy: 0.7889 - val_loss: 0.5524 - val_accuracy: 0.7442\n",
      "Epoch 10/30\n",
      "35/35 [==============================] - 1s 23ms/step - loss: 0.4885 - accuracy: 0.7896 - val_loss: 0.5492 - val_accuracy: 0.7442\n",
      "Epoch 11/30\n",
      "35/35 [==============================] - 1s 23ms/step - loss: 0.4784 - accuracy: 0.7956 - val_loss: 0.5449 - val_accuracy: 0.7442\n",
      "Epoch 12/30\n",
      "35/35 [==============================] - 1s 23ms/step - loss: 0.4779 - accuracy: 0.7929 - val_loss: 0.5403 - val_accuracy: 0.7442\n",
      "Epoch 13/30\n",
      "35/35 [==============================] - 1s 23ms/step - loss: 0.4783 - accuracy: 0.7891 - val_loss: 0.5353 - val_accuracy: 0.7442\n",
      "Epoch 14/30\n",
      "35/35 [==============================] - 1s 23ms/step - loss: 0.4694 - accuracy: 0.7926 - val_loss: 0.5312 - val_accuracy: 0.7442\n",
      "Epoch 15/30\n",
      "35/35 [==============================] - 1s 23ms/step - loss: 0.4629 - accuracy: 0.7949 - val_loss: 0.5261 - val_accuracy: 0.7442\n",
      "Epoch 16/30\n",
      "35/35 [==============================] - 1s 23ms/step - loss: 0.4558 - accuracy: 0.7973 - val_loss: 0.5209 - val_accuracy: 0.7442\n",
      "Epoch 17/30\n",
      "35/35 [==============================] - 1s 23ms/step - loss: 0.4512 - accuracy: 0.7967 - val_loss: 0.5152 - val_accuracy: 0.7442\n",
      "Epoch 18/30\n",
      "35/35 [==============================] - 1s 24ms/step - loss: 0.4501 - accuracy: 0.7931 - val_loss: 0.5105 - val_accuracy: 0.7442\n",
      "Epoch 19/30\n",
      "35/35 [==============================] - 1s 23ms/step - loss: 0.4463 - accuracy: 0.7934 - val_loss: 0.5050 - val_accuracy: 0.7442\n",
      "Epoch 20/30\n",
      "35/35 [==============================] - 1s 22ms/step - loss: 0.4419 - accuracy: 0.7954 - val_loss: 0.4992 - val_accuracy: 0.7442\n",
      "Epoch 21/30\n",
      "35/35 [==============================] - 1s 23ms/step - loss: 0.4355 - accuracy: 0.7984 - val_loss: 0.4940 - val_accuracy: 0.7442\n",
      "Epoch 22/30\n",
      "35/35 [==============================] - 1s 24ms/step - loss: 0.4311 - accuracy: 0.8017 - val_loss: 0.4878 - val_accuracy: 0.7419\n",
      "Epoch 23/30\n",
      "35/35 [==============================] - 1s 23ms/step - loss: 0.4303 - accuracy: 0.8001 - val_loss: 0.4826 - val_accuracy: 0.7411\n",
      "Epoch 24/30\n",
      "35/35 [==============================] - 1s 23ms/step - loss: 0.4217 - accuracy: 0.8057 - val_loss: 0.4769 - val_accuracy: 0.7434\n",
      "Epoch 25/30\n",
      "35/35 [==============================] - 1s 23ms/step - loss: 0.4206 - accuracy: 0.8077 - val_loss: 0.4718 - val_accuracy: 0.7479\n",
      "Epoch 26/30\n",
      "35/35 [==============================] - 1s 23ms/step - loss: 0.4095 - accuracy: 0.8146 - val_loss: 0.4664 - val_accuracy: 0.7525: 0.4093 - accuracy: 0.\n",
      "Epoch 27/30\n",
      "35/35 [==============================] - 1s 23ms/step - loss: 0.4084 - accuracy: 0.8141 - val_loss: 0.4615 - val_accuracy: 0.7540\n",
      "Epoch 28/30\n",
      "35/35 [==============================] - 1s 23ms/step - loss: 0.4056 - accuracy: 0.8169 - val_loss: 0.4567 - val_accuracy: 0.7577\n",
      "Epoch 29/30\n",
      "35/35 [==============================] - 1s 23ms/step - loss: 0.3953 - accuracy: 0.8243 - val_loss: 0.4517 - val_accuracy: 0.7645\n",
      "Epoch 30/30\n",
      "35/35 [==============================] - 1s 23ms/step - loss: 0.3967 - accuracy: 0.8239 - val_loss: 0.4480 - val_accuracy: 0.7668\n"
     ]
    }
   ],
   "source": [
    "history = model3.fit(x_train_pad_glove,\n",
    "                    y_train,\n",
    "                    epochs=30,\n",
    "                    batch_size=512,\n",
    "                    validation_data=(x_dev_pad_glove, y_dev),\n",
    "                    verbose=1)"
   ]
  },
  {
   "cell_type": "code",
   "execution_count": 105,
   "metadata": {},
   "outputs": [
    {
     "name": "stdout",
     "output_type": "stream",
     "text": [
      "194/194 [==============================] - 0s 2ms/step - loss: 0.7000 - accuracy: 0.5357\n",
      "[0.7000491619110107, 0.5356507897377014]\n"
     ]
    }
   ],
   "source": [
    "results = model3.evaluate(x_test_pad_glove, y_test)\n",
    "print(results)"
   ]
  },
  {
   "cell_type": "code",
   "execution_count": 67,
   "metadata": {},
   "outputs": [
    {
     "data": {
      "image/png": "[encoded data removed]",
      "text/plain": [
       "<Figure size 720x360 with 2 Axes>"
      ]
     },
     "metadata": {
      "needs_background": "light"
     },
     "output_type": "display_data"
    }
   ],
   "source": [
    "from plot_keras_history import plot_history\n",
    "import matplotlib.pyplot as plt\n",
    "\n",
    "plot_history(history.history, path=\"standard.png\")\n",
    "plt.show()"
   ]
  },
  {
   "cell_type": "markdown",
   "metadata": {
    "id": "xZ1KWFKvcagS"
   },
   "source": [
    "##  Model 2-2: CNN or LSTM with pre-trained word embeddings"
   ]
  },
  {
   "cell_type": "markdown",
   "metadata": {
    "id": "kYubGfP-2VEL"
   },
   "source": [
    "Please try one more model (CNN or LSTM) with pre-trained word embeddings in here:"
   ]
  },
  {
   "cell_type": "code",
   "execution_count": 70,
   "metadata": {
    "id": "KeLTrJ-3zKBj"
   },
   "outputs": [
    {
     "name": "stdout",
     "output_type": "stream",
     "text": [
      "Model: \"model_3\"\n",
      "_________________________________________________________________\n",
      "Layer (type)                 Output Shape              Param #   \n",
      "=================================================================\n",
      "input_4 (InputLayer)         [(None, 128)]             0         \n",
      "_________________________________________________________________\n",
      "GloVe_Embeddings (Embedding) (None, 128, 300)          120000300 \n",
      "_________________________________________________________________\n",
      "conv1d_1 (Conv1D)            (None, 124, 128)          192128    \n",
      "_________________________________________________________________\n",
      "global_average_pooling1d_3 ( (None, 128)               0         \n",
      "_________________________________________________________________\n",
      "dense_6 (Dense)              (None, 10)                1290      \n",
      "_________________________________________________________________\n",
      "dense_7 (Dense)              (None, 1)                 11        \n",
      "=================================================================\n",
      "Total params: 120,193,729\n",
      "Trainable params: 193,429\n",
      "Non-trainable params: 120,000,300\n",
      "_________________________________________________________________\n"
     ]
    }
   ],
   "source": [
    "# your code goes here\n",
    "\n",
    "from keras.layers import Input, Embedding, Dense, LSTM\n",
    "from keras.layers import Input, Lambda, GlobalAveragePooling1D, Dense, Embedding, MaxPooling1D\n",
    "from keras.models import Model\n",
    "from keras.models import Sequential\n",
    "\n",
    "# your code goes here\n",
    "VOCAB_SIZE = 32575\n",
    "MAX_SEQUENCE_LENGTH = 128\n",
    "EMBED_SIZE = 100\n",
    "\n",
    "#model = Sequential()\n",
    "Input = Input((128,), dtype='int32')\n",
    "Embedding = embeddingLayer(Input)\n",
    "conv1d = Conv1D(filters = 128,kernel_size= 5, activation='relu')(Embedding)\n",
    "global_max_pooling1d = GlobalAveragePooling1D()(conv1d)\n",
    "Hidden = Dense(10, activation='relu')(global_max_pooling1d)\n",
    "Output = Dense(1, activation='sigmoid')(Hidden)\n",
    "model4 = Model(inputs=[Input], outputs=[Output])\n",
    "model4.compile(loss='binary_crossentropy', optimizer='adam', metrics = ['accuracy'])\n",
    "\n",
    "model4.summary()\n",
    "\n"
   ]
  },
  {
   "cell_type": "code",
   "execution_count": 71,
   "metadata": {},
   "outputs": [
    {
     "name": "stdout",
     "output_type": "stream",
     "text": [
      "Epoch 1/30\n",
      "35/35 [==============================] - 8s 216ms/step - loss: 0.5565 - accuracy: 0.7911 - val_loss: 0.5186 - val_accuracy: 0.7442\n",
      "Epoch 2/30\n",
      "35/35 [==============================] - 8s 216ms/step - loss: 0.4296 - accuracy: 0.8020 - val_loss: 0.4194 - val_accuracy: 0.8030\n",
      "Epoch 3/30\n",
      "35/35 [==============================] - 7s 214ms/step - loss: 0.3555 - accuracy: 0.8504 - val_loss: 0.4022 - val_accuracy: 0.8158\n",
      "Epoch 4/30\n",
      "35/35 [==============================] - 8s 225ms/step - loss: 0.3355 - accuracy: 0.8596 - val_loss: 0.3998 - val_accuracy: 0.8158\n",
      "Epoch 5/30\n",
      "35/35 [==============================] - 7s 212ms/step - loss: 0.3243 - accuracy: 0.8647 - val_loss: 0.3922 - val_accuracy: 0.8234\n",
      "Epoch 6/30\n",
      "35/35 [==============================] - 7s 204ms/step - loss: 0.3127 - accuracy: 0.8688 - val_loss: 0.3930 - val_accuracy: 0.8242\n",
      "Epoch 7/30\n",
      "35/35 [==============================] - 7s 203ms/step - loss: 0.3030 - accuracy: 0.8698 - val_loss: 0.3916 - val_accuracy: 0.8257\n",
      "Epoch 8/30\n",
      "35/35 [==============================] - 7s 204ms/step - loss: 0.3069 - accuracy: 0.8722 - val_loss: 0.3888 - val_accuracy: 0.8279\n",
      "Epoch 9/30\n",
      "35/35 [==============================] - 7s 202ms/step - loss: 0.2956 - accuracy: 0.8762 - val_loss: 0.3934 - val_accuracy: 0.8249\n",
      "Epoch 10/30\n",
      "35/35 [==============================] - 7s 202ms/step - loss: 0.2941 - accuracy: 0.8752 - val_loss: 0.3978 - val_accuracy: 0.8219\n",
      "Epoch 11/30\n",
      "35/35 [==============================] - 7s 200ms/step - loss: 0.2834 - accuracy: 0.8836 - val_loss: 0.3843 - val_accuracy: 0.8272\n",
      "Epoch 12/30\n",
      "35/35 [==============================] - 7s 203ms/step - loss: 0.2814 - accuracy: 0.8846 - val_loss: 0.3829 - val_accuracy: 0.8272\n",
      "Epoch 13/30\n",
      "35/35 [==============================] - 7s 201ms/step - loss: 0.2751 - accuracy: 0.8852 - val_loss: 0.3857 - val_accuracy: 0.8272\n",
      "Epoch 14/30\n",
      "35/35 [==============================] - 7s 208ms/step - loss: 0.2661 - accuracy: 0.8893 - val_loss: 0.3838 - val_accuracy: 0.8242\n",
      "Epoch 15/30\n",
      "35/35 [==============================] - 7s 200ms/step - loss: 0.2647 - accuracy: 0.8896 - val_loss: 0.3826 - val_accuracy: 0.8257\n",
      "Epoch 16/30\n",
      "35/35 [==============================] - 7s 206ms/step - loss: 0.2607 - accuracy: 0.8908 - val_loss: 0.3823 - val_accuracy: 0.8189\n",
      "Epoch 17/30\n",
      "35/35 [==============================] - 7s 207ms/step - loss: 0.2606 - accuracy: 0.8922 - val_loss: 0.3864 - val_accuracy: 0.8211\n",
      "Epoch 18/30\n",
      "35/35 [==============================] - 7s 204ms/step - loss: 0.2515 - accuracy: 0.8960 - val_loss: 0.3804 - val_accuracy: 0.8211\n",
      "Epoch 19/30\n",
      "35/35 [==============================] - 7s 201ms/step - loss: 0.2421 - accuracy: 0.9019 - val_loss: 0.3819 - val_accuracy: 0.8242\n",
      "Epoch 20/30\n",
      "35/35 [==============================] - 7s 201ms/step - loss: 0.2394 - accuracy: 0.9005 - val_loss: 0.3808 - val_accuracy: 0.8219\n",
      "Epoch 21/30\n",
      "35/35 [==============================] - 7s 204ms/step - loss: 0.2311 - accuracy: 0.9062 - val_loss: 0.3813 - val_accuracy: 0.8219\n",
      "Epoch 22/30\n",
      "35/35 [==============================] - 7s 201ms/step - loss: 0.2276 - accuracy: 0.9059 - val_loss: 0.3797 - val_accuracy: 0.8196\n",
      "Epoch 23/30\n",
      "35/35 [==============================] - 7s 204ms/step - loss: 0.2236 - accuracy: 0.9067 - val_loss: 0.3801 - val_accuracy: 0.8242\n",
      "Epoch 24/30\n",
      "35/35 [==============================] - 7s 202ms/step - loss: 0.2117 - accuracy: 0.9148 - val_loss: 0.3812 - val_accuracy: 0.8166\n",
      "Epoch 25/30\n",
      "35/35 [==============================] - 7s 205ms/step - loss: 0.1977 - accuracy: 0.9237 - val_loss: 0.3806 - val_accuracy: 0.8211\n",
      "Epoch 26/30\n",
      "35/35 [==============================] - 7s 203ms/step - loss: 0.1994 - accuracy: 0.9235 - val_loss: 0.3867 - val_accuracy: 0.8226\n",
      "Epoch 27/30\n",
      "35/35 [==============================] - 7s 204ms/step - loss: 0.1939 - accuracy: 0.9245 - val_loss: 0.3977 - val_accuracy: 0.8242\n",
      "Epoch 28/30\n",
      "35/35 [==============================] - 7s 201ms/step - loss: 0.1872 - accuracy: 0.9250 - val_loss: 0.3891 - val_accuracy: 0.8279\n",
      "Epoch 29/30\n",
      "35/35 [==============================] - 7s 202ms/step - loss: 0.1798 - accuracy: 0.9296 - val_loss: 0.3898 - val_accuracy: 0.8204\n",
      "Epoch 30/30\n",
      "35/35 [==============================] - 7s 205ms/step - loss: 0.1759 - accuracy: 0.9333 - val_loss: 0.3949 - val_accuracy: 0.8196\n"
     ]
    }
   ],
   "source": [
    "history = model4.fit(x_train_pad_glove,\n",
    "                    y_train,\n",
    "                    epochs=30,\n",
    "                    batch_size=512,\n",
    "                    validation_data=(x_dev_pad_glove, y_dev),\n",
    "                    verbose=1)"
   ]
  },
  {
   "cell_type": "code",
   "execution_count": 72,
   "metadata": {},
   "outputs": [
    {
     "name": "stdout",
     "output_type": "stream",
     "text": [
      "194/194 [==============================] - 1s 6ms/step - loss: 0.4172 - accuracy: 0.8147\n",
      "[0.41722357273101807, 0.8147130012512207]\n"
     ]
    }
   ],
   "source": [
    "results = model4.evaluate(x_test_pad_glove, y_test)\n",
    "print(results)"
   ]
  },
  {
   "cell_type": "code",
   "execution_count": 73,
   "metadata": {},
   "outputs": [
    {
     "data": {
      "image/png": "[encoded data removed]",
      "text/plain": [
       "<Figure size 720x360 with 2 Axes>"
      ]
     },
     "metadata": {
      "needs_background": "light"
     },
     "output_type": "display_data"
    }
   ],
   "source": [
    "from plot_keras_history import plot_history\n",
    "import matplotlib.pyplot as plt\n",
    "\n",
    "plot_history(history.history, path=\"standard.png\")\n",
    "plt.show()"
   ]
  },
  {
   "cell_type": "markdown",
   "metadata": {
    "id": "M-bZ5SCHiIMl"
   },
   "source": [
    "#  Model 3: Model with multiple-input"
   ]
  },
  {
   "cell_type": "markdown",
   "metadata": {
    "id": "G85QM3lSV7qp"
   },
   "source": [
    "Model 1 and 2 are copied from lab4. We build new models in this section. \n",
    "\n",
    "In models 1 and 2, we combine the topics and tweets to input into the models. In model 3, we separately input these two data into the model and use different layers to analyze topics and tweets. "
   ]
  },
  {
   "cell_type": "code",
   "execution_count": 92,
   "metadata": {
    "id": "ztiFcOWuA0xH"
   },
   "outputs": [],
   "source": [
    "# First of all, pad the tweet and topic separately\n",
    "x_train_tweet_pad_glove = keras.preprocessing.sequence.pad_sequences(x_train_tweet_glove,\n",
    "                                                        value=0,\n",
    "                                                        padding='post',\n",
    "                                                        maxlen=128)\n",
    "\n",
    "x_dev_tweet_pad_glove = keras.preprocessing.sequence.pad_sequences(x_dev_tweet_glove,\n",
    "                                                       value=0,\n",
    "                                                       padding='post',\n",
    "                                                       maxlen=128)\n",
    "\n",
    "x_test_tweet_pad_glove = keras.preprocessing.sequence.pad_sequences(x_test_tweet_glove,\n",
    "                                                       value=0,\n",
    "                                                       padding='post',\n",
    "                                                       maxlen=128)\n",
    "\n",
    "x_train_topic_pad_glove = keras.preprocessing.sequence.pad_sequences(x_train_topic_glove,\n",
    "                                                        value=0,\n",
    "                                                        padding='post',\n",
    "                                                        maxlen=16)\n",
    "\n",
    "x_dev_topic_pad_glove = keras.preprocessing.sequence.pad_sequences(x_dev_topic_glove,\n",
    "                                                       value=0,\n",
    "                                                       padding='post',\n",
    "                                                       maxlen=16)\n",
    "\n",
    "x_test_topic_pad_glove = keras.preprocessing.sequence.pad_sequences(x_test_topic_glove,\n",
    "                                                       value=0,\n",
    "                                                       padding='post',\n",
    "                                                       maxlen=16)"
   ]
  },
  {
   "cell_type": "markdown",
   "metadata": {
    "id": "ExgX8bxpVgps"
   },
   "source": [
    "## Model 3-1 Neural bag of words model with multiple-input"
   ]
  },
  {
   "cell_type": "markdown",
   "metadata": {
    "id": "d-TN6yup01mC"
   },
   "source": [
    "Model 3-1 needs you to modify the model 2-1 to be compatible with multiple-input.\n",
    "You could find some tutorial examples from (https://www.pyimagesearch.com/2019/02/04/keras-multiple-inputs-and-mixed-data/).\n",
    "\n",
    "Please print the model summary and visualize it using vis_utils."
   ]
  },
  {
   "cell_type": "code",
   "execution_count": 89,
   "metadata": {
    "colab": {
     "base_uri": "https://localhost:8080/"
    },
    "id": "dTgD_gMzXa1z",
    "outputId": "cd1b0412-a3fe-4120-ac2b-6e4afff8c7fa"
   },
   "outputs": [
    {
     "name": "stdout",
     "output_type": "stream",
     "text": [
      "Model: \"model_22\"\n",
      "__________________________________________________________________________________________________\n",
      "Layer (type)                    Output Shape         Param #     Connected to                     \n",
      "==================================================================================================\n",
      "input_19 (InputLayer)           [(None, 128)]        0                                            \n",
      "__________________________________________________________________________________________________\n",
      "input_20 (InputLayer)           [(None, 16)]         0                                            \n",
      "__________________________________________________________________________________________________\n",
      "GloVe_Embeddings (Embedding)    multiple             120000300   input_19[0][0]                   \n",
      "                                                                 input_20[0][0]                   \n",
      "__________________________________________________________________________________________________\n",
      "global_average_pooling1d_18 (Gl (None, 300)          0           GloVe_Embeddings[14][0]          \n",
      "__________________________________________________________________________________________________\n",
      "global_average_pooling1d_19 (Gl (None, 300)          0           GloVe_Embeddings[15][0]          \n",
      "__________________________________________________________________________________________________\n",
      "concatenate_6 (Concatenate)     (None, 600)          0           global_average_pooling1d_18[0][0]\n",
      "                                                                 global_average_pooling1d_19[0][0]\n",
      "__________________________________________________________________________________________________\n",
      "dense_20 (Dense)                (None, 16)           9616        concatenate_6[0][0]              \n",
      "__________________________________________________________________________________________________\n",
      "dense_21 (Dense)                (None, 1)            17          dense_20[0][0]                   \n",
      "==================================================================================================\n",
      "Total params: 120,009,933\n",
      "Trainable params: 9,633\n",
      "Non-trainable params: 120,000,300\n",
      "__________________________________________________________________________________________________\n"
     ]
    }
   ],
   "source": [
    "# your code goes here\n",
    "\n",
    "from keras.layers import Input, Embedding, Dense, LSTM\n",
    "from keras.layers import Input, Lambda, GlobalAveragePooling1D, Dense, Embedding,concatenate\n",
    "from keras.models import Model\n",
    "from keras.models import Sequential\n",
    "\n",
    "\n",
    "InputTweet = Input((128,), dtype='int32')\n",
    "InputTopic = Input((16,), dtype='int32')\n",
    "\n",
    "EmbeddingTweet = embeddingLayer(InputTweet)\n",
    "global_average_pooling1dTweet = GlobalAveragePooling1D()(EmbeddingTweet)\n",
    "TweetBranch = Model(inputs=InputTweet, outputs=global_average_pooling1dTweet)\n",
    "\n",
    "EmbeddingTopic = embeddingLayer(InputTopic)\n",
    "global_average_pooling1dTopic = GlobalAveragePooling1D()(EmbeddingTopic)\n",
    "TopicBranch = Model(inputs=InputTopic, outputs=global_average_pooling1dTopic)\n",
    "\n",
    "combined = concatenate([TweetBranch.output, TopicBranch.output])\n",
    "\n",
    "Hidden_1 = Dense(16,activation='sigmoid')(combined)\n",
    "Output = Dense(1, activation='sigmoid')(Hidden_1)\n",
    "model5 = Model(inputs=[TweetBranch.input, TopicBranch.input], outputs=[Output])  \n",
    "\n",
    "model5.compile(loss='binary_crossentropy', optimizer='adam', metrics = ['accuracy'])\n",
    "model5.summary()\n",
    "\n"
   ]
  },
  {
   "cell_type": "code",
   "execution_count": 90,
   "metadata": {
    "colab": {
     "base_uri": "https://localhost:8080/",
     "height": 563
    },
    "id": "UlJbDRHeAMIh",
    "outputId": "4af080f1-51b5-4b79-a4c6-9631179d07e4"
   },
   "outputs": [
    {
     "data": {
      "image/svg+xml": [
       "<svg xmlns=\"http://www.w3.org/2000/svg\" xmlns:xlink=\"http://www.w3.org/1999/xlink\" width=\"851pt\" height=\"392pt\" viewBox=\"0.00 0.00 1021.50 470.00\">\n",
       "<g id=\"graph0\" class=\"graph\" transform=\"scale(0.83 0.83) rotate(0) translate(4 466)\">\n",
       "<title>G</title>\n",
       "<polygon fill=\"white\" stroke=\"transparent\" points=\"-4,4 -4,-466 1017.5,-466 1017.5,4 -4,4\"/>\n",
       "<!-- 2321150446464 -->\n",
       "<g id=\"node1\" class=\"node\">\n",
       "<title>2321150446464</title>\n",
       "<polygon fill=\"none\" stroke=\"black\" points=\"220,-415.5 220,-461.5 501,-461.5 501,-415.5 220,-415.5\"/>\n",
       "<text text-anchor=\"middle\" x=\"286.5\" y=\"-434.8\" font-family=\"Times New Roman,serif\" font-size=\"14.00\">input_19: InputLayer</text>\n",
       "<polyline fill=\"none\" stroke=\"black\" points=\"353,-415.5 353,-461.5 \"/>\n",
       "<text text-anchor=\"middle\" x=\"381\" y=\"-446.3\" font-family=\"Times New Roman,serif\" font-size=\"14.00\">input:</text>\n",
       "<polyline fill=\"none\" stroke=\"black\" points=\"353,-438.5 409,-438.5 \"/>\n",
       "<text text-anchor=\"middle\" x=\"381\" y=\"-423.3\" font-family=\"Times New Roman,serif\" font-size=\"14.00\">output:</text>\n",
       "<polyline fill=\"none\" stroke=\"black\" points=\"409,-415.5 409,-461.5 \"/>\n",
       "<text text-anchor=\"middle\" x=\"455\" y=\"-446.3\" font-family=\"Times New Roman,serif\" font-size=\"14.00\">[(None, 128)]</text>\n",
       "<polyline fill=\"none\" stroke=\"black\" points=\"409,-438.5 501,-438.5 \"/>\n",
       "<text text-anchor=\"middle\" x=\"455\" y=\"-423.3\" font-family=\"Times New Roman,serif\" font-size=\"14.00\">[(None, 128)]</text>\n",
       "</g>\n",
       "<!-- 2320905871856 -->\n",
       "<g id=\"node3\" class=\"node\">\n",
       "<title>2320905871856</title>\n",
       "<polygon fill=\"none\" stroke=\"black\" points=\"368.5,-332.5 368.5,-378.5 648.5,-378.5 648.5,-332.5 368.5,-332.5\"/>\n",
       "<text text-anchor=\"middle\" x=\"469\" y=\"-351.8\" font-family=\"Times New Roman,serif\" font-size=\"14.00\">GloVe_Embeddings: Embedding</text>\n",
       "<polyline fill=\"none\" stroke=\"black\" points=\"569.5,-332.5 569.5,-378.5 \"/>\n",
       "<text text-anchor=\"middle\" x=\"597.5\" y=\"-363.3\" font-family=\"Times New Roman,serif\" font-size=\"14.00\">input:</text>\n",
       "<polyline fill=\"none\" stroke=\"black\" points=\"569.5,-355.5 625.5,-355.5 \"/>\n",
       "<text text-anchor=\"middle\" x=\"597.5\" y=\"-340.3\" font-family=\"Times New Roman,serif\" font-size=\"14.00\">output:</text>\n",
       "<polyline fill=\"none\" stroke=\"black\" points=\"625.5,-332.5 625.5,-378.5 \"/>\n",
       "<text text-anchor=\"middle\" x=\"637\" y=\"-363.3\" font-family=\"Times New Roman,serif\" font-size=\"14.00\">?</text>\n",
       "<polyline fill=\"none\" stroke=\"black\" points=\"625.5,-355.5 648.5,-355.5 \"/>\n",
       "<text text-anchor=\"middle\" x=\"637\" y=\"-340.3\" font-family=\"Times New Roman,serif\" font-size=\"14.00\">?</text>\n",
       "</g>\n",
       "<!-- 2321150446464&#45;&gt;2320905871856 -->\n",
       "<g id=\"edge1\" class=\"edge\">\n",
       "<title>2321150446464-&gt;2320905871856</title>\n",
       "<path fill=\"none\" stroke=\"black\" d=\"M400.94,-415.37C418.97,-405.5 440.37,-393.79 459.31,-383.42\"/>\n",
       "<polygon fill=\"black\" stroke=\"black\" points=\"461.02,-386.48 468.11,-378.61 457.65,-380.34 461.02,-386.48\"/>\n",
       "</g>\n",
       "<!-- 2321150446752 -->\n",
       "<g id=\"node2\" class=\"node\">\n",
       "<title>2321150446752</title>\n",
       "<polygon fill=\"none\" stroke=\"black\" points=\"519,-415.5 519,-461.5 794,-461.5 794,-415.5 519,-415.5\"/>\n",
       "<text text-anchor=\"middle\" x=\"585.5\" y=\"-434.8\" font-family=\"Times New Roman,serif\" font-size=\"14.00\">input_20: InputLayer</text>\n",
       "<polyline fill=\"none\" stroke=\"black\" points=\"652,-415.5 652,-461.5 \"/>\n",
       "<text text-anchor=\"middle\" x=\"680\" y=\"-446.3\" font-family=\"Times New Roman,serif\" font-size=\"14.00\">input:</text>\n",
       "<polyline fill=\"none\" stroke=\"black\" points=\"652,-438.5 708,-438.5 \"/>\n",
       "<text text-anchor=\"middle\" x=\"680\" y=\"-423.3\" font-family=\"Times New Roman,serif\" font-size=\"14.00\">output:</text>\n",
       "<polyline fill=\"none\" stroke=\"black\" points=\"708,-415.5 708,-461.5 \"/>\n",
       "<text text-anchor=\"middle\" x=\"751\" y=\"-446.3\" font-family=\"Times New Roman,serif\" font-size=\"14.00\">[(None, 16)]</text>\n",
       "<polyline fill=\"none\" stroke=\"black\" points=\"708,-438.5 794,-438.5 \"/>\n",
       "<text text-anchor=\"middle\" x=\"751\" y=\"-423.3\" font-family=\"Times New Roman,serif\" font-size=\"14.00\">[(None, 16)]</text>\n",
       "</g>\n",
       "<!-- 2321150446752&#45;&gt;2320905871856 -->\n",
       "<g id=\"edge2\" class=\"edge\">\n",
       "<title>2321150446752-&gt;2320905871856</title>\n",
       "<path fill=\"none\" stroke=\"black\" d=\"M616.06,-415.37C598.03,-405.5 576.63,-393.79 557.69,-383.42\"/>\n",
       "<polygon fill=\"black\" stroke=\"black\" points=\"559.35,-380.34 548.89,-378.61 555.98,-386.48 559.35,-380.34\"/>\n",
       "</g>\n",
       "<!-- 2322228376624 -->\n",
       "<g id=\"node4\" class=\"node\">\n",
       "<title>2322228376624</title>\n",
       "<polygon fill=\"none\" stroke=\"black\" points=\"0,-249.5 0,-295.5 501,-295.5 501,-249.5 0,-249.5\"/>\n",
       "<text text-anchor=\"middle\" x=\"167\" y=\"-268.8\" font-family=\"Times New Roman,serif\" font-size=\"14.00\">global_average_pooling1d_18: GlobalAveragePooling1D</text>\n",
       "<polyline fill=\"none\" stroke=\"black\" points=\"334,-249.5 334,-295.5 \"/>\n",
       "<text text-anchor=\"middle\" x=\"362\" y=\"-280.3\" font-family=\"Times New Roman,serif\" font-size=\"14.00\">input:</text>\n",
       "<polyline fill=\"none\" stroke=\"black\" points=\"334,-272.5 390,-272.5 \"/>\n",
       "<text text-anchor=\"middle\" x=\"362\" y=\"-257.3\" font-family=\"Times New Roman,serif\" font-size=\"14.00\">output:</text>\n",
       "<polyline fill=\"none\" stroke=\"black\" points=\"390,-249.5 390,-295.5 \"/>\n",
       "<text text-anchor=\"middle\" x=\"445.5\" y=\"-280.3\" font-family=\"Times New Roman,serif\" font-size=\"14.00\">(None, 128, 300)</text>\n",
       "<polyline fill=\"none\" stroke=\"black\" points=\"390,-272.5 501,-272.5 \"/>\n",
       "<text text-anchor=\"middle\" x=\"445.5\" y=\"-257.3\" font-family=\"Times New Roman,serif\" font-size=\"14.00\">(None, 300)</text>\n",
       "</g>\n",
       "<!-- 2320905871856&#45;&gt;2322228376624 -->\n",
       "<g id=\"edge3\" class=\"edge\">\n",
       "<title>2320905871856-&gt;2322228376624</title>\n",
       "<path fill=\"none\" stroke=\"black\" d=\"M438.34,-332.47C404.92,-321.98 364.8,-309.39 330.24,-298.53\"/>\n",
       "<polygon fill=\"black\" stroke=\"black\" points=\"331.23,-295.18 320.64,-295.52 329.14,-301.86 331.23,-295.18\"/>\n",
       "</g>\n",
       "<!-- 2322228160784 -->\n",
       "<g id=\"node5\" class=\"node\">\n",
       "<title>2322228160784</title>\n",
       "<polygon fill=\"none\" stroke=\"black\" points=\"519.5,-249.5 519.5,-295.5 1013.5,-295.5 1013.5,-249.5 519.5,-249.5\"/>\n",
       "<text text-anchor=\"middle\" x=\"686.5\" y=\"-268.8\" font-family=\"Times New Roman,serif\" font-size=\"14.00\">global_average_pooling1d_19: GlobalAveragePooling1D</text>\n",
       "<polyline fill=\"none\" stroke=\"black\" points=\"853.5,-249.5 853.5,-295.5 \"/>\n",
       "<text text-anchor=\"middle\" x=\"881.5\" y=\"-280.3\" font-family=\"Times New Roman,serif\" font-size=\"14.00\">input:</text>\n",
       "<polyline fill=\"none\" stroke=\"black\" points=\"853.5,-272.5 909.5,-272.5 \"/>\n",
       "<text text-anchor=\"middle\" x=\"881.5\" y=\"-257.3\" font-family=\"Times New Roman,serif\" font-size=\"14.00\">output:</text>\n",
       "<polyline fill=\"none\" stroke=\"black\" points=\"909.5,-249.5 909.5,-295.5 \"/>\n",
       "<text text-anchor=\"middle\" x=\"961.5\" y=\"-280.3\" font-family=\"Times New Roman,serif\" font-size=\"14.00\">(None, 16, 300)</text>\n",
       "<polyline fill=\"none\" stroke=\"black\" points=\"909.5,-272.5 1013.5,-272.5 \"/>\n",
       "<text text-anchor=\"middle\" x=\"961.5\" y=\"-257.3\" font-family=\"Times New Roman,serif\" font-size=\"14.00\">(None, 300)</text>\n",
       "</g>\n",
       "<!-- 2320905871856&#45;&gt;2322228160784 -->\n",
       "<g id=\"edge4\" class=\"edge\">\n",
       "<title>2320905871856-&gt;2322228160784</title>\n",
       "<path fill=\"none\" stroke=\"black\" d=\"M578.66,-332.47C612.08,-321.98 652.2,-309.39 686.76,-298.53\"/>\n",
       "<polygon fill=\"black\" stroke=\"black\" points=\"687.86,-301.86 696.36,-295.52 685.77,-295.18 687.86,-301.86\"/>\n",
       "</g>\n",
       "<!-- 2319372917200 -->\n",
       "<g id=\"node6\" class=\"node\">\n",
       "<title>2319372917200</title>\n",
       "<polygon fill=\"none\" stroke=\"black\" points=\"310.5,-166.5 310.5,-212.5 706.5,-212.5 706.5,-166.5 310.5,-166.5\"/>\n",
       "<text text-anchor=\"middle\" x=\"397\" y=\"-185.8\" font-family=\"Times New Roman,serif\" font-size=\"14.00\">concatenate_6: Concatenate</text>\n",
       "<polyline fill=\"none\" stroke=\"black\" points=\"483.5,-166.5 483.5,-212.5 \"/>\n",
       "<text text-anchor=\"middle\" x=\"511.5\" y=\"-197.3\" font-family=\"Times New Roman,serif\" font-size=\"14.00\">input:</text>\n",
       "<polyline fill=\"none\" stroke=\"black\" points=\"483.5,-189.5 539.5,-189.5 \"/>\n",
       "<text text-anchor=\"middle\" x=\"511.5\" y=\"-174.3\" font-family=\"Times New Roman,serif\" font-size=\"14.00\">output:</text>\n",
       "<polyline fill=\"none\" stroke=\"black\" points=\"539.5,-166.5 539.5,-212.5 \"/>\n",
       "<text text-anchor=\"middle\" x=\"623\" y=\"-197.3\" font-family=\"Times New Roman,serif\" font-size=\"14.00\">[(None, 300), (None, 300)]</text>\n",
       "<polyline fill=\"none\" stroke=\"black\" points=\"539.5,-189.5 706.5,-189.5 \"/>\n",
       "<text text-anchor=\"middle\" x=\"623\" y=\"-174.3\" font-family=\"Times New Roman,serif\" font-size=\"14.00\">(None, 600)</text>\n",
       "</g>\n",
       "<!-- 2322228376624&#45;&gt;2319372917200 -->\n",
       "<g id=\"edge5\" class=\"edge\">\n",
       "<title>2322228376624-&gt;2319372917200</title>\n",
       "<path fill=\"none\" stroke=\"black\" d=\"M320.66,-249.47C354.08,-238.98 394.2,-226.39 428.76,-215.53\"/>\n",
       "<polygon fill=\"black\" stroke=\"black\" points=\"429.86,-218.86 438.36,-212.52 427.77,-212.18 429.86,-218.86\"/>\n",
       "</g>\n",
       "<!-- 2322228160784&#45;&gt;2319372917200 -->\n",
       "<g id=\"edge6\" class=\"edge\">\n",
       "<title>2322228160784-&gt;2319372917200</title>\n",
       "<path fill=\"none\" stroke=\"black\" d=\"M696.34,-249.47C662.92,-238.98 622.8,-226.39 588.24,-215.53\"/>\n",
       "<polygon fill=\"black\" stroke=\"black\" points=\"589.23,-212.18 578.64,-212.52 587.14,-218.86 589.23,-212.18\"/>\n",
       "</g>\n",
       "<!-- 2322228335520 -->\n",
       "<g id=\"node7\" class=\"node\">\n",
       "<title>2322228335520</title>\n",
       "<polygon fill=\"none\" stroke=\"black\" points=\"383.5,-83.5 383.5,-129.5 633.5,-129.5 633.5,-83.5 383.5,-83.5\"/>\n",
       "<text text-anchor=\"middle\" x=\"439\" y=\"-102.8\" font-family=\"Times New Roman,serif\" font-size=\"14.00\">dense_20: Dense</text>\n",
       "<polyline fill=\"none\" stroke=\"black\" points=\"494.5,-83.5 494.5,-129.5 \"/>\n",
       "<text text-anchor=\"middle\" x=\"522.5\" y=\"-114.3\" font-family=\"Times New Roman,serif\" font-size=\"14.00\">input:</text>\n",
       "<polyline fill=\"none\" stroke=\"black\" points=\"494.5,-106.5 550.5,-106.5 \"/>\n",
       "<text text-anchor=\"middle\" x=\"522.5\" y=\"-91.3\" font-family=\"Times New Roman,serif\" font-size=\"14.00\">output:</text>\n",
       "<polyline fill=\"none\" stroke=\"black\" points=\"550.5,-83.5 550.5,-129.5 \"/>\n",
       "<text text-anchor=\"middle\" x=\"592\" y=\"-114.3\" font-family=\"Times New Roman,serif\" font-size=\"14.00\">(None, 600)</text>\n",
       "<polyline fill=\"none\" stroke=\"black\" points=\"550.5,-106.5 633.5,-106.5 \"/>\n",
       "<text text-anchor=\"middle\" x=\"592\" y=\"-91.3\" font-family=\"Times New Roman,serif\" font-size=\"14.00\">(None, 16)</text>\n",
       "</g>\n",
       "<!-- 2319372917200&#45;&gt;2322228335520 -->\n",
       "<g id=\"edge7\" class=\"edge\">\n",
       "<title>2319372917200-&gt;2322228335520</title>\n",
       "<path fill=\"none\" stroke=\"black\" d=\"M508.5,-166.37C508.5,-158.15 508.5,-148.66 508.5,-139.73\"/>\n",
       "<polygon fill=\"black\" stroke=\"black\" points=\"512,-139.61 508.5,-129.61 505,-139.61 512,-139.61\"/>\n",
       "</g>\n",
       "<!-- 2322228470832 -->\n",
       "<g id=\"node8\" class=\"node\">\n",
       "<title>2322228470832</title>\n",
       "<polygon fill=\"none\" stroke=\"black\" points=\"386.5,-0.5 386.5,-46.5 630.5,-46.5 630.5,-0.5 386.5,-0.5\"/>\n",
       "<text text-anchor=\"middle\" x=\"442\" y=\"-19.8\" font-family=\"Times New Roman,serif\" font-size=\"14.00\">dense_21: Dense</text>\n",
       "<polyline fill=\"none\" stroke=\"black\" points=\"497.5,-0.5 497.5,-46.5 \"/>\n",
       "<text text-anchor=\"middle\" x=\"525.5\" y=\"-31.3\" font-family=\"Times New Roman,serif\" font-size=\"14.00\">input:</text>\n",
       "<polyline fill=\"none\" stroke=\"black\" points=\"497.5,-23.5 553.5,-23.5 \"/>\n",
       "<text text-anchor=\"middle\" x=\"525.5\" y=\"-8.3\" font-family=\"Times New Roman,serif\" font-size=\"14.00\">output:</text>\n",
       "<polyline fill=\"none\" stroke=\"black\" points=\"553.5,-0.5 553.5,-46.5 \"/>\n",
       "<text text-anchor=\"middle\" x=\"592\" y=\"-31.3\" font-family=\"Times New Roman,serif\" font-size=\"14.00\">(None, 16)</text>\n",
       "<polyline fill=\"none\" stroke=\"black\" points=\"553.5,-23.5 630.5,-23.5 \"/>\n",
       "<text text-anchor=\"middle\" x=\"592\" y=\"-8.3\" font-family=\"Times New Roman,serif\" font-size=\"14.00\">(None, 1)</text>\n",
       "</g>\n",
       "<!-- 2322228335520&#45;&gt;2322228470832 -->\n",
       "<g id=\"edge8\" class=\"edge\">\n",
       "<title>2322228335520-&gt;2322228470832</title>\n",
       "<path fill=\"none\" stroke=\"black\" d=\"M508.5,-83.37C508.5,-75.15 508.5,-65.66 508.5,-56.73\"/>\n",
       "<polygon fill=\"black\" stroke=\"black\" points=\"512,-56.61 508.5,-46.61 505,-56.61 512,-56.61\"/>\n",
       "</g>\n",
       "</g>\n",
       "</svg>"
      ],
      "text/plain": [
       "<IPython.core.display.SVG object>"
      ]
     },
     "execution_count": 90,
     "metadata": {},
     "output_type": "execute_result"
    }
   ],
   "source": [
    "from IPython.display import SVG\n",
    "from keras.utils import vis_utils\n",
    "SVG(vis_utils.model_to_dot(model5, show_shapes=True, show_layer_names=True, dpi=60).create(prog='dot', format='svg'))  "
   ]
  },
  {
   "cell_type": "markdown",
   "metadata": {
    "id": "dVl_cKt903Z9"
   },
   "source": [
    "Train and evaluate your model:"
   ]
  },
  {
   "cell_type": "code",
   "execution_count": 95,
   "metadata": {
    "colab": {
     "base_uri": "https://localhost:8080/"
    },
    "id": "wEzz9deDF2rc",
    "outputId": "8c3926eb-43da-4eca-b8cd-15e5e2c671a0"
   },
   "outputs": [
    {
     "name": "stdout",
     "output_type": "stream",
     "text": [
      "Epoch 1/30\n",
      "35/35 [==============================] - 1s 30ms/step - loss: 0.5146 - accuracy: 0.7917 - val_loss: 0.5625 - val_accuracy: 0.7442\n",
      "Epoch 2/30\n",
      "35/35 [==============================] - 1s 26ms/step - loss: 0.4976 - accuracy: 0.7917 - val_loss: 0.5588 - val_accuracy: 0.7442\n",
      "Epoch 3/30\n",
      "35/35 [==============================] - 1s 27ms/step - loss: 0.4889 - accuracy: 0.7917 - val_loss: 0.5535 - val_accuracy: 0.7442\n",
      "Epoch 4/30\n",
      "35/35 [==============================] - 1s 27ms/step - loss: 0.4814 - accuracy: 0.7917 - val_loss: 0.5463 - val_accuracy: 0.7442\n",
      "Epoch 5/30\n",
      "35/35 [==============================] - 1s 26ms/step - loss: 0.4740 - accuracy: 0.7917 - val_loss: 0.5388 - val_accuracy: 0.7442\n",
      "Epoch 6/30\n",
      "35/35 [==============================] - 1s 26ms/step - loss: 0.4666 - accuracy: 0.7922 - val_loss: 0.5317 - val_accuracy: 0.7442\n",
      "Epoch 7/30\n",
      "35/35 [==============================] - 1s 27ms/step - loss: 0.4594 - accuracy: 0.7969 - val_loss: 0.5243 - val_accuracy: 0.7442\n",
      "Epoch 8/30\n",
      "35/35 [==============================] - 1s 27ms/step - loss: 0.4520 - accuracy: 0.8002 - val_loss: 0.5161 - val_accuracy: 0.7442\n",
      "Epoch 9/30\n",
      "35/35 [==============================] - 1s 26ms/step - loss: 0.4447 - accuracy: 0.8015 - val_loss: 0.5086 - val_accuracy: 0.7442\n",
      "Epoch 10/30\n",
      "35/35 [==============================] - 1s 27ms/step - loss: 0.4375 - accuracy: 0.8044 - val_loss: 0.5014 - val_accuracy: 0.7442\n",
      "Epoch 11/30\n",
      "35/35 [==============================] - 1s 27ms/step - loss: 0.4304 - accuracy: 0.8060 - val_loss: 0.4936 - val_accuracy: 0.7442\n",
      "Epoch 12/30\n",
      "35/35 [==============================] - 1s 26ms/step - loss: 0.4235 - accuracy: 0.8088 - val_loss: 0.4867 - val_accuracy: 0.7449\n",
      "Epoch 13/30\n",
      "35/35 [==============================] - 1s 26ms/step - loss: 0.4167 - accuracy: 0.8135 - val_loss: 0.4795 - val_accuracy: 0.7457\n",
      "Epoch 14/30\n",
      "35/35 [==============================] - 1s 26ms/step - loss: 0.4101 - accuracy: 0.8190 - val_loss: 0.4729 - val_accuracy: 0.7562\n",
      "Epoch 15/30\n",
      "35/35 [==============================] - 1s 26ms/step - loss: 0.4038 - accuracy: 0.8231 - val_loss: 0.4673 - val_accuracy: 0.7577\n",
      "Epoch 16/30\n",
      "35/35 [==============================] - 1s 26ms/step - loss: 0.3978 - accuracy: 0.8274 - val_loss: 0.4614 - val_accuracy: 0.7585\n",
      "Epoch 17/30\n",
      "35/35 [==============================] - 1s 26ms/step - loss: 0.3921 - accuracy: 0.8319 - val_loss: 0.4564 - val_accuracy: 0.7615\n",
      "Epoch 18/30\n",
      "35/35 [==============================] - 1s 26ms/step - loss: 0.3867 - accuracy: 0.8349 - val_loss: 0.4515 - val_accuracy: 0.7570\n",
      "Epoch 19/30\n",
      "35/35 [==============================] - 1s 27ms/step - loss: 0.3817 - accuracy: 0.8389 - val_loss: 0.4477 - val_accuracy: 0.7615\n",
      "Epoch 20/30\n",
      "35/35 [==============================] - 1s 26ms/step - loss: 0.3768 - accuracy: 0.8400 - val_loss: 0.4437 - val_accuracy: 0.7638\n",
      "Epoch 21/30\n",
      "35/35 [==============================] - 1s 26ms/step - loss: 0.3722 - accuracy: 0.8438 - val_loss: 0.4402 - val_accuracy: 0.7675\n",
      "Epoch 22/30\n",
      "35/35 [==============================] - 1s 26ms/step - loss: 0.3681 - accuracy: 0.8463 - val_loss: 0.4373 - val_accuracy: 0.7675\n",
      "Epoch 23/30\n",
      "35/35 [==============================] - 1s 27ms/step - loss: 0.3640 - accuracy: 0.8469 - val_loss: 0.4347 - val_accuracy: 0.7706\n",
      "Epoch 24/30\n",
      "35/35 [==============================] - 1s 26ms/step - loss: 0.3604 - accuracy: 0.8493 - val_loss: 0.4325 - val_accuracy: 0.7721\n",
      "Epoch 25/30\n",
      "35/35 [==============================] - 1s 26ms/step - loss: 0.3567 - accuracy: 0.8511 - val_loss: 0.4303 - val_accuracy: 0.7781\n",
      "Epoch 26/30\n",
      "35/35 [==============================] - 1s 26ms/step - loss: 0.3534 - accuracy: 0.8533 - val_loss: 0.4284 - val_accuracy: 0.7796\n",
      "Epoch 27/30\n",
      "35/35 [==============================] - 1s 26ms/step - loss: 0.3502 - accuracy: 0.8545 - val_loss: 0.4267 - val_accuracy: 0.7811\n",
      "Epoch 28/30\n",
      "35/35 [==============================] - 1s 27ms/step - loss: 0.3472 - accuracy: 0.8560 - val_loss: 0.4254 - val_accuracy: 0.7849\n",
      "Epoch 29/30\n",
      "35/35 [==============================] - 1s 26ms/step - loss: 0.3444 - accuracy: 0.8571 - val_loss: 0.4237 - val_accuracy: 0.7857\n",
      "Epoch 30/30\n",
      "35/35 [==============================] - 1s 26ms/step - loss: 0.3416 - accuracy: 0.8580 - val_loss: 0.4228 - val_accuracy: 0.7887\n"
     ]
    }
   ],
   "source": [
    "# your code goes here\n",
    "\n",
    "history = model5.fit([x_train_tweet_pad_glove,x_train_topic_pad_glove],\n",
    "                    y_train,\n",
    "                    epochs=30,\n",
    "                    batch_size=512,\n",
    "                    validation_data=([x_dev_tweet_pad_glove,x_dev_topic_pad_glove], y_dev),\n",
    "                    verbose=1)\n"
   ]
  },
  {
   "cell_type": "code",
   "execution_count": 103,
   "metadata": {},
   "outputs": [
    {
     "name": "stdout",
     "output_type": "stream",
     "text": [
      "194/194 [==============================] - 0s 2ms/step - loss: 0.6566 - accuracy: 0.6346\n",
      "[0.6566269993782043, 0.6345998644828796]\n"
     ]
    }
   ],
   "source": [
    "results = model5.evaluate([x_test_tweet_pad_glove,x_test_topic_pad_glove], y_test)\n",
    "print(results)"
   ]
  },
  {
   "cell_type": "code",
   "execution_count": 104,
   "metadata": {},
   "outputs": [
    {
     "data": {
      "image/png": "[encoded data removed]",
      "text/plain": [
       "<Figure size 720x360 with 2 Axes>"
      ]
     },
     "metadata": {
      "needs_background": "light"
     },
     "output_type": "display_data"
    }
   ],
   "source": [
    "from plot_keras_history import plot_history\n",
    "import matplotlib.pyplot as plt\n",
    "\n",
    "plot_history(history.history, path=\"standard.png\")\n",
    "plt.show()"
   ]
  },
  {
   "cell_type": "markdown",
   "metadata": {
    "id": "K0npTvFuVt5R"
   },
   "source": [
    "## Model 3-2 CNN or LSTM model with multiple-input"
   ]
  },
  {
   "cell_type": "markdown",
   "metadata": {
    "id": "hCp9khOn0D2-"
   },
   "source": [
    "Modify the previous CNN or LSTM model to be compatible with multiple-input, similar to model 3-1. "
   ]
  },
  {
   "cell_type": "code",
   "execution_count": 116,
   "metadata": {
    "id": "Js5yZqmYywev"
   },
   "outputs": [
    {
     "name": "stdout",
     "output_type": "stream",
     "text": [
      "Model: \"model_34\"\n",
      "__________________________________________________________________________________________________\n",
      "Layer (type)                    Output Shape         Param #     Connected to                     \n",
      "==================================================================================================\n",
      "input_27 (InputLayer)           [(None, 128)]        0                                            \n",
      "__________________________________________________________________________________________________\n",
      "input_28 (InputLayer)           [(None, 16)]         0                                            \n",
      "__________________________________________________________________________________________________\n",
      "GloVe_Embeddings (Embedding)    multiple             120000300   input_27[0][0]                   \n",
      "                                                                 input_28[0][0]                   \n",
      "__________________________________________________________________________________________________\n",
      "conv1d_8 (Conv1D)               (None, 120, 128)     345728      GloVe_Embeddings[22][0]          \n",
      "__________________________________________________________________________________________________\n",
      "conv1d_9 (Conv1D)               (None, 8, 128)       345728      GloVe_Embeddings[23][0]          \n",
      "__________________________________________________________________________________________________\n",
      "global_average_pooling1d_26 (Gl (None, 128)          0           conv1d_8[0][0]                   \n",
      "__________________________________________________________________________________________________\n",
      "global_average_pooling1d_27 (Gl (None, 128)          0           conv1d_9[0][0]                   \n",
      "__________________________________________________________________________________________________\n",
      "concatenate_10 (Concatenate)    (None, 256)          0           global_average_pooling1d_26[0][0]\n",
      "                                                                 global_average_pooling1d_27[0][0]\n",
      "__________________________________________________________________________________________________\n",
      "dense_28 (Dense)                (None, 10)           2570        concatenate_10[0][0]             \n",
      "__________________________________________________________________________________________________\n",
      "dense_29 (Dense)                (None, 1)            11          dense_28[0][0]                   \n",
      "==================================================================================================\n",
      "Total params: 120,694,337\n",
      "Trainable params: 694,037\n",
      "Non-trainable params: 120,000,300\n",
      "__________________________________________________________________________________________________\n"
     ]
    }
   ],
   "source": [
    "# your code goes here\n",
    "\n",
    "from keras.layers import Input, Embedding, Dense, LSTM\n",
    "from keras.layers import Input, Lambda, GlobalAveragePooling1D, Dense, Embedding, MaxPooling1D, concatenate\n",
    "from keras.models import Model\n",
    "from keras.models import Sequential\n",
    "\n",
    "# your code goes here\n",
    "VOCAB_SIZE = 32575\n",
    "MAX_SEQUENCE_LENGTH = 128\n",
    "EMBED_SIZE = 100\n",
    "\n",
    "\n",
    "InputTweet = Input((128,), dtype='int32')\n",
    "InputTopic = Input((16,), dtype='int32')\n",
    "\n",
    "EmbeddingTweet = embeddingLayer(InputTweet)\n",
    "conv1dTweet = Conv1D(filters = 128,kernel_size= 9, activation='relu')(EmbeddingTweet)\n",
    "global_max_pooling1dTweet = GlobalAveragePooling1D()(conv1dTweet)\n",
    "TweetBranch = Model(inputs=InputTweet, outputs=global_max_pooling1dTweet)\n",
    "\n",
    "EmbeddingTopic = embeddingLayer(InputTopic)\n",
    "conv1dTopic = Conv1D(filters = 128,kernel_size= 9, activation='relu')(EmbeddingTopic)\n",
    "global_max_pooling1dTopic = GlobalAveragePooling1D()(conv1dTopic)\n",
    "TopicBranch = Model(inputs=InputTopic, outputs=global_max_pooling1dTopic)\n",
    "\n",
    "combined = concatenate([TweetBranch.output, TopicBranch.output])\n",
    "\n",
    "Hidden = Dense(10, activation='relu')(combined)\n",
    "Output = Dense(1, activation='sigmoid')(Hidden)\n",
    "model6 = Model(inputs=[TweetBranch.input, TopicBranch.input], outputs=[Output])\n",
    "model6.compile(loss='binary_crossentropy', optimizer='adam', metrics = ['accuracy'])\n",
    "\n",
    "model6.summary()\n"
   ]
  },
  {
   "cell_type": "code",
   "execution_count": 117,
   "metadata": {},
   "outputs": [
    {
     "data": {
      "image/svg+xml": [
       "<svg xmlns=\"http://www.w3.org/2000/svg\" xmlns:xlink=\"http://www.w3.org/1999/xlink\" width=\"846pt\" height=\"461pt\" viewBox=\"0.00 0.00 1015.50 553.00\">\n",
       "<g id=\"graph0\" class=\"graph\" transform=\"scale(0.83 0.83) rotate(0) translate(4 549)\">\n",
       "<title>G</title>\n",
       "<polygon fill=\"white\" stroke=\"transparent\" points=\"-4,4 -4,-549 1011.5,-549 1011.5,4 -4,4\"/>\n",
       "<!-- 2322260899632 -->\n",
       "<g id=\"node1\" class=\"node\">\n",
       "<title>2322260899632</title>\n",
       "<polygon fill=\"none\" stroke=\"black\" points=\"218,-498.5 218,-544.5 499,-544.5 499,-498.5 218,-498.5\"/>\n",
       "<text text-anchor=\"middle\" x=\"284.5\" y=\"-517.8\" font-family=\"Times New Roman,serif\" font-size=\"14.00\">input_27: InputLayer</text>\n",
       "<polyline fill=\"none\" stroke=\"black\" points=\"351,-498.5 351,-544.5 \"/>\n",
       "<text text-anchor=\"middle\" x=\"379\" y=\"-529.3\" font-family=\"Times New Roman,serif\" font-size=\"14.00\">input:</text>\n",
       "<polyline fill=\"none\" stroke=\"black\" points=\"351,-521.5 407,-521.5 \"/>\n",
       "<text text-anchor=\"middle\" x=\"379\" y=\"-506.3\" font-family=\"Times New Roman,serif\" font-size=\"14.00\">output:</text>\n",
       "<polyline fill=\"none\" stroke=\"black\" points=\"407,-498.5 407,-544.5 \"/>\n",
       "<text text-anchor=\"middle\" x=\"453\" y=\"-529.3\" font-family=\"Times New Roman,serif\" font-size=\"14.00\">[(None, 128)]</text>\n",
       "<polyline fill=\"none\" stroke=\"black\" points=\"407,-521.5 499,-521.5 \"/>\n",
       "<text text-anchor=\"middle\" x=\"453\" y=\"-506.3\" font-family=\"Times New Roman,serif\" font-size=\"14.00\">[(None, 128)]</text>\n",
       "</g>\n",
       "<!-- 2320905871856 -->\n",
       "<g id=\"node3\" class=\"node\">\n",
       "<title>2320905871856</title>\n",
       "<polygon fill=\"none\" stroke=\"black\" points=\"366.5,-415.5 366.5,-461.5 646.5,-461.5 646.5,-415.5 366.5,-415.5\"/>\n",
       "<text text-anchor=\"middle\" x=\"467\" y=\"-434.8\" font-family=\"Times New Roman,serif\" font-size=\"14.00\">GloVe_Embeddings: Embedding</text>\n",
       "<polyline fill=\"none\" stroke=\"black\" points=\"567.5,-415.5 567.5,-461.5 \"/>\n",
       "<text text-anchor=\"middle\" x=\"595.5\" y=\"-446.3\" font-family=\"Times New Roman,serif\" font-size=\"14.00\">input:</text>\n",
       "<polyline fill=\"none\" stroke=\"black\" points=\"567.5,-438.5 623.5,-438.5 \"/>\n",
       "<text text-anchor=\"middle\" x=\"595.5\" y=\"-423.3\" font-family=\"Times New Roman,serif\" font-size=\"14.00\">output:</text>\n",
       "<polyline fill=\"none\" stroke=\"black\" points=\"623.5,-415.5 623.5,-461.5 \"/>\n",
       "<text text-anchor=\"middle\" x=\"635\" y=\"-446.3\" font-family=\"Times New Roman,serif\" font-size=\"14.00\">?</text>\n",
       "<polyline fill=\"none\" stroke=\"black\" points=\"623.5,-438.5 646.5,-438.5 \"/>\n",
       "<text text-anchor=\"middle\" x=\"635\" y=\"-423.3\" font-family=\"Times New Roman,serif\" font-size=\"14.00\">?</text>\n",
       "</g>\n",
       "<!-- 2322260899632&#45;&gt;2320905871856 -->\n",
       "<g id=\"edge1\" class=\"edge\">\n",
       "<title>2322260899632-&gt;2320905871856</title>\n",
       "<path fill=\"none\" stroke=\"black\" d=\"M398.94,-498.37C416.97,-488.5 438.37,-476.79 457.31,-466.42\"/>\n",
       "<polygon fill=\"black\" stroke=\"black\" points=\"459.02,-469.48 466.11,-461.61 455.65,-463.34 459.02,-469.48\"/>\n",
       "</g>\n",
       "<!-- 2322260900496 -->\n",
       "<g id=\"node2\" class=\"node\">\n",
       "<title>2322260900496</title>\n",
       "<polygon fill=\"none\" stroke=\"black\" points=\"517,-498.5 517,-544.5 792,-544.5 792,-498.5 517,-498.5\"/>\n",
       "<text text-anchor=\"middle\" x=\"583.5\" y=\"-517.8\" font-family=\"Times New Roman,serif\" font-size=\"14.00\">input_28: InputLayer</text>\n",
       "<polyline fill=\"none\" stroke=\"black\" points=\"650,-498.5 650,-544.5 \"/>\n",
       "<text text-anchor=\"middle\" x=\"678\" y=\"-529.3\" font-family=\"Times New Roman,serif\" font-size=\"14.00\">input:</text>\n",
       "<polyline fill=\"none\" stroke=\"black\" points=\"650,-521.5 706,-521.5 \"/>\n",
       "<text text-anchor=\"middle\" x=\"678\" y=\"-506.3\" font-family=\"Times New Roman,serif\" font-size=\"14.00\">output:</text>\n",
       "<polyline fill=\"none\" stroke=\"black\" points=\"706,-498.5 706,-544.5 \"/>\n",
       "<text text-anchor=\"middle\" x=\"749\" y=\"-529.3\" font-family=\"Times New Roman,serif\" font-size=\"14.00\">[(None, 16)]</text>\n",
       "<polyline fill=\"none\" stroke=\"black\" points=\"706,-521.5 792,-521.5 \"/>\n",
       "<text text-anchor=\"middle\" x=\"749\" y=\"-506.3\" font-family=\"Times New Roman,serif\" font-size=\"14.00\">[(None, 16)]</text>\n",
       "</g>\n",
       "<!-- 2322260900496&#45;&gt;2320905871856 -->\n",
       "<g id=\"edge2\" class=\"edge\">\n",
       "<title>2322260900496-&gt;2320905871856</title>\n",
       "<path fill=\"none\" stroke=\"black\" d=\"M614.06,-498.37C596.03,-488.5 574.63,-476.79 555.69,-466.42\"/>\n",
       "<polygon fill=\"black\" stroke=\"black\" points=\"557.35,-463.34 546.89,-461.61 553.98,-469.48 557.35,-463.34\"/>\n",
       "</g>\n",
       "<!-- 2319371971360 -->\n",
       "<g id=\"node4\" class=\"node\">\n",
       "<title>2319371971360</title>\n",
       "<polygon fill=\"none\" stroke=\"black\" points=\"205.5,-332.5 205.5,-378.5 499.5,-378.5 499.5,-332.5 205.5,-332.5\"/>\n",
       "<text text-anchor=\"middle\" x=\"269\" y=\"-351.8\" font-family=\"Times New Roman,serif\" font-size=\"14.00\">conv1d_8: Conv1D</text>\n",
       "<polyline fill=\"none\" stroke=\"black\" points=\"332.5,-332.5 332.5,-378.5 \"/>\n",
       "<text text-anchor=\"middle\" x=\"360.5\" y=\"-363.3\" font-family=\"Times New Roman,serif\" font-size=\"14.00\">input:</text>\n",
       "<polyline fill=\"none\" stroke=\"black\" points=\"332.5,-355.5 388.5,-355.5 \"/>\n",
       "<text text-anchor=\"middle\" x=\"360.5\" y=\"-340.3\" font-family=\"Times New Roman,serif\" font-size=\"14.00\">output:</text>\n",
       "<polyline fill=\"none\" stroke=\"black\" points=\"388.5,-332.5 388.5,-378.5 \"/>\n",
       "<text text-anchor=\"middle\" x=\"444\" y=\"-363.3\" font-family=\"Times New Roman,serif\" font-size=\"14.00\">(None, 128, 300)</text>\n",
       "<polyline fill=\"none\" stroke=\"black\" points=\"388.5,-355.5 499.5,-355.5 \"/>\n",
       "<text text-anchor=\"middle\" x=\"444\" y=\"-340.3\" font-family=\"Times New Roman,serif\" font-size=\"14.00\">(None, 120, 128)</text>\n",
       "</g>\n",
       "<!-- 2320905871856&#45;&gt;2319371971360 -->\n",
       "<g id=\"edge3\" class=\"edge\">\n",
       "<title>2320905871856-&gt;2319371971360</title>\n",
       "<path fill=\"none\" stroke=\"black\" d=\"M464.42,-415.37C445.58,-405.46 423.19,-393.68 403.41,-383.28\"/>\n",
       "<polygon fill=\"black\" stroke=\"black\" points=\"405.01,-380.16 394.53,-378.61 401.75,-386.36 405.01,-380.16\"/>\n",
       "</g>\n",
       "<!-- 2322261189680 -->\n",
       "<g id=\"node5\" class=\"node\">\n",
       "<title>2322261189680</title>\n",
       "<polygon fill=\"none\" stroke=\"black\" points=\"569,-332.5 569,-378.5 856,-378.5 856,-332.5 569,-332.5\"/>\n",
       "<text text-anchor=\"middle\" x=\"632.5\" y=\"-351.8\" font-family=\"Times New Roman,serif\" font-size=\"14.00\">conv1d_9: Conv1D</text>\n",
       "<polyline fill=\"none\" stroke=\"black\" points=\"696,-332.5 696,-378.5 \"/>\n",
       "<text text-anchor=\"middle\" x=\"724\" y=\"-363.3\" font-family=\"Times New Roman,serif\" font-size=\"14.00\">input:</text>\n",
       "<polyline fill=\"none\" stroke=\"black\" points=\"696,-355.5 752,-355.5 \"/>\n",
       "<text text-anchor=\"middle\" x=\"724\" y=\"-340.3\" font-family=\"Times New Roman,serif\" font-size=\"14.00\">output:</text>\n",
       "<polyline fill=\"none\" stroke=\"black\" points=\"752,-332.5 752,-378.5 \"/>\n",
       "<text text-anchor=\"middle\" x=\"804\" y=\"-363.3\" font-family=\"Times New Roman,serif\" font-size=\"14.00\">(None, 16, 300)</text>\n",
       "<polyline fill=\"none\" stroke=\"black\" points=\"752,-355.5 856,-355.5 \"/>\n",
       "<text text-anchor=\"middle\" x=\"804\" y=\"-340.3\" font-family=\"Times New Roman,serif\" font-size=\"14.00\">(None, 8, 128)</text>\n",
       "</g>\n",
       "<!-- 2320905871856&#45;&gt;2322261189680 -->\n",
       "<g id=\"edge4\" class=\"edge\">\n",
       "<title>2320905871856-&gt;2322261189680</title>\n",
       "<path fill=\"none\" stroke=\"black\" d=\"M562.52,-415.47C588.63,-405.21 619.87,-392.92 647.06,-382.23\"/>\n",
       "<polygon fill=\"black\" stroke=\"black\" points=\"648.47,-385.44 656.49,-378.52 645.91,-378.92 648.47,-385.44\"/>\n",
       "</g>\n",
       "<!-- 2319371971600 -->\n",
       "<g id=\"node6\" class=\"node\">\n",
       "<title>2319371971600</title>\n",
       "<polygon fill=\"none\" stroke=\"black\" points=\"0,-249.5 0,-295.5 501,-295.5 501,-249.5 0,-249.5\"/>\n",
       "<text text-anchor=\"middle\" x=\"167\" y=\"-268.8\" font-family=\"Times New Roman,serif\" font-size=\"14.00\">global_average_pooling1d_26: GlobalAveragePooling1D</text>\n",
       "<polyline fill=\"none\" stroke=\"black\" points=\"334,-249.5 334,-295.5 \"/>\n",
       "<text text-anchor=\"middle\" x=\"362\" y=\"-280.3\" font-family=\"Times New Roman,serif\" font-size=\"14.00\">input:</text>\n",
       "<polyline fill=\"none\" stroke=\"black\" points=\"334,-272.5 390,-272.5 \"/>\n",
       "<text text-anchor=\"middle\" x=\"362\" y=\"-257.3\" font-family=\"Times New Roman,serif\" font-size=\"14.00\">output:</text>\n",
       "<polyline fill=\"none\" stroke=\"black\" points=\"390,-249.5 390,-295.5 \"/>\n",
       "<text text-anchor=\"middle\" x=\"445.5\" y=\"-280.3\" font-family=\"Times New Roman,serif\" font-size=\"14.00\">(None, 120, 128)</text>\n",
       "<polyline fill=\"none\" stroke=\"black\" points=\"390,-272.5 501,-272.5 \"/>\n",
       "<text text-anchor=\"middle\" x=\"445.5\" y=\"-257.3\" font-family=\"Times New Roman,serif\" font-size=\"14.00\">(None, 128)</text>\n",
       "</g>\n",
       "<!-- 2319371971360&#45;&gt;2319371971600 -->\n",
       "<g id=\"edge5\" class=\"edge\">\n",
       "<title>2319371971360-&gt;2319371971600</title>\n",
       "<path fill=\"none\" stroke=\"black\" d=\"M324.63,-332.37C312.82,-322.99 298.92,-311.95 286.36,-301.98\"/>\n",
       "<polygon fill=\"black\" stroke=\"black\" points=\"288.35,-299.08 278.34,-295.61 283.99,-304.57 288.35,-299.08\"/>\n",
       "</g>\n",
       "<!-- 2321191695984 -->\n",
       "<g id=\"node7\" class=\"node\">\n",
       "<title>2321191695984</title>\n",
       "<polygon fill=\"none\" stroke=\"black\" points=\"519.5,-249.5 519.5,-295.5 1007.5,-295.5 1007.5,-249.5 519.5,-249.5\"/>\n",
       "<text text-anchor=\"middle\" x=\"686.5\" y=\"-268.8\" font-family=\"Times New Roman,serif\" font-size=\"14.00\">global_average_pooling1d_27: GlobalAveragePooling1D</text>\n",
       "<polyline fill=\"none\" stroke=\"black\" points=\"853.5,-249.5 853.5,-295.5 \"/>\n",
       "<text text-anchor=\"middle\" x=\"881.5\" y=\"-280.3\" font-family=\"Times New Roman,serif\" font-size=\"14.00\">input:</text>\n",
       "<polyline fill=\"none\" stroke=\"black\" points=\"853.5,-272.5 909.5,-272.5 \"/>\n",
       "<text text-anchor=\"middle\" x=\"881.5\" y=\"-257.3\" font-family=\"Times New Roman,serif\" font-size=\"14.00\">output:</text>\n",
       "<polyline fill=\"none\" stroke=\"black\" points=\"909.5,-249.5 909.5,-295.5 \"/>\n",
       "<text text-anchor=\"middle\" x=\"958.5\" y=\"-280.3\" font-family=\"Times New Roman,serif\" font-size=\"14.00\">(None, 8, 128)</text>\n",
       "<polyline fill=\"none\" stroke=\"black\" points=\"909.5,-272.5 1007.5,-272.5 \"/>\n",
       "<text text-anchor=\"middle\" x=\"958.5\" y=\"-257.3\" font-family=\"Times New Roman,serif\" font-size=\"14.00\">(None, 128)</text>\n",
       "</g>\n",
       "<!-- 2322261189680&#45;&gt;2321191695984 -->\n",
       "<g id=\"edge6\" class=\"edge\">\n",
       "<title>2322261189680-&gt;2321191695984</title>\n",
       "<path fill=\"none\" stroke=\"black\" d=\"M726.44,-332.37C731.89,-323.71 738.24,-313.62 744.12,-304.27\"/>\n",
       "<polygon fill=\"black\" stroke=\"black\" points=\"747.21,-305.93 749.58,-295.61 741.29,-302.2 747.21,-305.93\"/>\n",
       "</g>\n",
       "<!-- 2322261192224 -->\n",
       "<g id=\"node8\" class=\"node\">\n",
       "<title>2322261192224</title>\n",
       "<polygon fill=\"none\" stroke=\"black\" points=\"305.5,-166.5 305.5,-212.5 707.5,-212.5 707.5,-166.5 305.5,-166.5\"/>\n",
       "<text text-anchor=\"middle\" x=\"395\" y=\"-185.8\" font-family=\"Times New Roman,serif\" font-size=\"14.00\">concatenate_10: Concatenate</text>\n",
       "<polyline fill=\"none\" stroke=\"black\" points=\"484.5,-166.5 484.5,-212.5 \"/>\n",
       "<text text-anchor=\"middle\" x=\"512.5\" y=\"-197.3\" font-family=\"Times New Roman,serif\" font-size=\"14.00\">input:</text>\n",
       "<polyline fill=\"none\" stroke=\"black\" points=\"484.5,-189.5 540.5,-189.5 \"/>\n",
       "<text text-anchor=\"middle\" x=\"512.5\" y=\"-174.3\" font-family=\"Times New Roman,serif\" font-size=\"14.00\">output:</text>\n",
       "<polyline fill=\"none\" stroke=\"black\" points=\"540.5,-166.5 540.5,-212.5 \"/>\n",
       "<text text-anchor=\"middle\" x=\"624\" y=\"-197.3\" font-family=\"Times New Roman,serif\" font-size=\"14.00\">[(None, 128), (None, 128)]</text>\n",
       "<polyline fill=\"none\" stroke=\"black\" points=\"540.5,-189.5 707.5,-189.5 \"/>\n",
       "<text text-anchor=\"middle\" x=\"624\" y=\"-174.3\" font-family=\"Times New Roman,serif\" font-size=\"14.00\">(None, 256)</text>\n",
       "</g>\n",
       "<!-- 2319371971600&#45;&gt;2322261192224 -->\n",
       "<g id=\"edge7\" class=\"edge\">\n",
       "<title>2319371971600-&gt;2322261192224</title>\n",
       "<path fill=\"none\" stroke=\"black\" d=\"M320.11,-249.47C353.13,-239.03 392.74,-226.49 426.94,-215.67\"/>\n",
       "<polygon fill=\"black\" stroke=\"black\" points=\"428.42,-218.88 436.9,-212.52 426.31,-212.2 428.42,-218.88\"/>\n",
       "</g>\n",
       "<!-- 2321191695984&#45;&gt;2322261192224 -->\n",
       "<g id=\"edge8\" class=\"edge\">\n",
       "<title>2321191695984-&gt;2322261192224</title>\n",
       "<path fill=\"none\" stroke=\"black\" d=\"M693.61,-249.47C660.33,-238.98 620.36,-226.39 585.93,-215.53\"/>\n",
       "<polygon fill=\"black\" stroke=\"black\" points=\"586.96,-212.19 576.37,-212.52 584.86,-218.87 586.96,-212.19\"/>\n",
       "</g>\n",
       "<!-- 2322261192512 -->\n",
       "<g id=\"node9\" class=\"node\">\n",
       "<title>2322261192512</title>\n",
       "<polygon fill=\"none\" stroke=\"black\" points=\"381.5,-83.5 381.5,-129.5 631.5,-129.5 631.5,-83.5 381.5,-83.5\"/>\n",
       "<text text-anchor=\"middle\" x=\"437\" y=\"-102.8\" font-family=\"Times New Roman,serif\" font-size=\"14.00\">dense_28: Dense</text>\n",
       "<polyline fill=\"none\" stroke=\"black\" points=\"492.5,-83.5 492.5,-129.5 \"/>\n",
       "<text text-anchor=\"middle\" x=\"520.5\" y=\"-114.3\" font-family=\"Times New Roman,serif\" font-size=\"14.00\">input:</text>\n",
       "<polyline fill=\"none\" stroke=\"black\" points=\"492.5,-106.5 548.5,-106.5 \"/>\n",
       "<text text-anchor=\"middle\" x=\"520.5\" y=\"-91.3\" font-family=\"Times New Roman,serif\" font-size=\"14.00\">output:</text>\n",
       "<polyline fill=\"none\" stroke=\"black\" points=\"548.5,-83.5 548.5,-129.5 \"/>\n",
       "<text text-anchor=\"middle\" x=\"590\" y=\"-114.3\" font-family=\"Times New Roman,serif\" font-size=\"14.00\">(None, 256)</text>\n",
       "<polyline fill=\"none\" stroke=\"black\" points=\"548.5,-106.5 631.5,-106.5 \"/>\n",
       "<text text-anchor=\"middle\" x=\"590\" y=\"-91.3\" font-family=\"Times New Roman,serif\" font-size=\"14.00\">(None, 10)</text>\n",
       "</g>\n",
       "<!-- 2322261192224&#45;&gt;2322261192512 -->\n",
       "<g id=\"edge9\" class=\"edge\">\n",
       "<title>2322261192224-&gt;2322261192512</title>\n",
       "<path fill=\"none\" stroke=\"black\" d=\"M506.5,-166.37C506.5,-158.15 506.5,-148.66 506.5,-139.73\"/>\n",
       "<polygon fill=\"black\" stroke=\"black\" points=\"510,-139.61 506.5,-129.61 503,-139.61 510,-139.61\"/>\n",
       "</g>\n",
       "<!-- 2322261290336 -->\n",
       "<g id=\"node10\" class=\"node\">\n",
       "<title>2322261290336</title>\n",
       "<polygon fill=\"none\" stroke=\"black\" points=\"384.5,-0.5 384.5,-46.5 628.5,-46.5 628.5,-0.5 384.5,-0.5\"/>\n",
       "<text text-anchor=\"middle\" x=\"440\" y=\"-19.8\" font-family=\"Times New Roman,serif\" font-size=\"14.00\">dense_29: Dense</text>\n",
       "<polyline fill=\"none\" stroke=\"black\" points=\"495.5,-0.5 495.5,-46.5 \"/>\n",
       "<text text-anchor=\"middle\" x=\"523.5\" y=\"-31.3\" font-family=\"Times New Roman,serif\" font-size=\"14.00\">input:</text>\n",
       "<polyline fill=\"none\" stroke=\"black\" points=\"495.5,-23.5 551.5,-23.5 \"/>\n",
       "<text text-anchor=\"middle\" x=\"523.5\" y=\"-8.3\" font-family=\"Times New Roman,serif\" font-size=\"14.00\">output:</text>\n",
       "<polyline fill=\"none\" stroke=\"black\" points=\"551.5,-0.5 551.5,-46.5 \"/>\n",
       "<text text-anchor=\"middle\" x=\"590\" y=\"-31.3\" font-family=\"Times New Roman,serif\" font-size=\"14.00\">(None, 10)</text>\n",
       "<polyline fill=\"none\" stroke=\"black\" points=\"551.5,-23.5 628.5,-23.5 \"/>\n",
       "<text text-anchor=\"middle\" x=\"590\" y=\"-8.3\" font-family=\"Times New Roman,serif\" font-size=\"14.00\">(None, 1)</text>\n",
       "</g>\n",
       "<!-- 2322261192512&#45;&gt;2322261290336 -->\n",
       "<g id=\"edge10\" class=\"edge\">\n",
       "<title>2322261192512-&gt;2322261290336</title>\n",
       "<path fill=\"none\" stroke=\"black\" d=\"M506.5,-83.37C506.5,-75.15 506.5,-65.66 506.5,-56.73\"/>\n",
       "<polygon fill=\"black\" stroke=\"black\" points=\"510,-56.61 506.5,-46.61 503,-56.61 510,-56.61\"/>\n",
       "</g>\n",
       "</g>\n",
       "</svg>"
      ],
      "text/plain": [
       "<IPython.core.display.SVG object>"
      ]
     },
     "execution_count": 117,
     "metadata": {},
     "output_type": "execute_result"
    }
   ],
   "source": [
    "from IPython.display import SVG\n",
    "from keras.utils import vis_utils\n",
    "SVG(vis_utils.model_to_dot(model6, show_shapes=True, show_layer_names=True, dpi=60).create(prog='dot', format='svg'))  "
   ]
  },
  {
   "cell_type": "code",
   "execution_count": 118,
   "metadata": {},
   "outputs": [
    {
     "name": "stdout",
     "output_type": "stream",
     "text": [
      "Epoch 1/30\n",
      "35/35 [==============================] - 13s 343ms/step - loss: 0.5526 - accuracy: 0.7594 - val_loss: 0.5105 - val_accuracy: 0.7457\n",
      "Epoch 2/30\n",
      "35/35 [==============================] - 12s 342ms/step - loss: 0.3960 - accuracy: 0.8290 - val_loss: 0.4297 - val_accuracy: 0.7781\n",
      "Epoch 3/30\n",
      "35/35 [==============================] - 12s 339ms/step - loss: 0.3296 - accuracy: 0.8630 - val_loss: 0.3970 - val_accuracy: 0.8234\n",
      "Epoch 4/30\n",
      "35/35 [==============================] - 12s 339ms/step - loss: 0.2988 - accuracy: 0.8740 - val_loss: 0.4018 - val_accuracy: 0.8106\n",
      "Epoch 5/30\n",
      "35/35 [==============================] - 12s 339ms/step - loss: 0.2868 - accuracy: 0.8803 - val_loss: 0.3911 - val_accuracy: 0.8196\n",
      "Epoch 6/30\n",
      "35/35 [==============================] - 12s 338ms/step - loss: 0.2804 - accuracy: 0.8822 - val_loss: 0.3943 - val_accuracy: 0.8189\n",
      "Epoch 7/30\n",
      "35/35 [==============================] - 12s 335ms/step - loss: 0.2658 - accuracy: 0.8908 - val_loss: 0.4009 - val_accuracy: 0.8174\n",
      "Epoch 8/30\n",
      "35/35 [==============================] - 12s 338ms/step - loss: 0.2683 - accuracy: 0.8918 - val_loss: 0.3960 - val_accuracy: 0.8181\n",
      "Epoch 9/30\n",
      "35/35 [==============================] - 12s 338ms/step - loss: 0.2615 - accuracy: 0.8928 - val_loss: 0.3992 - val_accuracy: 0.8136\n",
      "Epoch 10/30\n",
      "35/35 [==============================] - 12s 339ms/step - loss: 0.2567 - accuracy: 0.8943 - val_loss: 0.3970 - val_accuracy: 0.8151\n",
      "Epoch 11/30\n",
      "35/35 [==============================] - 12s 335ms/step - loss: 0.2529 - accuracy: 0.8970 - val_loss: 0.4037 - val_accuracy: 0.8136\n",
      "Epoch 12/30\n",
      "35/35 [==============================] - 12s 339ms/step - loss: 0.2404 - accuracy: 0.9042 - val_loss: 0.4036 - val_accuracy: 0.8128\n",
      "Epoch 13/30\n",
      "35/35 [==============================] - 12s 338ms/step - loss: 0.2329 - accuracy: 0.9059 - val_loss: 0.4148 - val_accuracy: 0.8060\n",
      "Epoch 14/30\n",
      "35/35 [==============================] - 12s 339ms/step - loss: 0.2298 - accuracy: 0.9084 - val_loss: 0.4039 - val_accuracy: 0.8113\n",
      "Epoch 15/30\n",
      "35/35 [==============================] - 12s 336ms/step - loss: 0.2132 - accuracy: 0.9165 - val_loss: 0.4126 - val_accuracy: 0.8121\n",
      "Epoch 16/30\n",
      "35/35 [==============================] - 12s 339ms/step - loss: 0.2000 - accuracy: 0.9199 - val_loss: 0.4253 - val_accuracy: 0.8128\n",
      "Epoch 17/30\n",
      "35/35 [==============================] - 12s 338ms/step - loss: 0.1921 - accuracy: 0.9254 - val_loss: 0.4216 - val_accuracy: 0.8166\n",
      "Epoch 18/30\n",
      "35/35 [==============================] - 12s 338ms/step - loss: 0.1764 - accuracy: 0.9340 - val_loss: 0.4416 - val_accuracy: 0.8106\n",
      "Epoch 19/30\n",
      "35/35 [==============================] - 12s 336ms/step - loss: 0.1652 - accuracy: 0.9391 - val_loss: 0.4456 - val_accuracy: 0.8038\n",
      "Epoch 20/30\n",
      "35/35 [==============================] - 12s 340ms/step - loss: 0.1565 - accuracy: 0.9436 - val_loss: 0.4406 - val_accuracy: 0.8166\n",
      "Epoch 21/30\n",
      "35/35 [==============================] - 12s 339ms/step - loss: 0.1414 - accuracy: 0.9542 - val_loss: 0.4439 - val_accuracy: 0.8143\n",
      "Epoch 22/30\n",
      "35/35 [==============================] - 12s 336ms/step - loss: 0.1236 - accuracy: 0.9608 - val_loss: 0.4607 - val_accuracy: 0.8053\n",
      "Epoch 23/30\n",
      "35/35 [==============================] - 12s 343ms/step - loss: 0.1134 - accuracy: 0.9658 - val_loss: 0.4499 - val_accuracy: 0.8204\n",
      "Epoch 24/30\n",
      "35/35 [==============================] - 12s 338ms/step - loss: 0.1042 - accuracy: 0.9716 - val_loss: 0.4861 - val_accuracy: 0.7925\n",
      "Epoch 25/30\n",
      "35/35 [==============================] - 12s 339ms/step - loss: 0.0964 - accuracy: 0.9734 - val_loss: 0.4852 - val_accuracy: 0.8151\n",
      "Epoch 26/30\n",
      "35/35 [==============================] - 12s 339ms/step - loss: 0.0836 - accuracy: 0.9811 - val_loss: 0.4828 - val_accuracy: 0.8143\n",
      "Epoch 27/30\n",
      "35/35 [==============================] - 12s 339ms/step - loss: 0.0740 - accuracy: 0.9837 - val_loss: 0.5046 - val_accuracy: 0.8136\n",
      "Epoch 28/30\n",
      "35/35 [==============================] - 12s 338ms/step - loss: 0.0633 - accuracy: 0.9870 - val_loss: 0.5240 - val_accuracy: 0.7879\n",
      "Epoch 29/30\n",
      "35/35 [==============================] - 12s 341ms/step - loss: 0.0609 - accuracy: 0.9887 - val_loss: 0.5176 - val_accuracy: 0.8075\n",
      "Epoch 30/30\n",
      "35/35 [==============================] - 12s 337ms/step - loss: 0.0519 - accuracy: 0.9916 - val_loss: 0.5426 - val_accuracy: 0.7917\n"
     ]
    }
   ],
   "source": [
    "history = model6.fit([x_train_tweet_pad_glove,x_train_topic_pad_glove],\n",
    "                    y_train,\n",
    "                    epochs=30,\n",
    "                    batch_size=512,\n",
    "                    validation_data=([x_dev_tweet_pad_glove,x_dev_topic_pad_glove], y_dev),\n",
    "                    verbose=1)"
   ]
  },
  {
   "cell_type": "code",
   "execution_count": 119,
   "metadata": {},
   "outputs": [
    {
     "name": "stdout",
     "output_type": "stream",
     "text": [
      "194/194 [==============================] - 2s 9ms/step - loss: 0.4993 - accuracy: 0.8123\n",
      "[0.4992561638355255, 0.8122878074645996]\n"
     ]
    }
   ],
   "source": [
    "results = model6.evaluate([x_test_tweet_pad_glove,x_test_topic_pad_glove], y_test)\n",
    "print(results)"
   ]
  },
  {
   "cell_type": "code",
   "execution_count": 120,
   "metadata": {},
   "outputs": [
    {
     "data": {
      "image/png": "[encoded data removed]",
      "text/plain": [
       "<Figure size 720x360 with 2 Axes>"
      ]
     },
     "metadata": {
      "needs_background": "light"
     },
     "output_type": "display_data"
    }
   ],
   "source": [
    "from plot_keras_history import plot_history\n",
    "import matplotlib.pyplot as plt\n",
    "\n",
    "plot_history(history.history, path=\"standard.png\")\n",
    "plt.show()"
   ]
  }
 ],
 "metadata": {
  "accelerator": "GPU",
  "colab": {
   "collapsed_sections": [
    "xZ1KWFKvcagS"
   ],
   "machine_shape": "hm",
   "name": "Lab_5_semeval 2017_task4_subtask_B(Student).ipynb",
   "provenance": []
  },
  "kernelspec": {
   "display_name": "Python 3",
   "language": "python",
   "name": "python3"
  },
  "language_info": {
   "codemirror_mode": {
    "name": "ipython",
    "version": 3
   },
   "file_extension": ".py",
   "mimetype": "text/x-python",
   "name": "python",
   "nbconvert_exporter": "python",
   "pygments_lexer": "ipython3",
   "version": "3.8.5"
  }
 },
 "nbformat": 4,
 "nbformat_minor": 1
}
