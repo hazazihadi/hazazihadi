{
 "cells": [
  {
   "cell_type": "markdown",
   "metadata": {
    "id": "pulSn6bHUOTV"
   },
   "source": [
    "# Creating an End-To-End Dialogue System"
   ]
  },
  {
   "cell_type": "markdown",
   "metadata": {
    "id": "vb_Z5dCsUQnW"
   },
   "source": [
    "Customer support apps and online helpdesks are among the places where conversational models can be used. Retrieval-based models, which produce predefined responses to questions of specific types, are often used to power these models.The seq2seq model is used to build a generative model."
   ]
  },
  {
   "cell_type": "code",
   "execution_count": 1,
   "metadata": {
    "id": "9Dz-W5nwGydd"
   },
   "outputs": [],
   "source": [
    "import re\n",
    "import sys\n",
    "import os\n",
    "import random\n",
    "import string\n",
    "import time\n",
    "import pickle\n",
    "import numpy as np\n",
    "import tensorflow as tf\n",
    "import matplotlib.pyplot as plt\n",
    "from tensorflow.keras import optimizers\n",
    "from tensorflow.keras.layers import add\n",
    "from tensorflow.keras.models import Model\n",
    "from tensorflow.keras import backend as K\n",
    "from tensorflow.keras.utils import plot_model\n",
    "from tensorflow.keras.callbacks import ReduceLROnPlateau\n",
    "from nltk.translate.bleu_score import corpus_bleu\n",
    "from tensorflow.keras.utils import to_categorical\n",
    "from tensorflow.keras.callbacks import ModelCheckpoint\n",
    "from tensorflow.keras.preprocessing.text import Tokenizer\n",
    "from tensorflow.keras.preprocessing.sequence import pad_sequences\n",
    "from tensorflow.keras.layers import Input, Dense, LSTM, GRU, TimeDistributed\n",
    "from tensorflow.keras.layers import Embedding, Dropout, Bidirectional, Concatenate, Lambda\n",
    "np.random.seed(1)\n",
    "random.seed(1)"
   ]
  },
  {
   "cell_type": "code",
   "execution_count": null,
   "metadata": {
    "colab": {
     "base_uri": "https://localhost:8080/"
    },
    "id": "i-bgxBxHHIDi",
    "outputId": "c54ecbfc-90e9-40d6-80bd-59bae526c015"
   },
   "outputs": [
    {
     "name": "stdout",
     "output_type": "stream",
     "text": [
      "Mounted at /content/drive\n"
     ]
    }
   ],
   "source": [
    "# from google.colab import drive\n",
    "\n",
    "# drive.mount('/content/drive', force_remount=True)\n",
    "\n",
    "# os.chdir(\"/content/drive/My Drive\")"
   ]
  },
  {
   "cell_type": "markdown",
   "metadata": {
    "id": "SVIb8_AK9xjD"
   },
   "source": [
    "# The Cornell Movie-Dialogs Corpus "
   ]
  },
  {
   "cell_type": "markdown",
   "metadata": {
    "id": "p7hru-2uFRWy"
   },
   "source": [
    "The next move is to reformat our data file and load the data into functional structures. \n",
    "\n",
    "The Cornell Movie-Dialogs Corpus contains 220,579 conversational exchanges between 10,292 pairs of movie characters, 9,035 characters from 617 movies, and 304,713 total utterances. This dataset is large with a wide variety of language formality, time periods, and other variables. Our hope is that this variety will make our model responsive to a wide range of queries."
   ]
  },
  {
   "cell_type": "code",
   "execution_count": 2,
   "metadata": {
    "colab": {
     "base_uri": "https://localhost:8080/"
    },
    "id": "wVCjdDP_HMIM",
    "outputId": "982996dd-ff4a-48ac-d506-96f64c471da7"
   },
   "outputs": [
    {
     "name": "stdout",
     "output_type": "stream",
     "text": [
      "Can we make this quick?  Roxanne Korrine and Andrew Barrett are having an incredibly horrendous public break- up on the quad.  Again.\n",
      "Well, I thought we'd start with pronunciation, if that's okay with you.\n",
      "\n",
      "Well, I thought we'd start with pronunciation, if that's okay with you.\n",
      "Not the hacking and gagging and spitting part.  Please.\n",
      "\n",
      "Not the hacking and gagging and spitting part.  Please.\n",
      "Okay... then how 'bout we try out some French cuisine.  Saturday?  Night?\n",
      "\n",
      "You're asking me out.  That's so cute. What's your name again?\n",
      "Forget it.\n",
      "\n",
      "No, no, it's my fault -- we didn't have a proper introduction ---\n",
      "Cameron.\n",
      "\n"
     ]
    },
    {
     "data": {
      "text/plain": [
       "221616"
      ]
     },
     "execution_count": 2,
     "metadata": {},
     "output_type": "execute_result"
    }
   ],
   "source": [
    "#Loading the data\n",
    "lines = open('cornell movie-dialogs corpus/movie_lines.txt', encoding='utf-8', errors='ignore').read().split('\\n')\n",
    "conv_lines = open('cornell movie-dialogs corpus/movie_conversations.txt', encoding='utf-8', errors='ignore').read().split('\\n') # index of related lines\n",
    "\n",
    "# Create a dictionary to map each id with its line\n",
    "id2line = {}\n",
    "for line in lines:\n",
    "    _line = line.split(' +++$+++ ')\n",
    "    if len(_line) == 5:\n",
    "        id2line[_line[0]] = _line[4]\n",
    "        \n",
    "# Create a list of all of the ids.\n",
    "convs = [ ]\n",
    "for line in conv_lines[:-1]:\n",
    "    _line = line.split(' +++$+++ ')[-1][1:-1].replace(\"'\",\"\").replace(\" \",\"\")\n",
    "    convs.append(_line.split(','))\n",
    "\n",
    "# Sort the sentences into questions (inputs) and answers (targets)\n",
    "pairs = []\n",
    "for conv in convs:\n",
    "    for i in range(len(conv)-1):\n",
    "        pairs.append([id2line[conv[i]],id2line[conv[i+1]]])\n",
    "        \n",
    "limit = 0\n",
    "for i in range(limit, limit+5):\n",
    "    print(pairs[i][0])\n",
    "    print(pairs[i][1])\n",
    "    print()\n",
    "    \n",
    "len(pairs)\n"
   ]
  },
  {
   "cell_type": "markdown",
   "metadata": {
    "id": "pGhwqopLhZBu"
   },
   "source": [
    "We'll format data file with a question sentence and an answer sentence pair on each line for convenience.  Before we are ready to use this data, we must perform some preprocessing.\n"
   ]
  },
  {
   "cell_type": "code",
   "execution_count": 3,
   "metadata": {
    "colab": {
     "base_uri": "https://localhost:8080/"
    },
    "id": "R0O-qSHrHYgU",
    "outputId": "9d49ed3a-cdc1-4f7d-9cd2-c89c5aa01c58"
   },
   "outputs": [
    {
     "data": {
      "text/plain": [
       "[['can we make this quick roxanne korrine and andrew barrett are having an incredibly horrendous public break up on the quad again',\n",
       "  'well i thought we would start with pronunciation if that is okay with you'],\n",
       " ['well i thought we would start with pronunciation if that is okay with you',\n",
       "  'not the hacking and gagging and spitting part please'],\n",
       " ['not the hacking and gagging and spitting part please',\n",
       "  'okay then how about we try out some french cuisine saturday night'],\n",
       " ['you are asking me out that is so cute that is your name again',\n",
       "  'forget it'],\n",
       " ['no no it is my fault we did not have a proper introduction', 'cameron']]"
      ]
     },
     "execution_count": 3,
     "metadata": {},
     "output_type": "execute_result"
    }
   ],
   "source": [
    "def preprocess(pairs):\n",
    "    p = pairs.copy()\n",
    "\n",
    "    for i in p:\n",
    "        for j in range(0,2):\n",
    "            i[j] = i[j].lower()\n",
    "            i[j] = re.sub(r\"there's\", \"there is\", i[j])\n",
    "            i[j] = re.sub(r\"i'm\", \"i am\", i[j])\n",
    "            i[j] = re.sub(r\"he's\", \"he is\", i[j])\n",
    "            i[j] = re.sub(r\"she's\", \"she is\", i[j])\n",
    "            i[j] = re.sub(r\"it's\", \"it is\", i[j])\n",
    "            i[j] = re.sub(r\"that's\", \"that is\", i[j])\n",
    "            i[j] = re.sub(r\"what's\", \"that is\", i[j])\n",
    "            i[j] = re.sub(r\"where's\", \"where is\", i[j])\n",
    "            i[j] = re.sub(r\"how's\", \"how is\", i[j])\n",
    "            i[j] = re.sub(r\"\\'ll\", \" will\", i[j])\n",
    "            i[j] = re.sub(r\"\\'ve\", \" have\", i[j])\n",
    "            i[j] = re.sub(r\"\\'re\", \" are\", i[j])\n",
    "            i[j] = re.sub(r\"\\'d\", \" would\", i[j])\n",
    "            i[j] = re.sub(r\"\\'re\", \" are\", i[j])\n",
    "            i[j] = re.sub(r\"won't\", \"will not\", i[j])\n",
    "            i[j] = re.sub(r\"can't\", \"cannot\", i[j])\n",
    "            i[j] = re.sub(r\"n't\", \" not\", i[j])\n",
    "            i[j] = re.sub(r\"n'\", \"ng\", i[j])\n",
    "            i[j] = re.sub(r\"'bout\", \"about\", i[j])\n",
    "            i[j] = re.sub(r\"'til\", \"until\", i[j])\n",
    "            i[j] = re.sub(r\"[-()\\\"#/@;:<>{}`+=~|.!?,]\", \"\", i[j])\n",
    "            i[j] = i[j].strip()\n",
    "    return p\n",
    "\n",
    "replaced_pairs = preprocess(pairs)\n",
    "def clean_data(pairs):\n",
    "    p = pairs.copy()\n",
    "    # prepare translation table \n",
    "    table = str.maketrans('', '', string.punctuation)\n",
    "    for i in p:\n",
    "        # tokenize\n",
    "        i[0], i[1] = i[0].split(), i[1].split()\n",
    "        # convert to lower case\n",
    "        i[0], i[1] = [word.lower() for word in i[0]], [word.lower() for word in i[1]]\n",
    "        # remove punctuations \n",
    "        i[0], i[1] = [w.translate(table) for w in i[0]], [w.translate(table) for w in i[1]]\n",
    "        # remove numbers \n",
    "        i[0], i[1] = [word for word in i[0] if word.isalpha()], [word for word in i[1] if word.isalpha()]\n",
    "        # store as string\n",
    "        i[0], i[1] =  ' '.join(i[0]), ' '.join(i[1])\n",
    "            \n",
    "    return p\n",
    "\n",
    "clean_pairs = clean_data(replaced_pairs)\n",
    "clean_pairs[:5]"
   ]
  },
  {
   "cell_type": "markdown",
   "metadata": {
    "id": "FKTpzSOWnUgL"
   },
   "source": [
    "\n",
    "The parsing of the raw movie lines.txt data file is made simpler with the following functions. We add the start and end tokens to our sentences. We also need to find the maximum length.\n",
    "\n"
   ]
  },
  {
   "cell_type": "code",
   "execution_count": 4,
   "metadata": {
    "colab": {
     "base_uri": "https://localhost:8080/"
    },
    "id": "g_P2abDKHkbm",
    "outputId": "6b443c6d-f5d0-49e6-8e66-96f92038f83f"
   },
   "outputs": [
    {
     "name": "stdout",
     "output_type": "stream",
     "text": [
      "max-len of questions for training:  18\n",
      "max-len of answers for training:  18\n"
     ]
    }
   ],
   "source": [
    "# adding the start and end tokens to our utterances\n",
    "start_token = '<startseq>'\n",
    "end_token = '<endseq>'\n",
    "\n",
    "def add_end_start_tokens(pairs):\n",
    "    p = pairs.copy()\n",
    "    for i in p:\n",
    "        i[0] = start_token + ' '  + i[0] + ' ' + end_token\n",
    "        i[1] = start_token + ' '  + i[1] + ' ' + end_token\n",
    "    return p\n",
    "\n",
    "tokenized_pairs = add_end_start_tokens(clean_pairs)\n",
    "tokenized_pairs[:5]\n",
    "\n",
    "# finding the maximum length for questions and answers\n",
    "# we caculate the max length that covers 80% of the data \n",
    "def max_length(pairs,prct):\n",
    "    # Create a list of all the utterances\n",
    "    questions = []\n",
    "    answers = []\n",
    "    for i in pairs:\n",
    "        questions.append(i[0])\n",
    "        answers.append(i[1])\n",
    "        \n",
    "    length_questions = list(len(d.split()) for d in questions)\n",
    "    length_answers = list(len(d.split()) for d in answers)\n",
    "\n",
    "    return int(np.percentile(length_questions, prct)),int(np.percentile(length_answers, prct))\n",
    "\n",
    "max_len_q,max_len_a = max_length(tokenized_pairs,80)\n",
    "\n",
    "print('max-len of questions for training: ', max_len_q)\n",
    "print('max-len of answers for training: ', max_len_a)"
   ]
  },
  {
   "cell_type": "markdown",
   "metadata": {
    "id": "hFsKDr1Wr6d3"
   },
   "source": [
    "The next step is to build a vocabulary and save query/response pairs. \n",
    "It's worth noting that we're dealing with word sequences that don't have an implicit mapping to a discrete numerical space. As a result, we must build one by assigning an index value to each unique word in our dataset.\n",
    "\n",
    "We are going to create our vocabulary. Trimming rarely used words from our vocabulary is another strategy for achieving faster convergence during preparation. The complexity of the function that the model must learn to approximate will be lowered as the feature space is reduced."
   ]
  },
  {
   "cell_type": "code",
   "execution_count": 5,
   "metadata": {
    "colab": {
     "base_uri": "https://localhost:8080/"
    },
    "id": "Y20Cn9KPHrid",
    "outputId": "ef1539e4-51df-4315-ab28-39138bad1a66"
   },
   "outputs": [
    {
     "name": "stdout",
     "output_type": "stream",
     "text": [
      "Short vocab size: 14524 \n"
     ]
    },
    {
     "data": {
      "text/plain": [
       "['<endseq>', '<startseq>', 'a', 'aa', 'aaaah']"
      ]
     },
     "execution_count": 5,
     "metadata": {},
     "output_type": "execute_result"
    }
   ],
   "source": [
    "# Remove questions and answers that are shorter than 2 words and longer than maxlen.\n",
    "min_line_len = 2 # two words are for tokens\n",
    "\n",
    "def set_length(tokenized_pairs):\n",
    "    pairs_final = []\n",
    "    for p in tokenized_pairs:\n",
    "        if (\n",
    "            len(p[0].split())>=min_line_len and len(p[1].split())>=min_line_len \n",
    "           and len(p[0].split())<=max_len_q and len(p[1].split())<=max_len_a):\n",
    "                \n",
    "            pairs_final.append(p)\n",
    "            \n",
    "    return pairs_final\n",
    "\n",
    "pairs_final = set_length(tokenized_pairs)\n",
    "len(pairs_final)\n",
    "\n",
    "# making a vocabulary of the words that occur more than word_count_threshold \n",
    "def create_reoccurring_vocab(pairs, word_count_threshold = 5):\n",
    "    p = pairs\n",
    "    all_captions = []\n",
    "    for i in p:\n",
    "        for j in i:\n",
    "            all_captions.append(j)\n",
    "\n",
    "    # Consider only words which occur at least 10 times in the corpus\n",
    "    word_counts = {}\n",
    "    nsents = 0\n",
    "    for sent in all_captions:\n",
    "        nsents += 1\n",
    "        for w in sent.split(' '):\n",
    "            word_counts[w] = word_counts.get(w, 0) + 1\n",
    "\n",
    "    vocab = [w for w in word_counts if word_counts[w] >= word_count_threshold]\n",
    "    vocab = list(set(vocab))\n",
    "    print('Short vocab size: %d ' % len(vocab))\n",
    "    return vocab\n",
    "\n",
    "# each word in the vocabulary must be used in the data at least 20 times\n",
    "new_vocab = create_reoccurring_vocab(pairs_final, word_count_threshold = 4)\n",
    "for v in new_vocab:\n",
    "    if len(v) == 1 and v!='a' and v!='i':\n",
    "        new_vocab.remove(v) \n",
    "\n",
    "new_vocab = sorted(new_vocab)[1:]\n",
    "new_vocab[:5]"
   ]
  },
  {
   "cell_type": "code",
   "execution_count": 6,
   "metadata": {
    "colab": {
     "base_uri": "https://localhost:8080/"
    },
    "id": "2Gf7WtdIH1l7",
    "outputId": "c238e5b9-fda3-4d80-ca76-ae60819fa822"
   },
   "outputs": [
    {
     "data": {
      "text/plain": [
       "14500"
      ]
     },
     "execution_count": 6,
     "metadata": {},
     "output_type": "execute_result"
    }
   ],
   "source": [
    "vocab_len = len(new_vocab) + 1 # since index 0 is used as padding, we have to increase the vocab size\n",
    "vocab_len\n"
   ]
  },
  {
   "cell_type": "markdown",
   "metadata": {
    "id": "WQ1ai5lcibcU"
   },
   "source": [
    "We are going to create a dataset of pairs without the trimmed words."
   ]
  },
  {
   "cell_type": "code",
   "execution_count": 7,
   "metadata": {
    "id": "L0iu6Z3RmecS"
   },
   "outputs": [],
   "source": [
    "def progressBar(value, endvalue, bar_length=20, job=''):\n",
    "\n",
    "    percent = float(value) / endvalue\n",
    "    arrow = '-' * int(round(percent * bar_length)-1) + '>'\n",
    "    spaces = ' ' * (bar_length - len(arrow))\n",
    "\n",
    "    sys.stdout.write(\"\\r{0} : [{1}] {2}%\".format(job,arrow + spaces, int(round(percent * 100))))\n",
    "    sys.stdout.flush()\n",
    "    \n",
    "def print_tensor(t):\n",
    "    print(K.get_value(t))\n",
    "    \n",
    "def to_tensor(t):\n",
    "    return tf.convert_to_tensor(t)"
   ]
  },
  {
   "cell_type": "code",
   "execution_count": 8,
   "metadata": {
    "colab": {
     "base_uri": "https://localhost:8080/"
    },
    "id": "9xWI1J7uH4II",
    "outputId": "556e74b0-16d1-414f-dbfb-25d2a513614f"
   },
   "outputs": [
    {
     "name": "stdout",
     "output_type": "stream",
     "text": [
      " : [------------------->] 100%\n",
      "Trimmed from 145905 pairs to 114938\n"
     ]
    },
    {
     "data": {
      "text/plain": [
       "114938"
      ]
     },
     "execution_count": 8,
     "metadata": {},
     "output_type": "execute_result"
    }
   ],
   "source": [
    "# keeping the pairs with words in the vocab\n",
    "def trimRareWords(voc, pairs):\n",
    "    # Filtering out the pairs with the oov words\n",
    "    keep_pairs = []\n",
    "    i=0\n",
    "    for pair in pairs:\n",
    "        i+=1\n",
    "        progressBar(value=i,endvalue=len(pairs))\n",
    "        input_sentence = pair[0]\n",
    "        output_sentence = pair[1]\n",
    "        keep_input = True\n",
    "        keep_output = True\n",
    "        #  input sentence\n",
    "        for word in input_sentence.split(' '):\n",
    "            if word not in voc:\n",
    "                keep_input = False\n",
    "                break\n",
    "        #  output sentence\n",
    "        for word in output_sentence.split(' '):\n",
    "            if word not in voc:\n",
    "                keep_output = False\n",
    "                break\n",
    "\n",
    "        if keep_input and keep_output:\n",
    "            keep_pairs.append(pair)\n",
    "\n",
    "    print(\"\\nTrimmed from {} pairs to {}\".format(len(pairs), len(keep_pairs)))\n",
    "    return keep_pairs\n",
    "\n",
    "\n",
    "# # Trim voc and pairs\n",
    "pairs_final = trimRareWords(new_vocab, pairs_final)\n",
    "with open ('final_pairs_v21.pkl','wb') as f:\n",
    "    pairs_final = pickle.dump(pairs_final,f)\n",
    "    \n",
    "with open ('final_pairs_v21.pkl','rb') as f:\n",
    "    pairs_final = pickle.load(f)\n",
    "    \n",
    "pairs_final_train = pairs_final\n",
    "len(pairs_final_train)"
   ]
  },
  {
   "cell_type": "code",
   "execution_count": 9,
   "metadata": {
    "colab": {
     "base_uri": "https://localhost:8080/"
    },
    "id": "gtP1tSpzf6FA",
    "outputId": "dbde4661-cf70-4682-ae89-7282b7b92278"
   },
   "outputs": [
    {
     "data": {
      "text/plain": [
       "114938"
      ]
     },
     "execution_count": 9,
     "metadata": {},
     "output_type": "execute_result"
    }
   ],
   "source": [
    "with open ('final_pairs_v21.pkl','rb') as f:\n",
    "    pairs_final = pickle.load(f)\n",
    "    \n",
    "pairs_final_train = pairs_final\n",
    "len(pairs_final_train)"
   ]
  },
  {
   "cell_type": "markdown",
   "metadata": {
    "id": "Szo-AVa_z1tR"
   },
   "source": [
    "# Embedding layer"
   ]
  },
  {
   "cell_type": "markdown",
   "metadata": {
    "id": "zf7PJEmwUywI"
   },
   "source": [
    "Our models will eventually expect numerical tensors as inputs, despite the fact that we put a lot of effort into preparing and massaging our data into a nice vocabulary object and list of sentence pairs. The Embedding layer can be used to load a pre-trained word embedding model. We are going to use GloVe embeddings. You can download GloVe and we can seed the Keras Embedding layer with weights from the pre-trained embedding for the words in your dataset."
   ]
  },
  {
   "cell_type": "code",
   "execution_count": 10,
   "metadata": {
    "colab": {
     "base_uri": "https://localhost:8080/"
    },
    "id": "6P8WElcGICYy",
    "outputId": "5f4715bb-6c08-4cab-c4a2-d8126e8b62d8"
   },
   "outputs": [
    {
     "name": "stdout",
     "output_type": "stream",
     "text": [
      "Loading glove...\n",
      "GloVe  50  loded!\n"
     ]
    }
   ],
   "source": [
    "test = False\n",
    "GRU_units = 50\n",
    "batch_size = 32\n",
    "emb_dim = 50\n",
    "init_lr = 0.001\n",
    "\n",
    "#Create an instance of the tokenizer object:\n",
    "tokenizer = Tokenizer(filters = [])\n",
    "tokenizer.fit_on_texts(new_vocab)\n",
    "\n",
    "ixtoword = {} # index to word dic\n",
    "wordtoix = tokenizer.word_index # word to index dic\n",
    "pad_token = 'pad0'\n",
    "ixtoword[0] = pad_token # no word in vocab has index 0,  padding is indicated with 0\n",
    "\n",
    "for w in tokenizer.word_index:\n",
    "    ixtoword[tokenizer.word_index[w]] = w\n",
    "\n",
    "# Making the embedding mtrix\n",
    "def make_embedding_layer(embedding_dim=50, glove=True):\n",
    "    if glove == False:\n",
    "        print('Just a zero matrix loaded')\n",
    "        embedding_matrix = np.zeros((vocab_len, embedding_dim)) # just a zero matrix \n",
    "    else:\n",
    "        print('Loading glove...')\n",
    "        embeddings_index = {} \n",
    "        f = open(os.path.join('glove.6B.50d.txt'), encoding=\"utf-8\")\n",
    "        for line in f:\n",
    "            values = line.split()\n",
    "            word = values[0]\n",
    "            coefs = np.asarray(values[1:], dtype='float32')\n",
    "            embeddings_index[word] = coefs\n",
    "        f.close()\n",
    "        print(\"GloVe \",embedding_dim, ' loded!')\n",
    "        embedding_matrix = np.zeros((vocab_len, embedding_dim)) # to import as weights for Keras Embedding layer\n",
    "        for word, i in wordtoix.items():\n",
    "            embedding_vector = embeddings_index.get(word)\n",
    "            if embedding_vector is not None:\n",
    "                # Words that are not found in the embedding index will be all zeros\n",
    "                embedding_matrix[i] = embedding_vector\n",
    "            \n",
    "    embedding_layer = Embedding(vocab_len, embedding_dim, mask_zero=True, trainable=False) # we have a limited vocab so we \n",
    "                                                                                           # do not train the embedding layer\n",
    "                                                                                           # we use 0 as padding so => mask_zero=True\n",
    "    embedding_layer.build((None,))\n",
    "    embedding_layer.set_weights([embedding_matrix])\n",
    "    \n",
    "    return embedding_layer\n",
    "\n",
    "embeddings = make_embedding_layer(embedding_dim=50, glove=not test)"
   ]
  },
  {
   "cell_type": "markdown",
   "metadata": {
    "id": "HIZCs-L8-XWh"
   },
   "source": [
    "# Seq2Seq Model\n",
    "\n"
   ]
  },
  {
   "cell_type": "markdown",
   "metadata": {
    "id": "EEcMRrQ3VVwA"
   },
   "source": [
    "A sequence-to-sequence (seq2seq) model is at the core of our model. The purpose of a seq2seq model is to use a fixed-sized sequence as an input and generate a variable-length sequence as an output.\n",
    "\n",
    "[Sutskever et al.](https://arxiv.org/abs/1409.3215) found that we can do this task by combining two different recurrent neural nets. One  RNN serves as an encoder, converting a variable-length input sequence to a fixed-length context vector. This context vector (the RNN's final hidden layer) contain semantic knowledge about the query sentence that the system receives.\n",
    "\n"
   ]
  },
  {
   "cell_type": "markdown",
   "metadata": {
    "id": "mhGdfvA0-jcE"
   },
   "source": [
    "# Encoder"
   ]
  },
  {
   "cell_type": "markdown",
   "metadata": {
    "id": "l1fHwj0C-idB"
   },
   "source": [
    "The encoder RNN iterates through the input sentence one token at a time, producing an \"output\" vector and a \"hidden state\" vector at each time step.  The output vector is recorded while the hidden state vector is transferred to the next time step. The encoder converts the context it observed at each point in the sequence into a set of points in a high-dimensional space, which the decoder can use to produce a meaningful output for the task at hand.\n",
    "\n",
    "A multi-layered Gated Recurrent Unit, created by [Cho et al.](https://arxiv.org/pdf/1406.1078v3.pdf), is at the centre of our encoder. We'll use a bidirectional version of the GRU, which effectively means there are two separate RNNs: one fed the input sequence in regular sequential order and the other fed the input sequence in reverse order. At each time point, the outputs of each network are added together.\n",
    "\n",
    "***For the first task you need to define a bidirectional GRU and pass the embedding into the GRU. ***"
   ]
  },
  {
   "cell_type": "code",
   "execution_count": 11,
   "metadata": {
    "id": "cGy-CuL-IXKr"
   },
   "outputs": [],
   "source": [
    "class Encoder(tf.keras.Model):\n",
    "    def __init__(self, vocab_size,embedding_dim, enc_units):\n",
    "        super(Encoder, self).__init__()\n",
    "        self.batch_sz = batch_size\n",
    "        self.enc_units = enc_units\n",
    "        \n",
    "        #  pass the embedding into a bidirectional version of the GRU\n",
    "\n",
    "        self.embeddings = embeddings\n",
    "        self.Bidirectional1=Bidirectional(GRU(self.enc_units, return_sequences = True))\n",
    "        self.Bidirectional2=Bidirectional(GRU(self.enc_units, return_sequences = True,\n",
    "                                             return_state = True))\n",
    "\n",
    "\n",
    "        #                                                                                        \n",
    "        self.dropout = Dropout(0.2)\n",
    "        self.Inp = Input(shape=(max_len_q,)) # size of questions\n",
    "            \n",
    "    def bidirectional(self, bidir, layer, inp, hidden):\n",
    "        return bidir(layer(inp, initial_state = hidden))\n",
    "    \n",
    "    def call(self, x, hidden):\n",
    "        x = self.embeddings(x)\n",
    "#         x = self.dropout(x)\n",
    "#         x = self.Bidirectional1(x)\n",
    "        x = self.dropout(x)\n",
    "        output, state_f,state_b = self.Bidirectional2(x)\n",
    "\n",
    "        return output, state_f, state_b\n",
    "\n",
    "    def initialize_hidden_state(self):\n",
    "        return tf.zeros((self.batch_sz, self.enc_units))\n"
   ]
  },
  {
   "cell_type": "code",
   "execution_count": 12,
   "metadata": {
    "id": "HWX9HCkIIbed"
   },
   "outputs": [],
   "source": [
    "encoder = Encoder(vocab_len, 50, GRU_units)\n"
   ]
  },
  {
   "cell_type": "markdown",
   "metadata": {
    "id": "80-YvbB--qbT"
   },
   "source": [
    "# Decoder"
   ]
  },
  {
   "cell_type": "markdown",
   "metadata": {
    "id": "aQ7GWss5YqUC"
   },
   "source": [
    "The response utterance is produced token by token by the decoder RNN. It generates the next word in the sequence using the encoder's context vectors and internal hidden states. It keeps producing words until it reaches the end of the sentence, which is represented by an end_token. A common issue with a standard seq2seq decoder is that relying solely on the context vector to encode the meaning of the complete input sequence would almost certainly result in information loss. This is particularly true when dealing with long input sequences, severely restricting our decoder's capabilities.\n",
    "\n",
    "[Bahdanau et al.](https://arxiv.org/abs/1409.0473) devised an \"attention mechanism\" that allows the decoder to focus on specific parts of the input sequence rather than using the whole set context at each step to deal with information loss. Attention is determined using the encoder's outputs and the decoder's current hidden state. Since the output attention weights have the same shape as the input sequence, we may multiply them by the encoder outputs to get a weighted amount that shows which sections of the encoder output to focus on.\n",
    "\n",
    "**For the second task you need to create the decoder with attention. Call the attention layer and use GRUs for decoding.**"
   ]
  },
  {
   "cell_type": "code",
   "execution_count": 13,
   "metadata": {
    "id": "KssO1KLzId2d"
   },
   "outputs": [],
   "source": [
    "class BahdanauAttention(tf.keras.layers.Layer):\n",
    "    def __init__(self, units):\n",
    "        super(BahdanauAttention, self).__init__()\n",
    "        self.W1 = tf.keras.layers.Dense(units)\n",
    "        self.W2 = tf.keras.layers.Dense(units)\n",
    "        self.V = tf.keras.layers.Dense(1)\n",
    "        self.units = units\n",
    "        \n",
    "    def call(self, query, values):\n",
    "        \n",
    "        # query hidden state shape == (batch_size, hidden size)\n",
    "        # query_with_time_axis shape == (batch_size, 1, hidden size)\n",
    "        # values shape == (batch_size, max_len, hidden size)\n",
    "        # we are doing this to broadcast addition along the time axis to calculate the score\n",
    "        query_with_time_axis = tf.expand_dims(query, 1)\n",
    "\n",
    "        # score shape == (batch_size, max_length, 1)\n",
    "        # we get 1 at the last axis because we are applying score to self.V\n",
    "        # the shape of the tensor before applying self.V is (batch_size, max_length, units)\n",
    "        score = self.V(tf.nn.tanh(\n",
    "            self.W1(query_with_time_axis) + self.W2(values)))\n",
    "\n",
    "        # attention_weights shape == (batch_size, max_length, 1)\n",
    "        attention_weights = tf.nn.softmax(score, axis=1)\n",
    "\n",
    "        # context_vector shape after sum == (batch_size, hidden_size)\n",
    "        context_vector = attention_weights * values\n",
    "        context_vector = tf.reduce_sum(context_vector, axis=1)\n",
    "\n",
    "        return context_vector, attention_weights"
   ]
  },
  {
   "cell_type": "code",
   "execution_count": 33,
   "metadata": {
    "id": "Pyo_ifo5IhLx"
   },
   "outputs": [],
   "source": [
    "class Decoder(tf.keras.Model):\n",
    "    def __init__(self, vocab_size, embedding_dim, dec_units):\n",
    "        super(Decoder, self).__init__()\n",
    "        self.batch_sz = batch_size\n",
    "        self.embeddings = embeddings\n",
    "        self.units = 2 * dec_units # because we use bidirectional encoder\n",
    "        self.fc = Dense(vocab_len, activation='softmax', name='dense_layer')\n",
    "        # Cretae the decoder with attention\n",
    "\n",
    "        self.decoder_gru_l1 = GRU(self.units, return_sequences = True )\n",
    "        self.decoder_gru_l2 = GRU(self.units, return_sequences = False, return_state = True )\n",
    "        self.dropout = Dropout(0.2)\n",
    "        self.attention = BahdanauAttention(self.units)\n",
    "        \n",
    "    def call(self, x, hidden, enc_output):\n",
    "\n",
    "        # enc_output shape == (batch_size, max_length, hidden_size)\n",
    "        context_vector, attention_weights = self.attention(hidden, enc_output)\n",
    "\n",
    "        # x shape after passing through embedding == (batch_size, 1, embedding_dim)\n",
    "        x = self.embeddings(x)\n",
    "\n",
    "        # x shape after concatenation == (batch_size, 1, embedding_dim + hidden_size)\n",
    "        x = tf.concat([tf.expand_dims(context_vector, 1), x], axis=-1) # concat input and context vector together\n",
    "\n",
    "        # passing the concatenated vector to the GRU\n",
    "        x = self.decoder_gru_l1(x)\n",
    "        x = self.dropout(x)\n",
    "        output, state = self.decoder_gru_l2(x)\n",
    "        x = self.fc(output)\n",
    "        return x, state, attention_weights"
   ]
  },
  {
   "cell_type": "code",
   "execution_count": 34,
   "metadata": {
    "id": "UeMvjzzVIjVR"
   },
   "outputs": [],
   "source": [
    "decoder = Decoder(vocab_len, 50, GRU_units)\n"
   ]
  },
  {
   "cell_type": "markdown",
   "metadata": {
    "id": "67WV-Fnb_VvJ"
   },
   "source": [
    "# Evaluation"
   ]
  },
  {
   "cell_type": "markdown",
   "metadata": {
    "id": "ZJPZPKIpeGGN"
   },
   "source": [
    "We can now write functions to evaluate a string input sentence now that we've established our decoding process. The evaluate function is in charge of the low-level handling of the input sentence. The sentence is first formatted as an input batch of word indexes. To prepare the tensor for our models, we convert the words of the sentence to their corresponding indexes and transpose the dimensions. Our system's user interface is called answer. Our text is normalised in the same way that our training data is, and then fed into the evaluate function to generate a decoded output sentence and attention weights."
   ]
  },
  {
   "cell_type": "code",
   "execution_count": 16,
   "metadata": {
    "id": "mVSbB_kLIo3p"
   },
   "outputs": [],
   "source": [
    "import unicodedata\n",
    "import matplotlib.ticker as ticker\n",
    "\n",
    "# function for plotting the attention weights\n",
    "def plot_attention(attention, sentence, predicted_sentence):\n",
    "    fig = plt.figure(figsize=(5,5))\n",
    "    ax = fig.add_subplot(1, 1, 1)\n",
    "    ax.matshow(attention, cmap='viridis')\n",
    "\n",
    "    fontdict = {'fontsize': 14}\n",
    "\n",
    "    ax.set_xticklabels([''] + sentence, fontdict=fontdict, rotation=90)\n",
    "    ax.set_yticklabels([''] + predicted_sentence, fontdict=fontdict)\n",
    "\n",
    "    ax.xaxis.set_major_locator(ticker.MultipleLocator(1))\n",
    "    ax.yaxis.set_major_locator(ticker.MultipleLocator(1))\n",
    "    \n",
    "    plt.show()\n",
    "\n",
    "def unicode_to_ascii(s):\n",
    "    return ''.join(c for c in unicodedata.normalize('NFD', s)\n",
    "      if unicodedata.category(c) != 'Mn')\n",
    "\n",
    "def evaluate(sentence):\n",
    "    \n",
    "    attention_plot = np.zeros((max_len_a, max_len_q))\n",
    "\n",
    "    sentence = unicode_to_ascii(sentence.lower())\n",
    "    inputs = [wordtoix[i] for i in sentence.split(' ')]\n",
    "    inputs = [wordtoix[start_token]]+inputs+[wordtoix[end_token]]\n",
    "    inputs = pad_sequences([inputs],maxlen=max_len_q, padding='post')\n",
    "\n",
    "    inputs = tf.convert_to_tensor(inputs)\n",
    "\n",
    "    result = ''\n",
    "\n",
    "    hidden = [tf.zeros((1, GRU_units))]\n",
    "    enc_out, enc_hidden_f, enc_hidden_b = encoder(inputs, hidden)\n",
    "\n",
    "    dec_hidden = Concatenate(axis=-1)([enc_hidden_f, enc_hidden_b])\n",
    "    dec_input = tf.expand_dims([wordtoix[start_token]], 1)\n",
    "\n",
    "    for t in range(max_len_a):\n",
    "        predictions, dec_hidden, attention_weights = decoder(dec_input,\n",
    "                                                             dec_hidden,\n",
    "                                                             enc_out)\n",
    "\n",
    "        attention_weights = tf.reshape(attention_weights, (-1, ))\n",
    "        attention_plot[t] = K.get_value(attention_weights)\n",
    "        \n",
    "        predicted_id =  K.get_value(tf.argmax(predictions[0]))       \n",
    "\n",
    "        if ixtoword[predicted_id] == end_token:\n",
    "            return result, sentence, attention_plot\n",
    "        \n",
    "        result += ixtoword[predicted_id] + ' '\n",
    "        # the predicted ID is fed back into the model\n",
    "        dec_input = tf.expand_dims([predicted_id], 1)\n",
    "\n",
    "    return result, sentence, attention_plot\n",
    "\n",
    "def answer(sentence, training=False):\n",
    "    result, sentence, attention_plot = evaluate(sentence)\n",
    "    \n",
    "    if training:\n",
    "        return result\n",
    "    \n",
    "    print('Input: %s' % (sentence))\n",
    "    print('Predicted answer: {}'.format(result))\n",
    "    attention_plot = attention_plot[1:len(result.split(' ')), :len(sentence.split(' '))]\n",
    "    plot_attention(attention_plot, sentence.split(' '), result.split(' ')[:-1])"
   ]
  },
  {
   "cell_type": "markdown",
   "metadata": {
    "id": "Kl-ffZTS_dtP"
   },
   "source": [
    "# Greedy decoding"
   ]
  },
  {
   "cell_type": "markdown",
   "metadata": {
    "id": "xacfBuH7dxUw"
   },
   "source": [
    "Greedy decoding is a decoding method in which we simply choose the highest softmax value word from decoder output for each time stage. On a single time-step stage, this decoding method is optimal. It is common in neural machine translation systems to use a beam-search to sample the probabilities for the words in the sequence output by the model.\n",
    "\n",
    "The wider the beam width, the more exhaustive the search, and, it is believed, the better the results.\n",
    "\n",
    "The results showed that a modest beam-width of 3-5 performed the best, which could be improved only very slightly through the use of length penalties. "
   ]
  },
  {
   "cell_type": "code",
   "execution_count": 17,
   "metadata": {
    "id": "pa46aAvvIvsx"
   },
   "outputs": [],
   "source": [
    "def beam_search(sentence, k=5, maxsample=max_len_a, use_unk=False, oov=None, eos=end_token):\n",
    "\n",
    "    \n",
    "    dead_k = 0 # samples that reached eos\n",
    "    dead_samples = []\n",
    "    dead_scores = []\n",
    "    live_k = 1 # samples that did not yet reached eos\n",
    "    live_samples = [[wordtoix[start_token]]]\n",
    "    live_scores = [0]\n",
    "\n",
    "    sentence = unicode_to_ascii(sentence.lower())\n",
    "    inputs = [wordtoix[i] for i in sentence.split(' ')]\n",
    "    inputs = [wordtoix[start_token]]+inputs+[wordtoix[end_token]]\n",
    "    inputs = pad_sequences([inputs],maxlen=max_len_q, padding='post')\n",
    "\n",
    "    inputs = tf.convert_to_tensor(inputs)\n",
    "\n",
    "    hidden = [tf.zeros((1, GRU_units))]\n",
    "    enc_out, enc_hidden_f, enc_hidden_b = encoder(inputs, hidden)\n",
    "\n",
    "    dec_hidden = Concatenate(axis=-1)([enc_hidden_f, enc_hidden_b])\n",
    "    dec_input = tf.expand_dims([wordtoix[start_token]], 0)\n",
    "        \n",
    "    while live_k and dead_k < k:\n",
    "        # for every possible live sample calc prob for every possible label \n",
    "        predictions, dec_hidden, _ = decoder(dec_input,dec_hidden,enc_out)\n",
    "        probs = K.get_value(predictions[0])\n",
    "        # total score for every sample is sum of -log of word prb\n",
    "        cand_scores = np.array(live_scores)[:,None] - np.log(probs)\n",
    "        if not use_unk and oov is not None:\n",
    "            cand_scores[:,oov] = 1e20\n",
    "        cand_flat = cand_scores.flatten()\n",
    "\n",
    "        # find the best (lowest) scores we have from all possible samples and new words\n",
    "        ranks_flat = cand_flat.argsort()[:(k-dead_k)]\n",
    "        live_scores = cand_flat[ranks_flat]\n",
    "\n",
    "        # append the new words to their appropriate live sample\n",
    "        voc_size = vocab_len\n",
    "        live_samples = [live_samples[r//voc_size]+[r%voc_size] for r in ranks_flat]\n",
    "\n",
    "        # live samples that should be dead are...\n",
    "        zombie = [s[-1] == eos or len(s) >= maxsample for s in live_samples]\n",
    "        \n",
    "        # add zombies to the dead\n",
    "        dead_samples += [s for s,z in zip(live_samples,zombie) if z]  # remove first label == empty\n",
    "        dead_scores += [s for s,z in zip(live_scores,zombie) if z]\n",
    "        dead_k = len(dead_samples)\n",
    "        # remove zombies from the living \n",
    "        live_samples = [s for s,z in zip(live_samples,zombie) if not z]\n",
    "        live_scores = [s for s,z in zip(live_scores,zombie) if not z]\n",
    "        live_k = len(live_samples)\n",
    "\n",
    "    final_samples = dead_samples + live_samples\n",
    "    final_scores = dead_scores + live_scores   \n",
    "    \n",
    "    # cutting the strong where end_token is encounterd\n",
    "    for i in range(len(final_scores)):\n",
    "        final_scores[i] /= len(final_samples[i]) # normalizing the scores\n",
    "    \n",
    "    final_result =[]\n",
    "    \n",
    "    for i in range(len(final_scores)):\n",
    "        final_result.append((final_scores[i],final_samples[i]))\n",
    "    \n",
    "    final_list_ix = max(final_result)[1]\n",
    "    final_list_word = [ixtoword[f] for f in final_list_ix]\n",
    "    final_sentence = ' '.join(final_list_word[1:])\n",
    "    end_ix = final_sentence.find(end_token)\n",
    "    return final_sentence[:end_ix]"
   ]
  },
  {
   "cell_type": "markdown",
   "metadata": {
    "id": "tDhPN8kj-4Da"
   },
   "source": [
    "# Training procedure"
   ]
  },
  {
   "cell_type": "markdown",
   "metadata": {
    "id": "XYjEUAtO--f_"
   },
   "source": [
    "# Masked loss"
   ]
  },
  {
   "cell_type": "markdown",
   "metadata": {
    "id": "puOSiJijaOwW"
   },
   "source": [
    "We can't simply consider all elements of the tensor when evaluating loss because we're dealing with batches of padded sequences. Based on our decoder's output tensor, the target tensor, and a binary mask tensor describing the padding of the target tensor, we define a function to measure our loss."
   ]
  },
  {
   "cell_type": "code",
   "execution_count": 18,
   "metadata": {
    "id": "xN3CisgKIy7W"
   },
   "outputs": [],
   "source": [
    "optimizer = tf.keras.optimizers.Adam(init_lr)\n",
    "\n",
    "def loss_function(real, pred):\n",
    "\n",
    "    mask = tf.math.logical_not(tf.math.equal(real, 0))\n",
    "    loss_ = K.sparse_categorical_crossentropy(real, pred, from_logits= False)\n",
    "\n",
    "    mask = tf.cast(mask, dtype=loss_.dtype)\n",
    "    loss_ *= mask\n",
    "\n",
    "    return tf.reduce_mean(loss_)\n"
   ]
  },
  {
   "cell_type": "code",
   "execution_count": 19,
   "metadata": {
    "id": "832td4vpI1Ok"
   },
   "outputs": [],
   "source": [
    "# checkpoint_dir = './training_checkpoints'\n",
    "checkpoint_prefix = os.path.join(str(emb_dim)+\"-ckpt\")\n",
    "checkpoint = tf.train.Checkpoint(optimizer=optimizer,\n",
    "                                 encoder=encoder,\n",
    "                                 decoder=decoder)\n"
   ]
  },
  {
   "cell_type": "markdown",
   "metadata": {
    "id": "ZbaDnfr3_Elp"
   },
   "source": [
    "# Single training iteration"
   ]
  },
  {
   "cell_type": "markdown",
   "metadata": {
    "id": "ZfRcNM1TbJcs"
   },
   "source": [
    "The algorithm for a single training iteration is contained in the train_step function (a single batch of inputs). To help with convergence, we'll use teacher forcing. This means that we use the current target word as the decoder's next input rather than the decoder's current guess in some probabilities. This technique serves as decoder training wheels, allowing for more effective training. However, since the decoder may not have had enough time to truly craft its own output sequences during training, teacher forcing can lead to model instability during inference. \n",
    "\n"
   ]
  },
  {
   "cell_type": "code",
   "execution_count": 20,
   "metadata": {
    "id": "7yeWUoboI8JK"
   },
   "outputs": [],
   "source": [
    "@tf.function\n",
    "def train_step(inp, targ, enc_hidden):\n",
    "    loss = 0\n",
    "    with tf.GradientTape() as tape:\n",
    "        enc_output, enc_hidden_f, enc_hidden_b = encoder(inp, enc_hidden)\n",
    "        \n",
    "        dec_hidden = Concatenate(axis=-1)([enc_hidden_f, enc_hidden_b])\n",
    "        dec_input = tf.expand_dims([wordtoix[start_token]] * batch_size, 1) # dec_input initially == start_token\n",
    "\n",
    "        # Teacher forcing - feeding the target as the next input\n",
    "        for t in range(1, targ.shape[1]):\n",
    "            \n",
    "            # passing enc_output to the decoder\n",
    "            predictions, dec_hidden, _ = decoder(dec_input, dec_hidden, enc_output)\n",
    "            loss += loss_function(targ[:, t], predictions) # each time just use one timestep output\n",
    "            # using teacher forcing\n",
    "            dec_input = tf.expand_dims(targ[:, t], 1) # expected output at this time becomes input for next timestep\n",
    "            \n",
    "    batch_loss = (loss / int(targ.shape[1]))\n",
    "    variables = encoder.trainable_variables + decoder.trainable_variables\n",
    "    gradients = tape.gradient(loss, variables)\n",
    "    optimizer.apply_gradients(zip(gradients, variables))\n",
    "    \n",
    "    return batch_loss"
   ]
  },
  {
   "cell_type": "code",
   "execution_count": 30,
   "metadata": {
    "id": "eH-SlVY_JA3n"
   },
   "outputs": [],
   "source": [
    "history={'loss':[]}\n",
    "smallest_loss = np.inf\n",
    "best_ep = 1\n",
    "EPOCHS = 150 # but 150 is enough\n",
    "enc_hidden = encoder.initialize_hidden_state()\n",
    "steps_per_epoch = len(pairs_final_train)//batch_size # used for caculating number of batches\n",
    "current_ep = 1\n"
   ]
  },
  {
   "cell_type": "markdown",
   "metadata": {
    "id": "snJApfQJ4WmT"
   },
   "source": [
    "We are creating a test_bot to monitor our training in every time step."
   ]
  },
  {
   "cell_type": "code",
   "execution_count": 31,
   "metadata": {
    "id": "BsYIKbz1JC7Y"
   },
   "outputs": [],
   "source": [
    "def test_bot(k = 5, beam = False):\n",
    "    print('#'*20)\n",
    "    q = 'Hello'\n",
    "    print('Greedy| Q:',q,'  A:',answer(q, training=True))\n",
    "    if beam:print('Beam ',k,'| ',q,'  A:',beam_search(q,k=k))\n",
    "    print('%')\n",
    "    q = 'How are you'\n",
    "    print('Greedy| Q:',q,'?  A:',answer(q, training=True))\n",
    "    if beam:print('Beam ',k,'| ',q,'?  A:',beam_search(q,k=k))\n",
    "    print('%')\n",
    "\n",
    "    q = 'What are you doing'\n",
    "    print('Greedy| Q:',q,'?  A:',answer(q, training=True))\n",
    "    if beam:print('Beam ',k,'| ',q,'?  A:',beam_search(q,k=k))\n",
    "    print('%')\n",
    "    q = 'What is your favorite restaurant'\n",
    "    print('Greedy| Q:',q,'?  A:',answer(q, training=True))\n",
    "    if beam:print('Beam ',k,'| ',q,'?  A:',beam_search(q,k=k))\n",
    "    print('%')\n",
    "  \n",
    "    q = 'Do you want to go out'\n",
    "    print('Greedy| Q:',q,'?  A:',answer(q, training=True))\n",
    "    if beam:print('Beam ',k,'| ',q,'?  A:',beam_search(q,k=k))\n",
    "    print('#'*20)"
   ]
  },
  {
   "cell_type": "markdown",
   "metadata": {
    "id": "rPFs5cNX_OuX"
   },
   "source": [
    "# Training iterations"
   ]
  },
  {
   "cell_type": "markdown",
   "metadata": {
    "id": "gz9who24c69J"
   },
   "source": [
    "It's finally time to link the entire training procedure to the data. Given the passed models, optimizers, data, and so on, the function is responsible for running n iterations of training. We've already done the heavy lifting with the train_step function, so this function is self-explanatory.\n",
    "\n",
    "One thing to keep in mind is that when we save our model, the encoder and decoder parameters, the optimizer parameters, the loss, the iteration, and so on are all saved. This method of saving the model will give us the most flexibility with the checkpoint. We can use the model parameters to run inference after loading a checkpoint, or we can begin training where we left off."
   ]
  },
  {
   "cell_type": "code",
   "execution_count": 35,
   "metadata": {
    "colab": {
     "base_uri": "https://localhost:8080/",
     "height": 1000
    },
    "id": "tEqZLz3wJHm0",
    "outputId": "4bb895b5-3e0d-4620-9385-cc51648190c7",
    "scrolled": true
   },
   "outputs": [
    {
     "name": "stdout",
     "output_type": "stream",
     "text": [
      "Epoch 1 Batch 598 Loss: 1.3320\n",
      "Epoch 1 Batch 1196 Loss: 1.4338\n",
      "Epoch 1 Batch 1794 Loss: 1.3849\n",
      "Epoch 1 Batch 2392 Loss: 1.4588\n",
      "Epoch 1 Batch 2990 Loss: 1.4097\n",
      "Epoch 1 Batch 3588 Loss: 1.5509\n",
      "\n",
      "*** Epoch 1 Loss 1.3159 ***\n",
      "\n",
      "####################\n",
      "Greedy| Q: Hello   A: anytime laboratory cartman felson chapel comrade limp adolph direct informed promoted pathological jerome grimes bat since manpower sweating \n",
      "%\n",
      "Greedy| Q: How are you ?  A: frightened naive debbies frightened naive debbies frightened naive debbies frightened naive debbies frightened naive debbies frightened naive debbies \n",
      "%\n",
      "Greedy| Q: What are you doing ?  A: frightened naive debbies frightened naive debbies frightened naive debbies frightened naive debbies frightened naive debbies frightened naive debbies \n",
      "%\n",
      "Greedy| Q: What is your favorite restaurant ?  A: anytime laboratory limb nevermind und lied curb observed arei anytime laboratory limb nevermind und lied curb observed arei \n",
      "%\n",
      "Greedy| Q: Do you want to go out ?  A: frightened naive drink awaken scratching saxophone manpower sweating occurred owl klupner frightened naive drink awaken scratching saxophone manpower \n",
      "####################\n",
      "check point saved!\n",
      "Best epoch so far:  1\n",
      "Time  359.077 sec\n",
      "\n",
      "========================================\n",
      "Epoch 2 Batch 598 Loss: 1.2470\n",
      "Epoch 2 Batch 1196 Loss: 1.7777\n",
      "Epoch 2 Batch 1794 Loss: 1.6635\n",
      "Epoch 2 Batch 2392 Loss: 1.7149\n",
      "Epoch 2 Batch 2990 Loss: 1.2307\n",
      "Epoch 2 Batch 3588 Loss: 1.5489\n",
      "\n",
      "*** Epoch 2 Loss 1.2790 ***\n",
      "\n",
      "####################\n",
      "Greedy| Q: Hello   A: anytime laboratory cartman felson chapel comrade limp adolph direct informed promoted pathological jerome grimes bat since manpower sweating \n",
      "%\n",
      "Greedy| Q: How are you ?  A: frightened naive debbies frightened naive debbies frightened naive debbies frightened naive debbies frightened naive debbies frightened naive debbies \n",
      "%\n",
      "Greedy| Q: What are you doing ?  A: frightened naive drink sports limb nevermind verdado frightened naive drink sports limb nevermind verdado frightened naive drink sports \n",
      "%\n",
      "Greedy| Q: What is your favorite restaurant ?  A: anytime laboratory limb nevermind und lied curb observed arei anytime laboratory limb nevermind und lied curb observed arei \n",
      "%\n",
      "Greedy| Q: Do you want to go out ?  A: frightened naive drink awaken scratching saxophone manpower sweating wave bambi ew carrie recovered dumber typical manpower sweating wave \n",
      "####################\n",
      "check point saved!\n",
      "Best epoch so far:  2\n",
      "Time  351.273 sec\n",
      "\n",
      "========================================\n",
      "Epoch 3 Batch 598 Loss: 1.2178\n",
      "Epoch 3 Batch 1196 Loss: 1.9121\n",
      "Epoch 3 Batch 1794 Loss: 1.6071\n",
      "Epoch 3 Batch 2392 Loss: 1.6557\n",
      "Epoch 3 Batch 2990 Loss: 1.3273\n",
      "Epoch 3 Batch 3588 Loss: 1.7201\n",
      "\n",
      "*** Epoch 3 Loss 1.2544 ***\n",
      "\n",
      "####################\n",
      "Greedy| Q: Hello   A: anytime laboratory cartman felson chapel fist frank santiago bribed grove slut adolph direct informed promoted pathological jerome grimes \n",
      "%\n",
      "Greedy| Q: How are you ?  A: frightened naive debbies frightened naive debbies frightened naive debbies frightened naive debbies frightened naive debbies frightened naive debbies \n",
      "%\n",
      "Greedy| Q: What are you doing ?  A: frightened naive drink sports limb nevermind stalling dumber typical lively myself sports limb nevermind stalling dumber typical lively \n",
      "%\n",
      "Greedy| Q: What is your favorite restaurant ?  A: anytime laboratory limb nevermind und lied curb observed arei anytime laboratory limb nevermind und lied curb observed arei \n",
      "%\n",
      "Greedy| Q: Do you want to go out ?  A: frightened structure pearl ew carrie recovered dumber typical manpower sweating wave bambi ew carrie recovered dumber typical manpower \n",
      "####################\n",
      "check point saved!\n",
      "Best epoch so far:  3\n",
      "Time  356.052 sec\n",
      "\n",
      "========================================\n",
      "Epoch 4 Batch 598 Loss: 1.0971\n",
      "Epoch 4 Batch 1196 Loss: 1.8855\n",
      "Epoch 4 Batch 1794 Loss: 1.4233\n",
      "Epoch 4 Batch 2392 Loss: 1.5985\n",
      "Epoch 4 Batch 2990 Loss: 1.3664\n",
      "Epoch 4 Batch 3588 Loss: 1.5957\n",
      "\n",
      "*** Epoch 4 Loss 1.2365 ***\n",
      "\n",
      "####################\n",
      "Greedy| Q: Hello   A: anytime laboratory cartman felson chapel fist frank santiago bribed grove slut adolph direct informed promoted pathological jerome grimes \n",
      "%\n",
      "Greedy| Q: How are you ?  A: frightened naive debbies frightened naive debbies frightened naive debbies frightened naive debbies frightened naive debbies frightened naive debbies \n",
      "%\n",
      "Greedy| Q: What are you doing ?  A: frightened naive drink sports seventysix frightened naive drink sports seventysix frightened naive drink sports seventysix frightened naive drink \n",
      "%\n",
      "Greedy| Q: What is your favorite restaurant ?  A: anytime laboratory limb nevermind und lied curb observed arei anytime laboratory limb nevermind und lied curb observed arei \n",
      "%\n",
      "Greedy| Q: Do you want to go out ?  A: frightened structure pearl ew carrie recovered dumber et planned dumber et planned dumber et planned dumber et planned \n",
      "####################\n",
      "check point saved!\n",
      "Best epoch so far:  4\n",
      "Time  351.940 sec\n",
      "\n",
      "========================================\n",
      "Epoch 5 Batch 598 Loss: 1.0779\n",
      "Epoch 5 Batch 1196 Loss: 1.4933\n",
      "Epoch 5 Batch 1794 Loss: 1.3341\n",
      "Epoch 5 Batch 2392 Loss: 1.5624\n",
      "Epoch 5 Batch 2990 Loss: 1.3443\n",
      "Epoch 5 Batch 3588 Loss: 1.5038\n",
      "\n",
      "*** Epoch 5 Loss 1.2222 ***\n",
      "\n",
      "####################\n",
      "Greedy| Q: Hello   A: anytime laboratory cartman felson chapel fist frank santiago bribed grove slut adolph direct informed promoted pathological jerome grimes \n",
      "%\n",
      "Greedy| Q: How are you ?  A: frightened naive debbies frightened naive debbies frightened naive debbies frightened naive debbies frightened naive debbies frightened naive debbies \n",
      "%\n",
      "Greedy| Q: What are you doing ?  A: frightened structure pearl ew carrie recovered dumber typical lively myself sports limb nevermind stalling dumber typical lively myself \n",
      "%\n",
      "Greedy| Q: What is your favorite restaurant ?  A: anytime frightened structure pearl ew carrie recovered dumber typical lively temporary pathological jerome grimes mumford majors limb nevermind \n",
      "%\n",
      "Greedy| Q: Do you want to go out ?  A: frightened structure pearl ew carrie recovered dumber et planned dumber et planned dumber et planned dumber et planned \n",
      "####################\n",
      "check point saved!\n"
     ]
    },
    {
     "data": {
      "image/png": "[encoded data removed]",
      "text/plain": [
       "<Figure size 288x216 with 1 Axes>"
      ]
     },
     "metadata": {
      "needs_background": "light"
     },
     "output_type": "display_data"
    },
    {
     "name": "stdout",
     "output_type": "stream",
     "text": [
      "Best epoch so far:  5\n",
      "Time  361.429 sec\n",
      "\n",
      "========================================\n",
      "Epoch 6 Batch 598 Loss: 1.1765\n",
      "Epoch 6 Batch 1196 Loss: 1.3185\n",
      "Epoch 6 Batch 1794 Loss: 1.2324\n",
      "Epoch 6 Batch 2392 Loss: 1.4176\n",
      "Epoch 6 Batch 2990 Loss: 1.2247\n",
      "Epoch 6 Batch 3588 Loss: 1.3270\n",
      "\n",
      "*** Epoch 6 Loss 1.2102 ***\n",
      "\n",
      "####################\n",
      "Greedy| Q: Hello   A: anytime laboratory cartman felson chapel fist frank santiago bribed grove slut adolph direct informed promoted pathological jerome grimes \n",
      "%\n",
      "Greedy| Q: How are you ?  A: frightened structure cartons otis dumber typical lively myself sports seventysix frightened structure cartons otis dumber typical lively myself \n",
      "%\n",
      "Greedy| Q: What are you doing ?  A: frightened structure pearl ew carrie recovered dumber typical lively myself sports limb nevermind stalling dumber typical lively myself \n",
      "%\n",
      "Greedy| Q: What is your favorite restaurant ?  A: anytime frightened structure pearl ew anytime frightened structure pearl ew anytime frightened structure pearl ew anytime frightened structure \n",
      "%\n",
      "Greedy| Q: Do you want to go out ?  A: frightened structure pearl ew carrie recovered dumber et planned dumber et planned dumber et planned dumber et planned \n",
      "####################\n",
      "check point saved!\n",
      "Best epoch so far:  6\n",
      "Time  363.371 sec\n",
      "\n",
      "========================================\n",
      "Epoch 7 Batch 598 Loss: 1.2038\n",
      "Epoch 7 Batch 1196 Loss: 1.6409\n",
      "Epoch 7 Batch 1794 Loss: 1.5433\n",
      "Epoch 7 Batch 2392 Loss: 1.6284\n",
      "Epoch 7 Batch 2990 Loss: 1.0531\n",
      "Epoch 7 Batch 3588 Loss: 1.3935\n",
      "\n",
      "*** Epoch 7 Loss 1.2007 ***\n",
      "\n",
      "####################\n",
      "Greedy| Q: Hello   A: anytime laboratory cartman felson chapel fist frank santiago bribed grove slut adolph direct informed promoted pathological jerome grimes \n",
      "%\n",
      "Greedy| Q: How are you ?  A: anytime laboratory cartman compensated greasy roots lively myself sports seventysix anytime laboratory cartman compensated greasy roots lively myself \n",
      "%\n",
      "Greedy| Q: What are you doing ?  A: frightened structure pearl ew carrie recovered dumber typical lively myself sports limb nevermind stalling dumber typical lively myself \n",
      "%\n",
      "Greedy| Q: What is your favorite restaurant ?  A: anytime frightened structure pearl ew anytime frightened structure pearl ew anytime frightened structure pearl ew anytime frightened structure \n",
      "%\n",
      "Greedy| Q: Do you want to go out ?  A: frightened structure pearl ew carrie recovered dumber et planned dumber et planned dumber et planned dumber et planned \n",
      "####################\n",
      "check point saved!\n",
      "Best epoch so far:  7\n",
      "Time  355.193 sec\n",
      "\n",
      "========================================\n",
      "Epoch 8 Batch 598 Loss: 1.1668\n",
      "Epoch 8 Batch 1196 Loss: 1.6931\n",
      "Epoch 8 Batch 1794 Loss: 1.5369\n",
      "Epoch 8 Batch 2392 Loss: 1.5530\n",
      "Epoch 8 Batch 2990 Loss: 1.2421\n",
      "Epoch 8 Batch 3588 Loss: 1.5260\n",
      "\n",
      "*** Epoch 8 Loss 1.1922 ***\n",
      "\n",
      "####################\n",
      "Greedy| Q: Hello   A: anytime laboratory cartman felson chapel comrade limp adolph direct informed promoted pathological jerome grimes bat chose vest gym \n",
      "%\n",
      "Greedy| Q: How are you ?  A: anytime laboratory cartman compensated greasy roots lively myself sports seventysix anytime laboratory cartman compensated greasy roots lively myself \n",
      "%\n",
      "Greedy| Q: What are you doing ?  A: anytime laboratory limb nevermind stalling dumber typical lively myself sports limb nevermind stalling dumber typical lively myself sports \n",
      "%\n",
      "Greedy| Q: What is your favorite restaurant ?  A: anytime frightened structure pearl ew anytime frightened structure pearl ew anytime frightened structure pearl ew anytime frightened structure \n",
      "%\n",
      "Greedy| Q: Do you want to go out ?  A: frightened structure pearl ew carrie recovered dumber et planned dumber et planned dumber et planned dumber et planned \n",
      "####################\n",
      "check point saved!\n",
      "Best epoch so far:  8\n",
      "Time  372.181 sec\n",
      "\n",
      "========================================\n",
      "Epoch 9 Batch 598 Loss: 1.0829\n",
      "Epoch 9 Batch 1196 Loss: 1.7350\n",
      "Epoch 9 Batch 1794 Loss: 1.5512\n",
      "Epoch 9 Batch 2392 Loss: 1.5171\n",
      "Epoch 9 Batch 2990 Loss: 1.2980\n",
      "Epoch 9 Batch 3588 Loss: 1.5326\n",
      "\n",
      "*** Epoch 9 Loss 1.1847 ***\n",
      "\n",
      "####################\n",
      "Greedy| Q: Hello   A: anytime laboratory cartman felson chapel comrade limp adolph direct informed promoted pathological jerome grimes bat chose vest gym \n",
      "%\n",
      "Greedy| Q: How are you ?  A: anytime laboratory limb nevermind stalling dumber typical lively myself sports seventysix anytime laboratory limb nevermind stalling dumber typical \n",
      "%\n",
      "Greedy| Q: What are you doing ?  A: anytime laboratory limb nevermind stalling dumber et planned million warp classes promoted shipping dumber typical lively myself sports \n",
      "%\n",
      "Greedy| Q: What is your favorite restaurant ?  A: anytime laboratory limb nevermind und mortals surveillance lotion einstein thatthat anytime laboratory limb nevermind und mortals surveillance lotion \n",
      "%\n",
      "Greedy| Q: Do you want to go out ?  A: frightened structure pearl ew carrie crosswalk brochure clifford finish rational steward petty arms finders inspiration birdy adolph thatthat \n",
      "####################\n",
      "check point saved!\n",
      "Best epoch so far:  9\n",
      "Time  348.408 sec\n",
      "\n",
      "========================================\n",
      "Epoch 10 Batch 598 Loss: 1.1066\n",
      "Epoch 10 Batch 1196 Loss: 1.5287\n",
      "Epoch 10 Batch 1794 Loss: 1.4117\n",
      "Epoch 10 Batch 2392 Loss: 1.4661\n",
      "Epoch 10 Batch 2990 Loss: 1.3319\n",
      "Epoch 10 Batch 3588 Loss: 1.5132\n",
      "\n",
      "*** Epoch 10 Loss 1.1780 ***\n",
      "\n",
      "####################\n",
      "Greedy| Q: Hello   A: anytime laboratory cartman felson chapel comrade limp adolph direct recently beach glowing expect posters barbie recovered patch cheeks \n",
      "%\n",
      "Greedy| Q: How are you ?  A: anytime laboratory limb nevermind stalling dumber typical lively myself sports seventysix anytime laboratory limb nevermind stalling dumber typical \n",
      "%\n",
      "Greedy| Q: What are you doing ?  A: anytime laboratory limb nevermind stalling dumber et planned million warp classes promoted shipping dumber et planned million warp \n",
      "%\n",
      "Greedy| Q: What is your favorite restaurant ?  A: anytime laboratory limb nevermind stalling dumber et planned pathological jerome grimes mumford majors jones dangerous dumber et planned \n",
      "%\n",
      "Greedy| Q: Do you want to go out ?  A: frightened structure pearl ew carrie crosswalk brochure clifford finish rational steward petty arms finders inspiration birdy adolph thatthat \n",
      "####################\n",
      "check point saved!\n"
     ]
    },
    {
     "data": {
      "image/png": "[encoded data removed]",
      "text/plain": [
       "<Figure size 288x216 with 1 Axes>"
      ]
     },
     "metadata": {
      "needs_background": "light"
     },
     "output_type": "display_data"
    },
    {
     "name": "stdout",
     "output_type": "stream",
     "text": [
      "Best epoch so far:  10\n",
      "Time  339.875 sec\n",
      "\n",
      "========================================\n",
      "Epoch 11 Batch 598 Loss: 1.1367\n",
      "Epoch 11 Batch 1196 Loss: 1.2423\n",
      "Epoch 11 Batch 1794 Loss: 1.1611\n",
      "Epoch 11 Batch 2392 Loss: 1.4203\n",
      "Epoch 11 Batch 2990 Loss: 1.1805\n",
      "Epoch 11 Batch 3588 Loss: 1.3013\n",
      "\n",
      "*** Epoch 11 Loss 1.1716 ***\n",
      "\n",
      "####################\n",
      "Greedy| Q: Hello   A: anytime laboratory cartman felson chapel comrade limp adolph direct recently beach glowing expect posters barbie recovered patch cheeks \n",
      "%\n",
      "Greedy| Q: How are you ?  A: anytime laboratory limb nevermind stalling dumber typical lively mah duke shipping woodsman adolph direct dumber typical lively mah \n",
      "%\n",
      "Greedy| Q: What are you doing ?  A: anytime laboratory limb nevermind stalling dumber et planned million warp classes promoted shipping dumber et planned million warp \n",
      "%\n",
      "Greedy| Q: What is your favorite restaurant ?  A: anytime laboratory limb nevermind stalling dumber et planned pathological jerome grimes mumford majors jones dangerous dumber et planned \n",
      "%\n",
      "Greedy| Q: Do you want to go out ?  A: frightened structure pearl ew carrie crosswalk brochure clifford finish rational steward petty arms finders inspiration birdy adolph thatthat \n",
      "####################\n",
      "check point saved!\n",
      "Best epoch so far:  11\n",
      "Time  339.047 sec\n",
      "\n",
      "========================================\n",
      "Epoch 12 Batch 598 Loss: 1.1591\n",
      "Epoch 12 Batch 1196 Loss: 1.6023\n",
      "Epoch 12 Batch 1794 Loss: 1.4280\n",
      "Epoch 12 Batch 2392 Loss: 1.5801\n",
      "Epoch 12 Batch 2990 Loss: 0.9862\n",
      "Epoch 12 Batch 3588 Loss: 1.2817\n",
      "\n",
      "*** Epoch 12 Loss 1.1668 ***\n",
      "\n",
      "####################\n",
      "Greedy| Q: Hello   A: anytime laboratory cartman felson chapel comrade limp adolph direct recently beach glowing expect posters barbie recovered patch cheeks \n",
      "%\n",
      "Greedy| Q: How are you ?  A: anytime laboratory cartman compensated greasy awaken scratching saxophone manpower sweating wave carpet soap execute dumber typical lively mah \n",
      "%\n",
      "Greedy| Q: What are you doing ?  A: anytime laboratory limb nevermind stalling dumber et planned million warp classes promoted shipping dumber et planned million warp \n",
      "%\n",
      "Greedy| Q: What is your favorite restaurant ?  A: anytime laboratory limb nevermind stalling dumber typical lively temporary pathological jerome grimes mumford majors jones dangerous dumber typical \n",
      "%\n",
      "Greedy| Q: Do you want to go out ?  A: frightened structure pearl ew carrie crosswalk brochure clifford finish rational steward petty arms finders inspiration birdy adolph thatthat \n",
      "####################\n",
      "check point saved!\n",
      "Best epoch so far:  12\n",
      "Time  333.285 sec\n",
      "\n",
      "========================================\n",
      "Epoch 13 Batch 598 Loss: 1.1358\n",
      "Epoch 13 Batch 1196 Loss: 1.5992\n",
      "Epoch 13 Batch 1794 Loss: 1.4985\n",
      "Epoch 13 Batch 2392 Loss: 1.5905\n",
      "Epoch 13 Batch 2990 Loss: 1.1932\n",
      "Epoch 13 Batch 3588 Loss: 1.4906\n",
      "\n",
      "*** Epoch 13 Loss 1.1619 ***\n",
      "\n",
      "####################\n",
      "Greedy| Q: Hello   A: anytime laboratory cartman felson chapel comrade limp adolph direct recently beach glowing expect posters barbie recovered patch cheeks \n",
      "%\n",
      "Greedy| Q: How are you ?  A: anytime laboratory cartman compensated greasy awaken scratching saxophone manpower sweating wave bambi ew in fake grove slut adolph \n",
      "%\n",
      "Greedy| Q: What are you doing ?  A: anytime laboratory limb nevermind stalling dumber et planned million warp classes promoted shipping dumber et planned million warp \n",
      "%\n",
      "Greedy| Q: What is your favorite restaurant ?  A: anytime laboratory limb nevermind stalling dumber et planned pathological jerome grimes mumford majors jones dangerous dumber et planned \n",
      "%\n",
      "Greedy| Q: Do you want to go out ?  A: frightened structure pearl ew carrie crosswalk brochure clifford finish rational steward petty arms finders inspiration birdy adolph thatthat \n",
      "####################\n",
      "check point saved!\n",
      "Best epoch so far:  13\n",
      "Time  332.382 sec\n",
      "\n",
      "========================================\n",
      "Epoch 14 Batch 598 Loss: 1.1039\n",
      "Epoch 14 Batch 1196 Loss: 1.6659\n",
      "Epoch 14 Batch 1794 Loss: 1.5021\n",
      "Epoch 14 Batch 2392 Loss: 1.4726\n",
      "Epoch 14 Batch 2990 Loss: 1.2352\n",
      "Epoch 14 Batch 3588 Loss: 1.4881\n",
      "\n",
      "*** Epoch 14 Loss 1.1572 ***\n",
      "\n",
      "####################\n",
      "Greedy| Q: Hello   A: anytime laboratory cartman felson chapel comrade limp adolph direct recently beach glowing expect posters barbie recovered patch cheeks \n",
      "%\n",
      "Greedy| Q: How are you ?  A: anytime laboratory cartman compensated greasy awaken scratching saxophone manpower sweating wave bambi ew in fake grove slut adolph \n",
      "%\n",
      "Greedy| Q: What are you doing ?  A: anytime laboratory limb nevermind stalling dumber et planned million warp classes promoted shipping dumber et planned million warp \n",
      "%\n",
      "Greedy| Q: What is your favorite restaurant ?  A: anytime laboratory limb nevermind stalling dumber et planned pathological jerome grimes mumford majors jones dangerous dumber et planned \n",
      "%\n",
      "Greedy| Q: Do you want to go out ?  A: frightened structure pearl ew carrie crosswalk brochure clifford finish rational steward petty arms finders inspiration birdy adolph thatthat \n",
      "####################\n",
      "check point saved!\n",
      "Best epoch so far:  14\n",
      "Time  333.427 sec\n",
      "\n",
      "========================================\n",
      "Epoch 15 Batch 598 Loss: 0.9809\n",
      "Epoch 15 Batch 1196 Loss: 1.6702\n",
      "Epoch 15 Batch 1794 Loss: 1.3528\n",
      "Epoch 15 Batch 2392 Loss: 1.5085\n",
      "Epoch 15 Batch 2990 Loss: 1.2673\n",
      "Epoch 15 Batch 3588 Loss: 1.5007\n",
      "\n",
      "*** Epoch 15 Loss 1.1529 ***\n",
      "\n",
      "####################\n",
      "Greedy| Q: Hello   A: anytime laboratory cartman felson chapel comrade limp adolph direct recently beach glowing expect posters barbie recovered patch cheeks \n",
      "%\n",
      "Greedy| Q: How are you ?  A: anytime laboratory cartman compensated greasy awaken scratching saxophone manpower sweating wave bambi ew in fake grove slut adolph \n",
      "%\n",
      "Greedy| Q: What are you doing ?  A: anytime laboratory limb nevermind stalling dumber et planned million warp classes promoted shipping dumber typical lively temporary manpower \n",
      "%\n",
      "Greedy| Q: What is your favorite restaurant ?  A: anytime laboratory limb nevermind stalling dumber et planned pathological jerome grimes mumford majors jones dangerous dumber et planned \n",
      "%\n",
      "Greedy| Q: Do you want to go out ?  A: frightened structure pearl ew anytime frightened structure pearl ew anytime frightened structure pearl ew anytime frightened structure pearl \n",
      "####################\n",
      "check point saved!\n"
     ]
    },
    {
     "data": {
      "image/png": "[encoded data removed]",
      "text/plain": [
       "<Figure size 288x216 with 1 Axes>"
      ]
     },
     "metadata": {
      "needs_background": "light"
     },
     "output_type": "display_data"
    },
    {
     "name": "stdout",
     "output_type": "stream",
     "text": [
      "Best epoch so far:  15\n",
      "Time  333.160 sec\n",
      "\n",
      "========================================\n",
      "Epoch 16 Batch 598 Loss: 1.0379\n",
      "Epoch 16 Batch 1196 Loss: 1.2959\n",
      "Epoch 16 Batch 1794 Loss: 1.1687\n",
      "Epoch 16 Batch 2392 Loss: 1.4438\n",
      "Epoch 16 Batch 2990 Loss: 1.1437\n",
      "Epoch 16 Batch 3588 Loss: 1.2418\n",
      "\n",
      "*** Epoch 16 Loss 1.1491 ***\n",
      "\n",
      "####################\n",
      "Greedy| Q: Hello   A: anytime laboratory cartman felson chapel comrade limp adolph direct recently beach glowing expect posters barbie recovered patch cheeks \n",
      "%\n",
      "Greedy| Q: How are you ?  A: anytime laboratory cartman compensated greasy awaken scratching saxophone manpower sweating wave carpet soap execute mannered heartbeat detachment stella \n",
      "%\n",
      "Greedy| Q: What are you doing ?  A: anytime laboratory limb nevermind stalling dumber et planned million warp classes promoted shipping woodsman adolph direct dumber et \n",
      "%\n",
      "Greedy| Q: What is your favorite restaurant ?  A: anytime laboratory limb nevermind stalling dumber et planned pathological jerome grimes mumford majors jones dangerous dumber et planned \n",
      "%\n",
      "Greedy| Q: Do you want to go out ?  A: frightened structure pearl ew anytime frightened structure pearl ew anytime frightened structure pearl ew anytime frightened structure pearl \n",
      "####################\n",
      "check point saved!\n",
      "Best epoch so far:  16\n",
      "Time  332.833 sec\n",
      "\n",
      "========================================\n",
      "Epoch 17 Batch 598 Loss: 1.1884\n",
      "Epoch 17 Batch 1196 Loss: 1.2145\n",
      "Epoch 17 Batch 1794 Loss: 1.2195\n",
      "Epoch 17 Batch 2392 Loss: 1.3116\n",
      "Epoch 17 Batch 2990 Loss: 1.1627\n",
      "Epoch 17 Batch 3588 Loss: 1.1478\n",
      "\n",
      "*** Epoch 17 Loss 1.1453 ***\n",
      "\n",
      "####################\n",
      "Greedy| Q: Hello   A: anytime laboratory cartman felson chapel comrade limp adolph direct recently beach glowing expect posters barbie recovered patch cheeks \n",
      "%\n",
      "Greedy| Q: How are you ?  A: anytime laboratory cartman compensated greasy awaken scratching saxophone manpower sweating wave carpet soap execute mannered heartbeat heartbeat heartbeat \n",
      "%\n",
      "Greedy| Q: What are you doing ?  A: anytime laboratory limb nevermind stalling dumber et planned million warp classes promoted shipping woodsman adolph direct dumber et \n",
      "%\n",
      "Greedy| Q: What is your favorite restaurant ?  A: anytime laboratory limb nevermind stalling dumber et planned pathological jerome grimes mumford majors jones dangerous dumber et planned \n",
      "%\n",
      "Greedy| Q: Do you want to go out ?  A: frightened structure pearl ew anytime frightened structure pearl ew anytime frightened structure pearl ew anytime frightened structure pearl \n",
      "####################\n",
      "check point saved!\n",
      "Best epoch so far:  17\n",
      "Time  332.493 sec\n",
      "\n",
      "========================================\n",
      "Epoch 18 Batch 598 Loss: 1.1142\n",
      "Epoch 18 Batch 1196 Loss: 1.5399\n",
      "Epoch 18 Batch 1794 Loss: 1.5040\n",
      "Epoch 18 Batch 2392 Loss: 1.5660\n",
      "Epoch 18 Batch 2990 Loss: 1.1233\n",
      "Epoch 18 Batch 3588 Loss: 1.3497\n",
      "\n",
      "*** Epoch 18 Loss 1.1422 ***\n",
      "\n",
      "####################\n",
      "Greedy| Q: Hello   A: anytime laboratory cartman felson chapel comrade limp adolph direct recently beach glowing expect posters barbie recovered patch cheeks \n",
      "%\n",
      "Greedy| Q: How are you ?  A: anytime laboratory cartman compensated greasy awaken scratching saxophone manpower sweating wave carpet soap execute mannered heartbeat heartbeat heartbeat \n",
      "%\n",
      "Greedy| Q: What are you doing ?  A: anytime laboratory limb nevermind stalling dumber et planned million warp classes promoted shipping woodsman adolph direct dumber et \n",
      "%\n",
      "Greedy| Q: What is your favorite restaurant ?  A: anytime laboratory limb nevermind stalling dumber et planned pathological jerome grimes mumford majors jones dangerous dumber et planned \n",
      "%\n",
      "Greedy| Q: Do you want to go out ?  A: frightened structure pearl ew anytime frightened structure pearl ew anytime frightened structure pearl ew anytime frightened structure pearl \n",
      "####################\n",
      "check point saved!\n",
      "Best epoch so far:  18\n",
      "Time  332.162 sec\n",
      "\n",
      "========================================\n",
      "Epoch 19 Batch 598 Loss: 1.1133\n",
      "Epoch 19 Batch 1196 Loss: 1.7167\n",
      "Epoch 19 Batch 1794 Loss: 1.4823\n",
      "Epoch 19 Batch 2392 Loss: 1.5542\n",
      "Epoch 19 Batch 2990 Loss: 1.1982\n",
      "Epoch 19 Batch 3588 Loss: 1.5268\n",
      "\n",
      "*** Epoch 19 Loss 1.1390 ***\n",
      "\n",
      "####################\n",
      "Greedy| Q: Hello   A: anytime laboratory cartman felson chapel comrade limp adolph direct recently beach glowing expect posters barbie recovered patch cheeks \n",
      "%\n",
      "Greedy| Q: How are you ?  A: anytime laboratory cartman compensated greasy awaken scratching saxophone manpower sweating wave carpet soap execute mannered heartbeat heartbeat heartbeat \n",
      "%\n",
      "Greedy| Q: What are you doing ?  A: anytime laboratory limb nevermind stalling dumber et planned million warp classes promoted shipping woodsman adolph direct dumber et \n",
      "%\n",
      "Greedy| Q: What is your favorite restaurant ?  A: anytime laboratory limb nevermind stalling dumber et planned pathological jerome grimes mumford majors jones dangerous dumber et planned \n",
      "%\n",
      "Greedy| Q: Do you want to go out ?  A: frightened structure pearl ew anytime frightened structure pearl ew anytime frightened structure pearl ew anytime frightened structure pearl \n",
      "####################\n",
      "check point saved!\n",
      "Best epoch so far:  19\n",
      "Time  332.705 sec\n",
      "\n",
      "========================================\n",
      "Epoch 20 Batch 598 Loss: 1.0248\n",
      "Epoch 20 Batch 1196 Loss: 1.7048\n",
      "Epoch 20 Batch 1794 Loss: 1.3415\n",
      "Epoch 20 Batch 2392 Loss: 1.5125\n",
      "Epoch 20 Batch 2990 Loss: 1.2538\n",
      "Epoch 20 Batch 3588 Loss: 1.3843\n",
      "\n",
      "*** Epoch 20 Loss 1.1358 ***\n",
      "\n",
      "####################\n",
      "Greedy| Q: Hello   A: anytime laboratory cartman felson chapel comrade limp adolph direct recently beach glowing expect posters barbie recovered patch cheeks \n",
      "%\n",
      "Greedy| Q: How are you ?  A: anytime laboratory cartman compensated greasy awaken scratching saxophone manpower sweating wave carpet soap execute mannered heartbeat heartbeat heartbeat \n",
      "%\n",
      "Greedy| Q: What are you doing ?  A: anytime laboratory limb nevermind stalling dumber et planned million warp classes promoted shipping woodsman adolph direct dumber et \n",
      "%\n",
      "Greedy| Q: What is your favorite restaurant ?  A: anytime laboratory limb nevermind stalling dumber et planned pathological jerome grimes mumford majors jones dangerous dumber et planned \n",
      "%\n",
      "Greedy| Q: Do you want to go out ?  A: frightened structure pearl ew anytime frightened structure pearl ew anytime frightened structure pearl ew anytime frightened structure pearl \n",
      "####################\n",
      "check point saved!\n"
     ]
    },
    {
     "data": {
      "image/png": "[encoded data removed]",
      "text/plain": [
       "<Figure size 288x216 with 1 Axes>"
      ]
     },
     "metadata": {
      "needs_background": "light"
     },
     "output_type": "display_data"
    },
    {
     "name": "stdout",
     "output_type": "stream",
     "text": [
      "Best epoch so far:  20\n",
      "Time  332.568 sec\n",
      "\n",
      "========================================\n",
      "Epoch 21 Batch 598 Loss: 1.0198\n",
      "Epoch 21 Batch 1196 Loss: 1.3596\n",
      "Epoch 21 Batch 1794 Loss: 1.2727\n",
      "Epoch 21 Batch 2392 Loss: 1.4662\n",
      "Epoch 21 Batch 2990 Loss: 1.2068\n",
      "Epoch 21 Batch 3588 Loss: 1.2863\n",
      "\n",
      "*** Epoch 21 Loss 1.1331 ***\n",
      "\n",
      "####################\n",
      "Greedy| Q: Hello   A: anytime laboratory cartman felson chapel comrade limp adolph direct recently beach glowing expect posters barbie recovered patch cheeks \n",
      "%\n",
      "Greedy| Q: How are you ?  A: anytime laboratory office emi spread beach mi tub romulan happily teach chess whaddya tub editing cub mantan and \n",
      "%\n",
      "Greedy| Q: What are you doing ?  A: anytime laboratory limb nevermind stalling dumber et planned million warp classes promoted shipping woodsman adolph direct dumber et \n",
      "%\n",
      "Greedy| Q: What is your favorite restaurant ?  A: anytime laboratory limb nevermind stalling dumber et planned promoted shipping woodsman adolph shipping woodsman adolph shipping woodsman adolph \n",
      "%\n",
      "Greedy| Q: Do you want to go out ?  A: frightened structure pearl ew anytime frightened structure pearl ew anytime frightened structure pearl ew anytime frightened structure pearl \n",
      "####################\n",
      "check point saved!\n",
      "Best epoch so far:  21\n",
      "Time  331.622 sec\n",
      "\n",
      "========================================\n",
      "Epoch 22 Batch 598 Loss: 1.1285\n",
      "Epoch 22 Batch 1196 Loss: 1.2073\n",
      "Epoch 22 Batch 1794 Loss: 1.1705\n",
      "Epoch 22 Batch 2392 Loss: 1.3326\n",
      "Epoch 22 Batch 2990 Loss: 1.1000\n",
      "Epoch 22 Batch 3588 Loss: 1.1193\n",
      "\n",
      "*** Epoch 22 Loss 1.1301 ***\n",
      "\n",
      "####################\n",
      "Greedy| Q: Hello   A: anytime laboratory cartman felson chapel comrade limp adolph direct recently beach glowing expect posters barbie recovered patch cheeks \n",
      "%\n",
      "Greedy| Q: How are you ?  A: anytime laboratory office emi spread beach mi tub romulan happily teach chess whaddya tub editing cub mantan and \n",
      "%\n",
      "Greedy| Q: What are you doing ?  A: anytime laboratory limb nevermind stalling dumber et planned million warp classes promoted shipping woodsman adolph direct dumber et \n",
      "%\n",
      "Greedy| Q: What is your favorite restaurant ?  A: anytime laboratory limb nevermind stalling dumber et planned promoted shipping woodsman adolph shipping woodsman adolph shipping woodsman adolph \n",
      "%\n",
      "Greedy| Q: Do you want to go out ?  A: frightened structure pearl ew anytime frightened structure pearl ew anytime frightened structure pearl ew anytime frightened structure pearl \n",
      "####################\n",
      "check point saved!\n",
      "Best epoch so far:  22\n",
      "Time  332.231 sec\n",
      "\n",
      "========================================\n",
      "Epoch 23 Batch 598 Loss: 1.1284\n",
      "Epoch 23 Batch 1196 Loss: 1.5202\n",
      "Epoch 23 Batch 1794 Loss: 1.4748\n",
      "Epoch 23 Batch 2392 Loss: 1.5488\n",
      "Epoch 23 Batch 2990 Loss: 1.0102\n",
      "Epoch 23 Batch 3588 Loss: 1.2803\n",
      "\n",
      "*** Epoch 23 Loss 1.1277 ***\n",
      "\n",
      "####################\n",
      "Greedy| Q: Hello   A: anytime laboratory cartman felson chapel comrade limp adolph direct recently beach glowing expect posters barbie recovered patch cheeks \n",
      "%\n",
      "Greedy| Q: How are you ?  A: anytime laboratory office emi spread beach mi tub editing cub mantan and seventysix anytime laboratory office emi spread \n",
      "%\n",
      "Greedy| Q: What are you doing ?  A: anytime laboratory limb nevermind stalling dumber et planned million warp classes promoted shipping woodsman adolph direct dumber et \n",
      "%\n",
      "Greedy| Q: What is your favorite restaurant ?  A: anytime laboratory limb nevermind stalling dumber et planned promoted shipping woodsman adolph shipping woodsman adolph shipping woodsman adolph \n",
      "%\n",
      "Greedy| Q: Do you want to go out ?  A: frightened structure pearl ew anytime frightened structure pearl ew anytime frightened structure pearl ew anytime frightened structure pearl \n",
      "####################\n",
      "check point saved!\n",
      "Best epoch so far:  23\n",
      "Time  332.142 sec\n",
      "\n",
      "========================================\n",
      "Epoch 24 Batch 598 Loss: 1.1162\n",
      "Epoch 24 Batch 1196 Loss: 1.5923\n",
      "Epoch 24 Batch 1794 Loss: 1.4636\n",
      "Epoch 24 Batch 2392 Loss: 1.5001\n",
      "Epoch 24 Batch 2990 Loss: 1.1852\n",
      "Epoch 24 Batch 3588 Loss: 1.4059\n",
      "\n",
      "*** Epoch 24 Loss 1.1254 ***\n",
      "\n",
      "####################\n",
      "Greedy| Q: Hello   A: anytime laboratory cartman felson chapel comrade limp adolph direct recently beach glowing expect posters barbie recovered patch cheeks \n",
      "%\n",
      "Greedy| Q: How are you ?  A: anytime laboratory office emi spread beach mi tub editing cub mantan and seventysix anytime laboratory office emi spread \n",
      "%\n",
      "Greedy| Q: What are you doing ?  A: anytime laboratory limb nevermind stalling dumber et planned million warp classes promoted shipping woodsman adolph direct dumber et \n",
      "%\n",
      "Greedy| Q: What is your favorite restaurant ?  A: anytime laboratory limb nevermind stalling dumber et planned promoted shipping woodsman adolph shipping woodsman adolph shipping woodsman adolph \n",
      "%\n",
      "Greedy| Q: Do you want to go out ?  A: frightened structure pearl ew anytime frightened structure pearl ew anytime frightened structure pearl ew anytime frightened structure pearl \n",
      "####################\n",
      "check point saved!\n",
      "Best epoch so far:  24\n",
      "Time  332.953 sec\n",
      "\n",
      "========================================\n",
      "Epoch 25 Batch 598 Loss: 1.0412\n",
      "Epoch 25 Batch 1196 Loss: 1.6424\n",
      "Epoch 25 Batch 1794 Loss: 1.4991\n",
      "Epoch 25 Batch 2392 Loss: 1.4821\n",
      "Epoch 25 Batch 2990 Loss: 1.2279\n",
      "Epoch 25 Batch 3588 Loss: 1.4070\n",
      "\n",
      "*** Epoch 25 Loss 1.1230 ***\n",
      "\n",
      "####################\n",
      "Greedy| Q: Hello   A: anytime laboratory cartman felson chapel comrade limp adolph direct recently beach glowing expect posters barbie recovered patch cheeks \n",
      "%\n",
      "Greedy| Q: How are you ?  A: anytime laboratory office emi spread beach glowing dangerous wrap beside savior rises harbin inspiration birdy adolph direct dumber \n",
      "%\n",
      "Greedy| Q: What are you doing ?  A: anytime laboratory limb nevermind stalling dumber et planned million warp classes promoted shipping woodsman adolph direct dumber et \n",
      "%\n",
      "Greedy| Q: What is your favorite restaurant ?  A: anytime laboratory limb nevermind stalling dumber et planned promoted shipping woodsman adolph thatthat anytime laboratory limb nevermind stalling \n",
      "%\n",
      "Greedy| Q: Do you want to go out ?  A: frightened structure pearl ew anytime geologists arei frightened structure pearl ew anytime geologists arei frightened structure pearl ew \n",
      "####################\n",
      "check point saved!\n"
     ]
    },
    {
     "data": {
      "image/png": "[encoded data removed]",
      "text/plain": [
       "<Figure size 288x216 with 1 Axes>"
      ]
     },
     "metadata": {
      "needs_background": "light"
     },
     "output_type": "display_data"
    },
    {
     "name": "stdout",
     "output_type": "stream",
     "text": [
      "Best epoch so far:  25\n",
      "Time  350.089 sec\n",
      "\n",
      "========================================\n",
      "Epoch 26 Batch 598 Loss: 1.0701\n",
      "Epoch 26 Batch 1196 Loss: 1.4413\n",
      "Epoch 26 Batch 1794 Loss: 1.3756\n",
      "Epoch 26 Batch 2392 Loss: 1.4166\n",
      "Epoch 26 Batch 2990 Loss: 1.2413\n",
      "Epoch 26 Batch 3588 Loss: 1.3807\n",
      "\n",
      "*** Epoch 26 Loss 1.1207 ***\n",
      "\n",
      "####################\n",
      "Greedy| Q: Hello   A: anytime laboratory cartman felson chapel comrade limp adolph direct recently beach glowing expect posters barbie recovered patch cheeks \n",
      "%\n",
      "Greedy| Q: How are you ?  A: anytime laboratory office emi spread beach glowing dangerous wrap beside savior rises harbin inspiration birdy adolph direct dumber \n",
      "%\n",
      "Greedy| Q: What are you doing ?  A: anytime laboratory limb nevermind stalling dumber et planned million warp classes promoted shipping woodsman adolph direct dumber et \n",
      "%\n",
      "Greedy| Q: What is your favorite restaurant ?  A: anytime laboratory limb nevermind stalling dumber et planned promoted shipping woodsman adolph thatthat anytime laboratory limb nevermind stalling \n",
      "%\n",
      "Greedy| Q: Do you want to go out ?  A: frightened structure pearl ew anytime geologists arei frightened structure pearl ew anytime geologists arei frightened structure pearl ew \n",
      "####################\n",
      "check point saved!\n",
      "Best epoch so far:  26\n",
      "Time  351.215 sec\n",
      "\n",
      "========================================\n",
      "Epoch 27 Batch 598 Loss: 1.1105\n",
      "Epoch 27 Batch 1196 Loss: 1.1905\n",
      "Epoch 27 Batch 1794 Loss: 1.1346\n",
      "Epoch 27 Batch 2392 Loss: 1.3736\n",
      "Epoch 27 Batch 2990 Loss: 1.1017\n",
      "Epoch 27 Batch 3588 Loss: 1.1665\n",
      "\n",
      "*** Epoch 27 Loss 1.1182 ***\n",
      "\n",
      "####################\n",
      "Greedy| Q: Hello   A: anytime laboratory cartman felson chapel comrade limp adolph direct recently beach glowing expect posters barbie recovered patch cheeks \n",
      "%\n",
      "Greedy| Q: How are you ?  A: anytime laboratory office emi spread beach glowing dangerous wrap beside savior rises harbin inspiration birdy adolph direct dumber \n",
      "%\n",
      "Greedy| Q: What are you doing ?  A: anytime laboratory limb nevermind stalling dumber et planned million warp classes promoted shipping woodsman adolph direct dumber et \n",
      "%\n",
      "Greedy| Q: What is your favorite restaurant ?  A: anytime laboratory limb nevermind stalling dumber et planned promoted shipping woodsman adolph thatthat anytime laboratory limb nevermind stalling \n",
      "%\n",
      "Greedy| Q: Do you want to go out ?  A: frightened structure pearl ew anytime geologists arei frightened structure pearl ew anytime geologists arei frightened structure pearl ew \n",
      "####################\n",
      "check point saved!\n",
      "Best epoch so far:  27\n",
      "Time  346.599 sec\n",
      "\n",
      "========================================\n",
      "Epoch 28 Batch 598 Loss: 1.1234\n",
      "Epoch 28 Batch 1196 Loss: 1.5042\n",
      "Epoch 28 Batch 1794 Loss: 1.3829\n",
      "Epoch 28 Batch 2392 Loss: 1.5255\n",
      "Epoch 28 Batch 2990 Loss: 0.9624\n",
      "Epoch 28 Batch 3588 Loss: 1.2059\n",
      "\n",
      "*** Epoch 28 Loss 1.1170 ***\n",
      "\n",
      "####################\n",
      "Greedy| Q: Hello   A: anytime laboratory cartman felson chapel comrade limp adolph direct recently beach glowing expect posters barbie recovered patch cheeks \n",
      "%\n",
      "Greedy| Q: How are you ?  A: thirtyseven anytime laboratory office emi spread beach glowing dangerous wrap beside savior rises harbin inspiration birdy adolph direct \n",
      "%\n",
      "Greedy| Q: What are you doing ?  A: anytime laboratory limb nevermind stalling dumber et planned million warp classes promoted shipping woodsman adolph direct dumber et \n",
      "%\n",
      "Greedy| Q: What is your favorite restaurant ?  A: anytime laboratory limb nevermind stalling dumber et planned promoted shipping woodsman adolph thatthat anytime laboratory limb nevermind stalling \n",
      "%\n",
      "Greedy| Q: Do you want to go out ?  A: frightened structure pearl ew anytime geologists arei frightened structure pearl ew anytime geologists arei frightened structure pearl ew \n",
      "####################\n",
      "check point saved!\n",
      "Best epoch so far:  28\n",
      "Time  332.625 sec\n",
      "\n",
      "========================================\n",
      "Epoch 29 Batch 598 Loss: 1.0992\n",
      "Epoch 29 Batch 1196 Loss: 1.5417\n",
      "Epoch 29 Batch 1794 Loss: 1.4339\n",
      "Epoch 29 Batch 2392 Loss: 1.5497\n",
      "Epoch 29 Batch 2990 Loss: 1.1554\n",
      "Epoch 29 Batch 3588 Loss: 1.4093\n",
      "\n",
      "*** Epoch 29 Loss 1.1149 ***\n",
      "\n",
      "####################\n",
      "Greedy| Q: Hello   A: anytime laboratory cartman felson chapel comrade limp adolph direct recently beach glowing expect posters barbie recovered patch cheeks \n",
      "%\n",
      "Greedy| Q: How are you ?  A: thirtyseven anytime laboratory office emi spread beach glowing dangerous wrap beside savior rises harbin inspiration birdy adolph direct \n",
      "%\n",
      "Greedy| Q: What are you doing ?  A: anytime laboratory limb nevermind stalling dumber et planned million warp classes promoted shipping woodsman tailor trumpet manpower sweating \n",
      "%\n",
      "Greedy| Q: What is your favorite restaurant ?  A: anytime geologists arei anytime laboratory limb nevermind stalling dumber et planned promoted shipping woodsman adolph thatthat anytime laboratory \n",
      "%\n",
      "Greedy| Q: Do you want to go out ?  A: frightened structure pearl ew anytime geologists arei frightened structure pearl ew anytime geologists arei frightened structure pearl ew \n",
      "####################\n",
      "check point saved!\n",
      "Best epoch so far:  29\n",
      "Time  343.593 sec\n",
      "\n",
      "========================================\n",
      "Epoch 30 Batch 598 Loss: 1.0734\n",
      "Epoch 30 Batch 1196 Loss: 1.6097\n",
      "Epoch 30 Batch 1794 Loss: 1.4550\n",
      "Epoch 30 Batch 2392 Loss: 1.4474\n",
      "Epoch 30 Batch 2990 Loss: 1.1819\n",
      "Epoch 30 Batch 3588 Loss: 1.4189\n",
      "\n",
      "*** Epoch 30 Loss 1.1129 ***\n",
      "\n",
      "####################\n",
      "Greedy| Q: Hello   A: anytime laboratory cartman felson chapel comrade limp adolph direct recently beach glowing expect posters barbie recovered patch cheeks \n",
      "%\n",
      "Greedy| Q: How are you ?  A: thirtyseven anytime laboratory cartman compensated greasy awaken scratching saxophone manpower sweating wave bambi ew in fake grove coins \n",
      "%\n",
      "Greedy| Q: What are you doing ?  A: anytime laboratory limb nevermind stalling dumber et planned million warp classes promoted shipping woodsman adolph direct dumber et \n",
      "%\n",
      "Greedy| Q: What is your favorite restaurant ?  A: anytime geologists arei anytime geologists arei anytime geologists arei anytime geologists arei anytime geologists arei anytime geologists arei \n",
      "%\n",
      "Greedy| Q: Do you want to go out ?  A: frightened structure pearl ew anytime geologists arei frightened structure pearl ew anytime geologists arei frightened structure pearl ew \n",
      "####################\n",
      "check point saved!\n"
     ]
    },
    {
     "data": {
      "image/png": "[encoded data removed]",
      "text/plain": [
       "<Figure size 288x216 with 1 Axes>"
      ]
     },
     "metadata": {
      "needs_background": "light"
     },
     "output_type": "display_data"
    },
    {
     "name": "stdout",
     "output_type": "stream",
     "text": [
      "Best epoch so far:  30\n",
      "Time  355.285 sec\n",
      "\n",
      "========================================\n",
      "Epoch 31 Batch 598 Loss: 0.9574\n",
      "Epoch 31 Batch 1196 Loss: 1.6104\n",
      "Epoch 31 Batch 1794 Loss: 1.3213\n",
      "Epoch 31 Batch 2392 Loss: 1.4851\n",
      "Epoch 31 Batch 2990 Loss: 1.2085\n",
      "Epoch 31 Batch 3588 Loss: 1.4099\n",
      "\n",
      "*** Epoch 31 Loss 1.1111 ***\n",
      "\n",
      "####################\n",
      "Greedy| Q: Hello   A: anytime laboratory cartman felson chapel comrade limp adolph direct recently beach glowing expect posters barbie recovered patch cheeks \n",
      "%\n",
      "Greedy| Q: How are you ?  A: thirtyseven thirtyseven thirtyseven thirtyseven thirtyseven thirtyseven thirtyseven thirtyseven thirtyseven thirtyseven thirtyseven thirtyseven thirtyseven thirtyseven thirtyseven thirtyseven thirtyseven thirtyseven \n",
      "%\n",
      "Greedy| Q: What are you doing ?  A: anytime laboratory limb nevermind stalling dumber et planned million warp classes promoted shipping woodsman adolph direct dumber et \n",
      "%\n",
      "Greedy| Q: What is your favorite restaurant ?  A: anytime geologists arei anytime geologists arei anytime geologists arei anytime geologists arei anytime geologists arei anytime geologists arei \n",
      "%\n",
      "Greedy| Q: Do you want to go out ?  A: frightened structure pearl ew anytime geologists arei frightened structure pearl ew anytime geologists arei frightened structure pearl ew \n",
      "####################\n",
      "check point saved!\n",
      "Best epoch so far:  31\n",
      "Time  358.937 sec\n",
      "\n",
      "========================================\n",
      "Epoch 32 Batch 598 Loss: 1.0210\n",
      "Epoch 32 Batch 1196 Loss: 1.2740\n",
      "Epoch 32 Batch 1794 Loss: 1.1430\n",
      "Epoch 32 Batch 2392 Loss: 1.4170\n",
      "Epoch 32 Batch 2990 Loss: 1.0832\n",
      "Epoch 32 Batch 3588 Loss: 1.1478\n",
      "\n",
      "*** Epoch 32 Loss 1.1098 ***\n",
      "\n",
      "####################\n",
      "Greedy| Q: Hello   A: anytime laboratory cartman felson chapel comrade limp adolph direct recently beach glowing expect posters barbie recovered patch cheeks \n",
      "%\n",
      "Greedy| Q: How are you ?  A: thirtyseven thirtyseven thirtyseven thirtyseven thirtyseven thirtyseven thirtyseven thirtyseven thirtyseven thirtyseven thirtyseven thirtyseven thirtyseven thirtyseven thirtyseven thirtyseven thirtyseven thirtyseven \n",
      "%\n",
      "Greedy| Q: What are you doing ?  A: anytime laboratory limb nevermind stalling dumber et planned million warp classes promoted shipping woodsman adolph direct dumber et \n",
      "%\n",
      "Greedy| Q: What is your favorite restaurant ?  A: anytime geologists arei anytime geologists arei anytime geologists arei anytime geologists arei anytime geologists arei anytime geologists arei \n",
      "%\n",
      "Greedy| Q: Do you want to go out ?  A: frightened structure pearl ew anytime geologists arei frightened structure pearl ew anytime geologists arei frightened structure pearl ew \n",
      "####################\n",
      "check point saved!\n",
      "Best epoch so far:  32\n",
      "Time  353.650 sec\n",
      "\n",
      "========================================\n",
      "Epoch 33 Batch 598 Loss: 1.1604\n",
      "Epoch 33 Batch 1196 Loss: 1.1840\n",
      "Epoch 33 Batch 1794 Loss: 1.1903\n",
      "Epoch 33 Batch 2392 Loss: 1.2946\n",
      "Epoch 33 Batch 2990 Loss: 1.1001\n",
      "Epoch 33 Batch 3588 Loss: 1.0732\n",
      "\n",
      "*** Epoch 33 Loss 1.1077 ***\n",
      "\n",
      "####################\n",
      "Greedy| Q: Hello   A: anytime laboratory cartman felson chapel comrade limp ease beings drink sports seventysix anytime laboratory cartman felson chapel comrade \n",
      "%\n",
      "Greedy| Q: How are you ?  A: thirtyseven thirtyseven thirtyseven thirtyseven thirtyseven thirtyseven thirtyseven thirtyseven thirtyseven thirtyseven thirtyseven thirtyseven thirtyseven thirtyseven thirtyseven thirtyseven thirtyseven thirtyseven \n",
      "%\n",
      "Greedy| Q: What are you doing ?  A: anytime laboratory limb nevermind stalling dumber et planned million warp classes promoted shipping woodsman tailor trumpet manpower sweating \n",
      "%\n",
      "Greedy| Q: What is your favorite restaurant ?  A: anytime geologists arei anytime geologists arei anytime geologists arei anytime geologists arei anytime geologists arei anytime geologists arei \n",
      "%\n",
      "Greedy| Q: Do you want to go out ?  A: frightened structure pearl ew anytime geologists arei frightened structure pearl ew anytime geologists arei frightened structure pearl ew \n",
      "####################\n",
      "check point saved!\n",
      "Best epoch so far:  33\n",
      "Time  354.252 sec\n",
      "\n",
      "========================================\n",
      "Epoch 34 Batch 598 Loss: 1.0985\n",
      "Epoch 34 Batch 1196 Loss: 1.4942\n",
      "Epoch 34 Batch 1794 Loss: 1.4506\n",
      "Epoch 34 Batch 2392 Loss: 1.5318\n",
      "Epoch 34 Batch 2990 Loss: 1.0915\n",
      "Epoch 34 Batch 3588 Loss: 1.3009\n",
      "\n",
      "*** Epoch 34 Loss 1.1070 ***\n",
      "\n",
      "####################\n",
      "Greedy| Q: Hello   A: anytime laboratory cartman felson chapel comrade limp adolph direct recently beach glowing expect posters barbie recovered patch cheeks \n",
      "%\n",
      "Greedy| Q: How are you ?  A: thirtyseven thirtyseven thirtyseven thirtyseven thirtyseven thirtyseven thirtyseven thirtyseven thirtyseven thirtyseven thirtyseven thirtyseven thirtyseven thirtyseven thirtyseven thirtyseven thirtyseven thirtyseven \n",
      "%\n",
      "Greedy| Q: What are you doing ?  A: anytime laboratory cartman compensated greasy awaken scratching saxophone manpower sweating occurred maverick imaginary lands compute doing seventysix anytime \n",
      "%\n",
      "Greedy| Q: What is your favorite restaurant ?  A: anytime geologists arei anytime geologists arei anytime geologists arei anytime geologists arei anytime geologists arei anytime geologists arei \n",
      "%\n",
      "Greedy| Q: Do you want to go out ?  A: frightened structure pearl ew anytime geologists arei frightened structure pearl ew anytime geologists arei frightened structure pearl ew \n",
      "####################\n",
      "check point saved!\n",
      "Best epoch so far:  34\n",
      "Time  331.454 sec\n",
      "\n",
      "========================================\n",
      "Epoch 35 Batch 598 Loss: 1.0983\n",
      "Epoch 35 Batch 1196 Loss: 1.6763\n",
      "Epoch 35 Batch 1794 Loss: 1.4365\n",
      "Epoch 35 Batch 2392 Loss: 1.5316\n",
      "Epoch 35 Batch 2990 Loss: 1.1465\n",
      "Epoch 35 Batch 3588 Loss: 1.4881\n",
      "\n",
      "*** Epoch 35 Loss 1.1055 ***\n",
      "\n",
      "####################\n",
      "Greedy| Q: Hello   A: anytime laboratory cartman felson chapel comrade limp adolph direct recently beach glowing expect posters barbie recovered patch cheeks \n",
      "%\n",
      "Greedy| Q: How are you ?  A: thirtyseven thirtyseven thirtyseven thirtyseven thirtyseven thirtyseven thirtyseven thirtyseven thirtyseven thirtyseven thirtyseven thirtyseven thirtyseven thirtyseven thirtyseven thirtyseven thirtyseven thirtyseven \n",
      "%\n",
      "Greedy| Q: What are you doing ?  A: anytime laboratory cartman compensated greasy awaken scratching saxophone manpower sweating occurred maverick imaginary lands compute doing seventysix anytime \n",
      "%\n",
      "Greedy| Q: What is your favorite restaurant ?  A: anytime geologists arei anytime geologists arei anytime geologists arei anytime geologists arei anytime geologists arei anytime geologists arei \n",
      "%\n",
      "Greedy| Q: Do you want to go out ?  A: frightened structure pearl ew anytime geologists arei frightened structure pearl ew anytime geologists arei frightened structure pearl ew \n",
      "####################\n",
      "check point saved!\n"
     ]
    },
    {
     "data": {
      "image/png": "[encoded data removed]",
      "text/plain": [
       "<Figure size 288x216 with 1 Axes>"
      ]
     },
     "metadata": {
      "needs_background": "light"
     },
     "output_type": "display_data"
    },
    {
     "name": "stdout",
     "output_type": "stream",
     "text": [
      "Best epoch so far:  35\n",
      "Time  337.814 sec\n",
      "\n",
      "========================================\n",
      "Epoch 36 Batch 598 Loss: 1.0054\n",
      "Epoch 36 Batch 1196 Loss: 1.6797\n",
      "Epoch 36 Batch 1794 Loss: 1.3102\n",
      "Epoch 36 Batch 2392 Loss: 1.4933\n",
      "Epoch 36 Batch 2990 Loss: 1.1942\n",
      "Epoch 36 Batch 3588 Loss: 1.3445\n",
      "\n",
      "*** Epoch 36 Loss 1.1037 ***\n",
      "\n",
      "####################\n",
      "Greedy| Q: Hello   A: anytime laboratory cartman felson chapel comrade limp adolph direct recently beach glowing expect posters barbie recovered patch cheeks \n",
      "%\n",
      "Greedy| Q: How are you ?  A: thirtyseven thirtyseven thirtyseven thirtyseven thirtyseven thirtyseven thirtyseven thirtyseven thirtyseven thirtyseven thirtyseven thirtyseven thirtyseven thirtyseven thirtyseven thirtyseven thirtyseven thirtyseven \n",
      "%\n",
      "Greedy| Q: What are you doing ?  A: anytime laboratory cartman compensated greasy awaken scratching saxophone manpower sweating occurred maverick imaginary lands compute doing seventysix anytime \n",
      "%\n",
      "Greedy| Q: What is your favorite restaurant ?  A: anytime geologists arei anytime geologists arei anytime geologists arei anytime geologists arei anytime geologists arei anytime geologists arei \n",
      "%\n",
      "Greedy| Q: Do you want to go out ?  A: frightened structure pearl ew anytime geologists arei frightened structure pearl ew anytime geologists arei frightened structure pearl ew \n",
      "####################\n",
      "check point saved!\n",
      "Best epoch so far:  36\n",
      "Time  339.332 sec\n",
      "\n",
      "========================================\n",
      "Epoch 37 Batch 598 Loss: 1.0023\n",
      "Epoch 37 Batch 1196 Loss: 1.3412\n",
      "Epoch 37 Batch 1794 Loss: 1.2478\n",
      "Epoch 37 Batch 2392 Loss: 1.4463\n",
      "Epoch 37 Batch 2990 Loss: 1.1499\n",
      "Epoch 37 Batch 3588 Loss: 1.2432\n",
      "\n",
      "*** Epoch 37 Loss 1.1024 ***\n",
      "\n",
      "####################\n",
      "Greedy| Q: Hello   A: anytime laboratory cartman felson chapel comrade limp adolph direct recently beach glowing expect posters barbie recovered patch cheeks \n",
      "%\n",
      "Greedy| Q: How are you ?  A: thirtyseven thirtyseven thirtyseven thirtyseven thirtyseven thirtyseven thirtyseven thirtyseven thirtyseven thirtyseven thirtyseven thirtyseven thirtyseven thirtyseven thirtyseven thirtyseven thirtyseven thirtyseven \n",
      "%\n",
      "Greedy| Q: What are you doing ?  A: anytime laboratory cartman compensated greasy awaken scratching saxophone manpower sweating occurred maverick imaginary lands compute doing seventysix anytime \n",
      "%\n",
      "Greedy| Q: What is your favorite restaurant ?  A: anytime geologists arei anytime geologists arei anytime geologists arei anytime geologists arei anytime geologists arei anytime geologists arei \n",
      "%\n",
      "Greedy| Q: Do you want to go out ?  A: frightened structure pearl ew anytime geologists arei frightened structure pearl ew anytime geologists arei frightened structure pearl ew \n",
      "####################\n",
      "check point saved!\n",
      "Best epoch so far:  37\n",
      "Time  356.548 sec\n",
      "\n",
      "========================================\n",
      "Epoch 38 Batch 598 Loss: 1.1059\n",
      "Epoch 38 Batch 1196 Loss: 1.1900\n",
      "Epoch 38 Batch 1794 Loss: 1.1477\n",
      "Epoch 38 Batch 2392 Loss: 1.3178\n",
      "Epoch 38 Batch 2990 Loss: 1.0442\n",
      "Epoch 38 Batch 3588 Loss: 1.0731\n",
      "\n",
      "*** Epoch 38 Loss 1.1010 ***\n",
      "\n",
      "####################\n",
      "Greedy| Q: Hello   A: anytime laboratory cartman felson chapel comrade limp adolph direct recently beach glowing expect posters barbie recovered patch cheeks \n",
      "%\n",
      "Greedy| Q: How are you ?  A: thirtyseven thirtyseven thirtyseven thirtyseven thirtyseven thirtyseven thirtyseven thirtyseven thirtyseven thirtyseven thirtyseven thirtyseven thirtyseven thirtyseven thirtyseven thirtyseven thirtyseven thirtyseven \n",
      "%\n",
      "Greedy| Q: What are you doing ?  A: anytime laboratory cartman compensated greasy awaken scratching saxophone manpower sweating occurred maverick imaginary lands compute doing seventysix anytime \n",
      "%\n",
      "Greedy| Q: What is your favorite restaurant ?  A: anytime geologists arei anytime geologists arei anytime geologists arei anytime geologists arei anytime geologists arei anytime geologists arei \n",
      "%\n",
      "Greedy| Q: Do you want to go out ?  A: frightened structure pearl ew anytime geologists arei frightened structure pearl ew anytime geologists arei frightened structure pearl ew \n",
      "####################\n",
      "check point saved!\n",
      "Best epoch so far:  38\n",
      "Time  349.856 sec\n",
      "\n",
      "========================================\n",
      "Epoch 39 Batch 598 Loss: 1.1153\n",
      "Epoch 39 Batch 1196 Loss: 1.4765\n",
      "Epoch 39 Batch 1794 Loss: 1.4324\n",
      "Epoch 39 Batch 2392 Loss: 1.5128\n",
      "Epoch 39 Batch 2990 Loss: 0.9912\n",
      "Epoch 39 Batch 3588 Loss: 1.2453\n",
      "\n",
      "*** Epoch 39 Loss 1.1001 ***\n",
      "\n",
      "####################\n",
      "Greedy| Q: Hello   A: anytime laboratory cartman felson chapel comrade limp adolph direct recently beach glowing expect posters barbie recovered patch linda \n",
      "%\n",
      "Greedy| Q: How are you ?  A: thirtyseven thirtyseven thirtyseven thirtyseven thirtyseven thirtyseven thirtyseven thirtyseven thirtyseven thirtyseven thirtyseven thirtyseven thirtyseven thirtyseven thirtyseven thirtyseven thirtyseven thirtyseven \n",
      "%\n",
      "Greedy| Q: What are you doing ?  A: anytime laboratory cartman compensated greasy awaken scratching saxophone manpower sweating occurred maverick imaginary lands compute doing seventysix anytime \n",
      "%\n",
      "Greedy| Q: What is your favorite restaurant ?  A: anytime geologists arei anytime geologists arei anytime geologists arei anytime geologists arei anytime geologists arei anytime geologists arei \n",
      "%\n",
      "Greedy| Q: Do you want to go out ?  A: frightened structure pearl ew anytime geologists perry dumber typical manpower sweating occurred maverick imaginary priority woodsman adolph thatthat \n",
      "####################\n",
      "check point saved!\n",
      "Best epoch so far:  39\n",
      "Time  343.293 sec\n",
      "\n",
      "========================================\n",
      "Epoch 40 Batch 598 Loss: 1.0898\n",
      "Epoch 40 Batch 1196 Loss: 1.5486\n",
      "Epoch 40 Batch 1794 Loss: 1.4249\n",
      "Epoch 40 Batch 2392 Loss: 1.4823\n",
      "Epoch 40 Batch 2990 Loss: 1.1619\n",
      "Epoch 40 Batch 3588 Loss: 1.3847\n",
      "\n",
      "*** Epoch 40 Loss 1.0988 ***\n",
      "\n",
      "####################\n",
      "Greedy| Q: Hello   A: anytime laboratory cartman felson chapel comrade limp adolph direct recently beach glowing expect posters barbie recovered patch linda \n",
      "%\n",
      "Greedy| Q: How are you ?  A: thirtyseven thirtyseven thirtyseven thirtyseven thirtyseven thirtyseven thirtyseven thirtyseven thirtyseven thirtyseven thirtyseven thirtyseven thirtyseven thirtyseven thirtyseven thirtyseven thirtyseven thirtyseven \n",
      "%\n",
      "Greedy| Q: What are you doing ?  A: anytime laboratory cartman compensated greasy awaken scratching saxophone manpower sweating occurred maverick imaginary lands compute doing seventysix anytime \n",
      "%\n",
      "Greedy| Q: What is your favorite restaurant ?  A: anytime geologists arei anytime geologists arei anytime geologists arei anytime geologists arei anytime geologists arei anytime geologists arei \n",
      "%\n",
      "Greedy| Q: Do you want to go out ?  A: frightened structure pearl ew anytime geologists arei frightened structure pearl ew anytime geologists arei frightened structure pearl ew \n",
      "####################\n",
      "check point saved!\n"
     ]
    },
    {
     "data": {
      "image/png": "[encoded data removed]",
      "text/plain": [
       "<Figure size 288x216 with 1 Axes>"
      ]
     },
     "metadata": {
      "needs_background": "light"
     },
     "output_type": "display_data"
    },
    {
     "name": "stdout",
     "output_type": "stream",
     "text": [
      "Best epoch so far:  40\n",
      "Time  347.716 sec\n",
      "\n",
      "========================================\n",
      "Epoch 41 Batch 598 Loss: 1.0216\n",
      "Epoch 41 Batch 1196 Loss: 1.6053\n",
      "Epoch 41 Batch 1794 Loss: 1.4708\n",
      "Epoch 41 Batch 2392 Loss: 1.4728\n",
      "Epoch 41 Batch 2990 Loss: 1.1845\n",
      "Epoch 41 Batch 3588 Loss: 1.3799\n",
      "\n",
      "*** Epoch 41 Loss 1.0975 ***\n",
      "\n",
      "####################\n",
      "Greedy| Q: Hello   A: anytime laboratory cartman felson chapel comrade limp adolph direct recently beach glowing expect posters barbie recovered patch linda \n",
      "%\n",
      "Greedy| Q: How are you ?  A: thirtyseven thirtyseven thirtyseven thirtyseven thirtyseven thirtyseven thirtyseven thirtyseven thirtyseven thirtyseven thirtyseven thirtyseven thirtyseven thirtyseven thirtyseven thirtyseven thirtyseven thirtyseven \n",
      "%\n",
      "Greedy| Q: What are you doing ?  A: anytime laboratory cartman compensated greasy awaken scratching saxophone manpower sweating occurred maverick imaginary lands compute doing seventysix anytime \n",
      "%\n",
      "Greedy| Q: What is your favorite restaurant ?  A: anytime geologists arei anytime geologists arei anytime geologists arei anytime geologists arei anytime geologists arei anytime geologists arei \n",
      "%\n",
      "Greedy| Q: Do you want to go out ?  A: frightened structure pearl ew mushrooms shitload frightened structure pearl ew mushrooms shitload frightened structure pearl ew mushrooms shitload \n",
      "####################\n",
      "check point saved!\n",
      "Best epoch so far:  41\n",
      "Time  331.267 sec\n",
      "\n",
      "========================================\n",
      "Epoch 42 Batch 598 Loss: 1.0525\n",
      "Epoch 42 Batch 1196 Loss: 1.4136\n",
      "Epoch 42 Batch 1794 Loss: 1.3568\n",
      "Epoch 42 Batch 2392 Loss: 1.3995\n",
      "Epoch 42 Batch 2990 Loss: 1.2065\n",
      "Epoch 42 Batch 3588 Loss: 1.3471\n",
      "\n",
      "*** Epoch 42 Loss 1.0962 ***\n",
      "\n",
      "####################\n",
      "Greedy| Q: Hello   A: anytime laboratory cartman felson chapel comrade limp adolph direct recently beach glowing expect posters barbie recovered patch linda \n",
      "%\n",
      "Greedy| Q: How are you ?  A: thirtyseven thirtyseven thirtyseven thirtyseven thirtyseven thirtyseven thirtyseven thirtyseven thirtyseven thirtyseven thirtyseven thirtyseven thirtyseven thirtyseven thirtyseven thirtyseven thirtyseven thirtyseven \n",
      "%\n",
      "Greedy| Q: What are you doing ?  A: anytime laboratory cartman compensated greasy awaken scratching saxophone manpower sweating occurred maverick imaginary lands compute doing seventysix anytime \n",
      "%\n",
      "Greedy| Q: What is your favorite restaurant ?  A: anytime geologists arei anytime geologists arei anytime geologists arei anytime geologists arei anytime geologists arei anytime geologists arei \n",
      "%\n",
      "Greedy| Q: Do you want to go out ?  A: frightened structure pearl ew anytime geologists arei frightened structure pearl ew anytime geologists arei frightened structure pearl ew \n",
      "####################\n",
      "check point saved!\n",
      "Best epoch so far:  42\n",
      "Time  343.890 sec\n",
      "\n",
      "========================================\n",
      "Epoch 43 Batch 598 Loss: 1.0973\n",
      "Epoch 43 Batch 1196 Loss: 1.1647\n",
      "Epoch 43 Batch 1794 Loss: 1.1205\n",
      "Epoch 43 Batch 2392 Loss: 1.3625\n",
      "Epoch 43 Batch 2990 Loss: 1.0602\n",
      "Epoch 43 Batch 3588 Loss: 1.1389\n",
      "\n",
      "*** Epoch 43 Loss 1.0948 ***\n",
      "\n",
      "####################\n",
      "Greedy| Q: Hello   A: anytime laboratory cartman felson chapel comrade limp adolph direct recently beach glowing expect posters barbie recovered patch linda \n",
      "%\n",
      "Greedy| Q: How are you ?  A: thirtyseven thirtyseven thirtyseven thirtyseven thirtyseven thirtyseven thirtyseven thirtyseven thirtyseven thirtyseven thirtyseven thirtyseven thirtyseven thirtyseven thirtyseven thirtyseven thirtyseven thirtyseven \n",
      "%\n",
      "Greedy| Q: What are you doing ?  A: anytime laboratory cartman compensated greasy awaken scratching saxophone manpower sweating occurred maverick imaginary lands compute doing seventysix anytime \n",
      "%\n",
      "Greedy| Q: What is your favorite restaurant ?  A: anytime geologists arei anytime geologists arei anytime geologists arei anytime geologists arei anytime geologists arei anytime geologists arei \n",
      "%\n",
      "Greedy| Q: Do you want to go out ?  A: frightened structure pearl ew anytime geologists arei frightened structure pearl ew anytime geologists arei frightened structure pearl ew \n",
      "####################\n",
      "check point saved!\n",
      "Best epoch so far:  43\n",
      "Time  349.825 sec\n",
      "\n",
      "========================================\n",
      "Epoch 44 Batch 598 Loss: 1.1094\n",
      "Epoch 44 Batch 1196 Loss: 1.4514\n",
      "Epoch 44 Batch 1794 Loss: 1.3468\n",
      "Epoch 44 Batch 2392 Loss: 1.5038\n",
      "Epoch 44 Batch 2990 Loss: 0.9631\n",
      "Epoch 44 Batch 3588 Loss: 1.1943\n",
      "\n",
      "*** Epoch 44 Loss 1.0945 ***\n",
      "\n",
      "####################\n",
      "Greedy| Q: Hello   A: anytime laboratory cartman felson chapel comrade limp adolph direct recently beach glowing expect posters barbie recovered patch linda \n",
      "%\n",
      "Greedy| Q: How are you ?  A: thirtyseven duane yea superb temporary emi spread beach glowing dangerous wrap bismark modest defensive days promoted shipping woodsman \n",
      "%\n",
      "Greedy| Q: What are you doing ?  A: anytime laboratory cartman compensated greasy awaken scratching saxophone manpower sweating occurred maverick imaginary lands compute doing seventysix anytime \n",
      "%\n",
      "Greedy| Q: What is your favorite restaurant ?  A: anytime geologists arei anytime geologists arei anytime geologists arei anytime geologists arei anytime geologists arei anytime geologists arei \n",
      "%\n",
      "Greedy| Q: Do you want to go out ?  A: frightened structure pearl ew anytime geologists perry dumber et planned million merchandise so seventysix frightened structure pearl ew \n",
      "####################\n",
      "check point saved!\n",
      "Best epoch so far:  44\n",
      "Time  355.816 sec\n",
      "\n",
      "========================================\n",
      "Epoch 45 Batch 598 Loss: 1.0764\n",
      "Epoch 45 Batch 1196 Loss: 1.5003\n",
      "Epoch 45 Batch 1794 Loss: 1.3993\n",
      "Epoch 45 Batch 2392 Loss: 1.5305\n",
      "Epoch 45 Batch 2990 Loss: 1.1445\n",
      "Epoch 45 Batch 3588 Loss: 1.4002\n",
      "\n",
      "*** Epoch 45 Loss 1.0941 ***\n",
      "\n",
      "####################\n",
      "Greedy| Q: Hello   A: anytime laboratory cartman felson chapel comrade limp adolph direct recently beach glowing expect posters barbie recovered patch linda \n",
      "%\n",
      "Greedy| Q: How are you ?  A: thirtyseven thirtyseven thirtyseven thirtyseven thirtyseven thirtyseven thirtyseven thirtyseven thirtyseven thirtyseven thirtyseven thirtyseven thirtyseven thirtyseven thirtyseven thirtyseven thirtyseven thirtyseven \n",
      "%\n",
      "Greedy| Q: What are you doing ?  A: anytime laboratory cartman compensated greasy awaken scratching saxophone manpower sweating occurred maverick imaginary lands compute doing seventysix anytime \n",
      "%\n",
      "Greedy| Q: What is your favorite restaurant ?  A: anytime geologists arei anytime geologists arei anytime geologists arei anytime geologists arei anytime geologists arei anytime geologists arei \n",
      "%\n",
      "Greedy| Q: Do you want to go out ?  A: frightened structure pearl ew anytime geologists arei frightened structure pearl ew anytime geologists arei frightened structure pearl ew \n",
      "####################\n",
      "check point saved!\n"
     ]
    },
    {
     "data": {
      "image/png": "[encoded data removed]",
      "text/plain": [
       "<Figure size 288x216 with 1 Axes>"
      ]
     },
     "metadata": {
      "needs_background": "light"
     },
     "output_type": "display_data"
    },
    {
     "name": "stdout",
     "output_type": "stream",
     "text": [
      "Best epoch so far:  45\n",
      "Time  342.335 sec\n",
      "\n",
      "========================================\n",
      "Epoch 46 Batch 598 Loss: 1.0569\n",
      "Epoch 46 Batch 1196 Loss: 1.5710\n",
      "Epoch 46 Batch 1794 Loss: 1.4296\n",
      "Epoch 46 Batch 2392 Loss: 1.4407\n",
      "Epoch 46 Batch 2990 Loss: 1.1498\n",
      "Epoch 46 Batch 3588 Loss: 1.3995\n",
      "\n",
      "*** Epoch 46 Loss 1.0930 ***\n",
      "\n",
      "####################\n",
      "Greedy| Q: Hello   A: anytime laboratory cartman felson chapel comrade limp adolph direct recently beach glowing expect posters barbie recovered patch linda \n",
      "%\n",
      "Greedy| Q: How are you ?  A: thirtyseven thirtyseven thirtyseven thirtyseven thirtyseven thirtyseven thirtyseven thirtyseven thirtyseven thirtyseven thirtyseven thirtyseven thirtyseven thirtyseven thirtyseven thirtyseven thirtyseven thirtyseven \n",
      "%\n",
      "Greedy| Q: What are you doing ?  A: anytime laboratory cartman compensated greasy awaken scratching saxophone manpower sweating occurred maverick imaginary lands compute doing seventysix anytime \n",
      "%\n",
      "Greedy| Q: What is your favorite restaurant ?  A: anytime geologists arei anytime geologists arei anytime geologists arei anytime geologists arei anytime geologists arei anytime geologists arei \n",
      "%\n",
      "Greedy| Q: Do you want to go out ?  A: frightened structure pearl ew anytime geologists perry dumber et planned million merchandise so seventysix frightened structure pearl ew \n",
      "####################\n",
      "check point saved!\n",
      "Best epoch so far:  46\n",
      "Time  344.048 sec\n",
      "\n",
      "========================================\n",
      "Epoch 47 Batch 598 Loss: 0.9437\n",
      "Epoch 47 Batch 1196 Loss: 1.5752\n",
      "Epoch 47 Batch 1794 Loss: 1.2996\n",
      "Epoch 47 Batch 2392 Loss: 1.4662\n",
      "Epoch 47 Batch 2990 Loss: 1.1817\n",
      "Epoch 47 Batch 3588 Loss: 1.3871\n",
      "\n",
      "*** Epoch 47 Loss 1.0911 ***\n",
      "\n",
      "####################\n",
      "Greedy| Q: Hello   A: anytime laboratory cartman felson chapel comrade limp adolph direct informed promoted pathological jerome grimes bat since bribed grove \n",
      "%\n",
      "Greedy| Q: How are you ?  A: thirtyseven thirtyseven thirtyseven thirtyseven thirtyseven thirtyseven thirtyseven thirtyseven thirtyseven thirtyseven thirtyseven thirtyseven thirtyseven thirtyseven thirtyseven thirtyseven thirtyseven thirtyseven \n",
      "%\n",
      "Greedy| Q: What are you doing ?  A: anytime laboratory cartman compensated greasy awaken scratching saxophone manpower sweating occurred maverick imaginary lands compute doing seventysix anytime \n",
      "%\n",
      "Greedy| Q: What is your favorite restaurant ?  A: anytime geologists arei anytime geologists arei anytime geologists arei anytime geologists arei anytime geologists arei anytime geologists arei \n",
      "%\n",
      "Greedy| Q: Do you want to go out ?  A: frightened structure pearl ew anytime geologists perry dumber et planned million knees biologically wrestle tasted rimgale frightened structure \n",
      "####################\n",
      "check point saved!\n",
      "Best epoch so far:  47\n",
      "Time  341.660 sec\n",
      "\n",
      "========================================\n",
      "Epoch 48 Batch 598 Loss: 1.0075\n",
      "Epoch 48 Batch 1196 Loss: 1.2376\n",
      "Epoch 48 Batch 1794 Loss: 1.1372\n",
      "Epoch 48 Batch 2392 Loss: 1.4018\n",
      "Epoch 48 Batch 2990 Loss: 1.0624\n",
      "Epoch 48 Batch 3588 Loss: 1.1429\n",
      "\n",
      "*** Epoch 48 Loss 1.0903 ***\n",
      "\n",
      "####################\n",
      "Greedy| Q: Hello   A: anytime laboratory cartman felson chapel comrade limp adolph direct informed promoted pathological jerome grimes bat since bribed grove \n",
      "%\n",
      "Greedy| Q: How are you ?  A: thirtyseven thirtyseven thirtyseven thirtyseven thirtyseven thirtyseven thirtyseven thirtyseven thirtyseven thirtyseven thirtyseven thirtyseven thirtyseven thirtyseven thirtyseven thirtyseven thirtyseven thirtyseven \n",
      "%\n",
      "Greedy| Q: What are you doing ?  A: anytime laboratory limb nevermind stalling dumber et planned million warp classes promoted shipping woodsman tailor trumpet manpower sweating \n",
      "%\n",
      "Greedy| Q: What is your favorite restaurant ?  A: anytime geologists arei anytime geologists arei anytime geologists arei anytime geologists arei anytime geologists arei anytime geologists arei \n",
      "%\n",
      "Greedy| Q: Do you want to go out ?  A: frightened structure pearl ew anytime geologists perry dumber typical manpower sweating occurred maverick imaginary priority woodsman tailor trumpet \n",
      "####################\n",
      "check point saved!\n",
      "Best epoch so far:  48\n",
      "Time  338.227 sec\n",
      "\n",
      "========================================\n",
      "Epoch 49 Batch 598 Loss: 1.1511\n",
      "Epoch 49 Batch 1196 Loss: 1.1698\n",
      "Epoch 49 Batch 1794 Loss: 1.1870\n",
      "Epoch 49 Batch 2392 Loss: 1.2720\n",
      "Epoch 49 Batch 2990 Loss: 1.0630\n",
      "Epoch 49 Batch 3588 Loss: 1.0577\n",
      "\n",
      "*** Epoch 49 Loss 1.0893 ***\n",
      "\n",
      "####################\n",
      "Greedy| Q: Hello   A: anytime laboratory cartman felson chapel comrade limp adolph direct informed promoted pathological althea esparza calls seventysix anytime laboratory \n",
      "%\n",
      "Greedy| Q: How are you ?  A: thirtyseven anytime laboratory office emi spread beach glowing dangerous wrap bismark modest defensive days promoted shipping woodsman tailor \n",
      "%\n",
      "Greedy| Q: What are you doing ?  A: anytime laboratory cartman compensated greasy awaken scratching saxophone manpower sweating occurred maverick imaginary lands compute doing seventysix anytime \n",
      "%\n",
      "Greedy| Q: What is your favorite restaurant ?  A: anytime geologists arei anytime geologists arei anytime geologists arei anytime geologists arei anytime geologists arei anytime geologists arei \n",
      "%\n",
      "Greedy| Q: Do you want to go out ?  A: frightened structure pearl ew mushrooms shitload anytime geologists perry dumber et planned million knees biologically wrestle tasted rimgale \n",
      "####################\n",
      "check point saved!\n",
      "Best epoch so far:  49\n",
      "Time  343.887 sec\n",
      "\n",
      "========================================\n",
      "Epoch 50 Batch 598 Loss: 1.0744\n",
      "Epoch 50 Batch 1196 Loss: 1.4451\n",
      "Epoch 50 Batch 1794 Loss: 1.4176\n",
      "Epoch 50 Batch 2392 Loss: 1.5091\n",
      "Epoch 50 Batch 2990 Loss: 1.0876\n",
      "Epoch 50 Batch 3588 Loss: 1.2992\n",
      "\n",
      "*** Epoch 50 Loss 1.0889 ***\n",
      "\n",
      "####################\n",
      "Greedy| Q: Hello   A: anytime laboratory cartman felson chapel comrade limp adolph direct informed promoted pathological althea esparza calls seventysix anytime laboratory \n",
      "%\n",
      "Greedy| Q: How are you ?  A: thirtyseven thirtyseven thirtyseven thirtyseven thirtyseven thirtyseven thirtyseven thirtyseven thirtyseven thirtyseven thirtyseven thirtyseven thirtyseven thirtyseven thirtyseven thirtyseven thirtyseven thirtyseven \n",
      "%\n",
      "Greedy| Q: What are you doing ?  A: anytime laboratory cartman compensated greasy awaken scratching saxophone manpower sweating occurred maverick imaginary lands compute doing seventysix anytime \n",
      "%\n",
      "Greedy| Q: What is your favorite restaurant ?  A: anytime geologists arei anytime geologists arei anytime geologists arei anytime geologists arei anytime geologists arei anytime geologists arei \n",
      "%\n",
      "Greedy| Q: Do you want to go out ?  A: frightened structure pearl ew mushrooms shitload anytime geologists perry dumber et planned million merchandise so seventysix anytime geologists \n",
      "####################\n",
      "check point saved!\n"
     ]
    },
    {
     "data": {
      "image/png": "[encoded data removed]",
      "text/plain": [
       "<Figure size 288x216 with 1 Axes>"
      ]
     },
     "metadata": {
      "needs_background": "light"
     },
     "output_type": "display_data"
    },
    {
     "name": "stdout",
     "output_type": "stream",
     "text": [
      "Best epoch so far:  50\n",
      "Time  348.890 sec\n",
      "\n",
      "========================================\n",
      "Epoch 51 Batch 598 Loss: 1.0868\n",
      "Epoch 51 Batch 1196 Loss: 1.6264\n",
      "Epoch 51 Batch 1794 Loss: 1.4099\n",
      "Epoch 51 Batch 2392 Loss: 1.5152\n",
      "Epoch 51 Batch 2990 Loss: 1.1367\n",
      "Epoch 51 Batch 3588 Loss: 1.4801\n",
      "\n",
      "*** Epoch 51 Loss 1.0881 ***\n",
      "\n",
      "####################\n",
      "Greedy| Q: Hello   A: anytime laboratory cartman felson chapel comrade limp adolph direct informed promoted pathological jerome grimes bat since bribed grove \n",
      "%\n",
      "Greedy| Q: How are you ?  A: thirtyseven thirtyseven thirtyseven thirtyseven thirtyseven thirtyseven thirtyseven thirtyseven thirtyseven thirtyseven thirtyseven thirtyseven thirtyseven thirtyseven thirtyseven thirtyseven thirtyseven thirtyseven \n",
      "%\n",
      "Greedy| Q: What are you doing ?  A: anytime laboratory cartman compensated greasy awaken scratching saxophone manpower sweating occurred maverick imaginary lands compute doing seventysix anytime \n",
      "%\n",
      "Greedy| Q: What is your favorite restaurant ?  A: anytime geologists arei anytime geologists arei anytime geologists arei anytime geologists arei anytime geologists arei anytime geologists arei \n",
      "%\n",
      "Greedy| Q: Do you want to go out ?  A: frightened structure pearl ew anytime geologists perry dumber et planned million merchandise so seventysix frightened structure pearl ew \n",
      "####################\n",
      "check point saved!\n",
      "Best epoch so far:  51\n",
      "Time  345.131 sec\n",
      "\n",
      "========================================\n",
      "Epoch 52 Batch 598 Loss: 0.9955\n",
      "Epoch 52 Batch 1196 Loss: 1.6513\n",
      "Epoch 52 Batch 1794 Loss: 1.3057\n",
      "Epoch 52 Batch 2392 Loss: 1.4854\n",
      "Epoch 52 Batch 2990 Loss: 1.1936\n",
      "Epoch 52 Batch 3588 Loss: 1.3325\n",
      "\n",
      "*** Epoch 52 Loss 1.0886 ***\n",
      "\n",
      "####################\n",
      "Greedy| Q: Hello   A: anytime laboratory cartman felson chapel comrade limp adolph direct informed promoted pathological althea esparza calls seventysix anytime laboratory \n",
      "%\n",
      "Greedy| Q: How are you ?  A: thirtyseven anytime laboratory office emi spread beach glowing dangerous wrap bismark modest defensive days promoted shipping maverick imaginary \n",
      "%\n",
      "Greedy| Q: What are you doing ?  A: anytime laboratory cartman compensated greasy awaken scratching saxophone manpower sweating occurred maverick imaginary lands compute doing seventysix anytime \n",
      "%\n",
      "Greedy| Q: What is your favorite restaurant ?  A: anytime geologists arei anytime geologists arei anytime geologists arei anytime geologists arei anytime geologists arei anytime geologists arei \n",
      "%\n",
      "Greedy| Q: Do you want to go out ?  A: anytime geologists limb nevermind frightened structure pearl don beside savior sutphin bundy titanium anxious germans underhills anytime geologists \n",
      "####################\n",
      "Best epoch so far:  51\n",
      "Time  346.475 sec\n",
      "\n",
      "========================================\n",
      "Epoch 53 Batch 598 Loss: 0.9950\n",
      "Epoch 53 Batch 1196 Loss: 1.3155\n",
      "Epoch 53 Batch 1794 Loss: 1.2365\n",
      "Epoch 53 Batch 2392 Loss: 1.4291\n",
      "Epoch 53 Batch 2990 Loss: 1.1467\n",
      "Epoch 53 Batch 3588 Loss: 1.2326\n",
      "\n",
      "*** Epoch 53 Loss 1.0863 ***\n",
      "\n",
      "####################\n",
      "Greedy| Q: Hello   A: anytime laboratory cartman felson chapel comrade limp adolph direct informed promoted pathological jerome grimes bat since bribed grove \n",
      "%\n",
      "Greedy| Q: How are you ?  A: thirtyseven anytime laboratory office emi spread beach glowing dangerous wrap bismark modest defensive days promoted shipping maverick imaginary \n",
      "%\n",
      "Greedy| Q: What are you doing ?  A: anytime laboratory cartman compensated greasy awaken scratching saxophone manpower sweating occurred maverick imaginary lands compute doing seventysix anytime \n",
      "%\n",
      "Greedy| Q: What is your favorite restaurant ?  A: anytime geologists arei anytime geologists arei anytime geologists arei anytime geologists arei anytime geologists arei anytime geologists arei \n",
      "%\n",
      "Greedy| Q: Do you want to go out ?  A: anytime geologists perry dumber et planned million merchandise so seventysix anytime geologists perry dumber et planned million merchandise \n",
      "####################\n",
      "check point saved!\n",
      "Best epoch so far:  53\n",
      "Time  341.618 sec\n",
      "\n",
      "========================================\n",
      "Epoch 54 Batch 598 Loss: 1.1064\n",
      "Epoch 54 Batch 1196 Loss: 1.1755\n",
      "Epoch 54 Batch 1794 Loss: 1.1488\n",
      "Epoch 54 Batch 2392 Loss: 1.2964\n",
      "Epoch 54 Batch 2990 Loss: 1.0263\n",
      "Epoch 54 Batch 3588 Loss: 1.0631\n",
      "\n",
      "*** Epoch 54 Loss 1.0852 ***\n",
      "\n",
      "####################\n",
      "Greedy| Q: Hello   A: anytime laboratory cartman felson chapel comrade limp adolph direct informed promoted pathological jerome grimes bat since bribed grove \n",
      "%\n",
      "Greedy| Q: How are you ?  A: thirtyseven anytime laboratory office emi spread beach glowing dangerous wrap bismark modest defensive days promoted shipping maverick imaginary \n",
      "%\n",
      "Greedy| Q: What are you doing ?  A: anytime laboratory cartman compensated greasy awaken scratching saxophone manpower sweating occurred maverick imaginary lands compute doing seventysix anytime \n",
      "%\n",
      "Greedy| Q: What is your favorite restaurant ?  A: anytime geologists arei anytime geologists arei anytime geologists arei anytime geologists arei anytime geologists arei anytime geologists arei \n",
      "%\n",
      "Greedy| Q: Do you want to go out ?  A: anytime geologists perry dumber et planned million knees biologically linda gaskells anytime geologists perry dumber et planned million \n",
      "####################\n",
      "check point saved!\n",
      "Best epoch so far:  54\n",
      "Time  351.520 sec\n",
      "\n",
      "========================================\n",
      "Epoch 55 Batch 598 Loss: 1.1073\n",
      "Epoch 55 Batch 1196 Loss: 1.4437\n",
      "Epoch 55 Batch 1794 Loss: 1.4025\n",
      "Epoch 55 Batch 2392 Loss: 1.4914\n",
      "Epoch 55 Batch 2990 Loss: 0.9962\n",
      "Epoch 55 Batch 3588 Loss: 1.2408\n",
      "\n",
      "*** Epoch 55 Loss 1.0852 ***\n",
      "\n",
      "####################\n",
      "Greedy| Q: Hello   A: anytime laboratory cartman felson chapel comrade limp adolph direct informed promoted pathological althea esparza calls seventysix anytime laboratory \n",
      "%\n",
      "Greedy| Q: How are you ?  A: duane yea superb temporary emi spread beach glowing dangerous wrap bismark modest defensive days promoted shipping maverick imaginary \n",
      "%\n",
      "Greedy| Q: What are you doing ?  A: anytime laboratory cartman compensated greasy awaken scratching saxophone manpower sweating occurred maverick imaginary lands compute doing seventysix anytime \n",
      "%\n",
      "Greedy| Q: What is your favorite restaurant ?  A: anytime geologists arei anytime geologists arei anytime geologists arei anytime geologists arei anytime geologists arei anytime geologists arei \n",
      "%\n",
      "Greedy| Q: Do you want to go out ?  A: anytime geologists limb nevermind verdado anytime geologists limb nevermind verdado anytime geologists limb nevermind verdado anytime geologists limb \n",
      "####################\n",
      "check point saved!\n"
     ]
    },
    {
     "data": {
      "image/png": "[encoded data removed]",
      "text/plain": [
       "<Figure size 288x216 with 1 Axes>"
      ]
     },
     "metadata": {
      "needs_background": "light"
     },
     "output_type": "display_data"
    },
    {
     "name": "stdout",
     "output_type": "stream",
     "text": [
      "Best epoch so far:  55\n",
      "Time  347.111 sec\n",
      "\n",
      "========================================\n",
      "Epoch 56 Batch 598 Loss: 1.0863\n",
      "Epoch 56 Batch 1196 Loss: 1.5200\n",
      "Epoch 56 Batch 1794 Loss: 1.4098\n",
      "Epoch 56 Batch 2392 Loss: 1.4619\n",
      "Epoch 56 Batch 2990 Loss: 1.1622\n",
      "Epoch 56 Batch 3588 Loss: 1.3794\n",
      "\n",
      "*** Epoch 56 Loss 1.0845 ***\n",
      "\n",
      "####################\n",
      "Greedy| Q: Hello   A: anytime laboratory cartman felson chapel comrade limp adolph direct informed promoted pathological althea esparza calls seventysix anytime laboratory \n",
      "%\n",
      "Greedy| Q: How are you ?  A: anytime laboratory office emi spread beach glowing dangerous wrap bismark modest defensive days promoted shipping maverick imaginary attica \n",
      "%\n",
      "Greedy| Q: What are you doing ?  A: anytime laboratory cartman compensated greasy awaken scratching saxophone manpower sweating occurred maverick imaginary lands compute doing seventysix anytime \n",
      "%\n",
      "Greedy| Q: What is your favorite restaurant ?  A: anytime geologists arei anytime geologists arei anytime geologists arei anytime geologists arei anytime geologists arei anytime geologists arei \n",
      "%\n",
      "Greedy| Q: Do you want to go out ?  A: anytime geologists limb nevermind verdado anytime geologists limb nevermind verdado anytime geologists limb nevermind verdado anytime geologists limb \n",
      "####################\n",
      "check point saved!\n",
      "Best epoch so far:  56\n",
      "Time  344.033 sec\n",
      "\n",
      "========================================\n",
      "Epoch 57 Batch 598 Loss: 1.0198\n",
      "Epoch 57 Batch 1196 Loss: 1.5919\n",
      "Epoch 57 Batch 1794 Loss: 1.4541\n",
      "Epoch 57 Batch 2392 Loss: 1.4587\n",
      "Epoch 57 Batch 2990 Loss: 1.1873\n",
      "Epoch 57 Batch 3588 Loss: 1.3704\n",
      "\n",
      "*** Epoch 57 Loss 1.0848 ***\n",
      "\n",
      "####################\n",
      "Greedy| Q: Hello   A: anytime laboratory cartman felson chapel comrade limp adolph direct informed promoted pathological jerome grimes bat since bribed grove \n",
      "%\n",
      "Greedy| Q: How are you ?  A: duane yea superb temporary emi spread beach glowing dangerous wrap bismark modest defensive days promoted shipping maverick imaginary \n",
      "%\n",
      "Greedy| Q: What are you doing ?  A: anytime laboratory cartman compensated greasy awaken scratching saxophone manpower sweating occurred maverick imaginary lands compute doing seventysix anytime \n",
      "%\n",
      "Greedy| Q: What is your favorite restaurant ?  A: anytime geologists arei anytime geologists arei anytime geologists arei anytime geologists arei anytime geologists arei anytime geologists arei \n",
      "%\n",
      "Greedy| Q: Do you want to go out ?  A: anytime geologists arei anytime geologists arei anytime geologists arei anytime geologists arei anytime geologists arei anytime geologists arei \n",
      "####################\n",
      "Best epoch so far:  56\n",
      "Time  350.335 sec\n",
      "\n",
      "========================================\n",
      "Epoch 58 Batch 598 Loss: 1.0540\n",
      "Epoch 58 Batch 1196 Loss: 1.3960\n",
      "Epoch 58 Batch 1794 Loss: 1.3485\n"
     ]
    },
    {
     "ename": "KeyboardInterrupt",
     "evalue": "",
     "output_type": "error",
     "traceback": [
      "\u001b[1;31m---------------------------------------------------------------------------\u001b[0m",
      "\u001b[1;31mKeyboardInterrupt\u001b[0m                         Traceback (most recent call last)",
      "\u001b[1;32m<ipython-input-35-eaa3df648461>\u001b[0m in \u001b[0;36m<module>\u001b[1;34m\u001b[0m\n\u001b[0;32m     29\u001b[0m \u001b[1;33m\u001b[0m\u001b[0m\n\u001b[0;32m     30\u001b[0m         \u001b[1;32mif\u001b[0m \u001b[0mlen\u001b[0m\u001b[1;33m(\u001b[0m\u001b[0mX\u001b[0m\u001b[1;33m)\u001b[0m \u001b[1;33m==\u001b[0m \u001b[0mbatch_size\u001b[0m \u001b[1;33m:\u001b[0m\u001b[1;33m\u001b[0m\u001b[1;33m\u001b[0m\u001b[0m\n\u001b[1;32m---> 31\u001b[1;33m             \u001b[0mbatch_loss\u001b[0m \u001b[1;33m=\u001b[0m \u001b[0mtrain_step\u001b[0m\u001b[1;33m(\u001b[0m\u001b[0mnp\u001b[0m\u001b[1;33m.\u001b[0m\u001b[0marray\u001b[0m\u001b[1;33m(\u001b[0m\u001b[0mX\u001b[0m\u001b[1;33m)\u001b[0m\u001b[1;33m,\u001b[0m \u001b[0mnp\u001b[0m\u001b[1;33m.\u001b[0m\u001b[0marray\u001b[0m\u001b[1;33m(\u001b[0m\u001b[0my\u001b[0m\u001b[1;33m)\u001b[0m\u001b[1;33m,\u001b[0m \u001b[0menc_hidden\u001b[0m\u001b[1;33m)\u001b[0m\u001b[1;33m\u001b[0m\u001b[1;33m\u001b[0m\u001b[0m\n\u001b[0m\u001b[0;32m     32\u001b[0m             \u001b[0mtotal_loss\u001b[0m \u001b[1;33m+=\u001b[0m \u001b[0mbatch_loss\u001b[0m\u001b[1;33m\u001b[0m\u001b[1;33m\u001b[0m\u001b[0m\n\u001b[0;32m     33\u001b[0m             \u001b[0mX\u001b[0m \u001b[1;33m,\u001b[0m \u001b[0my\u001b[0m \u001b[1;33m=\u001b[0m \u001b[1;33m[\u001b[0m\u001b[1;33m]\u001b[0m\u001b[1;33m,\u001b[0m \u001b[1;33m[\u001b[0m\u001b[1;33m]\u001b[0m\u001b[1;33m\u001b[0m\u001b[1;33m\u001b[0m\u001b[0m\n",
      "\u001b[1;32m~\\anaconda3a\\lib\\site-packages\\tensorflow\\python\\eager\\def_function.py\u001b[0m in \u001b[0;36m__call__\u001b[1;34m(self, *args, **kwds)\u001b[0m\n\u001b[0;32m    826\u001b[0m     \u001b[0mtracing_count\u001b[0m \u001b[1;33m=\u001b[0m \u001b[0mself\u001b[0m\u001b[1;33m.\u001b[0m\u001b[0mexperimental_get_tracing_count\u001b[0m\u001b[1;33m(\u001b[0m\u001b[1;33m)\u001b[0m\u001b[1;33m\u001b[0m\u001b[1;33m\u001b[0m\u001b[0m\n\u001b[0;32m    827\u001b[0m     \u001b[1;32mwith\u001b[0m \u001b[0mtrace\u001b[0m\u001b[1;33m.\u001b[0m\u001b[0mTrace\u001b[0m\u001b[1;33m(\u001b[0m\u001b[0mself\u001b[0m\u001b[1;33m.\u001b[0m\u001b[0m_name\u001b[0m\u001b[1;33m)\u001b[0m \u001b[1;32mas\u001b[0m \u001b[0mtm\u001b[0m\u001b[1;33m:\u001b[0m\u001b[1;33m\u001b[0m\u001b[1;33m\u001b[0m\u001b[0m\n\u001b[1;32m--> 828\u001b[1;33m       \u001b[0mresult\u001b[0m \u001b[1;33m=\u001b[0m \u001b[0mself\u001b[0m\u001b[1;33m.\u001b[0m\u001b[0m_call\u001b[0m\u001b[1;33m(\u001b[0m\u001b[1;33m*\u001b[0m\u001b[0margs\u001b[0m\u001b[1;33m,\u001b[0m \u001b[1;33m**\u001b[0m\u001b[0mkwds\u001b[0m\u001b[1;33m)\u001b[0m\u001b[1;33m\u001b[0m\u001b[1;33m\u001b[0m\u001b[0m\n\u001b[0m\u001b[0;32m    829\u001b[0m       \u001b[0mcompiler\u001b[0m \u001b[1;33m=\u001b[0m \u001b[1;34m\"xla\"\u001b[0m \u001b[1;32mif\u001b[0m \u001b[0mself\u001b[0m\u001b[1;33m.\u001b[0m\u001b[0m_experimental_compile\u001b[0m \u001b[1;32melse\u001b[0m \u001b[1;34m\"nonXla\"\u001b[0m\u001b[1;33m\u001b[0m\u001b[1;33m\u001b[0m\u001b[0m\n\u001b[0;32m    830\u001b[0m       \u001b[0mnew_tracing_count\u001b[0m \u001b[1;33m=\u001b[0m \u001b[0mself\u001b[0m\u001b[1;33m.\u001b[0m\u001b[0mexperimental_get_tracing_count\u001b[0m\u001b[1;33m(\u001b[0m\u001b[1;33m)\u001b[0m\u001b[1;33m\u001b[0m\u001b[1;33m\u001b[0m\u001b[0m\n",
      "\u001b[1;32m~\\anaconda3a\\lib\\site-packages\\tensorflow\\python\\eager\\def_function.py\u001b[0m in \u001b[0;36m_call\u001b[1;34m(self, *args, **kwds)\u001b[0m\n\u001b[0;32m    853\u001b[0m       \u001b[1;31m# In this case we have created variables on the first call, so we run the\u001b[0m\u001b[1;33m\u001b[0m\u001b[1;33m\u001b[0m\u001b[1;33m\u001b[0m\u001b[0m\n\u001b[0;32m    854\u001b[0m       \u001b[1;31m# defunned version which is guaranteed to never create variables.\u001b[0m\u001b[1;33m\u001b[0m\u001b[1;33m\u001b[0m\u001b[1;33m\u001b[0m\u001b[0m\n\u001b[1;32m--> 855\u001b[1;33m       \u001b[1;32mreturn\u001b[0m \u001b[0mself\u001b[0m\u001b[1;33m.\u001b[0m\u001b[0m_stateless_fn\u001b[0m\u001b[1;33m(\u001b[0m\u001b[1;33m*\u001b[0m\u001b[0margs\u001b[0m\u001b[1;33m,\u001b[0m \u001b[1;33m**\u001b[0m\u001b[0mkwds\u001b[0m\u001b[1;33m)\u001b[0m  \u001b[1;31m# pylint: disable=not-callable\u001b[0m\u001b[1;33m\u001b[0m\u001b[1;33m\u001b[0m\u001b[0m\n\u001b[0m\u001b[0;32m    856\u001b[0m     \u001b[1;32melif\u001b[0m \u001b[0mself\u001b[0m\u001b[1;33m.\u001b[0m\u001b[0m_stateful_fn\u001b[0m \u001b[1;32mis\u001b[0m \u001b[1;32mnot\u001b[0m \u001b[1;32mNone\u001b[0m\u001b[1;33m:\u001b[0m\u001b[1;33m\u001b[0m\u001b[1;33m\u001b[0m\u001b[0m\n\u001b[0;32m    857\u001b[0m       \u001b[1;31m# Release the lock early so that multiple threads can perform the call\u001b[0m\u001b[1;33m\u001b[0m\u001b[1;33m\u001b[0m\u001b[1;33m\u001b[0m\u001b[0m\n",
      "\u001b[1;32m~\\anaconda3a\\lib\\site-packages\\tensorflow\\python\\eager\\function.py\u001b[0m in \u001b[0;36m__call__\u001b[1;34m(self, *args, **kwargs)\u001b[0m\n\u001b[0;32m   2940\u001b[0m       (graph_function,\n\u001b[0;32m   2941\u001b[0m        filtered_flat_args) = self._maybe_define_function(args, kwargs)\n\u001b[1;32m-> 2942\u001b[1;33m     return graph_function._call_flat(\n\u001b[0m\u001b[0;32m   2943\u001b[0m         filtered_flat_args, captured_inputs=graph_function.captured_inputs)  # pylint: disable=protected-access\n\u001b[0;32m   2944\u001b[0m \u001b[1;33m\u001b[0m\u001b[0m\n",
      "\u001b[1;32m~\\anaconda3a\\lib\\site-packages\\tensorflow\\python\\eager\\function.py\u001b[0m in \u001b[0;36m_call_flat\u001b[1;34m(self, args, captured_inputs, cancellation_manager)\u001b[0m\n\u001b[0;32m   1916\u001b[0m         and executing_eagerly):\n\u001b[0;32m   1917\u001b[0m       \u001b[1;31m# No tape is watching; skip to running the function.\u001b[0m\u001b[1;33m\u001b[0m\u001b[1;33m\u001b[0m\u001b[1;33m\u001b[0m\u001b[0m\n\u001b[1;32m-> 1918\u001b[1;33m       return self._build_call_outputs(self._inference_function.call(\n\u001b[0m\u001b[0;32m   1919\u001b[0m           ctx, args, cancellation_manager=cancellation_manager))\n\u001b[0;32m   1920\u001b[0m     forward_backward = self._select_forward_and_backward_functions(\n",
      "\u001b[1;32m~\\anaconda3a\\lib\\site-packages\\tensorflow\\python\\eager\\function.py\u001b[0m in \u001b[0;36mcall\u001b[1;34m(self, ctx, args, cancellation_manager)\u001b[0m\n\u001b[0;32m    553\u001b[0m       \u001b[1;32mwith\u001b[0m \u001b[0m_InterpolateFunctionError\u001b[0m\u001b[1;33m(\u001b[0m\u001b[0mself\u001b[0m\u001b[1;33m)\u001b[0m\u001b[1;33m:\u001b[0m\u001b[1;33m\u001b[0m\u001b[1;33m\u001b[0m\u001b[0m\n\u001b[0;32m    554\u001b[0m         \u001b[1;32mif\u001b[0m \u001b[0mcancellation_manager\u001b[0m \u001b[1;32mis\u001b[0m \u001b[1;32mNone\u001b[0m\u001b[1;33m:\u001b[0m\u001b[1;33m\u001b[0m\u001b[1;33m\u001b[0m\u001b[0m\n\u001b[1;32m--> 555\u001b[1;33m           outputs = execute.execute(\n\u001b[0m\u001b[0;32m    556\u001b[0m               \u001b[0mstr\u001b[0m\u001b[1;33m(\u001b[0m\u001b[0mself\u001b[0m\u001b[1;33m.\u001b[0m\u001b[0msignature\u001b[0m\u001b[1;33m.\u001b[0m\u001b[0mname\u001b[0m\u001b[1;33m)\u001b[0m\u001b[1;33m,\u001b[0m\u001b[1;33m\u001b[0m\u001b[1;33m\u001b[0m\u001b[0m\n\u001b[0;32m    557\u001b[0m               \u001b[0mnum_outputs\u001b[0m\u001b[1;33m=\u001b[0m\u001b[0mself\u001b[0m\u001b[1;33m.\u001b[0m\u001b[0m_num_outputs\u001b[0m\u001b[1;33m,\u001b[0m\u001b[1;33m\u001b[0m\u001b[1;33m\u001b[0m\u001b[0m\n",
      "\u001b[1;32m~\\anaconda3a\\lib\\site-packages\\tensorflow\\python\\eager\\execute.py\u001b[0m in \u001b[0;36mquick_execute\u001b[1;34m(op_name, num_outputs, inputs, attrs, ctx, name)\u001b[0m\n\u001b[0;32m     57\u001b[0m   \u001b[1;32mtry\u001b[0m\u001b[1;33m:\u001b[0m\u001b[1;33m\u001b[0m\u001b[1;33m\u001b[0m\u001b[0m\n\u001b[0;32m     58\u001b[0m     \u001b[0mctx\u001b[0m\u001b[1;33m.\u001b[0m\u001b[0mensure_initialized\u001b[0m\u001b[1;33m(\u001b[0m\u001b[1;33m)\u001b[0m\u001b[1;33m\u001b[0m\u001b[1;33m\u001b[0m\u001b[0m\n\u001b[1;32m---> 59\u001b[1;33m     tensors = pywrap_tfe.TFE_Py_Execute(ctx._handle, device_name, op_name,\n\u001b[0m\u001b[0;32m     60\u001b[0m                                         inputs, attrs, num_outputs)\n\u001b[0;32m     61\u001b[0m   \u001b[1;32mexcept\u001b[0m \u001b[0mcore\u001b[0m\u001b[1;33m.\u001b[0m\u001b[0m_NotOkStatusException\u001b[0m \u001b[1;32mas\u001b[0m \u001b[0me\u001b[0m\u001b[1;33m:\u001b[0m\u001b[1;33m\u001b[0m\u001b[1;33m\u001b[0m\u001b[0m\n",
      "\u001b[1;31mKeyboardInterrupt\u001b[0m: "
     ]
    }
   ],
   "source": [
    "batch_loss = K.constant(0)\n",
    "X, y = [], []\n",
    "def plot_history():\n",
    "    plt.figure(figsize=(4,3))\n",
    "    plt.plot(best_ep,smallest_loss,'ro')\n",
    "    plt.plot(history['loss'],'b-')\n",
    "    plt.legend(['best','loss'])\n",
    "    plt.show()\n",
    "\n",
    "for ep in range(current_ep,EPOCHS):\n",
    "    current_ep = ep    \n",
    "    start = time.time()\n",
    "    total_loss = 0\n",
    "    btch = 1\n",
    "\n",
    "    for p in pairs_final_train:     \n",
    "        \n",
    "        question = p[0]\n",
    "        label = p[1]\n",
    "        # find the index of each word of the caption in vocabulary\n",
    "        question_seq = [wordtoix[word] for word in question.split(' ') if word in wordtoix]\n",
    "        label_seq = [wordtoix[word] for word in label.split(' ') if word in wordtoix]\n",
    "        # encoder input and decoder input and label\n",
    "        enc_in_seq = pad_sequences([question_seq], maxlen=max_len_q, padding='post')[0]\n",
    "        dec_out_seq = pad_sequences([label_seq], maxlen=max_len_a, padding='post')[0]\n",
    "        \n",
    "        X.append(enc_in_seq)\n",
    "        y.append(dec_out_seq)\n",
    "\n",
    "        if len(X) == batch_size :\n",
    "            batch_loss = train_step(np.array(X), np.array(y), enc_hidden)\n",
    "            total_loss += batch_loss\n",
    "            X , y = [], []\n",
    "            btch += 1\n",
    "            if btch % (steps_per_epoch//6) == 0:\n",
    "                print('Epoch {} Batch {} Loss: {:.4f}'.format(ep , btch, K.get_value(batch_loss)))\n",
    "\n",
    "    epoch_loss =  K.get_value(total_loss) / steps_per_epoch\n",
    "    print('\\n*** Epoch {} Loss {:.4f} ***\\n'.format(ep ,epoch_loss))\n",
    "    history['loss'].append(epoch_loss)\n",
    "    \n",
    "    checkpoint.save(file_prefix = checkpoint_prefix)\n",
    "    test_bot(k=5)\n",
    "\n",
    "    if epoch_loss < smallest_loss:\n",
    "        smallest_loss = epoch_loss\n",
    "        best_ep = ep \n",
    "        print('check point saved!')\n",
    "    \n",
    "    if ep % 5 == 0:\n",
    "        plot_history()\n",
    "        \n",
    "    print('Best epoch so far: ',best_ep)\n",
    "    print('Time  {:.3f} sec\\n'.format(time.time() - start))\n",
    "\n",
    "    print('=' * 40)"
   ]
  },
  {
   "cell_type": "markdown",
   "metadata": {
    "id": "NK75PGx14ytY"
   },
   "source": [
    "Now we can load our best model and chat with our system. We also plot the attention weights."
   ]
  },
  {
   "cell_type": "code",
   "execution_count": 46,
   "metadata": {
    "colab": {
     "base_uri": "https://localhost:8080/"
    },
    "id": "1QxHQg1SduLo",
    "outputId": "ea782738-06a0-4c66-c911-f052bf017afa"
   },
   "outputs": [
    {
     "data": {
      "text/plain": [
       "<tensorflow.python.training.tracking.util.CheckpointLoadStatus at 0x17412d2e6d0>"
      ]
     },
     "execution_count": 46,
     "metadata": {},
     "output_type": "execute_result"
    }
   ],
   "source": [
    "checkpoint.restore(str(emb_dim)+\"-ckpt-50\")\n"
   ]
  },
  {
   "cell_type": "code",
   "execution_count": 47,
   "metadata": {
    "colab": {
     "base_uri": "https://localhost:8080/"
    },
    "id": "cr2-oAf0fBXT",
    "outputId": "e323aba0-ec66-4827-d380-e0bd5173e3c1"
   },
   "outputs": [
    {
     "name": "stdout",
     "output_type": "stream",
     "text": [
      "####################\n",
      "Greedy| Q: Hello   A: anytime laboratory cartman felson chapel comrade limp adolph direct informed promoted pathological althea esparza calls seventysix anytime laboratory \n",
      "%\n",
      "Greedy| Q: How are you ?  A: thirtyseven anytime laboratory office emi spread beach glowing dangerous wrap bismark modest defensive days promoted shipping woodsman tailor \n",
      "%\n",
      "Greedy| Q: What are you doing ?  A: anytime laboratory cartman compensated greasy awaken scratching saxophone manpower sweating occurred maverick imaginary lands compute doing seventysix anytime \n",
      "%\n",
      "Greedy| Q: What is your favorite restaurant ?  A: anytime geologists arei anytime geologists arei anytime geologists arei anytime geologists arei anytime geologists arei anytime geologists arei \n",
      "%\n",
      "Greedy| Q: Do you want to go out ?  A: frightened structure pearl ew mushrooms shitload anytime geologists perry dumber et planned million knees biologically wrestle tasted rimgale \n",
      "####################\n"
     ]
    }
   ],
   "source": [
    "test_bot()\n"
   ]
  },
  {
   "cell_type": "code",
   "execution_count": 48,
   "metadata": {
    "colab": {
     "base_uri": "https://localhost:8080/",
     "height": 314
    },
    "id": "FEu-hvlUfMh6",
    "outputId": "fda1e7e0-45b4-462a-8dde-dffa39e4b6ca"
   },
   "outputs": [
    {
     "name": "stdout",
     "output_type": "stream",
     "text": [
      "Input: how old are you\n",
      "Predicted answer: anytime laboratory limb nevermind stalling dumber et planned wacko adolph direct dumber et planned wacko adolph direct dumber \n"
     ]
    },
    {
     "data": {
      "image/png": "[encoded data removed]",
      "text/plain": [
       "<Figure size 360x360 with 1 Axes>"
      ]
     },
     "metadata": {
      "needs_background": "light"
     },
     "output_type": "display_data"
    }
   ],
   "source": [
    "q = \"How old are you\"\n",
    "answer(q, training=False)\n"
   ]
  },
  {
   "cell_type": "code",
   "execution_count": 49,
   "metadata": {
    "colab": {
     "base_uri": "https://localhost:8080/",
     "height": 204
    },
    "id": "Q62doKoifhcH",
    "outputId": "19987105-8b1f-43fa-a2a6-9c89ee3b9622"
   },
   "outputs": [
    {
     "name": "stdout",
     "output_type": "stream",
     "text": [
      "Input: do you drink\n",
      "Predicted answer: anytime laboratory cartman compensated greasy awaken scratching saxophone manpower sweating occurred upstate drinking celebrity crosswalk wanta treadstone follow \n"
     ]
    },
    {
     "data": {
      "image/png": "[encoded data removed]",
      "text/plain": [
       "<Figure size 360x360 with 1 Axes>"
      ]
     },
     "metadata": {
      "needs_background": "light"
     },
     "output_type": "display_data"
    }
   ],
   "source": [
    "q = \"Do you drink\"\n",
    "answer(q, training=False)\n"
   ]
  }
 ],
 "metadata": {
  "accelerator": "GPU",
  "colab": {
   "collapsed_sections": [],
   "name": "Lab_11_Seq2seq_Dialogue_Model_student.ipynb",
   "provenance": []
  },
  "kernelspec": {
   "display_name": "Python 3",
   "language": "python",
   "name": "python3"
  },
  "language_info": {
   "codemirror_mode": {
    "name": "ipython",
    "version": 3
   },
   "file_extension": ".py",
   "mimetype": "text/x-python",
   "name": "python",
   "nbconvert_exporter": "python",
   "pygments_lexer": "ipython3",
   "version": "3.8.5"
  }
 },
 "nbformat": 4,
 "nbformat_minor": 1
}
