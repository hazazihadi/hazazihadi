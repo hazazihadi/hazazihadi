{
 "cells": [
  {
   "cell_type": "markdown",
   "metadata": {
    "id": "hExKCzh6doIW"
   },
   "source": [
    "# Lab 4 - Comparing Classification Models\n",
    "\n",
    "\n",
    "\n",
    "---\n",
    "\n",
    "\n",
    "\n",
    "\n",
    "\n",
    "\n",
    "\n",
    "\n",
    "\n",
    "\n",
    "\n",
    "\n",
    "\n"
   ]
  },
  {
   "cell_type": "code",
   "execution_count": 67,
   "metadata": {
    "id": "m8fpBfhBpupy"
   },
   "outputs": [],
   "source": [
    "import keras\n",
    "import numpy as np\n",
    "from keras.layers import Input, Lambda, GlobalAveragePooling1D, Dense, Embedding\n",
    "from keras.models import Model\n",
    "from keras import backend as K\n",
    "from keras.models import Sequential\n",
    "import matplotlib.pyplot as plt\n"
   ]
  },
  {
   "cell_type": "markdown",
   "metadata": {
    "id": "cqvPQvgvPv1W"
   },
   "source": [
    "### Downloading data"
   ]
  },
  {
   "cell_type": "markdown",
   "metadata": {
    "id": "EundMtGPpCdf"
   },
   "source": [
    "The dataset we will be using is the IMDB Large Movie Review Dataset, which consists of 50000 labeled movie reviews."
   ]
  },
  {
   "cell_type": "code",
   "execution_count": 68,
   "metadata": {
    "id": "NyuSzkafqNca"
   },
   "outputs": [],
   "source": [
    "imdb = keras.datasets.imdb\n",
    "(X_train, y_train), (X_test, y_test) = imdb.load_data(num_words=10000)"
   ]
  },
  {
   "cell_type": "markdown",
   "metadata": {
    "id": "6U4iCV9-rmay"
   },
   "source": [
    "We now can start playing around with the data, let’s first see the length:"
   ]
  },
  {
   "cell_type": "code",
   "execution_count": 69,
   "metadata": {
    "id": "h-gjWRAuqg5s"
   },
   "outputs": [
    {
     "name": "stdout",
     "output_type": "stream",
     "text": [
      "Training entries: 25000, labels: 25000\n"
     ]
    }
   ],
   "source": [
    "print(\"Training entries: {}, labels: {}\".format(len(X_train), len(y_train)))"
   ]
  },
  {
   "cell_type": "markdown",
   "metadata": {
    "id": "MTRZrpcyr-4x"
   },
   "source": [
    "The  reviews have been converted to integers and each integer represents a  word in a dictionary. "
   ]
  },
  {
   "cell_type": "code",
   "execution_count": 70,
   "metadata": {
    "id": "79Ev72Kgq4XL"
   },
   "outputs": [
    {
     "data": {
      "text/plain": [
       "[1, 14, 22, 16, 43, 530, 973, 1622, 1385, 65]"
      ]
     },
     "execution_count": 70,
     "metadata": {},
     "output_type": "execute_result"
    }
   ],
   "source": [
    " X_train[0][:10]"
   ]
  },
  {
   "cell_type": "markdown",
   "metadata": {
    "id": "Tvuu4KhStqei"
   },
   "source": [
    "We can convert integers back to words by querying a dictionary object that contains the integer to string mapping:"
   ]
  },
  {
   "cell_type": "code",
   "execution_count": 71,
   "metadata": {
    "id": "gMCH1OoDrSNR"
   },
   "outputs": [],
   "source": [
    "word_index = imdb.get_word_index()"
   ]
  },
  {
   "cell_type": "markdown",
   "metadata": {
    "id": "5IreFXgruZot"
   },
   "source": [
    "Index 1 represents the beginning of the sentence and the index 2 is assigned to all unknown tokens. Index 0 will be used for padding."
   ]
  },
  {
   "cell_type": "code",
   "execution_count": 72,
   "metadata": {
    "id": "abIb7Fe5u3GQ"
   },
   "outputs": [],
   "source": [
    "word_index = {k:(v+3) for k,v in word_index.items()}\n",
    "word_index[\"<PAD>\"] = 0\n",
    "word_index[\"<START>\"] = 1\n",
    "word_index[\"<UNK>\"] = 2  \n",
    "word_index[\"<UNUSED>\"] = 3"
   ]
  },
  {
   "cell_type": "markdown",
   "metadata": {
    "id": "9TnnSuspvC5b"
   },
   "source": [
    "To reverse key and values in a dictionary:"
   ]
  },
  {
   "cell_type": "code",
   "execution_count": 73,
   "metadata": {
    "id": "nKOiVVXQu-_I"
   },
   "outputs": [],
   "source": [
    "reverse_word_index = dict([(value, key) for (key, value) in word_index.items()])"
   ]
  },
  {
   "cell_type": "markdown",
   "metadata": {
    "id": "ZmTJEm8xvUvW"
   },
   "source": [
    "To view a word:"
   ]
  },
  {
   "cell_type": "code",
   "execution_count": 74,
   "metadata": {
    "id": "SqN5jgVKvJJZ"
   },
   "outputs": [
    {
     "data": {
      "text/plain": [
       "'you'"
      ]
     },
     "execution_count": 74,
     "metadata": {},
     "output_type": "execute_result"
    }
   ],
   "source": [
    "reverse_word_index[25]"
   ]
  },
  {
   "cell_type": "markdown",
   "metadata": {
    "id": "Q6QjrzgVvrYn"
   },
   "source": [
    "And to recreate the whole sentence from our training data we define decode_review:\n"
   ]
  },
  {
   "cell_type": "code",
   "execution_count": 75,
   "metadata": {
    "id": "wvrKeMgxvWlv"
   },
   "outputs": [],
   "source": [
    "def decode_review(text):\n",
    "    return ' '.join([reverse_word_index.get(i, '?') for i in text])"
   ]
  },
  {
   "cell_type": "code",
   "execution_count": 76,
   "metadata": {
    "id": "Sxg4YA_NvdRg"
   },
   "outputs": [
    {
     "data": {
      "text/plain": [
       "\"<START> french horror cinema has seen something of a revival over the last couple of years with great films such as inside and <UNK> romance <UNK> on to the scene <UNK> <UNK> the revival just slightly but stands head and shoulders over most modern horror titles and is surely one of the best french horror films ever made <UNK> was obviously shot on a low budget but this is made up for in far more ways than one by the originality of the film and this in turn is <UNK> by the excellent writing and acting that ensure the film is a winner the plot focuses on two main ideas prison and black magic the central character is a man named <UNK> sent to prison for fraud he is put in a cell with three others the quietly insane <UNK> body building <UNK> marcus and his retarded boyfriend daisy after a short while in the cell together they stumble upon a hiding place in the wall that contains an old <UNK> after <UNK> part of it they soon realise its magical powers and realise they may be able to use it to break through the prison walls br br black magic is a very interesting topic and i'm actually quite surprised that there aren't more films based on it as there's so much scope for things to do with it it's fair to say that <UNK> makes the best of it's <UNK> as despite it's <UNK> the film never actually feels restrained and manages to flow well throughout director eric <UNK> provides a great atmosphere for the film the fact that most of it takes place inside the central prison cell <UNK> that the film feels very claustrophobic and this immensely benefits the central idea of the prisoners wanting to use magic to break out of the cell it's very easy to get behind them it's often said that the unknown is the thing that really <UNK> people and this film proves that as the director <UNK> that we can never really be sure of exactly what is round the corner and this helps to ensure that <UNK> actually does manage to be quite frightening the film is memorable for a lot of reasons outside the central plot the characters are all very interesting in their own way and the fact that the book itself almost takes on its own character is very well done anyone worried that the film won't deliver by the end won't be disappointed either as the ending both makes sense and manages to be quite horrifying overall <UNK> is a truly great horror film and one of the best of the decade highly recommended viewing\""
      ]
     },
     "execution_count": 76,
     "metadata": {},
     "output_type": "execute_result"
    }
   ],
   "source": [
    "decode_review(X_train[10])"
   ]
  },
  {
   "cell_type": "markdown",
   "metadata": {
    "id": "c8gIzXncfaJK"
   },
   "source": [
    "### Creating One-hot word vectors"
   ]
  },
  {
   "cell_type": "code",
   "execution_count": 77,
   "metadata": {
    "id": "RPO_pK9zH4C5"
   },
   "outputs": [],
   "source": [
    "def OneHot(input_dim=None, input_length=None):\n",
    "    \n",
    "    if input_dim is None or input_length is None:\n",
    "        raise TypeError(\"input_dim or input_length is not set\")\n",
    "\n",
    "    \n",
    "    def _one_hot(x, num_classes):\n",
    "        return K.one_hot(K.cast(x, 'uint8'),\n",
    "                          num_classes=num_classes)\n",
    "\n",
    "    return Lambda(_one_hot,\n",
    "                  arguments={'num_classes': input_dim},\n",
    "                  input_shape=(input_length,))\n",
    "\n"
   ]
  },
  {
   "cell_type": "markdown",
   "metadata": {
    "id": "9G_o7PsvgSFt"
   },
   "source": [
    "### Preparing input data"
   ]
  },
  {
   "cell_type": "code",
   "execution_count": 78,
   "metadata": {
    "id": "jiFn7sd_wF5j"
   },
   "outputs": [],
   "source": [
    "VOCAB_SIZE = 10000\n",
    "MAX_SEQUENCE_LENGTH = 256\n",
    "\n",
    "X_train_enc = keras.preprocessing.sequence.pad_sequences(X_train,\n",
    "                                                        value=word_index[\"<PAD>\"],\n",
    "                                                        padding='post',\n",
    "                                                        maxlen=256)\n",
    "\n",
    "X_test_enc = keras.preprocessing.sequence.pad_sequences(X_test,\n",
    "                                                       value=word_index[\"<PAD>\"],\n",
    "                                                       padding='post',\n",
    "                                                       maxlen=256)"
   ]
  },
  {
   "cell_type": "markdown",
   "metadata": {
    "id": "kcjFH1wKF_7d"
   },
   "source": [
    "And to view a padded review:"
   ]
  },
  {
   "cell_type": "code",
   "execution_count": 79,
   "metadata": {
    "id": "zwH4dcfW_a18"
   },
   "outputs": [
    {
     "name": "stdout",
     "output_type": "stream",
     "text": [
      "[   1  194 1153  194 8255   78  228    5    6 1463 4369 5012  134   26\n",
      "    4  715    8  118 1634   14  394   20   13  119  954  189  102    5\n",
      "  207  110 3103   21   14   69  188    8   30   23    7    4  249  126\n",
      "   93    4  114    9 2300 1523    5  647    4  116    9   35 8163    4\n",
      "  229    9  340 1322    4  118    9    4  130 4901   19    4 1002    5\n",
      "   89   29  952   46   37    4  455    9   45   43   38 1543 1905  398\n",
      "    4 1649   26 6853    5  163   11 3215    2    4 1153    9  194  775\n",
      "    7 8255    2  349 2637  148  605    2 8003   15  123  125   68    2\n",
      " 6853   15  349  165 4362   98    5    4  228    9   43    2 1157   15\n",
      "  299  120    5  120  174   11  220  175  136   50    9 4373  228 8255\n",
      "    5    2  656  245 2350    5    4 9837  131  152  491   18    2   32\n",
      " 7464 1212   14    9    6  371   78   22  625   64 1382    9    8  168\n",
      "  145   23    4 1690   15   16    4 1355    5   28    6   52  154  462\n",
      "   33   89   78  285   16  145   95    0    0    0    0    0    0    0\n",
      "    0    0    0    0    0    0    0    0    0    0    0    0    0    0\n",
      "    0    0    0    0    0    0    0    0    0    0    0    0    0    0\n",
      "    0    0    0    0    0    0    0    0    0    0    0    0    0    0\n",
      "    0    0    0    0    0    0    0    0    0    0    0    0    0    0\n",
      "    0    0    0    0]\n",
      "\n",
      "Length:  25000\n"
     ]
    }
   ],
   "source": [
    "print(X_train_enc[1])\n",
    "print('\\nLength: ',len(X_train_enc))"
   ]
  },
  {
   "cell_type": "code",
   "execution_count": 80,
   "metadata": {
    "id": "Yi04MLIvJOGZ"
   },
   "outputs": [],
   "source": [
    "class GlobalAveragePooling1DMasked(GlobalAveragePooling1D):\n",
    "    def call(self, x, mask=None):\n",
    "        if mask != None:\n",
    "            return K.sum(x, axis=1) / K.sum(mask, axis=1)\n",
    "        else:\n",
    "            return super().call(x)\n"
   ]
  },
  {
   "cell_type": "markdown",
   "metadata": {
    "id": "whgIIB5ggjna"
   },
   "source": [
    "# Model 1: Neural averaging network using one-hot vectors"
   ]
  },
  {
   "cell_type": "code",
   "execution_count": 81,
   "metadata": {
    "colab": {
     "base_uri": "https://localhost:8080/"
    },
    "id": "_Pn83gBbxiK7",
    "outputId": "7d4deca8-48d9-4d77-df4e-ab1a1d241fd7"
   },
   "outputs": [
    {
     "name": "stdout",
     "output_type": "stream",
     "text": [
      "Model: \"model_9\"\n",
      "_________________________________________________________________\n",
      "Layer (type)                 Output Shape              Param #   \n",
      "=================================================================\n",
      "input_16 (InputLayer)        [(None, 256)]             0         \n",
      "_________________________________________________________________\n",
      "lambda_1 (Lambda)            (None, 256, 10000)        0         \n",
      "_________________________________________________________________\n",
      "global_average_pooling1d_3 ( (None, 10000)             0         \n",
      "_________________________________________________________________\n",
      "dense_20 (Dense)             (None, 16)                160016    \n",
      "_________________________________________________________________\n",
      "dense_21 (Dense)             (None, 1)                 17        \n",
      "=================================================================\n",
      "Total params: 160,033\n",
      "Trainable params: 160,033\n",
      "Non-trainable params: 0\n",
      "_________________________________________________________________\n"
     ]
    }
   ],
   "source": [
    "# your code goes here\n",
    "from keras.layers import Input, Embedding, Dense, LSTM\n",
    "from keras.layers import Input, Lambda, GlobalAveragePooling1D, Dense, Embedding\n",
    "from keras.models import Model\n",
    "from keras.models import Sequential\n",
    "\n",
    "VOCAB_SIZE = 10000\n",
    "MAX_SEQUENCE_LENGTH = 256\n",
    "\n",
    "Input = Input((256,), dtype='int32')\n",
    "Lambda = Lambda(OneHot(VOCAB_SIZE,MAX_SEQUENCE_LENGTH))(Input)\n",
    "global_average_pooling1d = GlobalAveragePooling1D()(Lambda)\n",
    "Hidden_1 = Dense(16)(global_average_pooling1d)\n",
    "Output = Dense(1, activation='sigmoid')(Hidden_1)\n",
    "model = Model(inputs=[Input], outputs=[Output])  \n",
    "\n",
    "model.summary()"
   ]
  },
  {
   "cell_type": "code",
   "execution_count": 82,
   "metadata": {},
   "outputs": [],
   "source": [
    "# Model: \"Model_1_One_Hot_Encoding\"\n",
    "# _________________________________________________________________\n",
    "# Layer (type)                 Output Shape              Param #   \n",
    "# =================================================================\n",
    "# Input (InputLayer)           [(None, 256)]             0         \n",
    "# _________________________________________________________________\n",
    "# lambda (Lambda)              (None, 256, 10000)        0         \n",
    "# _________________________________________________________________\n",
    "# global_average_pooling1d_mas (None, 10000)             0         \n",
    "# _________________________________________________________________\n",
    "# Hidden_1 (Dense)             (None, 16)                160016    \n",
    "# _________________________________________________________________\n",
    "# Output (Dense)               (None, 1)                 17        \n",
    "# =================================================================\n",
    "# Total params: 160,033\n",
    "# Trainable params: 160,033\n",
    "# Non-trainable params: 0"
   ]
  },
  {
   "cell_type": "markdown",
   "metadata": {
    "id": "_Mz96xpCgvTj"
   },
   "source": [
    "### Training the model"
   ]
  },
  {
   "cell_type": "code",
   "execution_count": 83,
   "metadata": {
    "id": "qh1PWTNMxjUw"
   },
   "outputs": [],
   "source": [
    "# your code goes here\n",
    "model.compile(loss='binary_crossentropy', optimizer='adam', metrics = ['accuracy'])"
   ]
  },
  {
   "cell_type": "markdown",
   "metadata": {
    "id": "E1jwQQqCN5Ia"
   },
   "source": [
    "When training, we want to check the accuracy of the model on data it hasn't seen before. So we create a validation set:"
   ]
  },
  {
   "cell_type": "code",
   "execution_count": 84,
   "metadata": {
    "id": "f5lAqzQlxjSM"
   },
   "outputs": [],
   "source": [
    "X_val = np.array(X_train_enc[:10000])\n",
    "partial_X_train = np.array(X_train_enc[10000:])\n",
    "\n",
    "y_val = np.array(y_train[:10000])\n",
    "partial_y_train = np.array(y_train[10000:])"
   ]
  },
  {
   "cell_type": "markdown",
   "metadata": {
    "id": "E8Kpo5G3OJEY"
   },
   "source": [
    "Then we start to train the model for 40 epochs in mini-batches of 512 samples and monitor the model's loss and accuracy on the validation set."
   ]
  },
  {
   "cell_type": "code",
   "execution_count": 85,
   "metadata": {
    "id": "99_z39KAxjPi"
   },
   "outputs": [
    {
     "name": "stdout",
     "output_type": "stream",
     "text": [
      "Epoch 1/40\n",
      "30/30 [==============================] - 68s 2s/step - loss: 0.6928 - accuracy: 0.5102 - val_loss: 0.6914 - val_accuracy: 0.4969\n",
      "Epoch 2/40\n",
      "30/30 [==============================] - 65s 2s/step - loss: 0.6903 - accuracy: 0.5967 - val_loss: 0.6886 - val_accuracy: 0.6560\n",
      "Epoch 3/40\n",
      "30/30 [==============================] - 72s 2s/step - loss: 0.6876 - accuracy: 0.6604 - val_loss: 0.6855 - val_accuracy: 0.6582\n",
      "Epoch 4/40\n",
      "30/30 [==============================] - 72s 2s/step - loss: 0.6837 - accuracy: 0.6450 - val_loss: 0.6814 - val_accuracy: 0.6677\n",
      "Epoch 5/40\n",
      "30/30 [==============================] - 72s 2s/step - loss: 0.6800 - accuracy: 0.6466 - val_loss: 0.6775 - val_accuracy: 0.6542\n",
      "Epoch 6/40\n",
      "30/30 [==============================] - 72s 2s/step - loss: 0.6751 - accuracy: 0.6527 - val_loss: 0.6722 - val_accuracy: 0.6734\n",
      "Epoch 7/40\n",
      "30/30 [==============================] - 71s 2s/step - loss: 0.6696 - accuracy: 0.6806 - val_loss: 0.6675 - val_accuracy: 0.6688\n",
      "Epoch 8/40\n",
      "30/30 [==============================] - 72s 2s/step - loss: 0.6642 - accuracy: 0.6838 - val_loss: 0.6614 - val_accuracy: 0.6805\n",
      "Epoch 9/40\n",
      "30/30 [==============================] - 71s 2s/step - loss: 0.6568 - accuracy: 0.6886 - val_loss: 0.6561 - val_accuracy: 0.6780\n",
      "Epoch 10/40\n",
      "30/30 [==============================] - 70s 2s/step - loss: 0.6520 - accuracy: 0.6847 - val_loss: 0.6499 - val_accuracy: 0.6845\n",
      "Epoch 11/40\n",
      "30/30 [==============================] - 71s 2s/step - loss: 0.6464 - accuracy: 0.6881 - val_loss: 0.6446 - val_accuracy: 0.6809\n",
      "Epoch 12/40\n",
      "30/30 [==============================] - 72s 2s/step - loss: 0.6385 - accuracy: 0.6886 - val_loss: 0.6373 - val_accuracy: 0.6859\n",
      "Epoch 13/40\n",
      "30/30 [==============================] - 72s 2s/step - loss: 0.6322 - accuracy: 0.6969 - val_loss: 0.6315 - val_accuracy: 0.6930\n",
      "Epoch 14/40\n",
      "30/30 [==============================] - 72s 2s/step - loss: 0.6244 - accuracy: 0.7006 - val_loss: 0.6256 - val_accuracy: 0.6946\n",
      "Epoch 15/40\n",
      "30/30 [==============================] - 70s 2s/step - loss: 0.6167 - accuracy: 0.7055 - val_loss: 0.6200 - val_accuracy: 0.7009\n",
      "Epoch 16/40\n",
      "30/30 [==============================] - 71s 2s/step - loss: 0.6148 - accuracy: 0.7036 - val_loss: 0.6143 - val_accuracy: 0.6992\n",
      "Epoch 17/40\n",
      "30/30 [==============================] - 69s 2s/step - loss: 0.6081 - accuracy: 0.7099 - val_loss: 0.6088 - val_accuracy: 0.7053\n",
      "Epoch 18/40\n",
      "30/30 [==============================] - 72s 2s/step - loss: 0.6019 - accuracy: 0.7118 - val_loss: 0.6044 - val_accuracy: 0.7116\n",
      "Epoch 19/40\n",
      "30/30 [==============================] - 71s 2s/step - loss: 0.5960 - accuracy: 0.7167 - val_loss: 0.5985 - val_accuracy: 0.7127\n",
      "Epoch 20/40\n",
      "30/30 [==============================] - 73s 2s/step - loss: 0.5914 - accuracy: 0.7165 - val_loss: 0.5936 - val_accuracy: 0.7169\n",
      "Epoch 21/40\n",
      "30/30 [==============================] - 71s 2s/step - loss: 0.5846 - accuracy: 0.7214 - val_loss: 0.5888 - val_accuracy: 0.7181\n",
      "Epoch 22/40\n",
      "30/30 [==============================] - 64s 2s/step - loss: 0.5799 - accuracy: 0.7223 - val_loss: 0.5846 - val_accuracy: 0.7222\n",
      "Epoch 23/40\n",
      "30/30 [==============================] - 72s 2s/step - loss: 0.5783 - accuracy: 0.7216 - val_loss: 0.5804 - val_accuracy: 0.7235\n",
      "Epoch 24/40\n",
      "30/30 [==============================] - 72s 2s/step - loss: 0.5729 - accuracy: 0.7280 - val_loss: 0.5758 - val_accuracy: 0.7250\n",
      "Epoch 25/40\n",
      "30/30 [==============================] - 72s 2s/step - loss: 0.5674 - accuracy: 0.7336 - val_loss: 0.5718 - val_accuracy: 0.7245\n",
      "Epoch 26/40\n",
      "30/30 [==============================] - 70s 2s/step - loss: 0.5646 - accuracy: 0.7290 - val_loss: 0.5682 - val_accuracy: 0.7283\n",
      "Epoch 27/40\n",
      "30/30 [==============================] - 72s 2s/step - loss: 0.5609 - accuracy: 0.7372 - val_loss: 0.5644 - val_accuracy: 0.7287\n",
      "Epoch 28/40\n",
      "30/30 [==============================] - 71s 2s/step - loss: 0.5557 - accuracy: 0.7367 - val_loss: 0.5612 - val_accuracy: 0.7327\n",
      "Epoch 29/40\n",
      "30/30 [==============================] - 73s 2s/step - loss: 0.5521 - accuracy: 0.7358 - val_loss: 0.5580 - val_accuracy: 0.7329\n",
      "Epoch 30/40\n",
      "30/30 [==============================] - 69s 2s/step - loss: 0.5481 - accuracy: 0.7425 - val_loss: 0.5552 - val_accuracy: 0.7343\n",
      "Epoch 31/40\n",
      "30/30 [==============================] - 72s 2s/step - loss: 0.5499 - accuracy: 0.7374 - val_loss: 0.5521 - val_accuracy: 0.7376\n",
      "Epoch 32/40\n",
      "30/30 [==============================] - 71s 2s/step - loss: 0.5444 - accuracy: 0.7399 - val_loss: 0.5494 - val_accuracy: 0.7391\n",
      "Epoch 33/40\n",
      "30/30 [==============================] - 72s 2s/step - loss: 0.5421 - accuracy: 0.7423 - val_loss: 0.5470 - val_accuracy: 0.7395\n",
      "Epoch 34/40\n",
      "30/30 [==============================] - 73s 2s/step - loss: 0.5395 - accuracy: 0.7419 - val_loss: 0.5451 - val_accuracy: 0.7383\n",
      "Epoch 35/40\n",
      "30/30 [==============================] - 73s 2s/step - loss: 0.5368 - accuracy: 0.7471 - val_loss: 0.5434 - val_accuracy: 0.7391\n",
      "Epoch 36/40\n",
      "30/30 [==============================] - 66s 2s/step - loss: 0.5368 - accuracy: 0.7471 - val_loss: 0.5407 - val_accuracy: 0.7424\n",
      "Epoch 37/40\n",
      "30/30 [==============================] - 63s 2s/step - loss: 0.5294 - accuracy: 0.7485 - val_loss: 0.5396 - val_accuracy: 0.7407\n",
      "Epoch 38/40\n",
      "30/30 [==============================] - 63s 2s/step - loss: 0.5343 - accuracy: 0.7462 - val_loss: 0.5380 - val_accuracy: 0.7414\n",
      "Epoch 39/40\n",
      "30/30 [==============================] - 63s 2s/step - loss: 0.5224 - accuracy: 0.7556 - val_loss: 0.5354 - val_accuracy: 0.7448\n",
      "Epoch 40/40\n",
      "30/30 [==============================] - 63s 2s/step - loss: 0.5281 - accuracy: 0.7479 - val_loss: 0.5339 - val_accuracy: 0.7458\n"
     ]
    }
   ],
   "source": [
    "history = model.fit(partial_X_train,\n",
    "                    partial_y_train,\n",
    "                    epochs=40,\n",
    "                    batch_size=512,\n",
    "                    validation_data=(X_val, y_val),\n",
    "                    verbose=1)"
   ]
  },
  {
   "cell_type": "markdown",
   "metadata": {
    "id": "i_9a_rybhG5J"
   },
   "source": [
    "### Evaluating the model"
   ]
  },
  {
   "cell_type": "markdown",
   "metadata": {
    "id": "EYLH8kOgOo9W"
   },
   "source": [
    "To evaulate the model on test data:"
   ]
  },
  {
   "cell_type": "code",
   "execution_count": 86,
   "metadata": {
    "id": "CFMt2Q7b3taP"
   },
   "outputs": [
    {
     "name": "stdout",
     "output_type": "stream",
     "text": [
      "782/782 [==============================] - 66s 84ms/step - loss: 0.5339 - accuracy: 0.74270s - loss: 0.534\n"
     ]
    }
   ],
   "source": [
    "results = model.evaluate(X_test_enc, y_test)"
   ]
  },
  {
   "cell_type": "code",
   "execution_count": 87,
   "metadata": {
    "id": "9RrKiPHcAmQU"
   },
   "outputs": [
    {
     "name": "stdout",
     "output_type": "stream",
     "text": [
      "[0.5338621735572815, 0.742680013179779]\n"
     ]
    }
   ],
   "source": [
    "print(results)\n",
    "# loss, accuracay "
   ]
  },
  {
   "cell_type": "markdown",
   "metadata": {
    "id": "OwZk_yoWhPJB"
   },
   "source": [
    "### Plotting the accuracy graph"
   ]
  },
  {
   "cell_type": "code",
   "execution_count": 88,
   "metadata": {
    "id": "LS9k2vvSAqB7"
   },
   "outputs": [
    {
     "data": {
      "image/png": "[encoded data removed]",
      "text/plain": [
       "<Figure size 720x360 with 2 Axes>"
      ]
     },
     "metadata": {
      "needs_background": "light"
     },
     "output_type": "display_data"
    }
   ],
   "source": [
    "# your code goes here\n",
    "\n",
    "from plot_keras_history import plot_history\n",
    "import matplotlib.pyplot as plt\n",
    "\n",
    "plot_history(history.history, path=\"standard.png\")\n",
    "plt.show()"
   ]
  },
  {
   "cell_type": "markdown",
   "metadata": {
    "id": "a7OwOQw4h8RX"
   },
   "source": [
    "# Model 2: Neural averaging network using embedding layer"
   ]
  },
  {
   "cell_type": "code",
   "execution_count": 89,
   "metadata": {
    "id": "MFrCsL-NBFVL"
   },
   "outputs": [
    {
     "name": "stdout",
     "output_type": "stream",
     "text": [
      "Model: \"model_10\"\n",
      "_________________________________________________________________\n",
      "Layer (type)                 Output Shape              Param #   \n",
      "=================================================================\n",
      "input_17 (InputLayer)        [(None, 256)]             0         \n",
      "_________________________________________________________________\n",
      "embedding_10 (Embedding)     (None, 256, 100)          1000000   \n",
      "_________________________________________________________________\n",
      "global_average_pooling1d_4 ( (None, 100)               0         \n",
      "_________________________________________________________________\n",
      "dense_22 (Dense)             (None, 16)                1616      \n",
      "_________________________________________________________________\n",
      "dense_23 (Dense)             (None, 1)                 17        \n",
      "=================================================================\n",
      "Total params: 1,001,633\n",
      "Trainable params: 1,001,633\n",
      "Non-trainable params: 0\n",
      "_________________________________________________________________\n"
     ]
    }
   ],
   "source": [
    "# your code goes here\n",
    "\n",
    "from keras.layers import Input, Embedding, Dense, LSTM\n",
    "from keras.layers import Input, Lambda, GlobalAveragePooling1D, Dense, Embedding\n",
    "from keras.models import Model\n",
    "from keras.models import Sequential\n",
    "\n",
    "VOCAB_SIZE = 10000\n",
    "MAX_SEQUENCE_LENGTH = 256\n",
    "EMBED_SIZE = 100\n",
    "\n",
    "Input = Input((256,), dtype='int32')\n",
    "Embedding = Embedding(VOCAB_SIZE, EMBED_SIZE, input_length=MAX_SEQUENCE_LENGTH, mask_zero=True)(Input)\n",
    "global_average_pooling1d = GlobalAveragePooling1D()(Embedding)\n",
    "Hidden_1 = Dense(16,activation='sigmoid')(global_average_pooling1d)\n",
    "Output = Dense(1, activation='sigmoid')(Hidden_1)\n",
    "model2 = Model(inputs=[Input], outputs=[Output])  \n",
    "\n",
    "model2.compile(loss='binary_crossentropy', optimizer='adam', metrics = ['accuracy'])\n",
    "model2.summary()"
   ]
  },
  {
   "cell_type": "code",
   "execution_count": 90,
   "metadata": {},
   "outputs": [
    {
     "name": "stdout",
     "output_type": "stream",
     "text": [
      "Epoch 1/40\n",
      "30/30 [==============================] - 3s 70ms/step - loss: 0.7671 - accuracy: 0.4950 - val_loss: 0.7098 - val_accuracy: 0.5053\n",
      "Epoch 2/40\n",
      "30/30 [==============================] - 2s 64ms/step - loss: 0.7007 - accuracy: 0.5033 - val_loss: 0.6818 - val_accuracy: 0.7440\n",
      "Epoch 3/40\n",
      "30/30 [==============================] - 2s 66ms/step - loss: 0.6770 - accuracy: 0.6946 - val_loss: 0.6669 - val_accuracy: 0.7040\n",
      "Epoch 4/40\n",
      "30/30 [==============================] - 2s 65ms/step - loss: 0.6574 - accuracy: 0.7631 - val_loss: 0.6413 - val_accuracy: 0.7832\n",
      "Epoch 5/40\n",
      "30/30 [==============================] - 2s 63ms/step - loss: 0.6272 - accuracy: 0.8045 - val_loss: 0.6045 - val_accuracy: 0.7953\n",
      "Epoch 6/40\n",
      "30/30 [==============================] - 2s 62ms/step - loss: 0.5853 - accuracy: 0.8144 - val_loss: 0.5591 - val_accuracy: 0.8063\n",
      "Epoch 7/40\n",
      "30/30 [==============================] - 2s 64ms/step - loss: 0.5367 - accuracy: 0.8262 - val_loss: 0.5120 - val_accuracy: 0.8214\n",
      "Epoch 8/40\n",
      "30/30 [==============================] - 2s 62ms/step - loss: 0.4820 - accuracy: 0.8470 - val_loss: 0.4680 - val_accuracy: 0.8337\n",
      "Epoch 9/40\n",
      "30/30 [==============================] - 2s 65ms/step - loss: 0.4341 - accuracy: 0.8641 - val_loss: 0.4294 - val_accuracy: 0.8464\n",
      "Epoch 10/40\n",
      "30/30 [==============================] - 2s 64ms/step - loss: 0.3915 - accuracy: 0.8735 - val_loss: 0.3979 - val_accuracy: 0.8556\n",
      "Epoch 11/40\n",
      "30/30 [==============================] - 2s 63ms/step - loss: 0.3597 - accuracy: 0.8814 - val_loss: 0.3728 - val_accuracy: 0.8608\n",
      "Epoch 12/40\n",
      "30/30 [==============================] - 2s 63ms/step - loss: 0.3334 - accuracy: 0.8885 - val_loss: 0.3529 - val_accuracy: 0.8671\n",
      "Epoch 13/40\n",
      "30/30 [==============================] - 2s 63ms/step - loss: 0.3013 - accuracy: 0.9013 - val_loss: 0.3369 - val_accuracy: 0.8707\n",
      "Epoch 14/40\n",
      "30/30 [==============================] - 2s 63ms/step - loss: 0.2826 - accuracy: 0.9060 - val_loss: 0.3239 - val_accuracy: 0.8744\n",
      "Epoch 15/40\n",
      "30/30 [==============================] - 2s 62ms/step - loss: 0.2612 - accuracy: 0.9149 - val_loss: 0.3137 - val_accuracy: 0.8767\n",
      "Epoch 16/40\n",
      "30/30 [==============================] - 2s 62ms/step - loss: 0.2465 - accuracy: 0.9196 - val_loss: 0.3053 - val_accuracy: 0.8794\n",
      "Epoch 17/40\n",
      "30/30 [==============================] - 2s 63ms/step - loss: 0.2363 - accuracy: 0.9202 - val_loss: 0.2978 - val_accuracy: 0.8806\n",
      "Epoch 18/40\n",
      "30/30 [==============================] - 2s 65ms/step - loss: 0.2214 - accuracy: 0.9268 - val_loss: 0.2924 - val_accuracy: 0.8813\n",
      "Epoch 19/40\n",
      "30/30 [==============================] - 2s 65ms/step - loss: 0.2093 - accuracy: 0.9275 - val_loss: 0.2893 - val_accuracy: 0.8826\n",
      "Epoch 20/40\n",
      "30/30 [==============================] - 2s 64ms/step - loss: 0.2011 - accuracy: 0.9350 - val_loss: 0.2845 - val_accuracy: 0.8842\n",
      "Epoch 21/40\n",
      "30/30 [==============================] - 2s 63ms/step - loss: 0.1916 - accuracy: 0.9371 - val_loss: 0.2831 - val_accuracy: 0.8835\n",
      "Epoch 22/40\n",
      "30/30 [==============================] - 2s 64ms/step - loss: 0.1737 - accuracy: 0.9440 - val_loss: 0.2800 - val_accuracy: 0.8865\n",
      "Epoch 23/40\n",
      "30/30 [==============================] - 2s 64ms/step - loss: 0.1711 - accuracy: 0.9462 - val_loss: 0.2786 - val_accuracy: 0.8854\n",
      "Epoch 24/40\n",
      "30/30 [==============================] - 2s 64ms/step - loss: 0.1622 - accuracy: 0.9493 - val_loss: 0.2781 - val_accuracy: 0.8847\n",
      "Epoch 25/40\n",
      "30/30 [==============================] - 2s 64ms/step - loss: 0.1542 - accuracy: 0.9532 - val_loss: 0.2779 - val_accuracy: 0.8843\n",
      "Epoch 26/40\n",
      "30/30 [==============================] - 2s 63ms/step - loss: 0.1467 - accuracy: 0.9560 - val_loss: 0.2784 - val_accuracy: 0.8855\n",
      "Epoch 27/40\n",
      "30/30 [==============================] - 2s 63ms/step - loss: 0.1382 - accuracy: 0.9620 - val_loss: 0.2804 - val_accuracy: 0.8855\n",
      "Epoch 28/40\n",
      "30/30 [==============================] - 2s 63ms/step - loss: 0.1359 - accuracy: 0.9592 - val_loss: 0.2807 - val_accuracy: 0.8851\n",
      "Epoch 29/40\n",
      "30/30 [==============================] - 2s 63ms/step - loss: 0.1257 - accuracy: 0.9658 - val_loss: 0.2827 - val_accuracy: 0.8833\n",
      "Epoch 30/40\n",
      "30/30 [==============================] - 2s 64ms/step - loss: 0.1245 - accuracy: 0.9659 - val_loss: 0.2842 - val_accuracy: 0.8840\n",
      "Epoch 31/40\n",
      "30/30 [==============================] - 2s 64ms/step - loss: 0.1143 - accuracy: 0.9692 - val_loss: 0.2878 - val_accuracy: 0.8826\n",
      "Epoch 32/40\n",
      "30/30 [==============================] - 2s 63ms/step - loss: 0.1051 - accuracy: 0.9729 - val_loss: 0.2892 - val_accuracy: 0.8831\n",
      "Epoch 33/40\n",
      "30/30 [==============================] - 2s 63ms/step - loss: 0.1026 - accuracy: 0.9739 - val_loss: 0.2921 - val_accuracy: 0.8819\n",
      "Epoch 34/40\n",
      "30/30 [==============================] - 2s 63ms/step - loss: 0.0995 - accuracy: 0.9758 - val_loss: 0.2952 - val_accuracy: 0.8817\n",
      "Epoch 35/40\n",
      "30/30 [==============================] - 2s 66ms/step - loss: 0.0936 - accuracy: 0.9780 - val_loss: 0.2985 - val_accuracy: 0.8815\n",
      "Epoch 36/40\n",
      "30/30 [==============================] - 2s 64ms/step - loss: 0.0893 - accuracy: 0.9799 - val_loss: 0.3021 - val_accuracy: 0.8817\n",
      "Epoch 37/40\n",
      "30/30 [==============================] - 2s 64ms/step - loss: 0.0835 - accuracy: 0.9816 - val_loss: 0.3074 - val_accuracy: 0.8799\n",
      "Epoch 38/40\n",
      "30/30 [==============================] - 2s 63ms/step - loss: 0.0767 - accuracy: 0.9854 - val_loss: 0.3108 - val_accuracy: 0.8805\n",
      "Epoch 39/40\n",
      "30/30 [==============================] - 2s 65ms/step - loss: 0.0743 - accuracy: 0.9854 - val_loss: 0.3152 - val_accuracy: 0.8787\n",
      "Epoch 40/40\n",
      "30/30 [==============================] - 2s 63ms/step - loss: 0.0738 - accuracy: 0.9879 - val_loss: 0.3189 - val_accuracy: 0.8790\n"
     ]
    }
   ],
   "source": [
    "history = model2.fit(partial_X_train,\n",
    "                    partial_y_train,\n",
    "                    epochs=40,\n",
    "                    batch_size=512,\n",
    "                    validation_data=(X_val, y_val),\n",
    "                    verbose=1)"
   ]
  },
  {
   "cell_type": "code",
   "execution_count": 91,
   "metadata": {
    "id": "I4zIPJDcTPq3"
   },
   "outputs": [
    {
     "name": "stdout",
     "output_type": "stream",
     "text": [
      "782/782 [==============================] - 1s 2ms/step - loss: 0.3467 - accuracy: 0.8675\n"
     ]
    }
   ],
   "source": [
    "results = model2.evaluate(X_test_enc, y_test)"
   ]
  },
  {
   "cell_type": "code",
   "execution_count": 92,
   "metadata": {
    "id": "waS96edDTRyL"
   },
   "outputs": [
    {
     "name": "stdout",
     "output_type": "stream",
     "text": [
      "[0.3467300534248352, 0.8674799799919128]\n"
     ]
    }
   ],
   "source": [
    "print (results)"
   ]
  },
  {
   "cell_type": "code",
   "execution_count": 93,
   "metadata": {},
   "outputs": [
    {
     "data": {
      "image/png": "[encoded data removed]",
      "text/plain": [
       "<Figure size 720x360 with 2 Axes>"
      ]
     },
     "metadata": {
      "needs_background": "light"
     },
     "output_type": "display_data"
    }
   ],
   "source": [
    "#Plot\n",
    "\n",
    "from plot_keras_history import plot_history\n",
    "import matplotlib.pyplot as plt\n",
    "\n",
    "plot_history(history.history, path=\"standard.png\")\n",
    "plt.show()"
   ]
  },
  {
   "cell_type": "markdown",
   "metadata": {
    "id": "7FBpTc_rXGvQ"
   },
   "source": [
    "The accuracy of model2 is 87%. Using Embedding layer instead of one-hot layer improved the performance."
   ]
  },
  {
   "cell_type": "markdown",
   "metadata": {
    "id": "--020hfG6rN2"
   },
   "source": [
    "# Model 3: Using pre-trained word embeddings"
   ]
  },
  {
   "cell_type": "markdown",
   "metadata": {
    "id": "7GdY2-64YG1B"
   },
   "source": [
    "### Preparing pre-trained word embeddings (GLOVE)"
   ]
  },
  {
   "cell_type": "code",
   "execution_count": 94,
   "metadata": {
    "id": "f_PypdqG9Iis"
   },
   "outputs": [],
   "source": [
    "def readGloveFile(gloveFile):\n",
    "    with open(gloveFile, 'r',encoding=\"utf8\") as f:\n",
    "        wordToGlove = {}  \n",
    "        wordToIndex = {}  \n",
    "        indexToWord = {}  \n",
    "\n",
    "        for line in f:\n",
    "            record = line.strip().split()\n",
    "            token = record[0] \n",
    "            wordToGlove[token] = np.array(record[1:], dtype=np.float64) \n",
    "            \n",
    "        tokens = sorted(wordToGlove.keys())\n",
    "        for idx, tok in enumerate(tokens):\n",
    "            kerasIdx = idx + 1  \n",
    "            wordToIndex[tok] = kerasIdx \n",
    "            indexToWord[kerasIdx] = tok \n",
    "\n",
    "    return wordToIndex, indexToWord, wordToGlove"
   ]
  },
  {
   "cell_type": "markdown",
   "metadata": {
    "id": "ZcIZ3dq59bCh"
   },
   "source": [
    "Now, we create our pre-trained Embedding layer:"
   ]
  },
  {
   "cell_type": "code",
   "execution_count": 95,
   "metadata": {
    "id": "gembn7VM3ex8"
   },
   "outputs": [],
   "source": [
    "from keras.initializers import Constant\n",
    "\n",
    "def createPretrainedEmbeddingLayer(wordToGlove, wordToIndex, isTrainable):\n",
    "    vocabLen = len(wordToIndex) + 1  \n",
    "    embDim = next(iter(wordToGlove.values())).shape[0]  \n",
    "   \n",
    "    embeddingMatrix = np.zeros((vocabLen, embDim))  \n",
    "    for word, index in wordToIndex.items():\n",
    "        embeddingMatrix[index, :] = wordToGlove[word] \n",
    "\n",
    "    embeddingLayer = Embedding(vocabLen, embDim, embeddings_initializer=Constant(embeddingMatrix), trainable=isTrainable, name='GloVe_Embeddings')\n",
    "    return embeddingLayer"
   ]
  },
  {
   "cell_type": "code",
   "execution_count": 96,
   "metadata": {
    "colab": {
     "base_uri": "https://localhost:8080/"
    },
    "id": "8OC1wuctdFvA",
    "outputId": "87e91681-70ba-4866-efed-da90c5841078"
   },
   "outputs": [
    {
     "name": "stderr",
     "output_type": "stream",
     "text": [
      "'wget' is not recognized as an internal or external command,\n",
      "operable program or batch file.\n",
      "'unzip' is not recognized as an internal or external command,\n",
      "operable program or batch file.\n"
     ]
    }
   ],
   "source": [
    "!wget http://nlp.stanford.edu/data/glove.6B.zip\n",
    "!unzip '/content/glove.6B.zip'"
   ]
  },
  {
   "cell_type": "markdown",
   "metadata": {
    "id": "HGxciLK4-xOr"
   },
   "source": [
    "We freeze the weights. To create the model: "
   ]
  },
  {
   "cell_type": "code",
   "execution_count": 97,
   "metadata": {
    "colab": {
     "base_uri": "https://localhost:8080/"
    },
    "id": "PZCPUM0W_Drc",
    "outputId": "ef7cd791-b907-440a-e459-f8739e185012"
   },
   "outputs": [
    {
     "name": "stdout",
     "output_type": "stream",
     "text": [
      "Size of Embedding:  300\n"
     ]
    }
   ],
   "source": [
    "# wordToIndex,indexToWord,wordToGlove=readGloveFile('/content/glove.6B.50d.txt')\n",
    "# wordToIndex,indexToWord,wordToGlove=readGloveFile('/content/glove.6B.100d.txt')\n",
    "wordToIndex,indexToWord,wordToGlove=readGloveFile('glove.6B.300d.txt')\n",
    "\n",
    "# vocabLen = len(wordToIndex) + 1 \n",
    "\n",
    "EMBED_SIZE = next(iter(wordToGlove.values())).shape[0]\n",
    "print('Size of Embedding: ',EMBED_SIZE)\n",
    "\n"
   ]
  },
  {
   "cell_type": "code",
   "execution_count": 98,
   "metadata": {},
   "outputs": [],
   "source": [
    "from keras.layers import Embedding\n",
    "\n",
    "embeddingLayer=createPretrainedEmbeddingLayer(wordToGlove,wordToIndex,isTrainable=False)\n"
   ]
  },
  {
   "cell_type": "markdown",
   "metadata": {
    "id": "vdZ4nl08vp9A"
   },
   "source": [
    "## Model 3-1: Neural bag of words using pre-trained word embeddings"
   ]
  },
  {
   "cell_type": "code",
   "execution_count": 99,
   "metadata": {
    "colab": {
     "base_uri": "https://localhost:8080/"
    },
    "id": "VICS9rY8C7KH",
    "outputId": "86fbba88-a070-4137-e13d-79122923153c"
   },
   "outputs": [
    {
     "name": "stdout",
     "output_type": "stream",
     "text": [
      "Model: \"model_11\"\n",
      "_________________________________________________________________\n",
      "Layer (type)                 Output Shape              Param #   \n",
      "=================================================================\n",
      "input_18 (InputLayer)        [(None, None)]            0         \n",
      "_________________________________________________________________\n",
      "GloVe_Embeddings (Embedding) (None, None, 300)         120000300 \n",
      "_________________________________________________________________\n",
      "global_average_pooling1d_5 ( (None, 300)               0         \n",
      "_________________________________________________________________\n",
      "dense_24 (Dense)             (None, 16)                4816      \n",
      "_________________________________________________________________\n",
      "dense_25 (Dense)             (None, 1)                 17        \n",
      "=================================================================\n",
      "Total params: 120,005,133\n",
      "Trainable params: 4,833\n",
      "Non-trainable params: 120,000,300\n",
      "_________________________________________________________________\n"
     ]
    }
   ],
   "source": [
    "# Inspect model performance with 1 hidden layer, pre-trained embeddings\n",
    "# your code goes here\n",
    "from keras.layers import Input, Embedding, Dense, LSTM\n",
    "from keras.layers import Input, Lambda, GlobalAveragePooling1D, Dense, Embedding\n",
    "from keras.models import Model\n",
    "from keras.models import Sequential\n",
    "\n",
    "Input = Input(shape=(None,), dtype=\"int32\")\n",
    "Embedding = embeddingLayer(Input)\n",
    "global_average_pooling1d = GlobalAveragePooling1D()(Embedding)\n",
    "Hidden_1 = Dense(16,activation='sigmoid')(global_average_pooling1d)\n",
    "Output = Dense(1, activation='sigmoid')(Hidden_1)\n",
    "model3 = Model(inputs=[Input], outputs=[Output])  \n",
    "\n",
    "model3.compile(loss='binary_crossentropy', optimizer='adam', metrics = ['accuracy'])\n",
    "model3.summary()\n"
   ]
  },
  {
   "cell_type": "code",
   "execution_count": 100,
   "metadata": {
    "id": "r6sj_FnOD9Sb"
   },
   "outputs": [
    {
     "name": "stdout",
     "output_type": "stream",
     "text": [
      "Epoch 1/40\n",
      "30/30 [==============================] - 3s 70ms/step - loss: 1.1761 - accuracy: 0.4967 - val_loss: 0.8884 - val_accuracy: 0.5053\n",
      "Epoch 2/40\n",
      "30/30 [==============================] - 2s 63ms/step - loss: 0.8591 - accuracy: 0.4926 - val_loss: 0.7590 - val_accuracy: 0.5053\n",
      "Epoch 3/40\n",
      "30/30 [==============================] - 2s 65ms/step - loss: 0.7528 - accuracy: 0.4947 - val_loss: 0.7243 - val_accuracy: 0.5056\n",
      "Epoch 4/40\n",
      "30/30 [==============================] - 2s 65ms/step - loss: 0.7216 - accuracy: 0.4959 - val_loss: 0.7127 - val_accuracy: 0.5017\n",
      "Epoch 5/40\n",
      "30/30 [==============================] - 2s 63ms/step - loss: 0.7126 - accuracy: 0.4963 - val_loss: 0.7083 - val_accuracy: 0.4972\n",
      "Epoch 6/40\n",
      "30/30 [==============================] - 2s 63ms/step - loss: 0.7087 - accuracy: 0.4997 - val_loss: 0.7062 - val_accuracy: 0.5004\n",
      "Epoch 7/40\n",
      "30/30 [==============================] - 2s 62ms/step - loss: 0.7053 - accuracy: 0.5051 - val_loss: 0.7051 - val_accuracy: 0.5033\n",
      "Epoch 8/40\n",
      "30/30 [==============================] - 2s 63ms/step - loss: 0.7044 - accuracy: 0.5030 - val_loss: 0.7042 - val_accuracy: 0.5030\n",
      "Epoch 9/40\n",
      "30/30 [==============================] - 2s 62ms/step - loss: 0.7032 - accuracy: 0.5078 - val_loss: 0.7035 - val_accuracy: 0.5020\n",
      "Epoch 10/40\n",
      "30/30 [==============================] - 2s 65ms/step - loss: 0.7038 - accuracy: 0.5066 - val_loss: 0.7027 - val_accuracy: 0.5036\n",
      "Epoch 11/40\n",
      "30/30 [==============================] - 2s 62ms/step - loss: 0.7006 - accuracy: 0.5119 - val_loss: 0.7019 - val_accuracy: 0.5045\n",
      "Epoch 12/40\n",
      "30/30 [==============================] - 2s 63ms/step - loss: 0.7014 - accuracy: 0.5075 - val_loss: 0.7010 - val_accuracy: 0.5054\n",
      "Epoch 13/40\n",
      "30/30 [==============================] - 2s 64ms/step - loss: 0.6989 - accuracy: 0.5163 - val_loss: 0.7001 - val_accuracy: 0.5074\n",
      "Epoch 14/40\n",
      "30/30 [==============================] - 2s 64ms/step - loss: 0.6986 - accuracy: 0.5155 - val_loss: 0.6992 - val_accuracy: 0.5078\n",
      "Epoch 15/40\n",
      "30/30 [==============================] - 2s 65ms/step - loss: 0.6981 - accuracy: 0.5119 - val_loss: 0.6982 - val_accuracy: 0.5092\n",
      "Epoch 16/40\n",
      "30/30 [==============================] - 2s 65ms/step - loss: 0.6978 - accuracy: 0.5113 - val_loss: 0.6972 - val_accuracy: 0.5112\n",
      "Epoch 17/40\n",
      "30/30 [==============================] - 2s 64ms/step - loss: 0.6974 - accuracy: 0.5106 - val_loss: 0.6962 - val_accuracy: 0.5121\n",
      "Epoch 18/40\n",
      "30/30 [==============================] - 2s 64ms/step - loss: 0.6955 - accuracy: 0.5110 - val_loss: 0.6951 - val_accuracy: 0.5125\n",
      "Epoch 19/40\n",
      "30/30 [==============================] - 2s 65ms/step - loss: 0.6952 - accuracy: 0.5133 - val_loss: 0.6939 - val_accuracy: 0.5142\n",
      "Epoch 20/40\n",
      "30/30 [==============================] - 2s 67ms/step - loss: 0.6926 - accuracy: 0.5178 - val_loss: 0.6928 - val_accuracy: 0.5157\n",
      "Epoch 21/40\n",
      "30/30 [==============================] - 2s 67ms/step - loss: 0.6918 - accuracy: 0.5222 - val_loss: 0.6916 - val_accuracy: 0.5204\n",
      "Epoch 22/40\n",
      "30/30 [==============================] - 2s 67ms/step - loss: 0.6918 - accuracy: 0.5214 - val_loss: 0.6903 - val_accuracy: 0.5254\n",
      "Epoch 23/40\n",
      "30/30 [==============================] - 2s 70ms/step - loss: 0.6885 - accuracy: 0.5322 - val_loss: 0.6890 - val_accuracy: 0.5324\n",
      "Epoch 24/40\n",
      "30/30 [==============================] - 2s 66ms/step - loss: 0.6855 - accuracy: 0.5444 - val_loss: 0.6878 - val_accuracy: 0.5391\n",
      "Epoch 25/40\n",
      "30/30 [==============================] - 2s 67ms/step - loss: 0.6857 - accuracy: 0.5462 - val_loss: 0.6866 - val_accuracy: 0.5421\n",
      "Epoch 26/40\n",
      "30/30 [==============================] - 2s 65ms/step - loss: 0.6850 - accuracy: 0.5513 - val_loss: 0.6854 - val_accuracy: 0.5486\n",
      "Epoch 27/40\n",
      "30/30 [==============================] - 2s 64ms/step - loss: 0.6836 - accuracy: 0.5544 - val_loss: 0.6843 - val_accuracy: 0.5537\n",
      "Epoch 28/40\n",
      "30/30 [==============================] - 2s 65ms/step - loss: 0.6829 - accuracy: 0.5606 - val_loss: 0.6833 - val_accuracy: 0.5568\n",
      "Epoch 29/40\n",
      "30/30 [==============================] - 2s 67ms/step - loss: 0.6818 - accuracy: 0.5635 - val_loss: 0.6823 - val_accuracy: 0.5610\n",
      "Epoch 30/40\n",
      "30/30 [==============================] - 2s 66ms/step - loss: 0.6818 - accuracy: 0.5689 - val_loss: 0.6814 - val_accuracy: 0.5637\n",
      "Epoch 31/40\n",
      "30/30 [==============================] - 2s 66ms/step - loss: 0.6806 - accuracy: 0.5710 - val_loss: 0.6804 - val_accuracy: 0.5690\n",
      "Epoch 32/40\n",
      "30/30 [==============================] - 2s 65ms/step - loss: 0.6793 - accuracy: 0.5806 - val_loss: 0.6796 - val_accuracy: 0.5739\n",
      "Epoch 33/40\n",
      "30/30 [==============================] - 2s 64ms/step - loss: 0.6788 - accuracy: 0.5791 - val_loss: 0.6788 - val_accuracy: 0.5766\n",
      "Epoch 34/40\n",
      "30/30 [==============================] - 2s 65ms/step - loss: 0.6759 - accuracy: 0.5867 - val_loss: 0.6780 - val_accuracy: 0.5779\n",
      "Epoch 35/40\n",
      "30/30 [==============================] - 2s 65ms/step - loss: 0.6782 - accuracy: 0.5799 - val_loss: 0.6772 - val_accuracy: 0.5795\n",
      "Epoch 36/40\n",
      "30/30 [==============================] - 2s 65ms/step - loss: 0.6747 - accuracy: 0.5894 - val_loss: 0.6765 - val_accuracy: 0.5806\n",
      "Epoch 37/40\n",
      "30/30 [==============================] - 2s 65ms/step - loss: 0.6753 - accuracy: 0.5862 - val_loss: 0.6756 - val_accuracy: 0.5824\n",
      "Epoch 38/40\n",
      "30/30 [==============================] - 2s 64ms/step - loss: 0.6749 - accuracy: 0.5862 - val_loss: 0.6749 - val_accuracy: 0.5842\n",
      "Epoch 39/40\n",
      "30/30 [==============================] - 2s 64ms/step - loss: 0.6717 - accuracy: 0.6014 - val_loss: 0.6741 - val_accuracy: 0.5848\n",
      "Epoch 40/40\n",
      "30/30 [==============================] - 2s 63ms/step - loss: 0.6722 - accuracy: 0.5924 - val_loss: 0.6734 - val_accuracy: 0.5856\n"
     ]
    }
   ],
   "source": [
    "# Train and test the model\n",
    "\n",
    "history = model3.fit(partial_X_train,\n",
    "                    partial_y_train,\n",
    "                    epochs=40,\n",
    "                    batch_size=512,\n",
    "                    validation_data=(X_val, y_val),\n",
    "                    verbose=1)\n"
   ]
  },
  {
   "cell_type": "code",
   "execution_count": 101,
   "metadata": {},
   "outputs": [
    {
     "name": "stdout",
     "output_type": "stream",
     "text": [
      "782/782 [==============================] - 2s 3ms/step - loss: 0.6741 - accuracy: 0.5905\n"
     ]
    }
   ],
   "source": [
    "results = model3.evaluate(X_test_enc, y_test)"
   ]
  },
  {
   "cell_type": "code",
   "execution_count": 102,
   "metadata": {},
   "outputs": [
    {
     "name": "stdout",
     "output_type": "stream",
     "text": [
      "[0.6740505695343018, 0.5904800295829773]\n"
     ]
    }
   ],
   "source": [
    "print (results)"
   ]
  },
  {
   "cell_type": "code",
   "execution_count": 103,
   "metadata": {},
   "outputs": [
    {
     "data": {
      "image/png": "[encoded data removed]",
      "text/plain": [
       "<Figure size 720x360 with 2 Axes>"
      ]
     },
     "metadata": {
      "needs_background": "light"
     },
     "output_type": "display_data"
    }
   ],
   "source": [
    "#Plot\n",
    "\n",
    "from plot_keras_history import plot_history\n",
    "import matplotlib.pyplot as plt\n",
    "\n",
    "plot_history(history.history, path=\"standard.png\")\n",
    "plt.show()"
   ]
  },
  {
   "cell_type": "code",
   "execution_count": 104,
   "metadata": {
    "colab": {
     "base_uri": "https://localhost:8080/"
    },
    "id": "u_xmeuuhhtbH",
    "outputId": "7e088ab6-9bb2-4cb0-8b87-d5fb17c4866f"
   },
   "outputs": [],
   "source": [
    "# your code goes here\n",
    "\n",
    "from keras.layers import Embedding\n",
    "\n",
    "embeddingLayer1=createPretrainedEmbeddingLayer(wordToGlove,wordToIndex,isTrainable=True)\n",
    "\n"
   ]
  },
  {
   "cell_type": "code",
   "execution_count": 105,
   "metadata": {},
   "outputs": [
    {
     "name": "stdout",
     "output_type": "stream",
     "text": [
      "Model: \"model_12\"\n",
      "_________________________________________________________________\n",
      "Layer (type)                 Output Shape              Param #   \n",
      "=================================================================\n",
      "input_19 (InputLayer)        [(None, None)]            0         \n",
      "_________________________________________________________________\n",
      "GloVe_Embeddings (Embedding) (None, None, 300)         120000300 \n",
      "_________________________________________________________________\n",
      "global_average_pooling1d_6 ( (None, 300)               0         \n",
      "_________________________________________________________________\n",
      "dense_26 (Dense)             (None, 16)                4816      \n",
      "_________________________________________________________________\n",
      "dense_27 (Dense)             (None, 1)                 17        \n",
      "=================================================================\n",
      "Total params: 120,005,133\n",
      "Trainable params: 120,005,133\n",
      "Non-trainable params: 0\n",
      "_________________________________________________________________\n"
     ]
    }
   ],
   "source": [
    "from keras.layers import Input, Embedding, Dense, LSTM\n",
    "from keras.layers import Input, Lambda, GlobalAveragePooling1D, Dense, Embedding\n",
    "from keras.models import Model\n",
    "from keras.models import Sequential\n",
    "\n",
    "Input = Input(shape=(None,), dtype=\"int32\")\n",
    "Embedding = embeddingLayer1(Input)\n",
    "global_average_pooling1d = GlobalAveragePooling1D()(Embedding)\n",
    "Hidden_1 = Dense(16,activation='sigmoid')(global_average_pooling1d)\n",
    "Output = Dense(1, activation='sigmoid')(Hidden_1)\n",
    "model4 = Model(inputs=[Input], outputs=[Output])  \n",
    "\n",
    "model4.compile(loss='binary_crossentropy', optimizer='adam', metrics = ['accuracy'])\n",
    "model4.summary()\n"
   ]
  },
  {
   "cell_type": "code",
   "execution_count": 106,
   "metadata": {
    "id": "3rz8MEm6iHj6"
   },
   "outputs": [
    {
     "name": "stdout",
     "output_type": "stream",
     "text": [
      "Epoch 1/40\n",
      "30/30 [==============================] - 32s 1s/step - loss: 0.7208 - accuracy: 0.5091 - val_loss: 0.6935 - val_accuracy: 0.5106\n",
      "Epoch 2/40\n",
      "30/30 [==============================] - 31s 1s/step - loss: 0.6896 - accuracy: 0.5305 - val_loss: 0.6849 - val_accuracy: 0.5731\n",
      "Epoch 3/40\n",
      "30/30 [==============================] - 31s 1s/step - loss: 0.6808 - accuracy: 0.6059 - val_loss: 0.6721 - val_accuracy: 0.6779\n",
      "Epoch 4/40\n",
      "30/30 [==============================] - 31s 1s/step - loss: 0.6658 - accuracy: 0.6924 - val_loss: 0.6542 - val_accuracy: 0.6962\n",
      "Epoch 5/40\n",
      "30/30 [==============================] - 30s 1s/step - loss: 0.6441 - accuracy: 0.7098 - val_loss: 0.6279 - val_accuracy: 0.7222\n",
      "Epoch 6/40\n",
      "30/30 [==============================] - 30s 1s/step - loss: 0.6126 - accuracy: 0.7376 - val_loss: 0.5925 - val_accuracy: 0.7466\n",
      "Epoch 7/40\n",
      "30/30 [==============================] - 30s 1s/step - loss: 0.5704 - accuracy: 0.7597 - val_loss: 0.5489 - val_accuracy: 0.7766\n",
      "Epoch 8/40\n",
      "30/30 [==============================] - 30s 1s/step - loss: 0.5224 - accuracy: 0.8010 - val_loss: 0.5027 - val_accuracy: 0.8066\n",
      "Epoch 9/40\n",
      "30/30 [==============================] - 30s 1s/step - loss: 0.4719 - accuracy: 0.8277 - val_loss: 0.4562 - val_accuracy: 0.8291\n",
      "Epoch 10/40\n",
      "30/30 [==============================] - 30s 1s/step - loss: 0.4230 - accuracy: 0.8511 - val_loss: 0.4186 - val_accuracy: 0.8423\n",
      "Epoch 11/40\n",
      "30/30 [==============================] - 30s 1s/step - loss: 0.3810 - accuracy: 0.8681 - val_loss: 0.3885 - val_accuracy: 0.8522\n",
      "Epoch 12/40\n",
      "30/30 [==============================] - 30s 1s/step - loss: 0.3483 - accuracy: 0.8783 - val_loss: 0.3665 - val_accuracy: 0.8588\n",
      "Epoch 13/40\n",
      "30/30 [==============================] - 30s 1s/step - loss: 0.3237 - accuracy: 0.8881 - val_loss: 0.3468 - val_accuracy: 0.8662\n",
      "Epoch 14/40\n",
      "30/30 [==============================] - 30s 1s/step - loss: 0.2948 - accuracy: 0.8944 - val_loss: 0.3323 - val_accuracy: 0.8706\n",
      "Epoch 15/40\n",
      "30/30 [==============================] - 31s 1s/step - loss: 0.2721 - accuracy: 0.9035 - val_loss: 0.3212 - val_accuracy: 0.8743\n",
      "Epoch 16/40\n",
      "30/30 [==============================] - 30s 989ms/step - loss: 0.2589 - accuracy: 0.9085 - val_loss: 0.3120 - val_accuracy: 0.8759\n",
      "Epoch 17/40\n",
      "30/30 [==============================] - 30s 985ms/step - loss: 0.2402 - accuracy: 0.9180 - val_loss: 0.3060 - val_accuracy: 0.8762\n",
      "Epoch 18/40\n",
      "30/30 [==============================] - 29s 979ms/step - loss: 0.2319 - accuracy: 0.9193 - val_loss: 0.2995 - val_accuracy: 0.8792\n",
      "Epoch 19/40\n",
      "30/30 [==============================] - 29s 973ms/step - loss: 0.2107 - accuracy: 0.9287 - val_loss: 0.2953 - val_accuracy: 0.8819\n",
      "Epoch 20/40\n",
      "30/30 [==============================] - 29s 964ms/step - loss: 0.2009 - accuracy: 0.9337 - val_loss: 0.2924 - val_accuracy: 0.8814\n",
      "Epoch 21/40\n",
      "30/30 [==============================] - 29s 972ms/step - loss: 0.1886 - accuracy: 0.9375 - val_loss: 0.2908 - val_accuracy: 0.8832\n",
      "Epoch 22/40\n",
      "30/30 [==============================] - 29s 971ms/step - loss: 0.1726 - accuracy: 0.9467 - val_loss: 0.2929 - val_accuracy: 0.8779\n",
      "Epoch 23/40\n",
      "30/30 [==============================] - 29s 964ms/step - loss: 0.1706 - accuracy: 0.9457 - val_loss: 0.2878 - val_accuracy: 0.8841\n",
      "Epoch 24/40\n",
      "30/30 [==============================] - 29s 961ms/step - loss: 0.1576 - accuracy: 0.9536 - val_loss: 0.2879 - val_accuracy: 0.8836\n",
      "Epoch 25/40\n",
      "30/30 [==============================] - 29s 970ms/step - loss: 0.1520 - accuracy: 0.9565 - val_loss: 0.2893 - val_accuracy: 0.8834\n",
      "Epoch 26/40\n",
      "30/30 [==============================] - 29s 967ms/step - loss: 0.1455 - accuracy: 0.9586 - val_loss: 0.2902 - val_accuracy: 0.8830\n",
      "Epoch 27/40\n",
      "30/30 [==============================] - 29s 976ms/step - loss: 0.1350 - accuracy: 0.9632 - val_loss: 0.2917 - val_accuracy: 0.8840\n",
      "Epoch 28/40\n",
      "30/30 [==============================] - 29s 978ms/step - loss: 0.1310 - accuracy: 0.9617 - val_loss: 0.2937 - val_accuracy: 0.8840\n",
      "Epoch 29/40\n",
      "30/30 [==============================] - 29s 961ms/step - loss: 0.1234 - accuracy: 0.9678 - val_loss: 0.2972 - val_accuracy: 0.8822\n",
      "Epoch 30/40\n",
      "30/30 [==============================] - 29s 965ms/step - loss: 0.1120 - accuracy: 0.9709 - val_loss: 0.2982 - val_accuracy: 0.8832\n",
      "Epoch 31/40\n",
      "30/30 [==============================] - 29s 975ms/step - loss: 0.1099 - accuracy: 0.9707 - val_loss: 0.3016 - val_accuracy: 0.8815\n",
      "Epoch 32/40\n",
      "30/30 [==============================] - 29s 967ms/step - loss: 0.1045 - accuracy: 0.9737 - val_loss: 0.3048 - val_accuracy: 0.8811\n",
      "Epoch 33/40\n",
      "30/30 [==============================] - 29s 963ms/step - loss: 0.0986 - accuracy: 0.9762 - val_loss: 0.3104 - val_accuracy: 0.8789\n",
      "Epoch 34/40\n",
      "30/30 [==============================] - 29s 970ms/step - loss: 0.0986 - accuracy: 0.9775 - val_loss: 0.3122 - val_accuracy: 0.8793\n",
      "Epoch 35/40\n",
      "30/30 [==============================] - 29s 966ms/step - loss: 0.0869 - accuracy: 0.9800 - val_loss: 0.3167 - val_accuracy: 0.8784\n",
      "Epoch 36/40\n",
      "30/30 [==============================] - 29s 964ms/step - loss: 0.0822 - accuracy: 0.9826 - val_loss: 0.3228 - val_accuracy: 0.8767\n",
      "Epoch 37/40\n",
      "30/30 [==============================] - 29s 966ms/step - loss: 0.0841 - accuracy: 0.9803 - val_loss: 0.3252 - val_accuracy: 0.8771\n",
      "Epoch 38/40\n",
      "30/30 [==============================] - 29s 974ms/step - loss: 0.0775 - accuracy: 0.9847 - val_loss: 0.3306 - val_accuracy: 0.8757\n",
      "Epoch 39/40\n",
      "30/30 [==============================] - 29s 965ms/step - loss: 0.0732 - accuracy: 0.9852 - val_loss: 0.3363 - val_accuracy: 0.8759\n",
      "Epoch 40/40\n",
      "30/30 [==============================] - 29s 971ms/step - loss: 0.0727 - accuracy: 0.9849 - val_loss: 0.3411 - val_accuracy: 0.8750\n"
     ]
    }
   ],
   "source": [
    "# Train and test the model\n",
    "history = model4.fit(partial_X_train,\n",
    "                    partial_y_train,\n",
    "                    epochs=40,\n",
    "                    batch_size=512,\n",
    "                    validation_data=(X_val, y_val),\n",
    "                    verbose=1)"
   ]
  },
  {
   "cell_type": "code",
   "execution_count": 107,
   "metadata": {},
   "outputs": [
    {
     "name": "stdout",
     "output_type": "stream",
     "text": [
      "782/782 [==============================] - 2s 3ms/step - loss: 0.3600 - accuracy: 0.8683\n"
     ]
    }
   ],
   "source": [
    "results = model4.evaluate(X_test_enc, y_test)"
   ]
  },
  {
   "cell_type": "code",
   "execution_count": 108,
   "metadata": {},
   "outputs": [
    {
     "name": "stdout",
     "output_type": "stream",
     "text": [
      "[0.35995733737945557, 0.8682799935340881]\n"
     ]
    }
   ],
   "source": [
    "print (results)"
   ]
  },
  {
   "cell_type": "code",
   "execution_count": 109,
   "metadata": {},
   "outputs": [
    {
     "data": {
      "image/png": "[encoded data removed]",
      "text/plain": [
       "<Figure size 720x360 with 2 Axes>"
      ]
     },
     "metadata": {
      "needs_background": "light"
     },
     "output_type": "display_data"
    }
   ],
   "source": [
    "#Plot\n",
    "\n",
    "from plot_keras_history import plot_history\n",
    "import matplotlib.pyplot as plt\n",
    "\n",
    "plot_history(history.history, path=\"standard.png\")\n",
    "plt.show()"
   ]
  },
  {
   "cell_type": "markdown",
   "metadata": {
    "id": "xZ1KWFKvcagS"
   },
   "source": [
    "##  Model 3-2: LSTM with pre-trained word embeddings"
   ]
  },
  {
   "cell_type": "code",
   "execution_count": 12,
   "metadata": {},
   "outputs": [],
   "source": [
    "from keras.layers import Embedding\n",
    "\n",
    "embeddingLayer=createPretrainedEmbeddingLayer(wordToGlove,wordToIndex,isTrainable=True)\n"
   ]
  },
  {
   "cell_type": "code",
   "execution_count": 13,
   "metadata": {
    "colab": {
     "base_uri": "https://localhost:8080/"
    },
    "id": "oz92rv2iTbo8",
    "outputId": "f5b29619-cd62-4aad-9efc-8d34c7042833"
   },
   "outputs": [
    {
     "name": "stdout",
     "output_type": "stream",
     "text": [
      "Model: \"model\"\n",
      "_________________________________________________________________\n",
      "Layer (type)                 Output Shape              Param #   \n",
      "=================================================================\n",
      "input_2 (InputLayer)         [(None, 256)]             0         \n",
      "_________________________________________________________________\n",
      "GloVe_Embeddings (Embedding) (None, 256, 300)          120000300 \n",
      "_________________________________________________________________\n",
      "lstm (LSTM)                  (None, 100)               160400    \n",
      "_________________________________________________________________\n",
      "dense (Dense)                (None, 1)                 101       \n",
      "=================================================================\n",
      "Total params: 120,160,801\n",
      "Trainable params: 120,160,801\n",
      "Non-trainable params: 0\n",
      "_________________________________________________________________\n"
     ]
    }
   ],
   "source": [
    "# your code goes here\n",
    "from keras.layers import Input, Embedding, Dense, LSTM\n",
    "from keras.models import Model\n",
    "from keras.models import Sequential\n",
    "\n",
    "EMBED_SIZE = 100\n",
    "\n",
    "#Diff style\n",
    "\n",
    "Input = Input(shape=(256,), dtype=\"int32\")\n",
    "Embedding = embeddingLayer(Input)\n",
    "LSTM = LSTM(100, return_sequences=False)(Embedding)\n",
    "DenseOutput = Dense(1, activation='softmax')(LSTM)\n",
    "model5 = Model(inputs=[Input], outputs=[DenseOutput])  \n",
    "model5.compile(loss='binary_crossentropy', optimizer='adam', metrics=['accuracy'])\n",
    "\n",
    "model5.summary()"
   ]
  },
  {
   "cell_type": "code",
   "execution_count": 33,
   "metadata": {
    "id": "EqyL_rhaUElx"
   },
   "outputs": [
    {
     "name": "stdout",
     "output_type": "stream",
     "text": [
      "Epoch 1/40\n",
      "30/30 [==============================] - 61s 2s/step - loss: 0.6695 - accuracy: 0.4965 - val_loss: 0.6711 - val_accuracy: 0.5053\n",
      "Epoch 2/40\n",
      "30/30 [==============================] - 61s 2s/step - loss: 0.6423 - accuracy: 0.4965 - val_loss: 0.6231 - val_accuracy: 0.5053\n",
      "Epoch 3/40\n",
      "30/30 [==============================] - 61s 2s/step - loss: 0.6504 - accuracy: 0.4965 - val_loss: 0.6753 - val_accuracy: 0.5053\n",
      "Epoch 4/40\n",
      "30/30 [==============================] - 62s 2s/step - loss: 0.6465 - accuracy: 0.4965 - val_loss: 0.6607 - val_accuracy: 0.5053\n",
      "Epoch 5/40\n",
      "30/30 [==============================] - 62s 2s/step - loss: 0.6356 - accuracy: 0.4965 - val_loss: 0.6771 - val_accuracy: 0.5053\n",
      "Epoch 6/40\n",
      "30/30 [==============================] - 66s 2s/step - loss: 0.6199 - accuracy: 0.4965 - val_loss: 0.6533 - val_accuracy: 0.5053\n",
      "Epoch 7/40\n",
      "30/30 [==============================] - 68s 2s/step - loss: 0.5333 - accuracy: 0.4965 - val_loss: 0.5522 - val_accuracy: 0.5053\n",
      "Epoch 8/40\n",
      "30/30 [==============================] - 74s 2s/step - loss: 0.6191 - accuracy: 0.4965 - val_loss: 0.6687 - val_accuracy: 0.5053\n",
      "Epoch 9/40\n",
      "30/30 [==============================] - 76s 3s/step - loss: 0.5804 - accuracy: 0.4965 - val_loss: 0.6551 - val_accuracy: 0.5053\n",
      "Epoch 10/40\n",
      "30/30 [==============================] - 75s 3s/step - loss: 0.5455 - accuracy: 0.4965 - val_loss: 0.6431 - val_accuracy: 0.5053\n",
      "Epoch 11/40\n",
      "30/30 [==============================] - 81s 3s/step - loss: 0.5863 - accuracy: 0.4965 - val_loss: 0.7311 - val_accuracy: 0.5053\n",
      "Epoch 12/40\n",
      "30/30 [==============================] - 76s 3s/step - loss: 0.5674 - accuracy: 0.4965 - val_loss: 0.6181 - val_accuracy: 0.5053\n",
      "Epoch 13/40\n",
      "30/30 [==============================] - 75s 3s/step - loss: 0.5605 - accuracy: 0.4965 - val_loss: 0.6657 - val_accuracy: 0.5053\n",
      "Epoch 14/40\n",
      "30/30 [==============================] - 76s 3s/step - loss: 0.5332 - accuracy: 0.4965 - val_loss: 0.5827 - val_accuracy: 0.5053\n",
      "Epoch 15/40\n",
      "30/30 [==============================] - 73s 2s/step - loss: 0.4590 - accuracy: 0.4965 - val_loss: 0.6398 - val_accuracy: 0.5053\n",
      "Epoch 16/40\n",
      "30/30 [==============================] - 74s 2s/step - loss: 0.5542 - accuracy: 0.4965 - val_loss: 0.6657 - val_accuracy: 0.5053\n",
      "Epoch 17/40\n",
      "30/30 [==============================] - 79s 3s/step - loss: 0.5127 - accuracy: 0.4965 - val_loss: 0.6106 - val_accuracy: 0.5053\n",
      "Epoch 18/40\n",
      "30/30 [==============================] - 81s 3s/step - loss: 0.4270 - accuracy: 0.4965 - val_loss: 0.6314 - val_accuracy: 0.5053\n",
      "Epoch 19/40\n",
      "30/30 [==============================] - 81s 3s/step - loss: 0.4638 - accuracy: 0.4965 - val_loss: 0.5703 - val_accuracy: 0.5053\n",
      "Epoch 20/40\n",
      "30/30 [==============================] - 80s 3s/step - loss: 0.4053 - accuracy: 0.4965 - val_loss: 0.5990 - val_accuracy: 0.5053\n",
      "Epoch 21/40\n",
      "30/30 [==============================] - 75s 2s/step - loss: 0.3806 - accuracy: 0.4965 - val_loss: 0.5436 - val_accuracy: 0.5053\n",
      "Epoch 22/40\n",
      "30/30 [==============================] - 75s 3s/step - loss: 0.3634 - accuracy: 0.4965 - val_loss: 0.5470 - val_accuracy: 0.5053\n",
      "Epoch 23/40\n",
      "30/30 [==============================] - 73s 2s/step - loss: 0.3711 - accuracy: 0.4965 - val_loss: 0.5754 - val_accuracy: 0.5053\n",
      "Epoch 24/40\n",
      "30/30 [==============================] - 73s 2s/step - loss: 0.3607 - accuracy: 0.4965 - val_loss: 0.5820 - val_accuracy: 0.5053\n",
      "Epoch 25/40\n",
      "30/30 [==============================] - 72s 2s/step - loss: 0.3650 - accuracy: 0.4965 - val_loss: 0.5724 - val_accuracy: 0.5053\n",
      "Epoch 26/40\n",
      "30/30 [==============================] - 73s 2s/step - loss: 0.3502 - accuracy: 0.4965 - val_loss: 0.5508 - val_accuracy: 0.5053\n",
      "Epoch 27/40\n",
      "30/30 [==============================] - 73s 2s/step - loss: 0.3365 - accuracy: 0.4965 - val_loss: 0.5639 - val_accuracy: 0.5053\n",
      "Epoch 28/40\n",
      "30/30 [==============================] - 73s 2s/step - loss: 0.5474 - accuracy: 0.4965 - val_loss: 0.7681 - val_accuracy: 0.5053\n",
      "Epoch 29/40\n",
      "30/30 [==============================] - 72s 2s/step - loss: 0.6232 - accuracy: 0.4965 - val_loss: 0.6702 - val_accuracy: 0.5053\n",
      "Epoch 30/40\n",
      "30/30 [==============================] - 73s 2s/step - loss: 0.5900 - accuracy: 0.4965 - val_loss: 0.6687 - val_accuracy: 0.5053\n",
      "Epoch 31/40\n",
      "30/30 [==============================] - 73s 2s/step - loss: 0.5585 - accuracy: 0.4965 - val_loss: 0.6352 - val_accuracy: 0.5053\n",
      "Epoch 32/40\n",
      "30/30 [==============================] - 73s 2s/step - loss: 0.5165 - accuracy: 0.4965 - val_loss: 0.5498 - val_accuracy: 0.5053\n",
      "Epoch 33/40\n",
      "30/30 [==============================] - 72s 2s/step - loss: 0.3469 - accuracy: 0.4965 - val_loss: 0.4291 - val_accuracy: 0.5053\n",
      "Epoch 34/40\n",
      "30/30 [==============================] - 73s 2s/step - loss: 0.2951 - accuracy: 0.4965 - val_loss: 0.4026 - val_accuracy: 0.5053\n",
      "Epoch 35/40\n",
      "30/30 [==============================] - 72s 2s/step - loss: 0.2169 - accuracy: 0.4965 - val_loss: 0.3812 - val_accuracy: 0.5053\n",
      "Epoch 36/40\n",
      "30/30 [==============================] - 72s 2s/step - loss: 0.1726 - accuracy: 0.4965 - val_loss: 0.3789 - val_accuracy: 0.5053\n",
      "Epoch 37/40\n",
      "30/30 [==============================] - 72s 2s/step - loss: 0.1362 - accuracy: 0.4965 - val_loss: 0.4134 - val_accuracy: 0.5053\n",
      "Epoch 38/40\n",
      "30/30 [==============================] - 73s 2s/step - loss: 0.1132 - accuracy: 0.4965 - val_loss: 0.4216 - val_accuracy: 0.5053\n",
      "Epoch 39/40\n",
      "30/30 [==============================] - 73s 2s/step - loss: 0.0960 - accuracy: 0.4965 - val_loss: 0.4284 - val_accuracy: 0.5053\n",
      "Epoch 40/40\n",
      "30/30 [==============================] - 73s 2s/step - loss: 0.0820 - accuracy: 0.4965 - val_loss: 0.4609 - val_accuracy: 0.5053\n"
     ]
    }
   ],
   "source": [
    "# Train and test the model\n",
    "\n",
    "history = model5.fit(partial_X_train,\n",
    "                    partial_y_train,\n",
    "                    epochs=40,\n",
    "                    batch_size=512,\n",
    "                    validation_data=(X_val, y_val),\n",
    "                    verbose=1)"
   ]
  },
  {
   "cell_type": "code",
   "execution_count": 34,
   "metadata": {},
   "outputs": [
    {
     "name": "stdout",
     "output_type": "stream",
     "text": [
      "782/782 [==============================] - 27s 34ms/step - loss: 0.5091 - accuracy: 0.5000\n"
     ]
    }
   ],
   "source": [
    "results = model5.evaluate(X_test_enc, y_test)"
   ]
  },
  {
   "cell_type": "code",
   "execution_count": 35,
   "metadata": {},
   "outputs": [
    {
     "name": "stdout",
     "output_type": "stream",
     "text": [
      "[0.5090847015380859, 0.5]\n"
     ]
    }
   ],
   "source": [
    "print (results)"
   ]
  },
  {
   "cell_type": "markdown",
   "metadata": {
    "id": "M-bZ5SCHiIMl"
   },
   "source": [
    "#  Model 4: Adding extra dense layer into Neural averaging network model"
   ]
  },
  {
   "cell_type": "markdown",
   "metadata": {
    "id": "ExgX8bxpVgps"
   },
   "source": [
    "### Adding one extra dense layer"
   ]
  },
  {
   "cell_type": "code",
   "execution_count": 117,
   "metadata": {},
   "outputs": [],
   "source": [
    "from keras.layers import Embedding\n",
    "\n",
    "embeddingLayer=createPretrainedEmbeddingLayer(wordToGlove,wordToIndex,isTrainable=False)"
   ]
  },
  {
   "cell_type": "code",
   "execution_count": 119,
   "metadata": {
    "colab": {
     "base_uri": "https://localhost:8080/"
    },
    "id": "dTgD_gMzXa1z",
    "outputId": "b882da5e-5378-426a-878f-7d93d3b433fd"
   },
   "outputs": [
    {
     "name": "stdout",
     "output_type": "stream",
     "text": [
      "Model: \"model_16\"\n",
      "_________________________________________________________________\n",
      "Layer (type)                 Output Shape              Param #   \n",
      "=================================================================\n",
      "input_23 (InputLayer)        [(None, None)]            0         \n",
      "_________________________________________________________________\n",
      "GloVe_Embeddings (Embedding) (None, None, 300)         120000300 \n",
      "_________________________________________________________________\n",
      "global_average_pooling1d_10  (None, 300)               0         \n",
      "_________________________________________________________________\n",
      "dense_38 (Dense)             (None, 16)                4816      \n",
      "_________________________________________________________________\n",
      "dense_39 (Dense)             (None, 8)                 136       \n",
      "_________________________________________________________________\n",
      "dense_40 (Dense)             (None, 1)                 9         \n",
      "=================================================================\n",
      "Total params: 120,005,261\n",
      "Trainable params: 4,961\n",
      "Non-trainable params: 120,000,300\n",
      "_________________________________________________________________\n"
     ]
    }
   ],
   "source": [
    "# Inspect model performance with 1 hidden layer, pre-trained embeddings\n",
    "# your code goes here\n",
    "\n",
    "from keras.layers import Input, Embedding, Dense, LSTM\n",
    "from keras.layers import Input, Lambda, GlobalAveragePooling1D, Dense, Embedding\n",
    "from keras.models import Model\n",
    "from keras.models import Sequential\n",
    "\n",
    "Input = Input(shape=(None,), dtype=\"int32\")\n",
    "Embedding = embeddingLayer(Input)\n",
    "global_average_pooling1d = GlobalAveragePooling1D()(Embedding)\n",
    "Hidden_1 = Dense(16,activation='sigmoid')(global_average_pooling1d)\n",
    "Hidden_2 = Dense(8,activation='sigmoid')(Hidden_1)                     # first extra hidden layer\n",
    "Output = Dense(1, activation='sigmoid')(Hidden_2)\n",
    "model6 = Model(inputs=[Input], outputs=[Output])  \n",
    "\n",
    "model6.compile(loss='binary_crossentropy', optimizer='adam', metrics = ['accuracy'])\n",
    "model6.summary()\n"
   ]
  },
  {
   "cell_type": "code",
   "execution_count": 120,
   "metadata": {
    "scrolled": true
   },
   "outputs": [
    {
     "name": "stdout",
     "output_type": "stream",
     "text": [
      "Epoch 1/40\n",
      "30/30 [==============================] - 3s 75ms/step - loss: 0.6939 - accuracy: 0.5088 - val_loss: 0.6925 - val_accuracy: 0.5070\n",
      "Epoch 2/40\n",
      "30/30 [==============================] - 2s 68ms/step - loss: 0.6923 - accuracy: 0.5200 - val_loss: 0.6915 - val_accuracy: 0.5468\n",
      "Epoch 3/40\n",
      "30/30 [==============================] - 2s 68ms/step - loss: 0.6910 - accuracy: 0.5489 - val_loss: 0.6906 - val_accuracy: 0.5312\n",
      "Epoch 4/40\n",
      "30/30 [==============================] - 2s 68ms/step - loss: 0.6898 - accuracy: 0.5409 - val_loss: 0.6889 - val_accuracy: 0.5795\n",
      "Epoch 5/40\n",
      "30/30 [==============================] - 2s 69ms/step - loss: 0.6882 - accuracy: 0.5716 - val_loss: 0.6876 - val_accuracy: 0.5715\n",
      "Epoch 6/40\n",
      "30/30 [==============================] - 2s 70ms/step - loss: 0.6866 - accuracy: 0.5829 - val_loss: 0.6858 - val_accuracy: 0.5825\n",
      "Epoch 7/40\n",
      "30/30 [==============================] - 2s 73ms/step - loss: 0.6842 - accuracy: 0.5975 - val_loss: 0.6839 - val_accuracy: 0.5834\n",
      "Epoch 8/40\n",
      "30/30 [==============================] - 2s 67ms/step - loss: 0.6823 - accuracy: 0.5964 - val_loss: 0.6820 - val_accuracy: 0.5861\n",
      "Epoch 9/40\n",
      "30/30 [==============================] - 2s 69ms/step - loss: 0.6814 - accuracy: 0.5799 - val_loss: 0.6802 - val_accuracy: 0.5861\n",
      "Epoch 10/40\n",
      "30/30 [==============================] - 2s 69ms/step - loss: 0.6764 - accuracy: 0.6020 - val_loss: 0.6772 - val_accuracy: 0.5946\n",
      "Epoch 11/40\n",
      "30/30 [==============================] - 2s 69ms/step - loss: 0.6754 - accuracy: 0.6083 - val_loss: 0.6752 - val_accuracy: 0.5934\n",
      "Epoch 12/40\n",
      "30/30 [==============================] - 2s 69ms/step - loss: 0.6709 - accuracy: 0.6127 - val_loss: 0.6726 - val_accuracy: 0.5987\n",
      "Epoch 13/40\n",
      "30/30 [==============================] - 2s 69ms/step - loss: 0.6710 - accuracy: 0.6056 - val_loss: 0.6704 - val_accuracy: 0.5993\n",
      "Epoch 14/40\n",
      "30/30 [==============================] - 2s 69ms/step - loss: 0.6699 - accuracy: 0.6007 - val_loss: 0.6678 - val_accuracy: 0.6037\n",
      "Epoch 15/40\n",
      "30/30 [==============================] - 2s 71ms/step - loss: 0.6647 - accuracy: 0.6111 - val_loss: 0.6650 - val_accuracy: 0.6055\n",
      "Epoch 16/40\n",
      "30/30 [==============================] - 2s 70ms/step - loss: 0.6624 - accuracy: 0.6150 - val_loss: 0.6622 - val_accuracy: 0.6120\n",
      "Epoch 17/40\n",
      "30/30 [==============================] - 2s 68ms/step - loss: 0.6594 - accuracy: 0.6209 - val_loss: 0.6597 - val_accuracy: 0.6181\n",
      "Epoch 18/40\n",
      "30/30 [==============================] - 2s 68ms/step - loss: 0.6575 - accuracy: 0.6224 - val_loss: 0.6564 - val_accuracy: 0.6229\n",
      "Epoch 19/40\n",
      "30/30 [==============================] - 2s 68ms/step - loss: 0.6544 - accuracy: 0.6292 - val_loss: 0.6534 - val_accuracy: 0.6270\n",
      "Epoch 20/40\n",
      "30/30 [==============================] - 2s 70ms/step - loss: 0.6504 - accuracy: 0.6328 - val_loss: 0.6511 - val_accuracy: 0.6308\n",
      "Epoch 21/40\n",
      "30/30 [==============================] - 2s 68ms/step - loss: 0.6461 - accuracy: 0.6406 - val_loss: 0.6478 - val_accuracy: 0.6357\n",
      "Epoch 22/40\n",
      "30/30 [==============================] - 2s 73ms/step - loss: 0.6430 - accuracy: 0.6435 - val_loss: 0.6432 - val_accuracy: 0.6422\n",
      "Epoch 23/40\n",
      "30/30 [==============================] - 2s 71ms/step - loss: 0.6405 - accuracy: 0.6520 - val_loss: 0.6399 - val_accuracy: 0.6455\n",
      "Epoch 24/40\n",
      "30/30 [==============================] - 2s 71ms/step - loss: 0.6342 - accuracy: 0.6598 - val_loss: 0.6366 - val_accuracy: 0.6493\n",
      "Epoch 25/40\n",
      "30/30 [==============================] - 2s 70ms/step - loss: 0.6337 - accuracy: 0.6566 - val_loss: 0.6328 - val_accuracy: 0.6555\n",
      "Epoch 26/40\n",
      "30/30 [==============================] - 2s 71ms/step - loss: 0.6263 - accuracy: 0.6696 - val_loss: 0.6296 - val_accuracy: 0.6575\n",
      "Epoch 27/40\n",
      "30/30 [==============================] - 2s 69ms/step - loss: 0.6243 - accuracy: 0.6717 - val_loss: 0.6259 - val_accuracy: 0.6639\n",
      "Epoch 28/40\n",
      "30/30 [==============================] - 2s 68ms/step - loss: 0.6200 - accuracy: 0.6767 - val_loss: 0.6227 - val_accuracy: 0.6686\n",
      "Epoch 29/40\n",
      "30/30 [==============================] - 2s 68ms/step - loss: 0.6150 - accuracy: 0.6790 - val_loss: 0.6197 - val_accuracy: 0.6703\n",
      "Epoch 30/40\n",
      "30/30 [==============================] - 2s 69ms/step - loss: 0.6121 - accuracy: 0.6799 - val_loss: 0.6187 - val_accuracy: 0.6678\n",
      "Epoch 31/40\n",
      "30/30 [==============================] - 2s 67ms/step - loss: 0.6086 - accuracy: 0.6863 - val_loss: 0.6140 - val_accuracy: 0.6739\n",
      "Epoch 32/40\n",
      "30/30 [==============================] - 2s 67ms/step - loss: 0.6089 - accuracy: 0.6834 - val_loss: 0.6115 - val_accuracy: 0.6782\n",
      "Epoch 33/40\n",
      "30/30 [==============================] - 2s 68ms/step - loss: 0.6036 - accuracy: 0.6910 - val_loss: 0.6082 - val_accuracy: 0.6811\n",
      "Epoch 34/40\n",
      "30/30 [==============================] - 2s 68ms/step - loss: 0.6023 - accuracy: 0.6873 - val_loss: 0.6069 - val_accuracy: 0.6779\n",
      "Epoch 35/40\n",
      "30/30 [==============================] - 2s 67ms/step - loss: 0.5947 - accuracy: 0.6919 - val_loss: 0.6037 - val_accuracy: 0.6835\n",
      "Epoch 36/40\n",
      "30/30 [==============================] - 2s 68ms/step - loss: 0.5940 - accuracy: 0.6964 - val_loss: 0.6015 - val_accuracy: 0.6848\n",
      "Epoch 37/40\n",
      "30/30 [==============================] - 2s 67ms/step - loss: 0.5937 - accuracy: 0.6923 - val_loss: 0.5989 - val_accuracy: 0.6883\n",
      "Epoch 38/40\n",
      "30/30 [==============================] - 2s 69ms/step - loss: 0.5921 - accuracy: 0.6940 - val_loss: 0.5973 - val_accuracy: 0.6886\n",
      "Epoch 39/40\n",
      "30/30 [==============================] - 2s 68ms/step - loss: 0.5859 - accuracy: 0.7028 - val_loss: 0.5952 - val_accuracy: 0.6915\n",
      "Epoch 40/40\n",
      "30/30 [==============================] - 2s 68ms/step - loss: 0.5796 - accuracy: 0.7062 - val_loss: 0.5932 - val_accuracy: 0.6906\n",
      "782/782 [==============================] - 3s 3ms/step - loss: 0.5929 - accuracy: 0.6897\n",
      "[0.5929054617881775, 0.6897199749946594]\n"
     ]
    }
   ],
   "source": [
    "#Train model\n",
    "history = model6.fit(partial_X_train,\n",
    "                    partial_y_train,\n",
    "                    epochs=40,\n",
    "                    batch_size=512,\n",
    "                    validation_data=(X_val, y_val),\n",
    "                    verbose=1)\n",
    "#Test model\n",
    "results = model6.evaluate(X_test_enc, y_test)\n",
    "print (results)"
   ]
  },
  {
   "cell_type": "code",
   "execution_count": 121,
   "metadata": {},
   "outputs": [
    {
     "data": {
      "image/png": "[encoded data removed]",
      "text/plain": [
       "<Figure size 720x360 with 2 Axes>"
      ]
     },
     "metadata": {
      "needs_background": "light"
     },
     "output_type": "display_data"
    }
   ],
   "source": [
    "#Plot\n",
    "\n",
    "from plot_keras_history import plot_history\n",
    "import matplotlib.pyplot as plt\n",
    "\n",
    "plot_history(history.history, path=\"standard.png\")\n",
    "plt.show()"
   ]
  },
  {
   "cell_type": "markdown",
   "metadata": {
    "id": "K0npTvFuVt5R"
   },
   "source": [
    "### Adding two extra dense layers"
   ]
  },
  {
   "cell_type": "code",
   "execution_count": 122,
   "metadata": {
    "colab": {
     "base_uri": "https://localhost:8080/"
    },
    "id": "PowyhyRqcdDA",
    "outputId": "81a4d006-5d16-4a75-f589-b27a46c2ebc0"
   },
   "outputs": [
    {
     "name": "stdout",
     "output_type": "stream",
     "text": [
      "Model: \"model_17\"\n",
      "_________________________________________________________________\n",
      "Layer (type)                 Output Shape              Param #   \n",
      "=================================================================\n",
      "input_24 (InputLayer)        [(None, None)]            0         \n",
      "_________________________________________________________________\n",
      "GloVe_Embeddings (Embedding) (None, None, 300)         120000300 \n",
      "_________________________________________________________________\n",
      "global_average_pooling1d_11  (None, 300)               0         \n",
      "_________________________________________________________________\n",
      "dense_41 (Dense)             (None, 16)                4816      \n",
      "_________________________________________________________________\n",
      "dense_42 (Dense)             (None, 8)                 136       \n",
      "_________________________________________________________________\n",
      "dense_43 (Dense)             (None, 4)                 36        \n",
      "_________________________________________________________________\n",
      "dense_44 (Dense)             (None, 1)                 5         \n",
      "=================================================================\n",
      "Total params: 120,005,293\n",
      "Trainable params: 4,993\n",
      "Non-trainable params: 120,000,300\n",
      "_________________________________________________________________\n"
     ]
    }
   ],
   "source": [
    "# Inspect model performance with 2 hidden layers, pre-trained embeddings\n",
    "# your code goes here\n",
    "from keras.layers import Input, Embedding, Dense, LSTM\n",
    "from keras.layers import Input, Lambda, GlobalAveragePooling1D, Dense, Embedding\n",
    "from keras.models import Model\n",
    "from keras.models import Sequential\n",
    "\n",
    "Input = Input(shape=(None,), dtype=\"int32\")\n",
    "Embedding = embeddingLayer(Input)\n",
    "global_average_pooling1d = GlobalAveragePooling1D()(Embedding)\n",
    "Hidden_1 = Dense(16,activation='sigmoid')(global_average_pooling1d)\n",
    "Hidden_2 = Dense(8,activation='sigmoid')(Hidden_1)          # first extra hidden layer\n",
    "Hidden_3 = Dense(4,activation='sigmoid')(Hidden_2)          # second extra hidden layer\n",
    "Output = Dense(1, activation='sigmoid')(Hidden_3)\n",
    "model7 = Model(inputs=[Input], outputs=[Output])  \n",
    "\n",
    "model7.compile(loss='binary_crossentropy', optimizer='adam', metrics = ['accuracy'])\n",
    "model7.summary()\n"
   ]
  },
  {
   "cell_type": "code",
   "execution_count": 123,
   "metadata": {},
   "outputs": [
    {
     "name": "stdout",
     "output_type": "stream",
     "text": [
      "Epoch 1/40\n",
      "30/30 [==============================] - 3s 71ms/step - loss: 0.7712 - accuracy: 0.5007 - val_loss: 0.7459 - val_accuracy: 0.4947\n",
      "Epoch 2/40\n",
      "30/30 [==============================] - 2s 71ms/step - loss: 0.7326 - accuracy: 0.5061 - val_loss: 0.7226 - val_accuracy: 0.4947\n",
      "Epoch 3/40\n",
      "30/30 [==============================] - 2s 70ms/step - loss: 0.7138 - accuracy: 0.5059 - val_loss: 0.7092 - val_accuracy: 0.4947\n",
      "Epoch 4/40\n",
      "30/30 [==============================] - 2s 72ms/step - loss: 0.7043 - accuracy: 0.5039 - val_loss: 0.7020 - val_accuracy: 0.4947\n",
      "Epoch 5/40\n",
      "30/30 [==============================] - 2s 69ms/step - loss: 0.6985 - accuracy: 0.5050 - val_loss: 0.6979 - val_accuracy: 0.4947\n",
      "Epoch 6/40\n",
      "30/30 [==============================] - 2s 69ms/step - loss: 0.6955 - accuracy: 0.5053 - val_loss: 0.6956 - val_accuracy: 0.4947\n",
      "Epoch 7/40\n",
      "30/30 [==============================] - 2s 69ms/step - loss: 0.6945 - accuracy: 0.5019 - val_loss: 0.6944 - val_accuracy: 0.4947\n",
      "Epoch 8/40\n",
      "30/30 [==============================] - 2s 69ms/step - loss: 0.6940 - accuracy: 0.4987 - val_loss: 0.6938 - val_accuracy: 0.4947\n",
      "Epoch 9/40\n",
      "30/30 [==============================] - 2s 69ms/step - loss: 0.6933 - accuracy: 0.5035 - val_loss: 0.6936 - val_accuracy: 0.4947\n",
      "Epoch 10/40\n",
      "30/30 [==============================] - 2s 70ms/step - loss: 0.6930 - accuracy: 0.5075 - val_loss: 0.6934 - val_accuracy: 0.4947\n",
      "Epoch 11/40\n",
      "30/30 [==============================] - 2s 69ms/step - loss: 0.6932 - accuracy: 0.5014 - val_loss: 0.6933 - val_accuracy: 0.4947\n",
      "Epoch 12/40\n",
      "30/30 [==============================] - 2s 69ms/step - loss: 0.6931 - accuracy: 0.5029 - val_loss: 0.6932 - val_accuracy: 0.4947\n",
      "Epoch 13/40\n",
      "30/30 [==============================] - 2s 68ms/step - loss: 0.6930 - accuracy: 0.5074 - val_loss: 0.6932 - val_accuracy: 0.4947\n",
      "Epoch 14/40\n",
      "30/30 [==============================] - 2s 71ms/step - loss: 0.6930 - accuracy: 0.5046 - val_loss: 0.6932 - val_accuracy: 0.4947\n",
      "Epoch 15/40\n",
      "30/30 [==============================] - 2s 69ms/step - loss: 0.6930 - accuracy: 0.5032 - val_loss: 0.6931 - val_accuracy: 0.4947\n",
      "Epoch 16/40\n",
      "30/30 [==============================] - 2s 70ms/step - loss: 0.6929 - accuracy: 0.5081 - val_loss: 0.6931 - val_accuracy: 0.4949\n",
      "Epoch 17/40\n",
      "30/30 [==============================] - 2s 69ms/step - loss: 0.6929 - accuracy: 0.5036 - val_loss: 0.6930 - val_accuracy: 0.4947\n",
      "Epoch 18/40\n",
      "30/30 [==============================] - 2s 70ms/step - loss: 0.6929 - accuracy: 0.5048 - val_loss: 0.6930 - val_accuracy: 0.4963\n",
      "Epoch 19/40\n",
      "30/30 [==============================] - 2s 68ms/step - loss: 0.6929 - accuracy: 0.5170 - val_loss: 0.6929 - val_accuracy: 0.5053\n",
      "Epoch 20/40\n",
      "30/30 [==============================] - 2s 70ms/step - loss: 0.6927 - accuracy: 0.5080 - val_loss: 0.6928 - val_accuracy: 0.4998\n",
      "Epoch 21/40\n",
      "30/30 [==============================] - 2s 68ms/step - loss: 0.6926 - accuracy: 0.5071 - val_loss: 0.6927 - val_accuracy: 0.4993\n",
      "Epoch 22/40\n",
      "30/30 [==============================] - 2s 68ms/step - loss: 0.6923 - accuracy: 0.5118 - val_loss: 0.6925 - val_accuracy: 0.5137\n",
      "Epoch 23/40\n",
      "30/30 [==============================] - 2s 68ms/step - loss: 0.6923 - accuracy: 0.5218 - val_loss: 0.6923 - val_accuracy: 0.5104\n",
      "Epoch 24/40\n",
      "30/30 [==============================] - 2s 68ms/step - loss: 0.6921 - accuracy: 0.5262 - val_loss: 0.6920 - val_accuracy: 0.5276\n",
      "Epoch 25/40\n",
      "30/30 [==============================] - 2s 68ms/step - loss: 0.6916 - accuracy: 0.5322 - val_loss: 0.6918 - val_accuracy: 0.5146\n",
      "Epoch 26/40\n",
      "30/30 [==============================] - 2s 68ms/step - loss: 0.6913 - accuracy: 0.5458 - val_loss: 0.6913 - val_accuracy: 0.5637\n",
      "Epoch 27/40\n",
      "30/30 [==============================] - 2s 68ms/step - loss: 0.6909 - accuracy: 0.5659 - val_loss: 0.6909 - val_accuracy: 0.5629\n",
      "Epoch 28/40\n",
      "30/30 [==============================] - 2s 70ms/step - loss: 0.6904 - accuracy: 0.5856 - val_loss: 0.6903 - val_accuracy: 0.5808\n",
      "Epoch 29/40\n",
      "30/30 [==============================] - 2s 68ms/step - loss: 0.6899 - accuracy: 0.5746 - val_loss: 0.6899 - val_accuracy: 0.5612\n",
      "Epoch 30/40\n",
      "30/30 [==============================] - 2s 68ms/step - loss: 0.6892 - accuracy: 0.5766 - val_loss: 0.6890 - val_accuracy: 0.5816\n",
      "Epoch 31/40\n",
      "30/30 [==============================] - 2s 68ms/step - loss: 0.6885 - accuracy: 0.5802 - val_loss: 0.6882 - val_accuracy: 0.5849\n",
      "Epoch 32/40\n",
      "30/30 [==============================] - 2s 68ms/step - loss: 0.6878 - accuracy: 0.5829 - val_loss: 0.6874 - val_accuracy: 0.5829\n",
      "Epoch 33/40\n",
      "30/30 [==============================] - 2s 67ms/step - loss: 0.6866 - accuracy: 0.5885 - val_loss: 0.6863 - val_accuracy: 0.5907\n",
      "Epoch 34/40\n",
      "30/30 [==============================] - 2s 68ms/step - loss: 0.6856 - accuracy: 0.5930 - val_loss: 0.6850 - val_accuracy: 0.5927\n",
      "Epoch 35/40\n",
      "30/30 [==============================] - 2s 68ms/step - loss: 0.6833 - accuracy: 0.6025 - val_loss: 0.6835 - val_accuracy: 0.5945\n",
      "Epoch 36/40\n",
      "30/30 [==============================] - 2s 69ms/step - loss: 0.6822 - accuracy: 0.6006 - val_loss: 0.6819 - val_accuracy: 0.5964\n",
      "Epoch 37/40\n",
      "30/30 [==============================] - 2s 68ms/step - loss: 0.6799 - accuracy: 0.6028 - val_loss: 0.6799 - val_accuracy: 0.5966\n",
      "Epoch 38/40\n",
      "30/30 [==============================] - 2s 67ms/step - loss: 0.6790 - accuracy: 0.5966 - val_loss: 0.6779 - val_accuracy: 0.5962\n",
      "Epoch 39/40\n",
      "30/30 [==============================] - 2s 67ms/step - loss: 0.6771 - accuracy: 0.6002 - val_loss: 0.6757 - val_accuracy: 0.5995\n",
      "Epoch 40/40\n",
      "30/30 [==============================] - 2s 67ms/step - loss: 0.6733 - accuracy: 0.6077 - val_loss: 0.6734 - val_accuracy: 0.6016\n",
      "782/782 [==============================] - 3s 3ms/step - loss: 0.6736 - accuracy: 0.6005\n",
      "[0.6735561490058899, 0.6005200147628784]\n"
     ]
    }
   ],
   "source": [
    "#Train model\n",
    "history = model7.fit(partial_X_train,\n",
    "                    partial_y_train,\n",
    "                    epochs=40,\n",
    "                    batch_size=512,\n",
    "                    validation_data=(X_val, y_val),\n",
    "                    verbose=1)\n",
    "#Test model\n",
    "results = model7.evaluate(X_test_enc, y_test)\n",
    "print (results)"
   ]
  },
  {
   "cell_type": "code",
   "execution_count": 124,
   "metadata": {},
   "outputs": [
    {
     "data": {
      "image/png": "[encoded data removed]",
      "text/plain": [
       "<Figure size 720x360 with 2 Axes>"
      ]
     },
     "metadata": {
      "needs_background": "light"
     },
     "output_type": "display_data"
    }
   ],
   "source": [
    "#Plot\n",
    "\n",
    "from plot_keras_history import plot_history\n",
    "import matplotlib.pyplot as plt\n",
    "\n",
    "plot_history(history.history, path=\"standard.png\")\n",
    "plt.show()"
   ]
  },
  {
   "cell_type": "markdown",
   "metadata": {
    "id": "XisS32PaTATf"
   },
   "source": [
    "These two experiments show that adding extra dense layers can slightly improve accuracy over model 3-1.\n",
    "\n",
    "---\n",
    "\n"
   ]
  },
  {
   "cell_type": "markdown",
   "metadata": {
    "id": "CrfC9Mu-RHID"
   },
   "source": [
    "#  Model 5: CNN for Text Classification"
   ]
  },
  {
   "cell_type": "markdown",
   "metadata": {
    "id": "zjOJrGCzwGM5"
   },
   "source": [
    "##  Model 5-1: Basic CNN model for Text Classification "
   ]
  },
  {
   "cell_type": "code",
   "execution_count": 125,
   "metadata": {
    "colab": {
     "base_uri": "https://localhost:8080/"
    },
    "id": "rXBstOw0sCYF",
    "outputId": "4622401d-a43b-4c7b-8fcf-ba48ab23413d"
   },
   "outputs": [
    {
     "name": "stdout",
     "output_type": "stream",
     "text": [
      "Model: \"model_18\"\n",
      "_________________________________________________________________\n",
      "Layer (type)                 Output Shape              Param #   \n",
      "=================================================================\n",
      "input_25 (InputLayer)        [(None, None)]            0         \n",
      "_________________________________________________________________\n",
      "embedding_11 (Embedding)     (None, None, 300)         3000000   \n",
      "_________________________________________________________________\n",
      "conv1d_11 (Conv1D)           (None, None, 128)         192128    \n",
      "_________________________________________________________________\n",
      "global_average_pooling1d_12  (None, 128)               0         \n",
      "_________________________________________________________________\n",
      "dense_45 (Dense)             (None, 10)                1290      \n",
      "_________________________________________________________________\n",
      "dense_46 (Dense)             (None, 1)                 11        \n",
      "=================================================================\n",
      "Total params: 3,193,429\n",
      "Trainable params: 3,193,429\n",
      "Non-trainable params: 0\n",
      "_________________________________________________________________\n"
     ]
    }
   ],
   "source": [
    "from keras.layers import Input, Embedding, Dense, LSTM\n",
    "from keras.layers import Input, Lambda, GlobalAveragePooling1D, Dense, Embedding, MaxPooling1D\n",
    "from keras.models import Model\n",
    "from keras.models import Sequential\n",
    "\n",
    "hidden_layer=16\n",
    "\n",
    "# your code goes here\n",
    "embedding_dim = 100\n",
    "\n",
    "#model = Sequential()\n",
    "Input = Input(shape=(None,), dtype=\"int32\")\n",
    "Embedding = Embedding(VOCAB_SIZE, EMBED_SIZE, input_length=MAX_SEQUENCE_LENGTH, mask_zero=True)(Input)\n",
    "conv1d = Conv1D(filters = 128,kernel_size= 5, activation='relu')(Embedding)\n",
    "global_max_pooling1d = GlobalAveragePooling1D()(conv1d)\n",
    "Hidden = Dense(10, activation='relu')(global_max_pooling1d)\n",
    "Output = Dense(1, activation='sigmoid')(Hidden)\n",
    "model8 = Model(inputs=[Input], outputs=[Output])\n",
    "model8.compile(loss='binary_crossentropy', optimizer='adam', metrics = ['accuracy'])\n",
    "\n",
    "model8.summary()\n"
   ]
  },
  {
   "cell_type": "code",
   "execution_count": 126,
   "metadata": {
    "id": "-G5MrDPJFBzK"
   },
   "outputs": [
    {
     "name": "stdout",
     "output_type": "stream",
     "text": [
      "Epoch 1/40\n",
      "30/30 [==============================] - 35s 1s/step - loss: 0.6877 - accuracy: 0.5508 - val_loss: 0.6100 - val_accuracy: 0.7468\n",
      "Epoch 2/40\n",
      "30/30 [==============================] - 34s 1s/step - loss: 0.5205 - accuracy: 0.7997 - val_loss: 0.3380 - val_accuracy: 0.8659\n",
      "Epoch 3/40\n",
      "30/30 [==============================] - 34s 1s/step - loss: 0.2685 - accuracy: 0.8972 - val_loss: 0.2917 - val_accuracy: 0.8823\n",
      "Epoch 4/40\n",
      "30/30 [==============================] - 34s 1s/step - loss: 0.1767 - accuracy: 0.9354 - val_loss: 0.2954 - val_accuracy: 0.8842\n",
      "Epoch 5/40\n",
      "30/30 [==============================] - 34s 1s/step - loss: 0.1278 - accuracy: 0.9606 - val_loss: 0.3165 - val_accuracy: 0.8833\n",
      "Epoch 6/40\n",
      "30/30 [==============================] - 34s 1s/step - loss: 0.0922 - accuracy: 0.9751 - val_loss: 0.3560 - val_accuracy: 0.8777\n",
      "Epoch 7/40\n",
      "30/30 [==============================] - 34s 1s/step - loss: 0.0692 - accuracy: 0.9827 - val_loss: 0.3857 - val_accuracy: 0.8745\n",
      "Epoch 8/40\n",
      "30/30 [==============================] - 34s 1s/step - loss: 0.0451 - accuracy: 0.9916 - val_loss: 0.4277 - val_accuracy: 0.8716\n",
      "Epoch 9/40\n",
      "30/30 [==============================] - 34s 1s/step - loss: 0.0348 - accuracy: 0.9951 - val_loss: 0.4751 - val_accuracy: 0.8692\n",
      "Epoch 10/40\n",
      "30/30 [==============================] - 34s 1s/step - loss: 0.0255 - accuracy: 0.9966 - val_loss: 0.5174 - val_accuracy: 0.8672\n",
      "Epoch 11/40\n",
      "30/30 [==============================] - 34s 1s/step - loss: 0.0173 - accuracy: 0.9991 - val_loss: 0.5591 - val_accuracy: 0.8657\n",
      "Epoch 12/40\n",
      "30/30 [==============================] - 34s 1s/step - loss: 0.0143 - accuracy: 0.9990 - val_loss: 0.5984 - val_accuracy: 0.8647\n",
      "Epoch 13/40\n",
      "30/30 [==============================] - 34s 1s/step - loss: 0.0096 - accuracy: 0.9997 - val_loss: 0.6355 - val_accuracy: 0.8646\n",
      "Epoch 14/40\n",
      "30/30 [==============================] - 34s 1s/step - loss: 0.0071 - accuracy: 0.9998 - val_loss: 0.6708 - val_accuracy: 0.8617\n",
      "Epoch 15/40\n",
      "30/30 [==============================] - 34s 1s/step - loss: 0.0057 - accuracy: 0.9997 - val_loss: 0.7024 - val_accuracy: 0.8617\n",
      "Epoch 16/40\n",
      "30/30 [==============================] - 34s 1s/step - loss: 0.0045 - accuracy: 0.9998 - val_loss: 0.7300 - val_accuracy: 0.8618\n",
      "Epoch 17/40\n",
      "30/30 [==============================] - 34s 1s/step - loss: 0.0036 - accuracy: 0.9998 - val_loss: 0.7560 - val_accuracy: 0.8607\n",
      "Epoch 18/40\n",
      "30/30 [==============================] - 34s 1s/step - loss: 0.0028 - accuracy: 1.0000 - val_loss: 0.7792 - val_accuracy: 0.8615\n",
      "Epoch 19/40\n",
      "30/30 [==============================] - 34s 1s/step - loss: 0.0025 - accuracy: 0.9997 - val_loss: 0.8028 - val_accuracy: 0.8603\n",
      "Epoch 20/40\n",
      "30/30 [==============================] - 34s 1s/step - loss: 0.0022 - accuracy: 0.9999 - val_loss: 0.8232 - val_accuracy: 0.8595\n",
      "Epoch 21/40\n",
      "30/30 [==============================] - 34s 1s/step - loss: 0.0020 - accuracy: 1.0000 - val_loss: 0.8421 - val_accuracy: 0.8596\n",
      "Epoch 22/40\n",
      "30/30 [==============================] - 34s 1s/step - loss: 0.0016 - accuracy: 1.0000 - val_loss: 0.8604 - val_accuracy: 0.8597\n",
      "Epoch 23/40\n",
      "30/30 [==============================] - 34s 1s/step - loss: 0.0013 - accuracy: 1.0000 - val_loss: 0.8774 - val_accuracy: 0.8590\n",
      "Epoch 24/40\n",
      "30/30 [==============================] - 34s 1s/step - loss: 0.0012 - accuracy: 1.0000 - val_loss: 0.8938 - val_accuracy: 0.8592\n",
      "Epoch 25/40\n",
      "30/30 [==============================] - 34s 1s/step - loss: 0.0010 - accuracy: 1.0000 - val_loss: 0.9086 - val_accuracy: 0.8587\n",
      "Epoch 26/40\n",
      "30/30 [==============================] - 34s 1s/step - loss: 9.3495e-04 - accuracy: 1.0000 - val_loss: 0.9234 - val_accuracy: 0.8583\n",
      "Epoch 27/40\n",
      "30/30 [==============================] - 34s 1s/step - loss: 8.3597e-04 - accuracy: 1.0000 - val_loss: 0.9834 - val_accuracy: 0.8592\n",
      "Epoch 28/40\n",
      "30/30 [==============================] - 34s 1s/step - loss: 6.3888e-04 - accuracy: 1.0000 - val_loss: 1.0258 - val_accuracy: 0.8585\n",
      "Epoch 29/40\n",
      "30/30 [==============================] - 34s 1s/step - loss: 5.3907e-04 - accuracy: 1.0000 - val_loss: 1.0624 - val_accuracy: 0.8584\n",
      "Epoch 30/40\n",
      "30/30 [==============================] - 35s 1s/step - loss: 3.6801e-04 - accuracy: 1.0000 - val_loss: 1.0904 - val_accuracy: 0.8583\n",
      "Epoch 31/40\n",
      "30/30 [==============================] - 34s 1s/step - loss: 3.1705e-04 - accuracy: 1.0000 - val_loss: 1.1176 - val_accuracy: 0.8580\n",
      "Epoch 32/40\n",
      "30/30 [==============================] - 34s 1s/step - loss: 2.4459e-04 - accuracy: 1.0000 - val_loss: 1.1423 - val_accuracy: 0.8582\n",
      "Epoch 33/40\n",
      "30/30 [==============================] - 34s 1s/step - loss: 2.1308e-04 - accuracy: 1.0000 - val_loss: 1.1669 - val_accuracy: 0.8579\n",
      "Epoch 34/40\n",
      "30/30 [==============================] - 34s 1s/step - loss: 1.7710e-04 - accuracy: 1.0000 - val_loss: 1.1891 - val_accuracy: 0.8578\n",
      "Epoch 35/40\n",
      "30/30 [==============================] - 34s 1s/step - loss: 1.4728e-04 - accuracy: 1.0000 - val_loss: 1.2086 - val_accuracy: 0.8574\n",
      "Epoch 36/40\n",
      "30/30 [==============================] - 34s 1s/step - loss: 1.2563e-04 - accuracy: 1.0000 - val_loss: 1.2322 - val_accuracy: 0.8576\n",
      "Epoch 37/40\n",
      "30/30 [==============================] - 34s 1s/step - loss: 1.2259e-04 - accuracy: 1.0000 - val_loss: 1.2539 - val_accuracy: 0.8579\n",
      "Epoch 38/40\n",
      "30/30 [==============================] - 34s 1s/step - loss: 1.1028e-04 - accuracy: 1.0000 - val_loss: 1.2705 - val_accuracy: 0.8574\n",
      "Epoch 39/40\n",
      "30/30 [==============================] - 34s 1s/step - loss: 9.3427e-05 - accuracy: 1.0000 - val_loss: 1.2849 - val_accuracy: 0.8572\n",
      "Epoch 40/40\n",
      "30/30 [==============================] - 34s 1s/step - loss: 7.2755e-05 - accuracy: 1.0000 - val_loss: 1.3043 - val_accuracy: 0.8570\n",
      "782/782 [==============================] - 18s 23ms/step - loss: 1.4010 - accuracy: 0.8424\n",
      "[1.4009678363800049, 0.8424000144004822]\n"
     ]
    }
   ],
   "source": [
    "#Train model\n",
    "history = model8.fit(partial_X_train,\n",
    "                    partial_y_train,\n",
    "                    epochs=40,\n",
    "                    batch_size=512,\n",
    "                    validation_data=(X_val, y_val),\n",
    "                    verbose=1)\n",
    "#Test model\n",
    "results = model8.evaluate(X_test_enc, y_test)\n",
    "print (results)"
   ]
  },
  {
   "cell_type": "code",
   "execution_count": 127,
   "metadata": {
    "colab": {
     "base_uri": "https://localhost:8080/",
     "height": 295
    },
    "id": "8nvkxunysjhr",
    "outputId": "58e88f8d-acd7-4764-d869-35254424e0f0"
   },
   "outputs": [
    {
     "data": {
      "image/png": "[encoded data removed]",
      "text/plain": [
       "<Figure size 720x360 with 2 Axes>"
      ]
     },
     "metadata": {
      "needs_background": "light"
     },
     "output_type": "display_data"
    }
   ],
   "source": [
    "# your code goes here\n",
    "\n",
    "from plot_keras_history import plot_history\n",
    "import matplotlib.pyplot as plt\n",
    "\n",
    "plot_history(history.history, path=\"standard.png\")\n",
    "plt.show()\n"
   ]
  },
  {
   "cell_type": "markdown",
   "metadata": {
    "id": "XkQMLxw-wWG6"
   },
   "source": [
    "## Model 5-2: Adding extra convolutional layer"
   ]
  },
  {
   "cell_type": "code",
   "execution_count": 128,
   "metadata": {
    "colab": {
     "base_uri": "https://localhost:8080/"
    },
    "id": "7nvF662HOoqg",
    "outputId": "9fc4792d-1eb6-4c12-e2a3-8a6c2d7935eb"
   },
   "outputs": [
    {
     "name": "stdout",
     "output_type": "stream",
     "text": [
      "Model: \"model_19\"\n",
      "_________________________________________________________________\n",
      "Layer (type)                 Output Shape              Param #   \n",
      "=================================================================\n",
      "input_26 (InputLayer)        [(None, None)]            0         \n",
      "_________________________________________________________________\n",
      "embedding_12 (Embedding)     (None, None, 300)         3000000   \n",
      "_________________________________________________________________\n",
      "conv1d_12 (Conv1D)           (None, None, 128)         192128    \n",
      "_________________________________________________________________\n",
      "conv1d_13 (Conv1D)           (None, None, 128)         49280     \n",
      "_________________________________________________________________\n",
      "max_pooling1d_5 (MaxPooling1 (None, None, 128)         0         \n",
      "_________________________________________________________________\n",
      "dense_47 (Dense)             (None, None, 10)          1290      \n",
      "_________________________________________________________________\n",
      "dense_48 (Dense)             (None, None, 1)           11        \n",
      "=================================================================\n",
      "Total params: 3,242,709\n",
      "Trainable params: 3,242,709\n",
      "Non-trainable params: 0\n",
      "_________________________________________________________________\n"
     ]
    }
   ],
   "source": [
    "# your code goes here\n",
    "from keras.layers import Input, Embedding, Dense, LSTM\n",
    "from keras.layers import Input, Lambda, GlobalAveragePooling1D, Dense, Embedding, MaxPooling1D\n",
    "from keras.layers.convolutional import Conv1D \n",
    "from keras.models import Model\n",
    "from keras.models import Sequential\n",
    "\n",
    "hidden_layer=16\n",
    "\n",
    "# your code goes here\n",
    "embedding_dim = 100\n",
    "\n",
    "#model = Sequential()\n",
    "Input = Input(shape=(None,), dtype=\"int32\")\n",
    "Embedding = Embedding(VOCAB_SIZE, EMBED_SIZE, input_length=MAX_SEQUENCE_LENGTH, mask_zero=True)(Input)\n",
    "conv1d = Conv1D(filters = 128,kernel_size= 5, activation='relu')(Embedding)\n",
    "conv1d2 = Conv1D(filters = 128,kernel_size= 3, activation='relu')(conv1d)\n",
    "global_max_pooling1d = MaxPooling1D()(conv1d2)\n",
    "Hidden = Dense(10, activation='relu')(global_max_pooling1d)\n",
    "Output = Dense(1, activation='sigmoid')(Hidden)\n",
    "model9 = Model(inputs=[Input], outputs=[Output])\n",
    "model9.compile(loss='binary_crossentropy', optimizer='adam', metrics = ['accuracy'])\n",
    "\n",
    "model9.summary()\n"
   ]
  },
  {
   "cell_type": "code",
   "execution_count": 129,
   "metadata": {
    "id": "hx8JLl4xPlua"
   },
   "outputs": [
    {
     "name": "stdout",
     "output_type": "stream",
     "text": [
      "Epoch 1/40\n",
      "30/30 [==============================] - 31s 1s/step - loss: 0.6919 - accuracy: 0.5152 - val_loss: 0.6734 - val_accuracy: 0.5776\n",
      "Epoch 2/40\n",
      "30/30 [==============================] - 31s 1s/step - loss: 0.6579 - accuracy: 0.5967 - val_loss: 0.6436 - val_accuracy: 0.6084\n",
      "Epoch 3/40\n",
      "30/30 [==============================] - 35s 1s/step - loss: 0.6275 - accuracy: 0.6215 - val_loss: 0.6392 - val_accuracy: 0.6106\n",
      "Epoch 4/40\n",
      "30/30 [==============================] - 34s 1s/step - loss: 0.6200 - accuracy: 0.6281 - val_loss: 0.6417 - val_accuracy: 0.6029\n",
      "Epoch 5/40\n",
      "30/30 [==============================] - 35s 1s/step - loss: 0.6155 - accuracy: 0.6257 - val_loss: 0.6437 - val_accuracy: 0.6037\n",
      "Epoch 6/40\n",
      "30/30 [==============================] - 33s 1s/step - loss: 0.6103 - accuracy: 0.6342 - val_loss: 0.6426 - val_accuracy: 0.6051\n",
      "Epoch 7/40\n",
      "30/30 [==============================] - 32s 1s/step - loss: 0.6023 - accuracy: 0.6423 - val_loss: 0.6419 - val_accuracy: 0.6129\n",
      "Epoch 8/40\n",
      "30/30 [==============================] - 29s 986ms/step - loss: 0.5936 - accuracy: 0.6506 - val_loss: 0.6464 - val_accuracy: 0.6120\n",
      "Epoch 9/40\n",
      "30/30 [==============================] - 29s 985ms/step - loss: 0.5855 - accuracy: 0.6588 - val_loss: 0.6612 - val_accuracy: 0.5995\n",
      "Epoch 10/40\n",
      "30/30 [==============================] - 29s 982ms/step - loss: 0.5775 - accuracy: 0.6646 - val_loss: 0.6538 - val_accuracy: 0.6047\n",
      "Epoch 11/40\n",
      "30/30 [==============================] - 29s 980ms/step - loss: 0.5554 - accuracy: 0.6824 - val_loss: 0.6657 - val_accuracy: 0.6045\n",
      "Epoch 12/40\n",
      "30/30 [==============================] - 29s 984ms/step - loss: 0.5380 - accuracy: 0.6955 - val_loss: 0.6794 - val_accuracy: 0.6052\n",
      "Epoch 13/40\n",
      "30/30 [==============================] - 29s 982ms/step - loss: 0.5152 - accuracy: 0.7081 - val_loss: 0.7079 - val_accuracy: 0.6034\n",
      "Epoch 14/40\n",
      "30/30 [==============================] - 30s 993ms/step - loss: 0.4962 - accuracy: 0.7195 - val_loss: 0.7211 - val_accuracy: 0.5970\n",
      "Epoch 15/40\n",
      "30/30 [==============================] - 30s 1s/step - loss: 0.4672 - accuracy: 0.7348 - val_loss: 0.7519 - val_accuracy: 0.5936\n",
      "Epoch 16/40\n",
      "30/30 [==============================] - 30s 1s/step - loss: 0.4395 - accuracy: 0.7536 - val_loss: 0.7883 - val_accuracy: 0.5973\n",
      "Epoch 17/40\n",
      "30/30 [==============================] - 30s 1s/step - loss: 0.4142 - accuracy: 0.7672 - val_loss: 0.8267 - val_accuracy: 0.5939\n",
      "Epoch 18/40\n",
      "30/30 [==============================] - 30s 995ms/step - loss: 0.3967 - accuracy: 0.7765 - val_loss: 0.8655 - val_accuracy: 0.5814\n",
      "Epoch 19/40\n",
      "30/30 [==============================] - 30s 996ms/step - loss: 0.3755 - accuracy: 0.7862 - val_loss: 0.9069 - val_accuracy: 0.5924\n",
      "Epoch 20/40\n",
      "30/30 [==============================] - 30s 996ms/step - loss: 0.3549 - accuracy: 0.7990 - val_loss: 0.9625 - val_accuracy: 0.5844\n",
      "Epoch 21/40\n",
      "30/30 [==============================] - 30s 997ms/step - loss: 0.3416 - accuracy: 0.7965 - val_loss: 1.0006 - val_accuracy: 0.5872\n",
      "Epoch 22/40\n",
      "30/30 [==============================] - 30s 996ms/step - loss: 0.3268 - accuracy: 0.8070 - val_loss: 1.0465 - val_accuracy: 0.5890\n",
      "Epoch 23/40\n",
      "30/30 [==============================] - 30s 994ms/step - loss: 0.3104 - accuracy: 0.8170 - val_loss: 1.0866 - val_accuracy: 0.5880\n",
      "Epoch 24/40\n",
      "30/30 [==============================] - 30s 997ms/step - loss: 0.2976 - accuracy: 0.8196 - val_loss: 1.1387 - val_accuracy: 0.5875\n",
      "Epoch 25/40\n",
      "30/30 [==============================] - 30s 994ms/step - loss: 0.2885 - accuracy: 0.8267 - val_loss: 1.1955 - val_accuracy: 0.5831\n",
      "Epoch 26/40\n",
      "30/30 [==============================] - 30s 1s/step - loss: 0.2793 - accuracy: 0.8299 - val_loss: 1.2431 - val_accuracy: 0.5816\n",
      "Epoch 27/40\n",
      "30/30 [==============================] - 30s 998ms/step - loss: 0.2734 - accuracy: 0.8295 - val_loss: 1.2893 - val_accuracy: 0.5871\n",
      "Epoch 28/40\n",
      "30/30 [==============================] - 30s 1s/step - loss: 0.2653 - accuracy: 0.8353 - val_loss: 1.3431 - val_accuracy: 0.5881\n",
      "Epoch 29/40\n",
      "30/30 [==============================] - 30s 997ms/step - loss: 0.2572 - accuracy: 0.8361 - val_loss: 1.3962 - val_accuracy: 0.5872\n",
      "Epoch 30/40\n",
      "30/30 [==============================] - 30s 997ms/step - loss: 0.2530 - accuracy: 0.8403 - val_loss: 1.4475 - val_accuracy: 0.5800\n",
      "Epoch 31/40\n",
      "30/30 [==============================] - 30s 999ms/step - loss: 0.2447 - accuracy: 0.8425 - val_loss: 1.4893 - val_accuracy: 0.5801\n",
      "Epoch 32/40\n",
      "30/30 [==============================] - 30s 1s/step - loss: 0.2445 - accuracy: 0.8425 - val_loss: 1.5439 - val_accuracy: 0.5872\n",
      "Epoch 33/40\n",
      "30/30 [==============================] - 30s 997ms/step - loss: 0.2391 - accuracy: 0.8423 - val_loss: 1.5831 - val_accuracy: 0.5841\n",
      "Epoch 34/40\n",
      "30/30 [==============================] - 30s 998ms/step - loss: 0.2337 - accuracy: 0.8483 - val_loss: 1.6293 - val_accuracy: 0.5795\n",
      "Epoch 35/40\n",
      "30/30 [==============================] - 30s 997ms/step - loss: 0.2314 - accuracy: 0.8452 - val_loss: 1.6854 - val_accuracy: 0.5844\n",
      "Epoch 36/40\n",
      "30/30 [==============================] - 30s 997ms/step - loss: 0.2323 - accuracy: 0.8423 - val_loss: 1.7299 - val_accuracy: 0.5849\n",
      "Epoch 37/40\n",
      "30/30 [==============================] - 30s 997ms/step - loss: 0.2274 - accuracy: 0.8493 - val_loss: 1.7711 - val_accuracy: 0.5772\n",
      "Epoch 38/40\n",
      "30/30 [==============================] - 30s 994ms/step - loss: 0.2281 - accuracy: 0.8535 - val_loss: 1.8003 - val_accuracy: 0.5774\n",
      "Epoch 39/40\n",
      "30/30 [==============================] - 30s 997ms/step - loss: 0.2302 - accuracy: 0.8438 - val_loss: 1.8359 - val_accuracy: 0.5773\n",
      "Epoch 40/40\n",
      "30/30 [==============================] - 30s 994ms/step - loss: 0.2246 - accuracy: 0.8486 - val_loss: 1.8847 - val_accuracy: 0.5794\n",
      "782/782 [==============================] - 12s 15ms/step - loss: 1.9309 - accuracy: 0.5702\n",
      "[1.9308807849884033, 0.5701655745506287]\n"
     ]
    }
   ],
   "source": [
    "#Train model\n",
    "history = model9.fit(partial_X_train,\n",
    "                    partial_y_train,\n",
    "                    epochs=40,\n",
    "                    batch_size=512,\n",
    "                    validation_data=(X_val, y_val),\n",
    "                    verbose=1)\n",
    "#Test model\n",
    "results = model9.evaluate(X_test_enc, y_test)\n",
    "print (results)"
   ]
  },
  {
   "cell_type": "code",
   "execution_count": 130,
   "metadata": {
    "colab": {
     "base_uri": "https://localhost:8080/",
     "height": 295
    },
    "id": "T2-fqNHiRRIe",
    "outputId": "9239802b-789a-4cab-8770-96e91aacc15e"
   },
   "outputs": [
    {
     "data": {
      "image/png": "[encoded data removed]",
      "text/plain": [
       "<Figure size 720x360 with 2 Axes>"
      ]
     },
     "metadata": {
      "needs_background": "light"
     },
     "output_type": "display_data"
    }
   ],
   "source": [
    "# your code goes here\n",
    "from plot_keras_history import plot_history\n",
    "import matplotlib.pyplot as plt\n",
    "\n",
    "plot_history(history.history, path=\"standard.png\")\n",
    "plt.show()\n",
    "\n",
    "plt.show()"
   ]
  },
  {
   "cell_type": "markdown",
   "metadata": {
    "id": "gn2GSV4ioyO2"
   },
   "source": [
    "\n",
    "\n",
    "---\n",
    "\n"
   ]
  }
 ],
 "metadata": {
  "accelerator": "GPU",
  "colab": {
   "collapsed_sections": [
    "c8gIzXncfaJK",
    "whgIIB5ggjna",
    "i_9a_rybhG5J",
    "a7OwOQw4h8RX",
    "--020hfG6rN2",
    "7GdY2-64YG1B",
    "vdZ4nl08vp9A",
    "xZ1KWFKvcagS",
    "M-bZ5SCHiIMl"
   ],
   "machine_shape": "hm",
   "name": "Lab_4_Text_Classification_FFNN&CNN&LSTM.ipynb",
   "provenance": []
  },
  "kernelspec": {
   "display_name": "Python 3",
   "language": "python",
   "name": "python3"
  },
  "language_info": {
   "codemirror_mode": {
    "name": "ipython",
    "version": 3
   },
   "file_extension": ".py",
   "mimetype": "text/x-python",
   "name": "python",
   "nbconvert_exporter": "python",
   "pygments_lexer": "ipython3",
   "version": "3.8.5"
  }
 },
 "nbformat": 4,
 "nbformat_minor": 1
}
