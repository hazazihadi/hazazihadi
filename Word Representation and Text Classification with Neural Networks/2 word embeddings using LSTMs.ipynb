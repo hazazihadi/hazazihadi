{
 "cells": [
  {
   "cell_type": "markdown",
   "metadata": {
    "id": "t_yvQBKrD8Se"
   },
   "source": [
    "# **ECS 7001 - NN & NNLP**\n",
    "\n",
    "## **Lab 3: LSTM for Text Classification**\n",
    "\n",
    "<br>\n",
    "\n"
   ]
  },
  {
   "cell_type": "markdown",
   "metadata": {
    "id": "w6Pi5uvTLRCo"
   },
   "source": [
    "### **1. Getting the Dataset**\n",
    "\n",
    "imdb dataset. This is a dataset of 25,000 movie reviews from IMDB, labeled by sentimen - positive (1) or negative (0). \n",
    "<br>\n",
    "\n"
   ]
  },
  {
   "cell_type": "code",
   "execution_count": 1,
   "metadata": {
    "id": "xn7sWMG-KoBV"
   },
   "outputs": [],
   "source": [
    "import keras\n",
    "import tensorflow as tf\n",
    "import numpy as np\n",
    "\n",
    "imdb = keras.datasets.imdb"
   ]
  },
  {
   "cell_type": "code",
   "execution_count": 2,
   "metadata": {
    "id": "yCH0PmPcL83f"
   },
   "outputs": [],
   "source": [
    "%%capture\n",
    "\n",
    "# we'll use the most frequent 10000 words in the vocabulary\n",
    "VOCAB_SIZE = 10000\n",
    "\n",
    "# 0 is reserved for ‘<PAD>’, 1 for ‘<START>’ and 2 for ‘<UNK>’ i.e. words not in vocabulary\n",
    "# the documentation says index_from = 3 but actually uses the value as an offset. The words\n",
    "# in the dictionary are indexed from 1 by default so, saying index_from=3 means any actual\n",
    "# words would start from 4 (1+3) and index 3 will be left unused. We use index_from=offset=2 to avoid this\n",
    "# If you want to explore this further, you may look up the source_code for load_data here\n",
    "# https://github.com/tensorflow/tensorflow/blob/v2.4.1/tensorflow/python/keras/datasets/imdb.py#L31-L162\n",
    "OFFSET = 2\n",
    "\n",
    "# for more information on the load_data method, type(help(load_data))\n",
    "(train_data,train_labels),(test_data,test_labels) = imdb.load_data(num_words=VOCAB_SIZE, index_from=OFFSET)\n"
   ]
  },
  {
   "cell_type": "code",
   "execution_count": 3,
   "metadata": {},
   "outputs": [
    {
     "name": "stdout",
     "output_type": "stream",
     "text": [
      "(25000,)\n"
     ]
    }
   ],
   "source": [
    "print(train_data.shape)"
   ]
  },
  {
   "cell_type": "markdown",
   "metadata": {
    "id": "lVgaL5JIYBRm"
   },
   "source": [
    "***Sanity Check***\n",
    "\n",
    "Each instance in the training data is a list of word indices representing the words in a movie review.\n",
    "\n",
    "Each label is 1 if that review is positive, else 0."
   ]
  },
  {
   "cell_type": "code",
   "execution_count": 4,
   "metadata": {
    "colab": {
     "base_uri": "https://localhost:8080/"
    },
    "executionInfo": {
     "elapsed": 535,
     "status": "ok",
     "timestamp": 1612426807353,
     "user": {
      "displayName": "Alexandra Uma",
      "photoUrl": "",
      "userId": "13897406980737088185"
     },
     "user_tz": 0
    },
    "id": "APFWiEejv9i5",
    "outputId": "0ce0bac2-59a5-4787-ddd8-9bb2582a32e1"
   },
   "outputs": [
    {
     "name": "stdout",
     "output_type": "stream",
     "text": [
      "Sample review: [1, 13, 21, 15, 42, 529, 972, 1621, 1384, 64, 457, 4467, 65, 3940, 3, 172, 35, 255, 4, 24, 99, 42, 837, 111, 49, 669, 2, 8, 34, 479, 283, 4, 149, 3, 171, 111, 166, 2, 335, 384, 38, 3, 171, 4535, 1110, 16, 545, 37, 12, 446, 3, 191, 49, 15, 5, 146, 2024, 18, 13, 21, 3, 1919, 4612, 468, 3, 21, 70, 86, 11, 15, 42, 529, 37, 75, 14, 12, 1246, 3, 21, 16, 514, 16, 11, 15, 625, 17, 2, 4, 61, 385, 11, 7, 315, 7, 105, 4, 3, 2222, 5243, 15, 479, 65, 3784, 32, 3, 129, 11, 15, 37, 618, 4, 24, 123, 50, 35, 134, 47, 24, 1414, 32, 5, 21, 11, 214, 27, 76, 51, 4, 13, 406, 15, 81, 2, 7, 3, 106, 116, 5951, 14, 255, 3, 2, 6, 3765, 4, 722, 35, 70, 42, 529, 475, 25, 399, 316, 45, 6, 3, 2, 1028, 12, 103, 87, 3, 380, 14, 296, 97, 31, 2070, 55, 25, 140, 5, 193, 7485, 17, 3, 225, 21, 20, 133, 475, 25, 479, 4, 143, 29, 5534, 17, 50, 35, 27, 223, 91, 24, 103, 3, 225, 64, 15, 37, 1333, 87, 11, 15, 282, 4, 15, 4471, 112, 102, 31, 14, 15, 5344, 18, 177, 31]\n"
     ]
    }
   ],
   "source": [
    "print('Sample review:', train_data[0])"
   ]
  },
  {
   "cell_type": "code",
   "execution_count": 5,
   "metadata": {
    "colab": {
     "base_uri": "https://localhost:8080/"
    },
    "executionInfo": {
     "elapsed": 448,
     "status": "ok",
     "timestamp": 1612426812144,
     "user": {
      "displayName": "Alexandra Uma",
      "photoUrl": "",
      "userId": "13897406980737088185"
     },
     "user_tz": 0
    },
    "id": "CwgeiaF7n_lX",
    "outputId": "d16964a3-a7ed-4581-ee65-f051bdfaf72c"
   },
   "outputs": [
    {
     "name": "stdout",
     "output_type": "stream",
     "text": [
      "\n",
      " Sample label: 1\n"
     ]
    }
   ],
   "source": [
    "print('\\n Sample label:', train_labels[0])"
   ]
  },
  {
   "cell_type": "markdown",
   "metadata": {
    "id": "4c14vElNvMGX"
   },
   "source": [
    "### **2. Readying the Inputs for the LSTM**\n",
    "\n",
    "The movie reviews are of different lengths. The standard way of dealing with varying length inputs is to ***pad*** or ***truncate*** each sentence to a fixed length (which we choose heuristically). \n",
    "\n"
   ]
  },
  {
   "cell_type": "code",
   "execution_count": 6,
   "metadata": {
    "id": "7XPwN_COagT9"
   },
   "outputs": [],
   "source": [
    "from keras.preprocessing.sequence import pad_sequences\n",
    "\n",
    "\n",
    "MAX_LENGTH = 500\n",
    "\n",
    "# YOUR CODE GOES HERE\n",
    "padded_train_data = tf.keras.preprocessing.sequence.pad_sequences(\n",
    "                    train_data, maxlen=MAX_LENGTH, dtype='int32', padding='pre',\n",
    "                    truncating='pre', value=0.)\n",
    "\n",
    "padded_test_data = tf.keras.preprocessing.sequence.pad_sequences(\n",
    "                    test_data, maxlen=MAX_LENGTH, dtype='int32', padding='pre',\n",
    "                    truncating='pre', value=0)\n"
   ]
  },
  {
   "cell_type": "code",
   "execution_count": 7,
   "metadata": {
    "colab": {
     "base_uri": "https://localhost:8080/"
    },
    "executionInfo": {
     "elapsed": 5303,
     "status": "ok",
     "timestamp": 1612381274068,
     "user": {
      "displayName": "Alexandra Uma",
      "photoUrl": "",
      "userId": "13897406980737088185"
     },
     "user_tz": 0
    },
    "id": "DZb7keBfdKc_",
    "outputId": "e73d40c4-1d27-4a0c-c256-1b0604ab6ee6"
   },
   "outputs": [
    {
     "name": "stdout",
     "output_type": "stream",
     "text": [
      "Length of sample train_data before preprocessing: 218\n",
      "Length of sample train_data after preprocessing: 500\n",
      "Sample train data: [   0    0    0    0    0    0    0    0    0    0    0    0    0    0\n",
      "    0    0    0    0    0    0    0    0    0    0    0    0    0    0\n",
      "    0    0    0    0    0    0    0    0    0    0    0    0    0    0\n",
      "    0    0    0    0    0    0    0    0    0    0    0    0    0    0\n",
      "    0    0    0    0    0    0    0    0    0    0    0    0    0    0\n",
      "    0    0    0    0    0    0    0    0    0    0    0    0    0    0\n",
      "    0    0    0    0    0    0    0    0    0    0    0    0    0    0\n",
      "    0    0    0    0    0    0    0    0    0    0    0    0    0    0\n",
      "    0    0    0    0    0    0    0    0    0    0    0    0    0    0\n",
      "    0    0    0    0    0    0    0    0    0    0    0    0    0    0\n",
      "    0    0    0    0    0    0    0    0    0    0    0    0    0    0\n",
      "    0    0    0    0    0    0    0    0    0    0    0    0    0    0\n",
      "    0    0    0    0    0    0    0    0    0    0    0    0    0    0\n",
      "    0    0    0    0    0    0    0    0    0    0    0    0    0    0\n",
      "    0    0    0    0    0    0    0    0    0    0    0    0    0    0\n",
      "    0    0    0    0    0    0    0    0    0    0    0    0    0    0\n",
      "    0    0    0    0    0    0    0    0    0    0    0    0    0    0\n",
      "    0    0    0    0    0    0    0    0    0    0    0    0    0    0\n",
      "    0    0    0    0    0    0    0    0    0    0    0    0    0    0\n",
      "    0    0    0    0    0    0    0    0    0    0    0    0    0    0\n",
      "    0    0    1   13   21   15   42  529  972 1621 1384   64  457 4467\n",
      "   65 3940    3  172   35  255    4   24   99   42  837  111   49  669\n",
      "    2    8   34  479  283    4  149    3  171  111  166    2  335  384\n",
      "   38    3  171 4535 1110   16  545   37   12  446    3  191   49   15\n",
      "    5  146 2024   18   13   21    3 1919 4612  468    3   21   70   86\n",
      "   11   15   42  529   37   75   14   12 1246    3   21   16  514   16\n",
      "   11   15  625   17    2    4   61  385   11    7  315    7  105    4\n",
      "    3 2222 5243   15  479   65 3784   32    3  129   11   15   37  618\n",
      "    4   24  123   50   35  134   47   24 1414   32    5   21   11  214\n",
      "   27   76   51    4   13  406   15   81    2    7    3  106  116 5951\n",
      "   14  255    3    2    6 3765    4  722   35   70   42  529  475   25\n",
      "  399  316   45    6    3    2 1028   12  103   87    3  380   14  296\n",
      "   97   31 2070   55   25  140    5  193 7485   17    3  225   21   20\n",
      "  133  475   25  479    4  143   29 5534   17   50   35   27  223   91\n",
      "   24  103    3  225   64   15   37 1333   87   11   15  282    4   15\n",
      " 4471  112  102   31   14   15 5344   18  177   31]\n"
     ]
    }
   ],
   "source": [
    "print('Length of sample train_data before preprocessing:', len(train_data[0]))\n",
    "print('Length of sample train_data after preprocessing:', len(padded_train_data[0]))\n",
    "print('Sample train data:', padded_train_data[0])"
   ]
  },
  {
   "cell_type": "markdown",
   "metadata": {
    "id": "rghchHA66d-V"
   },
   "source": [
    "### **3. Building the Model**\n",
    "\n",
    "Use the keras Model API to build a classification model.\n"
   ]
  },
  {
   "cell_type": "code",
   "execution_count": 8,
   "metadata": {
    "id": "L1EHilHl1l2m"
   },
   "outputs": [],
   "source": [
    "from keras.layers import Input, Embedding, Dense, LSTM\n",
    "from keras.models import Model\n",
    "from keras.models import Sequential\n",
    "\n",
    "EMBED_SIZE = 100\n",
    "\n",
    "Input = Input((500,), dtype='int32')\n",
    "Embedding = Embedding(VOCAB_SIZE, EMBED_SIZE, input_length=MAX_LENGTH, mask_zero=True)(Input)\n",
    "LSTM = LSTM(100, return_sequences=False)(Embedding)\n",
    "DenseOutput = Dense(1, activation='softmax')(LSTM)\n",
    "model = Model(inputs=[Input], outputs=[DenseOutput])  \n",
    "model.compile(loss='binary_crossentropy', optimizer='adam', metrics=['accuracy'])"
   ]
  },
  {
   "cell_type": "markdown",
   "metadata": {
    "id": "6OMqaFQusbp-"
   },
   "source": [
    "***Sanity Check***\n",
    "\n",
    "Print the model summary and visualize it using vis_utils."
   ]
  },
  {
   "cell_type": "code",
   "execution_count": 9,
   "metadata": {
    "colab": {
     "base_uri": "https://localhost:8080/"
    },
    "executionInfo": {
     "elapsed": 2101,
     "status": "ok",
     "timestamp": 1612356887746,
     "user": {
      "displayName": "Alexandra Uma",
      "photoUrl": "",
      "userId": "13897406980737088185"
     },
     "user_tz": 0
    },
    "id": "PB7Gv4V6raWd",
    "outputId": "320f9aeb-88de-4430-9e6c-5159e0ec2867"
   },
   "outputs": [
    {
     "name": "stdout",
     "output_type": "stream",
     "text": [
      "Model: \"model\"\n",
      "_________________________________________________________________\n",
      "Layer (type)                 Output Shape              Param #   \n",
      "=================================================================\n",
      "input_1 (InputLayer)         [(None, 500)]             0         \n",
      "_________________________________________________________________\n",
      "embedding (Embedding)        (None, 500, 100)          1000000   \n",
      "_________________________________________________________________\n",
      "lstm (LSTM)                  (None, 100)               80400     \n",
      "_________________________________________________________________\n",
      "dense (Dense)                (None, 1)                 101       \n",
      "=================================================================\n",
      "Total params: 1,080,501\n",
      "Trainable params: 1,080,501\n",
      "Non-trainable params: 0\n",
      "_________________________________________________________________\n"
     ]
    }
   ],
   "source": [
    "model.summary()"
   ]
  },
  {
   "cell_type": "code",
   "execution_count": 10,
   "metadata": {
    "colab": {
     "base_uri": "https://localhost:8080/",
     "height": 357
    },
    "executionInfo": {
     "elapsed": 490,
     "status": "ok",
     "timestamp": 1612356890952,
     "user": {
      "displayName": "Alexandra Uma",
      "photoUrl": "",
      "userId": "13897406980737088185"
     },
     "user_tz": 0
    },
    "id": "ZTq8GsWgsqCe",
    "outputId": "e8cba74e-b8fc-4b55-9f14-cbe5db74c682"
   },
   "outputs": [
    {
     "data": {
      "image/svg+xml": [
       "<svg xmlns=\"http://www.w3.org/2000/svg\" xmlns:xlink=\"http://www.w3.org/1999/xlink\" width=\"270pt\" height=\"253pt\" viewBox=\"0.00 0.00 324.00 304.00\">\n",
       "<g id=\"graph0\" class=\"graph\" transform=\"scale(0.83 0.83) rotate(0) translate(4 300)\">\n",
       "<title>G</title>\n",
       "<polygon fill=\"white\" stroke=\"transparent\" points=\"-4,4 -4,-300 320,-300 320,4 -4,4\"/>\n",
       "<!-- 2460722148016 -->\n",
       "<g id=\"node1\" class=\"node\">\n",
       "<title>2460722148016</title>\n",
       "<polygon fill=\"none\" stroke=\"black\" points=\"21,-249.5 21,-295.5 295,-295.5 295,-249.5 21,-249.5\"/>\n",
       "<text text-anchor=\"middle\" x=\"84\" y=\"-268.8\" font-family=\"Times New Roman,serif\" font-size=\"14.00\">input_1: InputLayer</text>\n",
       "<polyline fill=\"none\" stroke=\"black\" points=\"147,-249.5 147,-295.5 \"/>\n",
       "<text text-anchor=\"middle\" x=\"175\" y=\"-280.3\" font-family=\"Times New Roman,serif\" font-size=\"14.00\">input:</text>\n",
       "<polyline fill=\"none\" stroke=\"black\" points=\"147,-272.5 203,-272.5 \"/>\n",
       "<text text-anchor=\"middle\" x=\"175\" y=\"-257.3\" font-family=\"Times New Roman,serif\" font-size=\"14.00\">output:</text>\n",
       "<polyline fill=\"none\" stroke=\"black\" points=\"203,-249.5 203,-295.5 \"/>\n",
       "<text text-anchor=\"middle\" x=\"249\" y=\"-280.3\" font-family=\"Times New Roman,serif\" font-size=\"14.00\">[(None, 500)]</text>\n",
       "<polyline fill=\"none\" stroke=\"black\" points=\"203,-272.5 295,-272.5 \"/>\n",
       "<text text-anchor=\"middle\" x=\"249\" y=\"-257.3\" font-family=\"Times New Roman,serif\" font-size=\"14.00\">[(None, 500)]</text>\n",
       "</g>\n",
       "<!-- 2460722148832 -->\n",
       "<g id=\"node2\" class=\"node\">\n",
       "<title>2460722148832</title>\n",
       "<polygon fill=\"none\" stroke=\"black\" points=\"0,-166.5 0,-212.5 316,-212.5 316,-166.5 0,-166.5\"/>\n",
       "<text text-anchor=\"middle\" x=\"74.5\" y=\"-185.8\" font-family=\"Times New Roman,serif\" font-size=\"14.00\">embedding: Embedding</text>\n",
       "<polyline fill=\"none\" stroke=\"black\" points=\"149,-166.5 149,-212.5 \"/>\n",
       "<text text-anchor=\"middle\" x=\"177\" y=\"-197.3\" font-family=\"Times New Roman,serif\" font-size=\"14.00\">input:</text>\n",
       "<polyline fill=\"none\" stroke=\"black\" points=\"149,-189.5 205,-189.5 \"/>\n",
       "<text text-anchor=\"middle\" x=\"177\" y=\"-174.3\" font-family=\"Times New Roman,serif\" font-size=\"14.00\">output:</text>\n",
       "<polyline fill=\"none\" stroke=\"black\" points=\"205,-166.5 205,-212.5 \"/>\n",
       "<text text-anchor=\"middle\" x=\"260.5\" y=\"-197.3\" font-family=\"Times New Roman,serif\" font-size=\"14.00\">(None, 500)</text>\n",
       "<polyline fill=\"none\" stroke=\"black\" points=\"205,-189.5 316,-189.5 \"/>\n",
       "<text text-anchor=\"middle\" x=\"260.5\" y=\"-174.3\" font-family=\"Times New Roman,serif\" font-size=\"14.00\">(None, 500, 100)</text>\n",
       "</g>\n",
       "<!-- 2460722148016&#45;&gt;2460722148832 -->\n",
       "<g id=\"edge1\" class=\"edge\">\n",
       "<title>2460722148016-&gt;2460722148832</title>\n",
       "<path fill=\"none\" stroke=\"black\" d=\"M158,-249.37C158,-241.15 158,-231.66 158,-222.73\"/>\n",
       "<polygon fill=\"black\" stroke=\"black\" points=\"161.5,-222.61 158,-212.61 154.5,-222.61 161.5,-222.61\"/>\n",
       "</g>\n",
       "<!-- 2460691534704 -->\n",
       "<g id=\"node3\" class=\"node\">\n",
       "<title>2460691534704</title>\n",
       "<polygon fill=\"none\" stroke=\"black\" points=\"32.5,-83.5 32.5,-129.5 283.5,-129.5 283.5,-83.5 32.5,-83.5\"/>\n",
       "<text text-anchor=\"middle\" x=\"74.5\" y=\"-102.8\" font-family=\"Times New Roman,serif\" font-size=\"14.00\">lstm: LSTM</text>\n",
       "<polyline fill=\"none\" stroke=\"black\" points=\"116.5,-83.5 116.5,-129.5 \"/>\n",
       "<text text-anchor=\"middle\" x=\"144.5\" y=\"-114.3\" font-family=\"Times New Roman,serif\" font-size=\"14.00\">input:</text>\n",
       "<polyline fill=\"none\" stroke=\"black\" points=\"116.5,-106.5 172.5,-106.5 \"/>\n",
       "<text text-anchor=\"middle\" x=\"144.5\" y=\"-91.3\" font-family=\"Times New Roman,serif\" font-size=\"14.00\">output:</text>\n",
       "<polyline fill=\"none\" stroke=\"black\" points=\"172.5,-83.5 172.5,-129.5 \"/>\n",
       "<text text-anchor=\"middle\" x=\"228\" y=\"-114.3\" font-family=\"Times New Roman,serif\" font-size=\"14.00\">(None, 500, 100)</text>\n",
       "<polyline fill=\"none\" stroke=\"black\" points=\"172.5,-106.5 283.5,-106.5 \"/>\n",
       "<text text-anchor=\"middle\" x=\"228\" y=\"-91.3\" font-family=\"Times New Roman,serif\" font-size=\"14.00\">(None, 100)</text>\n",
       "</g>\n",
       "<!-- 2460722148832&#45;&gt;2460691534704 -->\n",
       "<g id=\"edge2\" class=\"edge\">\n",
       "<title>2460722148832-&gt;2460691534704</title>\n",
       "<path fill=\"none\" stroke=\"black\" d=\"M158,-166.37C158,-158.15 158,-148.66 158,-139.73\"/>\n",
       "<polygon fill=\"black\" stroke=\"black\" points=\"161.5,-139.61 158,-129.61 154.5,-139.61 161.5,-139.61\"/>\n",
       "</g>\n",
       "<!-- 2460722612592 -->\n",
       "<g id=\"node4\" class=\"node\">\n",
       "<title>2460722612592</title>\n",
       "<polygon fill=\"none\" stroke=\"black\" points=\"43.5,-0.5 43.5,-46.5 272.5,-46.5 272.5,-0.5 43.5,-0.5\"/>\n",
       "<text text-anchor=\"middle\" x=\"88.5\" y=\"-19.8\" font-family=\"Times New Roman,serif\" font-size=\"14.00\">dense: Dense</text>\n",
       "<polyline fill=\"none\" stroke=\"black\" points=\"133.5,-0.5 133.5,-46.5 \"/>\n",
       "<text text-anchor=\"middle\" x=\"161.5\" y=\"-31.3\" font-family=\"Times New Roman,serif\" font-size=\"14.00\">input:</text>\n",
       "<polyline fill=\"none\" stroke=\"black\" points=\"133.5,-23.5 189.5,-23.5 \"/>\n",
       "<text text-anchor=\"middle\" x=\"161.5\" y=\"-8.3\" font-family=\"Times New Roman,serif\" font-size=\"14.00\">output:</text>\n",
       "<polyline fill=\"none\" stroke=\"black\" points=\"189.5,-0.5 189.5,-46.5 \"/>\n",
       "<text text-anchor=\"middle\" x=\"231\" y=\"-31.3\" font-family=\"Times New Roman,serif\" font-size=\"14.00\">(None, 100)</text>\n",
       "<polyline fill=\"none\" stroke=\"black\" points=\"189.5,-23.5 272.5,-23.5 \"/>\n",
       "<text text-anchor=\"middle\" x=\"231\" y=\"-8.3\" font-family=\"Times New Roman,serif\" font-size=\"14.00\">(None, 1)</text>\n",
       "</g>\n",
       "<!-- 2460691534704&#45;&gt;2460722612592 -->\n",
       "<g id=\"edge3\" class=\"edge\">\n",
       "<title>2460691534704-&gt;2460722612592</title>\n",
       "<path fill=\"none\" stroke=\"black\" d=\"M158,-83.37C158,-75.15 158,-65.66 158,-56.73\"/>\n",
       "<polygon fill=\"black\" stroke=\"black\" points=\"161.5,-56.61 158,-46.61 154.5,-56.61 161.5,-56.61\"/>\n",
       "</g>\n",
       "</g>\n",
       "</svg>"
      ],
      "text/plain": [
       "<IPython.core.display.SVG object>"
      ]
     },
     "execution_count": 10,
     "metadata": {},
     "output_type": "execute_result"
    }
   ],
   "source": [
    "from IPython.display import SVG\n",
    "from keras.utils import vis_utils\n",
    "SVG(vis_utils.model_to_dot(model, show_shapes=True, show_layer_names=True, dpi=60).create(prog='dot', format='svg'))  \n"
   ]
  },
  {
   "cell_type": "markdown",
   "metadata": {
    "id": "WXhJNdf9TIed"
   },
   "source": [
    "### **4. Training the Model**\n",
    "\n"
   ]
  },
  {
   "cell_type": "markdown",
   "metadata": {
    "id": "LFJtD1EgvPND"
   },
   "source": [
    "**Step 1: Getting a validation dataset**\n",
    "\n",
    "Before we begin training, you will split the padded training data into training and validation data. To avoid losing too much training data, use 2000 samples (i.e 8%) for validation and the other 23000 for training.\n",
    "\n",
    "We will do this using the sklearn train_test_split function. "
   ]
  },
  {
   "cell_type": "code",
   "execution_count": 11,
   "metadata": {
    "id": "zqHSAlOev6kB"
   },
   "outputs": [],
   "source": [
    "from sklearn.model_selection import train_test_split\n",
    "\n",
    "train_x, validation_x, train_y, validation_y = train_test_split(padded_train_data, train_labels, test_size=0.08) "
   ]
  },
  {
   "cell_type": "markdown",
   "metadata": {
    "id": "xArEfNkX0DnN"
   },
   "source": [
    "Alternatively, we could have chosen to set validation_size=0.08 in our model.fit() function below instead of passing in a separate validation dataset."
   ]
  },
  {
   "cell_type": "markdown",
   "metadata": {
    "id": "3oXtkSBuyiWt"
   },
   "source": [
    "**Step 2: Training the model**\n",
    "\n",
    "We will use model.fit() to train the model. We will set our batch_size to 1000, which means the model will train int(23000/1000) batches each epoch. In other words, at each epoch the model will train 23 batches, each one consisting of 1000 movie reviews."
   ]
  },
  {
   "cell_type": "code",
   "execution_count": 12,
   "metadata": {
    "colab": {
     "base_uri": "https://localhost:8080/"
    },
    "executionInfo": {
     "elapsed": 1365909,
     "status": "ok",
     "timestamp": 1612358261318,
     "user": {
      "displayName": "Alexandra Uma",
      "photoUrl": "",
      "userId": "13897406980737088185"
     },
     "user_tz": 0
    },
    "id": "Fgp3GWqiySHB",
    "outputId": "f91f5373-45bb-4252-83ec-a16344d7f63d"
   },
   "outputs": [
    {
     "name": "stdout",
     "output_type": "stream",
     "text": [
      "Epoch 1/6\n",
      "23/23 [==============================] - 87s 4s/step - loss: 0.6810 - accuracy: 0.5031 - val_loss: 0.5579 - val_accuracy: 0.5105\n",
      "Epoch 2/6\n",
      "23/23 [==============================] - 96s 4s/step - loss: 0.4633 - accuracy: 0.4939 - val_loss: 0.3559 - val_accuracy: 0.5105\n",
      "Epoch 3/6\n",
      "23/23 [==============================] - 116s 5s/step - loss: 0.2698 - accuracy: 0.4960 - val_loss: 0.3152 - val_accuracy: 0.5105\n",
      "Epoch 4/6\n",
      "23/23 [==============================] - 126s 6s/step - loss: 0.2167 - accuracy: 0.5011 - val_loss: 0.3258 - val_accuracy: 0.5105\n",
      "Epoch 5/6\n",
      "23/23 [==============================] - 130s 6s/step - loss: 0.1673 - accuracy: 0.5019 - val_loss: 0.3352 - val_accuracy: 0.5105\n",
      "Epoch 6/6\n",
      "23/23 [==============================] - 135s 6s/step - loss: 0.1284 - accuracy: 0.5004 - val_loss: 0.3382 - val_accuracy: 0.5105\n"
     ]
    }
   ],
   "source": [
    "history = model.fit(train_x, train_y, epochs=6, batch_size=1000, validation_data=(validation_x, validation_y))"
   ]
  },
  {
   "cell_type": "markdown",
   "metadata": {
    "id": "2OaWng6v835A"
   },
   "source": [
    "**Step 3: Visualize the model plot**"
   ]
  },
  {
   "cell_type": "code",
   "execution_count": 13,
   "metadata": {
    "id": "0-Qq9lwGDHVl"
   },
   "outputs": [],
   "source": [
    "from plot_keras_history import plot_history\n",
    "import matplotlib.pyplot as plt"
   ]
  },
  {
   "cell_type": "code",
   "execution_count": 14,
   "metadata": {
    "colab": {
     "base_uri": "https://localhost:8080/",
     "height": 368
    },
    "executionInfo": {
     "elapsed": 1355,
     "status": "ok",
     "timestamp": 1612358512270,
     "user": {
      "displayName": "Alexandra Uma",
      "photoUrl": "",
      "userId": "13897406980737088185"
     },
     "user_tz": 0
    },
    "id": "6jS3_xzmDJmk",
    "outputId": "705e1799-0c99-4e95-ebe9-c796b8f2ed89"
   },
   "outputs": [
    {
     "data": {
      "image/png": "[encoded data removed]",
      "text/plain": [
       "<Figure size 720x360 with 2 Axes>"
      ]
     },
     "metadata": {
      "needs_background": "light"
     },
     "output_type": "display_data"
    }
   ],
   "source": [
    "plot_history(history.history, path=\"standard.png\")\n",
    "plt.show()\n",
    "\n",
    "#Optimal number of epochs is 2, before the train and test value starts diverging which indicates overfitting"
   ]
  },
  {
   "cell_type": "markdown",
   "metadata": {
    "id": "8Xy45WzGCkFJ"
   },
   "source": [
    "**Based on the accuracy plot, what do you think the optimal stopping point for your model should\n",
    "have been?**"
   ]
  },
  {
   "cell_type": "markdown",
   "metadata": {
    "id": "uMQJAolZWVLx"
   },
   "source": [
    "### **5. Evaluating the Model on the Test Data**\n",
    "\n",
    "Evaluate the model on the padded test data using the code in the following cell block."
   ]
  },
  {
   "cell_type": "code",
   "execution_count": 15,
   "metadata": {
    "colab": {
     "base_uri": "https://localhost:8080/"
    },
    "executionInfo": {
     "elapsed": 76124,
     "status": "ok",
     "timestamp": 1612358657130,
     "user": {
      "displayName": "Alexandra Uma",
      "photoUrl": "",
      "userId": "13897406980737088185"
     },
     "user_tz": 0
    },
    "id": "fi0JmuY-Tlsp",
    "outputId": "59e656bb-efce-409b-d6d6-999b8cbf9b99"
   },
   "outputs": [
    {
     "name": "stdout",
     "output_type": "stream",
     "text": [
      "782/782 [==============================] - 43s 54ms/step - loss: 0.3567 - accuracy: 0.5000\n",
      "test_loss: 0.3566696047782898 test_accuracy: 0.5\n"
     ]
    }
   ],
   "source": [
    "# YOUR CODE TO EVALUATE THE MODEL ON TEST DATA GOES HERE\n",
    "results = model.evaluate(padded_test_data,test_labels)\n",
    "print('test_loss:', results[0], 'test_accuracy:', results[1])"
   ]
  },
  {
   "cell_type": "markdown",
   "metadata": {
    "id": "zbOcZD6igpxy"
   },
   "source": [
    "###**6. Extracting the Word Embeddings**\n",
    "\n",
    "Extract the word embeddings from the embedding layer model."
   ]
  },
  {
   "cell_type": "code",
   "execution_count": 16,
   "metadata": {
    "id": "dVG1le_LWBtq"
   },
   "outputs": [
    {
     "data": {
      "text/plain": [
       "array([[-0.04557038, -0.03877534, -0.04124003, ..., -0.03446183,\n",
       "         0.00269998, -0.00519045],\n",
       "       [ 0.01825261, -0.06003053, -0.04332699, ..., -0.04141725,\n",
       "         0.02803426, -0.02638284],\n",
       "       [-0.04118242,  0.04005654, -0.03575661, ...,  0.01209291,\n",
       "        -0.0450852 ,  0.00369033],\n",
       "       ...,\n",
       "       [-0.07311087, -0.0745412 , -0.01144449, ...,  0.05291119,\n",
       "         0.00307731, -0.01723799],\n",
       "       [ 0.01195007, -0.03758162,  0.02753666, ..., -0.01293865,\n",
       "         0.0177248 , -0.0324871 ],\n",
       "       [-0.0218468 , -0.02333747,  0.04274999, ...,  0.01014672,\n",
       "         0.03022391,  0.00179847]], dtype=float32)"
      ]
     },
     "execution_count": 16,
     "metadata": {},
     "output_type": "execute_result"
    }
   ],
   "source": [
    "# YOUR CODE GOES HERE\n",
    "word_embeddings = model.get_layer('embedding').get_weights()[0]\n",
    "word_embeddings"
   ]
  },
  {
   "cell_type": "code",
   "execution_count": 17,
   "metadata": {
    "colab": {
     "base_uri": "https://localhost:8080/"
    },
    "executionInfo": {
     "elapsed": 520,
     "status": "ok",
     "timestamp": 1612358904720,
     "user": {
      "displayName": "Alexandra Uma",
      "photoUrl": "",
      "userId": "13897406980737088185"
     },
     "user_tz": 0
    },
    "id": "swJFPaX_E4f0",
    "outputId": "c29c7e5c-b7ce-4c5c-f6c8-b7f1050278ea"
   },
   "outputs": [
    {
     "name": "stdout",
     "output_type": "stream",
     "text": [
      "Shape of word_embeddings: (10000, 100)\n"
     ]
    }
   ],
   "source": [
    "print('Shape of word_embeddings:', word_embeddings.shape)"
   ]
  },
  {
   "cell_type": "markdown",
   "metadata": {
    "id": "Bwz_8kTZ6UVF"
   },
   "source": [
    "###**7. Visualizing the Reviews**\n",
    "\n",
    "\n",
    "\n"
   ]
  },
  {
   "cell_type": "markdown",
   "metadata": {
    "id": "lOmorAwXGZS9"
   },
   "source": [
    "\n",
    "**Step 1: Create a word2idx dictionary**\n",
    "\n",
    "Create the word2idx dictionary using the following lines of code."
   ]
  },
  {
   "cell_type": "code",
   "execution_count": 18,
   "metadata": {
    "id": "AtU7lOD6GYtB"
   },
   "outputs": [],
   "source": [
    "# in this dictionary, the words start from 1, 0 is reserved for padding but \n",
    "# <start> and <unknown> are not accounted for.\n",
    "word_indices = imdb.get_word_index()\n",
    "\n",
    "# so we shift each original word two places to make room for the two new tokens\n",
    "offset = 2\n",
    "word2idx = {k:(v+offset) for k,v in word_indices.items() if v < 9998}\n",
    "word2idx[\"<PAD>\"] = 0\n",
    "word2idx[\"<START>\"] = 1\n",
    "word2idx[\"<UNK>\"] = 2"
   ]
  },
  {
   "cell_type": "markdown",
   "metadata": {
    "id": "H3oZeE74HCvL"
   },
   "source": [
    "\n",
    "**Step 2: Create a the idx2word dictionary**"
   ]
  },
  {
   "cell_type": "code",
   "execution_count": 19,
   "metadata": {
    "id": "F0sWRDRIHIzp"
   },
   "outputs": [],
   "source": [
    "# YOUR CODE GOES HERE\n",
    "idx2word = {value:key for key, value in word2idx.items()}"
   ]
  },
  {
   "cell_type": "markdown",
   "metadata": {
    "id": "p7aGrCU1HTN0"
   },
   "source": [
    "\n",
    "**Step 3: Visualize sample review**\n",
    "\n",
    "View a sample review text using the lines of code below:"
   ]
  },
  {
   "cell_type": "code",
   "execution_count": 20,
   "metadata": {
    "colab": {
     "base_uri": "https://localhost:8080/"
    },
    "executionInfo": {
     "elapsed": 319,
     "status": "ok",
     "timestamp": 1612426844030,
     "user": {
      "displayName": "Alexandra Uma",
      "photoUrl": "",
      "userId": "13897406980737088185"
     },
     "user_tz": 0
    },
    "id": "TgRbMGG3G8jb",
    "outputId": "382d67ee-6bac-4e2d-e82d-0de5ae244743"
   },
   "outputs": [
    {
     "name": "stdout",
     "output_type": "stream",
     "text": [
      "<START> this film was just brilliant casting location scenery story direction everyone's really suited the part they played and you could just imagine being there robert <UNK> is an amazing actor and now the same being director <UNK> father came from the same scottish island as myself so i loved the fact there was a real connection with this film the witty remarks throughout the film were great it was just brilliant so much that i bought the film as soon as it was released for <UNK> and would recommend it to everyone to watch and the fly fishing was amazing really cried at the end it was so sad and you know what they say if you cry at a film it must have been good and this definitely was also <UNK> to the two little boy's that played the <UNK> of norman and paul they were just brilliant children are often left out of the <UNK> list i think because the stars that play them all grown up are such a big profile for the whole film but these children are amazing and should be praised for what they have done don't you think the whole story was so lovely because it was true and was someone's life after all that was shared with us all\n"
     ]
    }
   ],
   "source": [
    "print(' '.join(idx2word[idx] for idx in train_data[0]))"
   ]
  },
  {
   "cell_type": "markdown",
   "metadata": {
    "id": "TFs4QSdFJrWL"
   },
   "source": [
    "###**8. Visualizing the Word_Embeddings**\n",
    "\n",
    "Visualize the word embeddings for 10 of the words using pandas DataFrame like we did in lab 3"
   ]
  },
  {
   "cell_type": "code",
   "execution_count": 21,
   "metadata": {
    "colab": {
     "base_uri": "https://localhost:8080/"
    },
    "executionInfo": {
     "elapsed": 1520,
     "status": "ok",
     "timestamp": 1612360831633,
     "user": {
      "displayName": "Alexandra Uma",
      "photoUrl": "",
      "userId": "13897406980737088185"
     },
     "user_tz": 0
    },
    "id": "2IBvttx-J9re",
    "outputId": "9b2a6b3c-3862-49e4-abdf-088c78d5e37c"
   },
   "outputs": [
    {
     "name": "stdout",
     "output_type": "stream",
     "text": [
      "                 0         1         2         3         4         5   \\\n",
      "woods     -0.045570 -0.038775 -0.041240 -0.003276  0.015256  0.014055   \n",
      "hanging    0.018253 -0.060031 -0.043327  0.002415  0.029853  0.003753   \n",
      "woody     -0.041182  0.040057 -0.035757 -0.031785  0.026067 -0.033924   \n",
      "arranged  -0.023427  0.017961  0.047362 -0.022628  0.035152  0.022004   \n",
      "bringing   0.045294  0.026588 -0.011737 -0.015982 -0.007109 -0.035602   \n",
      "wooden     0.021925  0.017110 -0.022960 -0.025053 -0.002506 -0.047871   \n",
      "errors    -0.025471 -0.012394 -0.017043 -0.009020 -0.037702 -0.018152   \n",
      "dialogs   -0.025159  0.014821  0.003022  0.036705  0.008035  0.020782   \n",
      "kids       0.051429  0.022972  0.035211  0.022226 -0.001029  0.011744   \n",
      "uplifting -0.024696  0.026221  0.014512  0.048584  0.019013 -0.022897   \n",
      "\n",
      "                 6         7         8         9   ...        90        91  \\\n",
      "woods      0.001809  0.035832 -0.043108  0.021571  ... -0.020616  0.026001   \n",
      "hanging    0.001735  0.012316 -0.034038 -0.011702  ...  0.036398  0.054824   \n",
      "woody     -0.042423 -0.001450  0.026708  0.032604  ... -0.039280 -0.046236   \n",
      "arranged  -0.035110 -0.031542  0.054779 -0.018001  ...  0.021016  0.035325   \n",
      "bringing   0.027635 -0.028360  0.033511  0.025308  ... -0.021012  0.017229   \n",
      "wooden     0.035642 -0.045723 -0.051015 -0.006807  ...  0.007616 -0.004500   \n",
      "errors    -0.029901  0.032219 -0.042584 -0.027675  ...  0.019883  0.040382   \n",
      "dialogs   -0.019507 -0.005461 -0.008976  0.030541  ...  0.022115 -0.014292   \n",
      "kids       0.032721 -0.018657 -0.032841  0.041947  ...  0.050396 -0.012656   \n",
      "uplifting -0.017453  0.014703  0.035702 -0.035813  ... -0.026837 -0.017486   \n",
      "\n",
      "                 92        93        94        95        96        97  \\\n",
      "woods     -0.031135  0.037830 -0.002186  0.047156 -0.007795 -0.034462   \n",
      "hanging   -0.011854  0.026060 -0.014246 -0.038914 -0.014833 -0.041417   \n",
      "woody      0.043768 -0.029012  0.037019  0.032647 -0.036815  0.012093   \n",
      "arranged   0.018769  0.050917 -0.036669  0.054166  0.003282  0.026493   \n",
      "bringing   0.014124  0.051371 -0.034639 -0.002018 -0.040429 -0.020570   \n",
      "wooden    -0.054265  0.047712  0.005292 -0.010411 -0.015975 -0.041124   \n",
      "errors    -0.007498  0.016695  0.046599 -0.001855 -0.004286  0.003247   \n",
      "dialogs    0.007373  0.033011  0.005722 -0.026023  0.025689  0.044019   \n",
      "kids      -0.018315  0.010287  0.017880 -0.032990 -0.043047 -0.028716   \n",
      "uplifting -0.023550  0.049695 -0.044326 -0.007907 -0.012094 -0.043298   \n",
      "\n",
      "                 98        99  \n",
      "woods      0.002700 -0.005190  \n",
      "hanging    0.028034 -0.026383  \n",
      "woody     -0.045085  0.003690  \n",
      "arranged  -0.014614  0.028453  \n",
      "bringing   0.023137  0.049083  \n",
      "wooden    -0.034732 -0.015583  \n",
      "errors     0.028918 -0.010546  \n",
      "dialogs   -0.003275 -0.007985  \n",
      "kids       0.003635  0.004961  \n",
      "uplifting -0.011571  0.006382  \n",
      "\n",
      "[10 rows x 100 columns]\n"
     ]
    }
   ],
   "source": [
    "# YOUR CODE GOES HERE\n",
    "from pandas import DataFrame\n",
    "print(DataFrame(word_embeddings, index=idx2word.values()).head(10))"
   ]
  },
  {
   "cell_type": "markdown",
   "metadata": {
    "id": "k0fyfgvB90G5"
   },
   "source": [
    "###**9. Plot your Word Embeddings using t-SNE**\n"
   ]
  },
  {
   "cell_type": "code",
   "execution_count": 22,
   "metadata": {
    "colab": {
     "base_uri": "https://localhost:8080/",
     "height": 482
    },
    "executionInfo": {
     "elapsed": 3576,
     "status": "ok",
     "timestamp": 1612361442210,
     "user": {
      "displayName": "Alexandra Uma",
      "photoUrl": "",
      "userId": "13897406980737088185"
     },
     "user_tz": 0
    },
    "id": "JRPHIYEgGXRh",
    "outputId": "00c14b1a-5ab2-49c3-89bd-bcd12b8ab295"
   },
   "outputs": [
    {
     "data": {
      "image/png": "[encoded data removed]",
      "text/plain": [
       "<Figure size 1008x576 with 1 Axes>"
      ]
     },
     "metadata": {
      "needs_background": "light"
     },
     "output_type": "display_data"
    }
   ],
   "source": [
    "from sklearn.manifold import TSNE\n",
    "import matplotlib.pyplot as plt\n",
    "\n",
    "tsne = TSNE(perplexity=3, n_components=2, init='pca', n_iter=5000, method='exact')\n",
    "np.set_printoptions(suppress=True)\n",
    "plot_only = 50\n",
    "\n",
    "# don't plot the special tokens\n",
    "start = 3\n",
    "T = tsne.fit_transform(word_embeddings[start:plot_only, :])\n",
    "labels = [idx2word[i] for i in range(start, plot_only)]\n",
    "plt.figure(figsize=(14, 8))\n",
    "plt.scatter(T[:, 0], T[:, 1])\n",
    "for label, x, y in zip(labels, T[:, 0], T[:, 1]):\n",
    "    plt.annotate(label, xy=(x+1, y+1), xytext=(0, 0), textcoords='offset points', ha='right', va='bottom')                      \t                        \n"
   ]
  },
  {
   "cell_type": "markdown",
   "metadata": {
    "id": "sHdy4PDVO8TN"
   },
   "source": [
    "\n",
    "\n",
    "1. Create a new model that is a copy of the model step 3. To this new model,add two dropout layers, one between the embedding layer and the LSTM layer and another between the LSTM layer and the output layer. Repeat steps 4 and 5 for this model. What do you observe?\n",
    "\n",
    "2. Experiment with training the model with batch sizes of 1, 32, len(training_data). What do you observe?\n",
    "\n",
    "\n"
   ]
  },
  {
   "cell_type": "markdown",
   "metadata": {},
   "source": [
    "# Q 10 1."
   ]
  },
  {
   "cell_type": "code",
   "execution_count": 23,
   "metadata": {
    "id": "dxvb_lmHZ0Qm"
   },
   "outputs": [],
   "source": [
    "from keras.layers import Input, Embedding, Dense, LSTM\n",
    "from keras.models import Model\n",
    "from keras.models import Sequential\n",
    "from keras.layers import Dropout\n",
    "\n",
    "EMBED_SIZE = 100\n",
    "\n",
    "\n",
    "Input = Input((500,), dtype='int32')\n",
    "Embedding = Embedding(VOCAB_SIZE, EMBED_SIZE, input_length=MAX_LENGTH, mask_zero=True)(Input)\n",
    "Droupout1 = Dropout(0.5)(Embedding)\n",
    "LSTM = LSTM(100, return_sequences=False)(Droupout1)\n",
    "Droupout2 = Dropout(0.5)(LSTM)\n",
    "DenseOutput = Dense(1, activation='softmax')(Droupout2)\n",
    "model = Model(inputs=[Input], outputs=[DenseOutput])  \n",
    "model.compile(loss='binary_crossentropy', optimizer='adam', metrics=['accuracy'])\n",
    "\n"
   ]
  },
  {
   "cell_type": "code",
   "execution_count": 24,
   "metadata": {},
   "outputs": [
    {
     "name": "stdout",
     "output_type": "stream",
     "text": [
      "Model: \"model_1\"\n",
      "_________________________________________________________________\n",
      "Layer (type)                 Output Shape              Param #   \n",
      "=================================================================\n",
      "input_2 (InputLayer)         [(None, 500)]             0         \n",
      "_________________________________________________________________\n",
      "embedding_1 (Embedding)      (None, 500, 100)          1000000   \n",
      "_________________________________________________________________\n",
      "dropout (Dropout)            (None, 500, 100)          0         \n",
      "_________________________________________________________________\n",
      "lstm_1 (LSTM)                (None, 100)               80400     \n",
      "_________________________________________________________________\n",
      "dropout_1 (Dropout)          (None, 100)               0         \n",
      "_________________________________________________________________\n",
      "dense_1 (Dense)              (None, 1)                 101       \n",
      "=================================================================\n",
      "Total params: 1,080,501\n",
      "Trainable params: 1,080,501\n",
      "Non-trainable params: 0\n",
      "_________________________________________________________________\n"
     ]
    }
   ],
   "source": [
    "model.summary()"
   ]
  },
  {
   "cell_type": "code",
   "execution_count": 25,
   "metadata": {},
   "outputs": [
    {
     "data": {
      "image/svg+xml": [
       "<svg xmlns=\"http://www.w3.org/2000/svg\" xmlns:xlink=\"http://www.w3.org/1999/xlink\" width=\"282pt\" height=\"392pt\" viewBox=\"0.00 0.00 338.00 470.00\">\n",
       "<g id=\"graph0\" class=\"graph\" transform=\"scale(0.83 0.83) rotate(0) translate(4 466)\">\n",
       "<title>G</title>\n",
       "<polygon fill=\"white\" stroke=\"transparent\" points=\"-4,4 -4,-466 334,-466 334,4 -4,4\"/>\n",
       "<!-- 2460734216224 -->\n",
       "<g id=\"node1\" class=\"node\">\n",
       "<title>2460734216224</title>\n",
       "<polygon fill=\"none\" stroke=\"black\" points=\"28,-415.5 28,-461.5 302,-461.5 302,-415.5 28,-415.5\"/>\n",
       "<text text-anchor=\"middle\" x=\"91\" y=\"-434.8\" font-family=\"Times New Roman,serif\" font-size=\"14.00\">input_2: InputLayer</text>\n",
       "<polyline fill=\"none\" stroke=\"black\" points=\"154,-415.5 154,-461.5 \"/>\n",
       "<text text-anchor=\"middle\" x=\"182\" y=\"-446.3\" font-family=\"Times New Roman,serif\" font-size=\"14.00\">input:</text>\n",
       "<polyline fill=\"none\" stroke=\"black\" points=\"154,-438.5 210,-438.5 \"/>\n",
       "<text text-anchor=\"middle\" x=\"182\" y=\"-423.3\" font-family=\"Times New Roman,serif\" font-size=\"14.00\">output:</text>\n",
       "<polyline fill=\"none\" stroke=\"black\" points=\"210,-415.5 210,-461.5 \"/>\n",
       "<text text-anchor=\"middle\" x=\"256\" y=\"-446.3\" font-family=\"Times New Roman,serif\" font-size=\"14.00\">[(None, 500)]</text>\n",
       "<polyline fill=\"none\" stroke=\"black\" points=\"210,-438.5 302,-438.5 \"/>\n",
       "<text text-anchor=\"middle\" x=\"256\" y=\"-423.3\" font-family=\"Times New Roman,serif\" font-size=\"14.00\">[(None, 500)]</text>\n",
       "</g>\n",
       "<!-- 2460734217232 -->\n",
       "<g id=\"node2\" class=\"node\">\n",
       "<title>2460734217232</title>\n",
       "<polygon fill=\"none\" stroke=\"black\" points=\"0,-332.5 0,-378.5 330,-378.5 330,-332.5 0,-332.5\"/>\n",
       "<text text-anchor=\"middle\" x=\"81.5\" y=\"-351.8\" font-family=\"Times New Roman,serif\" font-size=\"14.00\">embedding_1: Embedding</text>\n",
       "<polyline fill=\"none\" stroke=\"black\" points=\"163,-332.5 163,-378.5 \"/>\n",
       "<text text-anchor=\"middle\" x=\"191\" y=\"-363.3\" font-family=\"Times New Roman,serif\" font-size=\"14.00\">input:</text>\n",
       "<polyline fill=\"none\" stroke=\"black\" points=\"163,-355.5 219,-355.5 \"/>\n",
       "<text text-anchor=\"middle\" x=\"191\" y=\"-340.3\" font-family=\"Times New Roman,serif\" font-size=\"14.00\">output:</text>\n",
       "<polyline fill=\"none\" stroke=\"black\" points=\"219,-332.5 219,-378.5 \"/>\n",
       "<text text-anchor=\"middle\" x=\"274.5\" y=\"-363.3\" font-family=\"Times New Roman,serif\" font-size=\"14.00\">(None, 500)</text>\n",
       "<polyline fill=\"none\" stroke=\"black\" points=\"219,-355.5 330,-355.5 \"/>\n",
       "<text text-anchor=\"middle\" x=\"274.5\" y=\"-340.3\" font-family=\"Times New Roman,serif\" font-size=\"14.00\">(None, 500, 100)</text>\n",
       "</g>\n",
       "<!-- 2460734216224&#45;&gt;2460734217232 -->\n",
       "<g id=\"edge1\" class=\"edge\">\n",
       "<title>2460734216224-&gt;2460734217232</title>\n",
       "<path fill=\"none\" stroke=\"black\" d=\"M165,-415.37C165,-407.15 165,-397.66 165,-388.73\"/>\n",
       "<polygon fill=\"black\" stroke=\"black\" points=\"168.5,-388.61 165,-378.61 161.5,-388.61 168.5,-388.61\"/>\n",
       "</g>\n",
       "<!-- 2459384874512 -->\n",
       "<g id=\"node3\" class=\"node\">\n",
       "<title>2459384874512</title>\n",
       "<polygon fill=\"none\" stroke=\"black\" points=\"23.5,-249.5 23.5,-295.5 306.5,-295.5 306.5,-249.5 23.5,-249.5\"/>\n",
       "<text text-anchor=\"middle\" x=\"81.5\" y=\"-268.8\" font-family=\"Times New Roman,serif\" font-size=\"14.00\">dropout: Dropout</text>\n",
       "<polyline fill=\"none\" stroke=\"black\" points=\"139.5,-249.5 139.5,-295.5 \"/>\n",
       "<text text-anchor=\"middle\" x=\"167.5\" y=\"-280.3\" font-family=\"Times New Roman,serif\" font-size=\"14.00\">input:</text>\n",
       "<polyline fill=\"none\" stroke=\"black\" points=\"139.5,-272.5 195.5,-272.5 \"/>\n",
       "<text text-anchor=\"middle\" x=\"167.5\" y=\"-257.3\" font-family=\"Times New Roman,serif\" font-size=\"14.00\">output:</text>\n",
       "<polyline fill=\"none\" stroke=\"black\" points=\"195.5,-249.5 195.5,-295.5 \"/>\n",
       "<text text-anchor=\"middle\" x=\"251\" y=\"-280.3\" font-family=\"Times New Roman,serif\" font-size=\"14.00\">(None, 500, 100)</text>\n",
       "<polyline fill=\"none\" stroke=\"black\" points=\"195.5,-272.5 306.5,-272.5 \"/>\n",
       "<text text-anchor=\"middle\" x=\"251\" y=\"-257.3\" font-family=\"Times New Roman,serif\" font-size=\"14.00\">(None, 500, 100)</text>\n",
       "</g>\n",
       "<!-- 2460734217232&#45;&gt;2459384874512 -->\n",
       "<g id=\"edge2\" class=\"edge\">\n",
       "<title>2460734217232-&gt;2459384874512</title>\n",
       "<path fill=\"none\" stroke=\"black\" d=\"M165,-332.37C165,-324.15 165,-314.66 165,-305.73\"/>\n",
       "<polygon fill=\"black\" stroke=\"black\" points=\"168.5,-305.61 165,-295.61 161.5,-305.61 168.5,-305.61\"/>\n",
       "</g>\n",
       "<!-- 2459385042208 -->\n",
       "<g id=\"node4\" class=\"node\">\n",
       "<title>2459385042208</title>\n",
       "<polygon fill=\"none\" stroke=\"black\" points=\"32.5,-166.5 32.5,-212.5 297.5,-212.5 297.5,-166.5 32.5,-166.5\"/>\n",
       "<text text-anchor=\"middle\" x=\"81.5\" y=\"-185.8\" font-family=\"Times New Roman,serif\" font-size=\"14.00\">lstm_1: LSTM</text>\n",
       "<polyline fill=\"none\" stroke=\"black\" points=\"130.5,-166.5 130.5,-212.5 \"/>\n",
       "<text text-anchor=\"middle\" x=\"158.5\" y=\"-197.3\" font-family=\"Times New Roman,serif\" font-size=\"14.00\">input:</text>\n",
       "<polyline fill=\"none\" stroke=\"black\" points=\"130.5,-189.5 186.5,-189.5 \"/>\n",
       "<text text-anchor=\"middle\" x=\"158.5\" y=\"-174.3\" font-family=\"Times New Roman,serif\" font-size=\"14.00\">output:</text>\n",
       "<polyline fill=\"none\" stroke=\"black\" points=\"186.5,-166.5 186.5,-212.5 \"/>\n",
       "<text text-anchor=\"middle\" x=\"242\" y=\"-197.3\" font-family=\"Times New Roman,serif\" font-size=\"14.00\">(None, 500, 100)</text>\n",
       "<polyline fill=\"none\" stroke=\"black\" points=\"186.5,-189.5 297.5,-189.5 \"/>\n",
       "<text text-anchor=\"middle\" x=\"242\" y=\"-174.3\" font-family=\"Times New Roman,serif\" font-size=\"14.00\">(None, 100)</text>\n",
       "</g>\n",
       "<!-- 2459384874512&#45;&gt;2459385042208 -->\n",
       "<g id=\"edge3\" class=\"edge\">\n",
       "<title>2459384874512-&gt;2459385042208</title>\n",
       "<path fill=\"none\" stroke=\"black\" d=\"M165,-249.37C165,-241.15 165,-231.66 165,-222.73\"/>\n",
       "<polygon fill=\"black\" stroke=\"black\" points=\"168.5,-222.61 165,-212.61 161.5,-222.61 168.5,-222.61\"/>\n",
       "</g>\n",
       "<!-- 2460734184080 -->\n",
       "<g id=\"node5\" class=\"node\">\n",
       "<title>2460734184080</title>\n",
       "<polygon fill=\"none\" stroke=\"black\" points=\"30.5,-83.5 30.5,-129.5 299.5,-129.5 299.5,-83.5 30.5,-83.5\"/>\n",
       "<text text-anchor=\"middle\" x=\"95.5\" y=\"-102.8\" font-family=\"Times New Roman,serif\" font-size=\"14.00\">dropout_1: Dropout</text>\n",
       "<polyline fill=\"none\" stroke=\"black\" points=\"160.5,-83.5 160.5,-129.5 \"/>\n",
       "<text text-anchor=\"middle\" x=\"188.5\" y=\"-114.3\" font-family=\"Times New Roman,serif\" font-size=\"14.00\">input:</text>\n",
       "<polyline fill=\"none\" stroke=\"black\" points=\"160.5,-106.5 216.5,-106.5 \"/>\n",
       "<text text-anchor=\"middle\" x=\"188.5\" y=\"-91.3\" font-family=\"Times New Roman,serif\" font-size=\"14.00\">output:</text>\n",
       "<polyline fill=\"none\" stroke=\"black\" points=\"216.5,-83.5 216.5,-129.5 \"/>\n",
       "<text text-anchor=\"middle\" x=\"258\" y=\"-114.3\" font-family=\"Times New Roman,serif\" font-size=\"14.00\">(None, 100)</text>\n",
       "<polyline fill=\"none\" stroke=\"black\" points=\"216.5,-106.5 299.5,-106.5 \"/>\n",
       "<text text-anchor=\"middle\" x=\"258\" y=\"-91.3\" font-family=\"Times New Roman,serif\" font-size=\"14.00\">(None, 100)</text>\n",
       "</g>\n",
       "<!-- 2459385042208&#45;&gt;2460734184080 -->\n",
       "<g id=\"edge4\" class=\"edge\">\n",
       "<title>2459385042208-&gt;2460734184080</title>\n",
       "<path fill=\"none\" stroke=\"black\" d=\"M165,-166.37C165,-158.15 165,-148.66 165,-139.73\"/>\n",
       "<polygon fill=\"black\" stroke=\"black\" points=\"168.5,-139.61 165,-129.61 161.5,-139.61 168.5,-139.61\"/>\n",
       "</g>\n",
       "<!-- 2460763394832 -->\n",
       "<g id=\"node6\" class=\"node\">\n",
       "<title>2460763394832</title>\n",
       "<polygon fill=\"none\" stroke=\"black\" points=\"43.5,-0.5 43.5,-46.5 286.5,-46.5 286.5,-0.5 43.5,-0.5\"/>\n",
       "<text text-anchor=\"middle\" x=\"95.5\" y=\"-19.8\" font-family=\"Times New Roman,serif\" font-size=\"14.00\">dense_1: Dense</text>\n",
       "<polyline fill=\"none\" stroke=\"black\" points=\"147.5,-0.5 147.5,-46.5 \"/>\n",
       "<text text-anchor=\"middle\" x=\"175.5\" y=\"-31.3\" font-family=\"Times New Roman,serif\" font-size=\"14.00\">input:</text>\n",
       "<polyline fill=\"none\" stroke=\"black\" points=\"147.5,-23.5 203.5,-23.5 \"/>\n",
       "<text text-anchor=\"middle\" x=\"175.5\" y=\"-8.3\" font-family=\"Times New Roman,serif\" font-size=\"14.00\">output:</text>\n",
       "<polyline fill=\"none\" stroke=\"black\" points=\"203.5,-0.5 203.5,-46.5 \"/>\n",
       "<text text-anchor=\"middle\" x=\"245\" y=\"-31.3\" font-family=\"Times New Roman,serif\" font-size=\"14.00\">(None, 100)</text>\n",
       "<polyline fill=\"none\" stroke=\"black\" points=\"203.5,-23.5 286.5,-23.5 \"/>\n",
       "<text text-anchor=\"middle\" x=\"245\" y=\"-8.3\" font-family=\"Times New Roman,serif\" font-size=\"14.00\">(None, 1)</text>\n",
       "</g>\n",
       "<!-- 2460734184080&#45;&gt;2460763394832 -->\n",
       "<g id=\"edge5\" class=\"edge\">\n",
       "<title>2460734184080-&gt;2460763394832</title>\n",
       "<path fill=\"none\" stroke=\"black\" d=\"M165,-83.37C165,-75.15 165,-65.66 165,-56.73\"/>\n",
       "<polygon fill=\"black\" stroke=\"black\" points=\"168.5,-56.61 165,-46.61 161.5,-56.61 168.5,-56.61\"/>\n",
       "</g>\n",
       "</g>\n",
       "</svg>"
      ],
      "text/plain": [
       "<IPython.core.display.SVG object>"
      ]
     },
     "execution_count": 25,
     "metadata": {},
     "output_type": "execute_result"
    }
   ],
   "source": [
    "from IPython.display import SVG\n",
    "from keras.utils import vis_utils\n",
    "SVG(vis_utils.model_to_dot(model, show_shapes=True, show_layer_names=True, dpi=60).create(prog='dot', format='svg'))  \n"
   ]
  },
  {
   "cell_type": "code",
   "execution_count": 26,
   "metadata": {},
   "outputs": [],
   "source": [
    "from sklearn.model_selection import train_test_split\n",
    "\n",
    "train_x, validation_x, train_y, validation_y = train_test_split(padded_train_data, train_labels, test_size=0.08) "
   ]
  },
  {
   "cell_type": "code",
   "execution_count": 27,
   "metadata": {},
   "outputs": [
    {
     "name": "stdout",
     "output_type": "stream",
     "text": [
      "Epoch 1/6\n",
      "23/23 [==============================] - 150s 6s/step - loss: 0.6869 - accuracy: 0.5037 - val_loss: 0.6047 - val_accuracy: 0.5060\n",
      "Epoch 2/6\n",
      "23/23 [==============================] - 150s 7s/step - loss: 0.4958 - accuracy: 0.4996 - val_loss: 0.3608 - val_accuracy: 0.5060\n",
      "Epoch 3/6\n",
      "23/23 [==============================] - 149s 6s/step - loss: 0.3001 - accuracy: 0.5040 - val_loss: 0.3059 - val_accuracy: 0.5060\n",
      "Epoch 4/6\n",
      "23/23 [==============================] - 150s 7s/step - loss: 0.2247 - accuracy: 0.5019 - val_loss: 0.2893 - val_accuracy: 0.5060\n",
      "Epoch 5/6\n",
      "23/23 [==============================] - 146s 6s/step - loss: 0.1877 - accuracy: 0.5016 - val_loss: 0.3011 - val_accuracy: 0.5060\n",
      "Epoch 6/6\n",
      "23/23 [==============================] - 146s 6s/step - loss: 0.1561 - accuracy: 0.4980 - val_loss: 0.3504 - val_accuracy: 0.5060\n"
     ]
    }
   ],
   "source": [
    "history = model.fit(train_x, train_y, epochs=6, batch_size=1000, validation_data=(validation_x, validation_y))"
   ]
  },
  {
   "cell_type": "code",
   "execution_count": 28,
   "metadata": {},
   "outputs": [
    {
     "data": {
      "image/png": "[encoded data removed]",
      "text/plain": [
       "<Figure size 720x360 with 2 Axes>"
      ]
     },
     "metadata": {
      "needs_background": "light"
     },
     "output_type": "display_data"
    }
   ],
   "source": [
    "from plot_keras_history import plot_history\n",
    "import matplotlib.pyplot as plt\n",
    "\n",
    "plot_history(history.history, path=\"standard.png\")\n",
    "plt.show()"
   ]
  },
  {
   "cell_type": "code",
   "execution_count": 29,
   "metadata": {},
   "outputs": [
    {
     "name": "stdout",
     "output_type": "stream",
     "text": [
      "782/782 [==============================] - 50s 62ms/step - loss: 0.3539 - accuracy: 0.5000\n",
      "test_loss: 0.35385558009147644 test_accuracy: 0.5\n"
     ]
    }
   ],
   "source": [
    "results = model.evaluate(padded_test_data,test_labels)\n",
    "print('test_loss:', results[0], 'test_accuracy:', results[1])"
   ]
  },
  {
   "cell_type": "markdown",
   "metadata": {},
   "source": [
    "# Q 10 2."
   ]
  },
  {
   "cell_type": "code",
   "execution_count": 31,
   "metadata": {},
   "outputs": [],
   "source": [
    "# # Batch size = 1\n",
    "\n",
    "history = model.fit(train_x, train_y, epochs=6, batch_size=1, validation_data=(validation_x, validation_y))"
   ]
  },
  {
   "cell_type": "code",
   "execution_count": null,
   "metadata": {},
   "outputs": [],
   "source": [
    "# Batch size = 32\n",
    "\n",
    "history = model.fit(train_x, train_y, epochs=6, batch_size=32, validation_data=(validation_x, validation_y))"
   ]
  },
  {
   "cell_type": "code",
   "execution_count": null,
   "metadata": {},
   "outputs": [],
   "source": [
    "# Batch size = len(training_data)\n",
    "\n",
    "history = model.fit(train_x, train_y, epochs=6, batch_size=len(train_data), validation_data=(validation_x, validation_y))"
   ]
  },
  {
   "cell_type": "code",
   "execution_count": null,
   "metadata": {},
   "outputs": [],
   "source": []
  }
 ],
 "metadata": {
  "colab": {
   "authorship_tag": "ABX9TyNVOGzDIa0BiiJjOQZqFqMJ",
   "collapsed_sections": [],
   "name": "lab3_studentEdition_TextClassificationWithLSTMs.ipynb",
   "provenance": [],
   "toc_visible": true
  },
  "kernelspec": {
   "display_name": "Python 3",
   "language": "python",
   "name": "python3"
  },
  "language_info": {
   "codemirror_mode": {
    "name": "ipython",
    "version": 3
   },
   "file_extension": ".py",
   "mimetype": "text/x-python",
   "name": "python",
   "nbconvert_exporter": "python",
   "pygments_lexer": "ipython3",
   "version": "3.8.5"
  }
 },
 "nbformat": 4,
 "nbformat_minor": 1
}
